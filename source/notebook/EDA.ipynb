{
  "nbformat": 4,
  "nbformat_minor": 0,
  "metadata": {
    "colab": {
      "name": "EDA",
      "provenance": [],
      "toc_visible": true
    },
    "kernelspec": {
      "display_name": "Python 3",
      "name": "python3"
    }
  },
  "cells": [
    {
      "cell_type": "code",
      "metadata": {
        "id": "GV4ULYupvpv5"
      },
      "source": [
        "import json\r\n",
        "import pandas as pd\r\n",
        "import numpy as np  \r\n",
        "import os \r\n",
        "\r\n",
        "import matplotlib.pyplot as plt\r\n",
        "import seaborn as sns\r\n",
        "\r\n",
        "import warnings\r\n",
        "warnings.simplefilter(action='ignore', category=FutureWarning)"
      ],
      "execution_count": 4,
      "outputs": []
    },
    {
      "cell_type": "code",
      "metadata": {
        "id": "Tcarg3tXvswL"
      },
      "source": [
        "path = '/content/drive/MyDrive/DO_AN_KHDL/DATA'\r\n",
        "path_audio_feats = os.path.join(path, 'audio_features.tsv')\r\n",
        "path_playlists = os.path.join(path, 'playlists.tsv')\r\n",
        "path_tracks = os.path.join(path, 'tracks.tsv')"
      ],
      "execution_count": 5,
      "outputs": []
    },
    {
      "cell_type": "code",
      "metadata": {
        "id": "3YHUV0zAZ4s4"
      },
      "source": [
        "pd_audio_feats = pd.read_csv(path_audio_feats, sep = '\\t')\r\n",
        "pd_tracks = pd.read_csv(path_tracks, sep = '\\t')\r\n",
        "pd_playlists = pd.read_csv(path_playlists, sep = '\\t')\r\n",
        "pd_playlists = pd_playlists.fillna('None')"
      ],
      "execution_count": 6,
      "outputs": []
    },
    {
      "cell_type": "code",
      "metadata": {
        "id": "7CeRG_PEahlP"
      },
      "source": [
        "pd_tracks = pd.merge(pd_tracks, pd_audio_feats, left_on = 'track_id', right_on = 'id')\r\n",
        "pd_full = pd.merge(pd_tracks, pd_playlists, left_on = 'playlist_id', right_on = 'playlist_id')\r\n",
        "\r\n",
        "pd_tracks = pd_tracks.drop('id', 1)\r\n",
        "pd_full = pd_full.drop('playlist_name_y', 1)\r\n",
        "pd_full = pd_full.drop('id', 1)"
      ],
      "execution_count": 7,
      "outputs": []
    },
    {
      "cell_type": "code",
      "metadata": {
        "id": "rqqcZ5DN03fw",
        "colab": {
          "base_uri": "https://localhost:8080/",
          "height": 808
        },
        "outputId": "9dea868a-c3d2-46d2-c773-fb206ed401d7"
      },
      "source": [
        "pd_tracks"
      ],
      "execution_count": 8,
      "outputs": [
        {
          "output_type": "execute_result",
          "data": {
            "text/html": [
              "<div>\n",
              "<style scoped>\n",
              "    .dataframe tbody tr th:only-of-type {\n",
              "        vertical-align: middle;\n",
              "    }\n",
              "\n",
              "    .dataframe tbody tr th {\n",
              "        vertical-align: top;\n",
              "    }\n",
              "\n",
              "    .dataframe thead th {\n",
              "        text-align: right;\n",
              "    }\n",
              "</style>\n",
              "<table border=\"1\" class=\"dataframe\">\n",
              "  <thead>\n",
              "    <tr style=\"text-align: right;\">\n",
              "      <th></th>\n",
              "      <th>track_id</th>\n",
              "      <th>track_name</th>\n",
              "      <th>playlist_id</th>\n",
              "      <th>playlist_name</th>\n",
              "      <th>artist_ids</th>\n",
              "      <th>artist_names</th>\n",
              "      <th>album_id</th>\n",
              "      <th>album_name</th>\n",
              "      <th>track_duration_ms</th>\n",
              "      <th>danceability</th>\n",
              "      <th>energy</th>\n",
              "      <th>key</th>\n",
              "      <th>loudness</th>\n",
              "      <th>mode</th>\n",
              "      <th>speechiness</th>\n",
              "      <th>acousticness</th>\n",
              "      <th>instrumentalness</th>\n",
              "      <th>liveness</th>\n",
              "      <th>valence</th>\n",
              "      <th>tempo</th>\n",
              "      <th>analysis_url</th>\n",
              "      <th>time_signature</th>\n",
              "    </tr>\n",
              "  </thead>\n",
              "  <tbody>\n",
              "    <tr>\n",
              "      <th>0</th>\n",
              "      <td>463CkQjx2Zk1yXoBuierM9</td>\n",
              "      <td>Levitating (feat. DaBaby)</td>\n",
              "      <td>37i9dQZF1DXcBWIGoYBM5M</td>\n",
              "      <td>Today's Top Hits</td>\n",
              "      <td>['6M2wZ9GZgrQXHCFfjv46we', '4r63FhuTkUYltbVAg5...</td>\n",
              "      <td>['Dua Lipa', 'DaBaby']</td>\n",
              "      <td>04m06KhJUuwe1Q487puIud</td>\n",
              "      <td>Levitating (feat. DaBaby)</td>\n",
              "      <td>203064</td>\n",
              "      <td>0.702</td>\n",
              "      <td>0.825</td>\n",
              "      <td>6</td>\n",
              "      <td>-3.787</td>\n",
              "      <td>0</td>\n",
              "      <td>0.0601</td>\n",
              "      <td>0.00883</td>\n",
              "      <td>0.000000</td>\n",
              "      <td>0.0674</td>\n",
              "      <td>0.915</td>\n",
              "      <td>102.977</td>\n",
              "      <td>https://api.spotify.com/v1/audio-analysis/463C...</td>\n",
              "      <td>4</td>\n",
              "    </tr>\n",
              "    <tr>\n",
              "      <th>1</th>\n",
              "      <td>463CkQjx2Zk1yXoBuierM9</td>\n",
              "      <td>Levitating (feat. DaBaby)</td>\n",
              "      <td>37i9dQZF1DWUa8ZRTfalHk</td>\n",
              "      <td>Pop Rising</td>\n",
              "      <td>['6M2wZ9GZgrQXHCFfjv46we', '4r63FhuTkUYltbVAg5...</td>\n",
              "      <td>['Dua Lipa', 'DaBaby']</td>\n",
              "      <td>04m06KhJUuwe1Q487puIud</td>\n",
              "      <td>Levitating (feat. DaBaby)</td>\n",
              "      <td>203064</td>\n",
              "      <td>0.702</td>\n",
              "      <td>0.825</td>\n",
              "      <td>6</td>\n",
              "      <td>-3.787</td>\n",
              "      <td>0</td>\n",
              "      <td>0.0601</td>\n",
              "      <td>0.00883</td>\n",
              "      <td>0.000000</td>\n",
              "      <td>0.0674</td>\n",
              "      <td>0.915</td>\n",
              "      <td>102.977</td>\n",
              "      <td>https://api.spotify.com/v1/audio-analysis/463C...</td>\n",
              "      <td>4</td>\n",
              "    </tr>\n",
              "    <tr>\n",
              "      <th>2</th>\n",
              "      <td>463CkQjx2Zk1yXoBuierM9</td>\n",
              "      <td>Levitating (feat. DaBaby)</td>\n",
              "      <td>37i9dQZF1DX3rxVfibe1L0</td>\n",
              "      <td>Mood Booster</td>\n",
              "      <td>['6M2wZ9GZgrQXHCFfjv46we', '4r63FhuTkUYltbVAg5...</td>\n",
              "      <td>['Dua Lipa', 'DaBaby']</td>\n",
              "      <td>04m06KhJUuwe1Q487puIud</td>\n",
              "      <td>Levitating (feat. DaBaby)</td>\n",
              "      <td>203064</td>\n",
              "      <td>0.702</td>\n",
              "      <td>0.825</td>\n",
              "      <td>6</td>\n",
              "      <td>-3.787</td>\n",
              "      <td>0</td>\n",
              "      <td>0.0601</td>\n",
              "      <td>0.00883</td>\n",
              "      <td>0.000000</td>\n",
              "      <td>0.0674</td>\n",
              "      <td>0.915</td>\n",
              "      <td>102.977</td>\n",
              "      <td>https://api.spotify.com/v1/audio-analysis/463C...</td>\n",
              "      <td>4</td>\n",
              "    </tr>\n",
              "    <tr>\n",
              "      <th>3</th>\n",
              "      <td>463CkQjx2Zk1yXoBuierM9</td>\n",
              "      <td>Levitating (feat. DaBaby)</td>\n",
              "      <td>37i9dQZF1DWU13kKnk03AP</td>\n",
              "      <td>Daily Lift</td>\n",
              "      <td>['6M2wZ9GZgrQXHCFfjv46we', '4r63FhuTkUYltbVAg5...</td>\n",
              "      <td>['Dua Lipa', 'DaBaby']</td>\n",
              "      <td>04m06KhJUuwe1Q487puIud</td>\n",
              "      <td>Levitating (feat. DaBaby)</td>\n",
              "      <td>203064</td>\n",
              "      <td>0.702</td>\n",
              "      <td>0.825</td>\n",
              "      <td>6</td>\n",
              "      <td>-3.787</td>\n",
              "      <td>0</td>\n",
              "      <td>0.0601</td>\n",
              "      <td>0.00883</td>\n",
              "      <td>0.000000</td>\n",
              "      <td>0.0674</td>\n",
              "      <td>0.915</td>\n",
              "      <td>102.977</td>\n",
              "      <td>https://api.spotify.com/v1/audio-analysis/463C...</td>\n",
              "      <td>4</td>\n",
              "    </tr>\n",
              "    <tr>\n",
              "      <th>4</th>\n",
              "      <td>463CkQjx2Zk1yXoBuierM9</td>\n",
              "      <td>Levitating (feat. DaBaby)</td>\n",
              "      <td>37i9dQZF1DX1N5uK98ms5p</td>\n",
              "      <td>Teen Party</td>\n",
              "      <td>['6M2wZ9GZgrQXHCFfjv46we', '4r63FhuTkUYltbVAg5...</td>\n",
              "      <td>['Dua Lipa', 'DaBaby']</td>\n",
              "      <td>04m06KhJUuwe1Q487puIud</td>\n",
              "      <td>Levitating (feat. DaBaby)</td>\n",
              "      <td>203064</td>\n",
              "      <td>0.702</td>\n",
              "      <td>0.825</td>\n",
              "      <td>6</td>\n",
              "      <td>-3.787</td>\n",
              "      <td>0</td>\n",
              "      <td>0.0601</td>\n",
              "      <td>0.00883</td>\n",
              "      <td>0.000000</td>\n",
              "      <td>0.0674</td>\n",
              "      <td>0.915</td>\n",
              "      <td>102.977</td>\n",
              "      <td>https://api.spotify.com/v1/audio-analysis/463C...</td>\n",
              "      <td>4</td>\n",
              "    </tr>\n",
              "    <tr>\n",
              "      <th>...</th>\n",
              "      <td>...</td>\n",
              "      <td>...</td>\n",
              "      <td>...</td>\n",
              "      <td>...</td>\n",
              "      <td>...</td>\n",
              "      <td>...</td>\n",
              "      <td>...</td>\n",
              "      <td>...</td>\n",
              "      <td>...</td>\n",
              "      <td>...</td>\n",
              "      <td>...</td>\n",
              "      <td>...</td>\n",
              "      <td>...</td>\n",
              "      <td>...</td>\n",
              "      <td>...</td>\n",
              "      <td>...</td>\n",
              "      <td>...</td>\n",
              "      <td>...</td>\n",
              "      <td>...</td>\n",
              "      <td>...</td>\n",
              "      <td>...</td>\n",
              "      <td>...</td>\n",
              "    </tr>\n",
              "    <tr>\n",
              "      <th>86395</th>\n",
              "      <td>3Zuf70897YkrVRAsrBMMSF</td>\n",
              "      <td>You're The One That I Want - From \"Grease\" Ori...</td>\n",
              "      <td>0RTz1jFo5BXGPfI8eVf8sj</td>\n",
              "      <td>Top Shower Songs</td>\n",
              "      <td>['4hKkEHkaqCsyxNxXEsszVH', '4BoRxUdrcgbbq1rxJv...</td>\n",
              "      <td>['John Travolta', 'Olivia Newton-John']</td>\n",
              "      <td>0CbwlsDekgmAW03uMBjPBG</td>\n",
              "      <td>Grease (Deluxe Edition)</td>\n",
              "      <td>168466</td>\n",
              "      <td>0.751</td>\n",
              "      <td>0.753</td>\n",
              "      <td>0</td>\n",
              "      <td>-8.198</td>\n",
              "      <td>1</td>\n",
              "      <td>0.0935</td>\n",
              "      <td>0.22700</td>\n",
              "      <td>0.000784</td>\n",
              "      <td>0.2090</td>\n",
              "      <td>0.774</td>\n",
              "      <td>106.976</td>\n",
              "      <td>https://api.spotify.com/v1/audio-analysis/3Zuf...</td>\n",
              "      <td>4</td>\n",
              "    </tr>\n",
              "    <tr>\n",
              "      <th>86396</th>\n",
              "      <td>4Y4Gd3ty8uut6Qw43c7yJc</td>\n",
              "      <td>(Sittin' On) the Dock of the Bay</td>\n",
              "      <td>4lgseztVwmKQ8MNETPVIny</td>\n",
              "      <td>foodora dinner playlist</td>\n",
              "      <td>['60df5JBRRPcnSpsIMxxwQm']</td>\n",
              "      <td>['Otis Redding']</td>\n",
              "      <td>0kSkzG0sfuG4lRuFF5jWVr</td>\n",
              "      <td>The Dock of the Bay</td>\n",
              "      <td>166826</td>\n",
              "      <td>0.486</td>\n",
              "      <td>0.312</td>\n",
              "      <td>2</td>\n",
              "      <td>-13.522</td>\n",
              "      <td>1</td>\n",
              "      <td>0.0533</td>\n",
              "      <td>0.72600</td>\n",
              "      <td>0.000002</td>\n",
              "      <td>0.0601</td>\n",
              "      <td>0.598</td>\n",
              "      <td>205.917</td>\n",
              "      <td>https://api.spotify.com/v1/audio-analysis/4Y4G...</td>\n",
              "      <td>4</td>\n",
              "    </tr>\n",
              "    <tr>\n",
              "      <th>86397</th>\n",
              "      <td>1MDoll6jK4rrk2BcFRP5i7</td>\n",
              "      <td>Hello</td>\n",
              "      <td>4lgseztVwmKQ8MNETPVIny</td>\n",
              "      <td>foodora dinner playlist</td>\n",
              "      <td>['4dpARuHxo51G3z768sgnrY']</td>\n",
              "      <td>['Adele']</td>\n",
              "      <td>5y28RdPzIRXegzr5YM9Y0D</td>\n",
              "      <td>Hello</td>\n",
              "      <td>295502</td>\n",
              "      <td>0.471</td>\n",
              "      <td>0.431</td>\n",
              "      <td>5</td>\n",
              "      <td>-6.129</td>\n",
              "      <td>0</td>\n",
              "      <td>0.0342</td>\n",
              "      <td>0.32900</td>\n",
              "      <td>0.000000</td>\n",
              "      <td>0.0854</td>\n",
              "      <td>0.289</td>\n",
              "      <td>157.980</td>\n",
              "      <td>https://api.spotify.com/v1/audio-analysis/1MDo...</td>\n",
              "      <td>4</td>\n",
              "    </tr>\n",
              "    <tr>\n",
              "      <th>86398</th>\n",
              "      <td>0ygTmpa6uSotkBkTiwcMZ4</td>\n",
              "      <td>Warwick Avenue</td>\n",
              "      <td>4lgseztVwmKQ8MNETPVIny</td>\n",
              "      <td>foodora dinner playlist</td>\n",
              "      <td>['37NqXwtb6nIEqRt4EJSoIO']</td>\n",
              "      <td>['Duffy']</td>\n",
              "      <td>4x0HJqUUDRvJLZbie95Ayk</td>\n",
              "      <td>Rockferry (Deluxe Edition)</td>\n",
              "      <td>226386</td>\n",
              "      <td>0.493</td>\n",
              "      <td>0.590</td>\n",
              "      <td>0</td>\n",
              "      <td>-5.814</td>\n",
              "      <td>0</td>\n",
              "      <td>0.0392</td>\n",
              "      <td>0.33900</td>\n",
              "      <td>0.000000</td>\n",
              "      <td>0.1210</td>\n",
              "      <td>0.502</td>\n",
              "      <td>169.908</td>\n",
              "      <td>https://api.spotify.com/v1/audio-analysis/0ygT...</td>\n",
              "      <td>4</td>\n",
              "    </tr>\n",
              "    <tr>\n",
              "      <th>86399</th>\n",
              "      <td>3NNqqioprPCnYcVtDn3wvS</td>\n",
              "      <td>Catch &amp; Release (Deepend remix)</td>\n",
              "      <td>4lgseztVwmKQ8MNETPVIny</td>\n",
              "      <td>foodora dinner playlist</td>\n",
              "      <td>['1g0fXhQMHAxlRyIBkCbuE7', '0uGApGjjFXKwUOAqYB...</td>\n",
              "      <td>['Matt Simons', 'Deepend']</td>\n",
              "      <td>1ujSRXhOZaq3QVbJ1gVkNl</td>\n",
              "      <td>Catch &amp; Release (Deluxe Edition)</td>\n",
              "      <td>196198</td>\n",
              "      <td>0.836</td>\n",
              "      <td>0.499</td>\n",
              "      <td>1</td>\n",
              "      <td>-9.882</td>\n",
              "      <td>0</td>\n",
              "      <td>0.0479</td>\n",
              "      <td>0.51200</td>\n",
              "      <td>0.000991</td>\n",
              "      <td>0.1110</td>\n",
              "      <td>0.109</td>\n",
              "      <td>105.012</td>\n",
              "      <td>https://api.spotify.com/v1/audio-analysis/3NNq...</td>\n",
              "      <td>4</td>\n",
              "    </tr>\n",
              "  </tbody>\n",
              "</table>\n",
              "<p>86400 rows × 22 columns</p>\n",
              "</div>"
            ],
            "text/plain": [
              "                     track_id  ... time_signature\n",
              "0      463CkQjx2Zk1yXoBuierM9  ...              4\n",
              "1      463CkQjx2Zk1yXoBuierM9  ...              4\n",
              "2      463CkQjx2Zk1yXoBuierM9  ...              4\n",
              "3      463CkQjx2Zk1yXoBuierM9  ...              4\n",
              "4      463CkQjx2Zk1yXoBuierM9  ...              4\n",
              "...                       ...  ...            ...\n",
              "86395  3Zuf70897YkrVRAsrBMMSF  ...              4\n",
              "86396  4Y4Gd3ty8uut6Qw43c7yJc  ...              4\n",
              "86397  1MDoll6jK4rrk2BcFRP5i7  ...              4\n",
              "86398  0ygTmpa6uSotkBkTiwcMZ4  ...              4\n",
              "86399  3NNqqioprPCnYcVtDn3wvS  ...              4\n",
              "\n",
              "[86400 rows x 22 columns]"
            ]
          },
          "metadata": {
            "tags": []
          },
          "execution_count": 8
        }
      ]
    },
    {
      "cell_type": "code",
      "metadata": {
        "colab": {
          "base_uri": "https://localhost:8080/"
        },
        "id": "61AGxMiU81Ck",
        "outputId": "c7f39ad6-7c32-46c5-e9f3-be90f807ca16"
      },
      "source": [
        "pd_full.shape"
      ],
      "execution_count": 9,
      "outputs": [
        {
          "output_type": "execute_result",
          "data": {
            "text/plain": [
              "(86400, 25)"
            ]
          },
          "metadata": {
            "tags": []
          },
          "execution_count": 9
        }
      ]
    },
    {
      "cell_type": "code",
      "metadata": {
        "colab": {
          "base_uri": "https://localhost:8080/",
          "height": 484
        },
        "id": "RoCNrX04bSJW",
        "outputId": "3dae2aa9-a113-4c8d-8749-d2d38f2133cf"
      },
      "source": [
        "pd_full.head(5)"
      ],
      "execution_count": 10,
      "outputs": [
        {
          "output_type": "execute_result",
          "data": {
            "text/html": [
              "<div>\n",
              "<style scoped>\n",
              "    .dataframe tbody tr th:only-of-type {\n",
              "        vertical-align: middle;\n",
              "    }\n",
              "\n",
              "    .dataframe tbody tr th {\n",
              "        vertical-align: top;\n",
              "    }\n",
              "\n",
              "    .dataframe thead th {\n",
              "        text-align: right;\n",
              "    }\n",
              "</style>\n",
              "<table border=\"1\" class=\"dataframe\">\n",
              "  <thead>\n",
              "    <tr style=\"text-align: right;\">\n",
              "      <th></th>\n",
              "      <th>track_id</th>\n",
              "      <th>track_name</th>\n",
              "      <th>playlist_id</th>\n",
              "      <th>playlist_name_x</th>\n",
              "      <th>artist_ids</th>\n",
              "      <th>artist_names</th>\n",
              "      <th>album_id</th>\n",
              "      <th>album_name</th>\n",
              "      <th>track_duration_ms</th>\n",
              "      <th>danceability</th>\n",
              "      <th>energy</th>\n",
              "      <th>key</th>\n",
              "      <th>loudness</th>\n",
              "      <th>mode</th>\n",
              "      <th>speechiness</th>\n",
              "      <th>acousticness</th>\n",
              "      <th>instrumentalness</th>\n",
              "      <th>liveness</th>\n",
              "      <th>valence</th>\n",
              "      <th>tempo</th>\n",
              "      <th>analysis_url</th>\n",
              "      <th>time_signature</th>\n",
              "      <th>description</th>\n",
              "      <th>num_tracks</th>\n",
              "      <th>num_followers</th>\n",
              "    </tr>\n",
              "  </thead>\n",
              "  <tbody>\n",
              "    <tr>\n",
              "      <th>0</th>\n",
              "      <td>463CkQjx2Zk1yXoBuierM9</td>\n",
              "      <td>Levitating (feat. DaBaby)</td>\n",
              "      <td>37i9dQZF1DXcBWIGoYBM5M</td>\n",
              "      <td>Today's Top Hits</td>\n",
              "      <td>['6M2wZ9GZgrQXHCFfjv46we', '4r63FhuTkUYltbVAg5...</td>\n",
              "      <td>['Dua Lipa', 'DaBaby']</td>\n",
              "      <td>04m06KhJUuwe1Q487puIud</td>\n",
              "      <td>Levitating (feat. DaBaby)</td>\n",
              "      <td>203064</td>\n",
              "      <td>0.702</td>\n",
              "      <td>0.825</td>\n",
              "      <td>6</td>\n",
              "      <td>-3.787</td>\n",
              "      <td>0</td>\n",
              "      <td>0.0601</td>\n",
              "      <td>0.00883</td>\n",
              "      <td>0.00000</td>\n",
              "      <td>0.0674</td>\n",
              "      <td>0.915</td>\n",
              "      <td>102.977</td>\n",
              "      <td>https://api.spotify.com/v1/audio-analysis/463C...</td>\n",
              "      <td>4</td>\n",
              "      <td>Dua Lipa &amp; DaBaby are on top of the Hottest 50!</td>\n",
              "      <td>50</td>\n",
              "      <td>27084233</td>\n",
              "    </tr>\n",
              "    <tr>\n",
              "      <th>1</th>\n",
              "      <td>7igeByaBM0MgGsgXtNxDJ7</td>\n",
              "      <td>positions</td>\n",
              "      <td>37i9dQZF1DXcBWIGoYBM5M</td>\n",
              "      <td>Today's Top Hits</td>\n",
              "      <td>['66CXWjxzNUsdJxJ2JdwvnR']</td>\n",
              "      <td>['Ariana Grande']</td>\n",
              "      <td>3jqEvfiu2ENgmgzZq27zbi</td>\n",
              "      <td>positions</td>\n",
              "      <td>172324</td>\n",
              "      <td>0.736</td>\n",
              "      <td>0.802</td>\n",
              "      <td>0</td>\n",
              "      <td>-4.759</td>\n",
              "      <td>1</td>\n",
              "      <td>0.0864</td>\n",
              "      <td>0.46800</td>\n",
              "      <td>0.00000</td>\n",
              "      <td>0.0940</td>\n",
              "      <td>0.675</td>\n",
              "      <td>144.005</td>\n",
              "      <td>https://api.spotify.com/v1/audio-analysis/7ige...</td>\n",
              "      <td>4</td>\n",
              "      <td>Dua Lipa &amp; DaBaby are on top of the Hottest 50!</td>\n",
              "      <td>50</td>\n",
              "      <td>27084233</td>\n",
              "    </tr>\n",
              "    <tr>\n",
              "      <th>2</th>\n",
              "      <td>0lx2cLdOt3piJbcaXIV74f</td>\n",
              "      <td>willow</td>\n",
              "      <td>37i9dQZF1DXcBWIGoYBM5M</td>\n",
              "      <td>Today's Top Hits</td>\n",
              "      <td>['06HL4z0CvFAxyc27GXpf02']</td>\n",
              "      <td>['Taylor Swift']</td>\n",
              "      <td>2Xoteh7uEpea4TohMxjtaq</td>\n",
              "      <td>evermore</td>\n",
              "      <td>214706</td>\n",
              "      <td>0.392</td>\n",
              "      <td>0.574</td>\n",
              "      <td>7</td>\n",
              "      <td>-9.195</td>\n",
              "      <td>1</td>\n",
              "      <td>0.1700</td>\n",
              "      <td>0.83300</td>\n",
              "      <td>0.00179</td>\n",
              "      <td>0.1450</td>\n",
              "      <td>0.529</td>\n",
              "      <td>81.112</td>\n",
              "      <td>https://api.spotify.com/v1/audio-analysis/0lx2...</td>\n",
              "      <td>4</td>\n",
              "      <td>Dua Lipa &amp; DaBaby are on top of the Hottest 50!</td>\n",
              "      <td>50</td>\n",
              "      <td>27084233</td>\n",
              "    </tr>\n",
              "    <tr>\n",
              "      <th>3</th>\n",
              "      <td>2Z8yfpFX0ZMavHkcIeHiO1</td>\n",
              "      <td>Monster (Shawn Mendes &amp; Justin Bieber)</td>\n",
              "      <td>37i9dQZF1DXcBWIGoYBM5M</td>\n",
              "      <td>Today's Top Hits</td>\n",
              "      <td>['7n2wHs1TKAczGzO7Dd2rGr', '1uNFoZAHBGtllmzznp...</td>\n",
              "      <td>['Shawn Mendes', 'Justin Bieber']</td>\n",
              "      <td>3yVVL2EYLp8g7gT08VvYKy</td>\n",
              "      <td>Monster</td>\n",
              "      <td>178994</td>\n",
              "      <td>0.652</td>\n",
              "      <td>0.383</td>\n",
              "      <td>2</td>\n",
              "      <td>-7.076</td>\n",
              "      <td>0</td>\n",
              "      <td>0.0516</td>\n",
              "      <td>0.06760</td>\n",
              "      <td>0.00000</td>\n",
              "      <td>0.0828</td>\n",
              "      <td>0.549</td>\n",
              "      <td>145.765</td>\n",
              "      <td>https://api.spotify.com/v1/audio-analysis/2Z8y...</td>\n",
              "      <td>4</td>\n",
              "      <td>Dua Lipa &amp; DaBaby are on top of the Hottest 50!</td>\n",
              "      <td>50</td>\n",
              "      <td>27084233</td>\n",
              "    </tr>\n",
              "    <tr>\n",
              "      <th>4</th>\n",
              "      <td>6zFMeegAMYQo0mt8rXtrli</td>\n",
              "      <td>HOLIDAY</td>\n",
              "      <td>37i9dQZF1DXcBWIGoYBM5M</td>\n",
              "      <td>Today's Top Hits</td>\n",
              "      <td>['7jVv8c5Fj3E9VhNjxT4snq']</td>\n",
              "      <td>['Lil Nas X']</td>\n",
              "      <td>4EvukZrmNBiqJbs3LwOSHu</td>\n",
              "      <td>HOLIDAY</td>\n",
              "      <td>154997</td>\n",
              "      <td>0.810</td>\n",
              "      <td>0.511</td>\n",
              "      <td>5</td>\n",
              "      <td>-6.924</td>\n",
              "      <td>0</td>\n",
              "      <td>0.1640</td>\n",
              "      <td>0.12000</td>\n",
              "      <td>0.00000</td>\n",
              "      <td>0.0832</td>\n",
              "      <td>0.837</td>\n",
              "      <td>151.947</td>\n",
              "      <td>https://api.spotify.com/v1/audio-analysis/6zFM...</td>\n",
              "      <td>4</td>\n",
              "      <td>Dua Lipa &amp; DaBaby are on top of the Hottest 50!</td>\n",
              "      <td>50</td>\n",
              "      <td>27084233</td>\n",
              "    </tr>\n",
              "  </tbody>\n",
              "</table>\n",
              "</div>"
            ],
            "text/plain": [
              "                 track_id  ... num_followers\n",
              "0  463CkQjx2Zk1yXoBuierM9  ...      27084233\n",
              "1  7igeByaBM0MgGsgXtNxDJ7  ...      27084233\n",
              "2  0lx2cLdOt3piJbcaXIV74f  ...      27084233\n",
              "3  2Z8yfpFX0ZMavHkcIeHiO1  ...      27084233\n",
              "4  6zFMeegAMYQo0mt8rXtrli  ...      27084233\n",
              "\n",
              "[5 rows x 25 columns]"
            ]
          },
          "metadata": {
            "tags": []
          },
          "execution_count": 10
        }
      ]
    },
    {
      "cell_type": "markdown",
      "metadata": {
        "id": "5vZw9ucA2f67"
      },
      "source": [
        "## 1. Kiểm tra thông tin DataFrame thu thập được."
      ]
    },
    {
      "cell_type": "code",
      "metadata": {
        "colab": {
          "base_uri": "https://localhost:8080/"
        },
        "id": "HkZyk1IwaeFx",
        "outputId": "9ef1b1e4-88e2-4be0-f03f-fb377b4d2079"
      },
      "source": [
        "pd_full.info()"
      ],
      "execution_count": 11,
      "outputs": [
        {
          "output_type": "stream",
          "text": [
            "<class 'pandas.core.frame.DataFrame'>\n",
            "Int64Index: 86400 entries, 0 to 86399\n",
            "Data columns (total 25 columns):\n",
            " #   Column             Non-Null Count  Dtype  \n",
            "---  ------             --------------  -----  \n",
            " 0   track_id           86400 non-null  object \n",
            " 1   track_name         86395 non-null  object \n",
            " 2   playlist_id        86400 non-null  object \n",
            " 3   playlist_name_x    86400 non-null  object \n",
            " 4   artist_ids         86400 non-null  object \n",
            " 5   artist_names       86400 non-null  object \n",
            " 6   album_id           86400 non-null  object \n",
            " 7   album_name         86395 non-null  object \n",
            " 8   track_duration_ms  86400 non-null  int64  \n",
            " 9   danceability       86400 non-null  float64\n",
            " 10  energy             86400 non-null  float64\n",
            " 11  key                86400 non-null  int64  \n",
            " 12  loudness           86400 non-null  float64\n",
            " 13  mode               86400 non-null  int64  \n",
            " 14  speechiness        86400 non-null  float64\n",
            " 15  acousticness       86400 non-null  float64\n",
            " 16  instrumentalness   86400 non-null  float64\n",
            " 17  liveness           86400 non-null  float64\n",
            " 18  valence            86400 non-null  float64\n",
            " 19  tempo              86400 non-null  float64\n",
            " 20  analysis_url       86400 non-null  object \n",
            " 21  time_signature     86400 non-null  int64  \n",
            " 22  description        86400 non-null  object \n",
            " 23  num_tracks         86400 non-null  int64  \n",
            " 24  num_followers      86400 non-null  int64  \n",
            "dtypes: float64(9), int64(6), object(10)\n",
            "memory usage: 17.1+ MB\n"
          ],
          "name": "stdout"
        }
      ]
    },
    {
      "cell_type": "code",
      "metadata": {
        "colab": {
          "base_uri": "https://localhost:8080/",
          "height": 787
        },
        "id": "VcPD3YRr2lGP",
        "outputId": "189d8354-8d0f-48ea-a404-293d9fbe5e93"
      },
      "source": [
        "# Kiểm tra giá trị rỗng.\r\n",
        "total = pd_full.isnull().sum().sort_values(ascending=False)\r\n",
        "percent = (pd_full.isnull().sum()/pd_full.isnull().count()).sort_values(ascending=False)\r\n",
        "missing_data = pd.concat([total, percent], axis=1, keys=['Total', 'Percent'])\r\n",
        "missing_data"
      ],
      "execution_count": 12,
      "outputs": [
        {
          "output_type": "execute_result",
          "data": {
            "text/html": [
              "<div>\n",
              "<style scoped>\n",
              "    .dataframe tbody tr th:only-of-type {\n",
              "        vertical-align: middle;\n",
              "    }\n",
              "\n",
              "    .dataframe tbody tr th {\n",
              "        vertical-align: top;\n",
              "    }\n",
              "\n",
              "    .dataframe thead th {\n",
              "        text-align: right;\n",
              "    }\n",
              "</style>\n",
              "<table border=\"1\" class=\"dataframe\">\n",
              "  <thead>\n",
              "    <tr style=\"text-align: right;\">\n",
              "      <th></th>\n",
              "      <th>Total</th>\n",
              "      <th>Percent</th>\n",
              "    </tr>\n",
              "  </thead>\n",
              "  <tbody>\n",
              "    <tr>\n",
              "      <th>track_name</th>\n",
              "      <td>5</td>\n",
              "      <td>0.000058</td>\n",
              "    </tr>\n",
              "    <tr>\n",
              "      <th>album_name</th>\n",
              "      <td>5</td>\n",
              "      <td>0.000058</td>\n",
              "    </tr>\n",
              "    <tr>\n",
              "      <th>num_followers</th>\n",
              "      <td>0</td>\n",
              "      <td>0.000000</td>\n",
              "    </tr>\n",
              "    <tr>\n",
              "      <th>key</th>\n",
              "      <td>0</td>\n",
              "      <td>0.000000</td>\n",
              "    </tr>\n",
              "    <tr>\n",
              "      <th>playlist_id</th>\n",
              "      <td>0</td>\n",
              "      <td>0.000000</td>\n",
              "    </tr>\n",
              "    <tr>\n",
              "      <th>playlist_name_x</th>\n",
              "      <td>0</td>\n",
              "      <td>0.000000</td>\n",
              "    </tr>\n",
              "    <tr>\n",
              "      <th>artist_ids</th>\n",
              "      <td>0</td>\n",
              "      <td>0.000000</td>\n",
              "    </tr>\n",
              "    <tr>\n",
              "      <th>artist_names</th>\n",
              "      <td>0</td>\n",
              "      <td>0.000000</td>\n",
              "    </tr>\n",
              "    <tr>\n",
              "      <th>album_id</th>\n",
              "      <td>0</td>\n",
              "      <td>0.000000</td>\n",
              "    </tr>\n",
              "    <tr>\n",
              "      <th>track_duration_ms</th>\n",
              "      <td>0</td>\n",
              "      <td>0.000000</td>\n",
              "    </tr>\n",
              "    <tr>\n",
              "      <th>danceability</th>\n",
              "      <td>0</td>\n",
              "      <td>0.000000</td>\n",
              "    </tr>\n",
              "    <tr>\n",
              "      <th>energy</th>\n",
              "      <td>0</td>\n",
              "      <td>0.000000</td>\n",
              "    </tr>\n",
              "    <tr>\n",
              "      <th>loudness</th>\n",
              "      <td>0</td>\n",
              "      <td>0.000000</td>\n",
              "    </tr>\n",
              "    <tr>\n",
              "      <th>num_tracks</th>\n",
              "      <td>0</td>\n",
              "      <td>0.000000</td>\n",
              "    </tr>\n",
              "    <tr>\n",
              "      <th>mode</th>\n",
              "      <td>0</td>\n",
              "      <td>0.000000</td>\n",
              "    </tr>\n",
              "    <tr>\n",
              "      <th>speechiness</th>\n",
              "      <td>0</td>\n",
              "      <td>0.000000</td>\n",
              "    </tr>\n",
              "    <tr>\n",
              "      <th>acousticness</th>\n",
              "      <td>0</td>\n",
              "      <td>0.000000</td>\n",
              "    </tr>\n",
              "    <tr>\n",
              "      <th>instrumentalness</th>\n",
              "      <td>0</td>\n",
              "      <td>0.000000</td>\n",
              "    </tr>\n",
              "    <tr>\n",
              "      <th>liveness</th>\n",
              "      <td>0</td>\n",
              "      <td>0.000000</td>\n",
              "    </tr>\n",
              "    <tr>\n",
              "      <th>valence</th>\n",
              "      <td>0</td>\n",
              "      <td>0.000000</td>\n",
              "    </tr>\n",
              "    <tr>\n",
              "      <th>tempo</th>\n",
              "      <td>0</td>\n",
              "      <td>0.000000</td>\n",
              "    </tr>\n",
              "    <tr>\n",
              "      <th>analysis_url</th>\n",
              "      <td>0</td>\n",
              "      <td>0.000000</td>\n",
              "    </tr>\n",
              "    <tr>\n",
              "      <th>time_signature</th>\n",
              "      <td>0</td>\n",
              "      <td>0.000000</td>\n",
              "    </tr>\n",
              "    <tr>\n",
              "      <th>description</th>\n",
              "      <td>0</td>\n",
              "      <td>0.000000</td>\n",
              "    </tr>\n",
              "    <tr>\n",
              "      <th>track_id</th>\n",
              "      <td>0</td>\n",
              "      <td>0.000000</td>\n",
              "    </tr>\n",
              "  </tbody>\n",
              "</table>\n",
              "</div>"
            ],
            "text/plain": [
              "                   Total   Percent\n",
              "track_name             5  0.000058\n",
              "album_name             5  0.000058\n",
              "num_followers          0  0.000000\n",
              "key                    0  0.000000\n",
              "playlist_id            0  0.000000\n",
              "playlist_name_x        0  0.000000\n",
              "artist_ids             0  0.000000\n",
              "artist_names           0  0.000000\n",
              "album_id               0  0.000000\n",
              "track_duration_ms      0  0.000000\n",
              "danceability           0  0.000000\n",
              "energy                 0  0.000000\n",
              "loudness               0  0.000000\n",
              "num_tracks             0  0.000000\n",
              "mode                   0  0.000000\n",
              "speechiness            0  0.000000\n",
              "acousticness           0  0.000000\n",
              "instrumentalness       0  0.000000\n",
              "liveness               0  0.000000\n",
              "valence                0  0.000000\n",
              "tempo                  0  0.000000\n",
              "analysis_url           0  0.000000\n",
              "time_signature         0  0.000000\n",
              "description            0  0.000000\n",
              "track_id               0  0.000000"
            ]
          },
          "metadata": {
            "tags": []
          },
          "execution_count": 12
        }
      ]
    },
    {
      "cell_type": "code",
      "metadata": {
        "id": "1HCoAgEX2vL7"
      },
      "source": [
        "#Thông tin rỗng là discription, ta có thể chỉ điền vào \"None\"\r\n",
        "pd_full = pd_full.fillna('None')"
      ],
      "execution_count": 13,
      "outputs": []
    },
    {
      "cell_type": "code",
      "metadata": {
        "id": "QhpWJZHz3CiR"
      },
      "source": [
        "#Kiểm tra và bỏ giá trị trùng lặp\r\n",
        "pd_full = pd_full.drop_duplicates()"
      ],
      "execution_count": 14,
      "outputs": []
    },
    {
      "cell_type": "code",
      "metadata": {
        "colab": {
          "base_uri": "https://localhost:8080/",
          "height": 484
        },
        "id": "zUZM0vRW88Fj",
        "outputId": "3498f774-060f-4877-cf80-80ee5e49d7fb"
      },
      "source": [
        "pd_full.head()"
      ],
      "execution_count": 15,
      "outputs": [
        {
          "output_type": "execute_result",
          "data": {
            "text/html": [
              "<div>\n",
              "<style scoped>\n",
              "    .dataframe tbody tr th:only-of-type {\n",
              "        vertical-align: middle;\n",
              "    }\n",
              "\n",
              "    .dataframe tbody tr th {\n",
              "        vertical-align: top;\n",
              "    }\n",
              "\n",
              "    .dataframe thead th {\n",
              "        text-align: right;\n",
              "    }\n",
              "</style>\n",
              "<table border=\"1\" class=\"dataframe\">\n",
              "  <thead>\n",
              "    <tr style=\"text-align: right;\">\n",
              "      <th></th>\n",
              "      <th>track_id</th>\n",
              "      <th>track_name</th>\n",
              "      <th>playlist_id</th>\n",
              "      <th>playlist_name_x</th>\n",
              "      <th>artist_ids</th>\n",
              "      <th>artist_names</th>\n",
              "      <th>album_id</th>\n",
              "      <th>album_name</th>\n",
              "      <th>track_duration_ms</th>\n",
              "      <th>danceability</th>\n",
              "      <th>energy</th>\n",
              "      <th>key</th>\n",
              "      <th>loudness</th>\n",
              "      <th>mode</th>\n",
              "      <th>speechiness</th>\n",
              "      <th>acousticness</th>\n",
              "      <th>instrumentalness</th>\n",
              "      <th>liveness</th>\n",
              "      <th>valence</th>\n",
              "      <th>tempo</th>\n",
              "      <th>analysis_url</th>\n",
              "      <th>time_signature</th>\n",
              "      <th>description</th>\n",
              "      <th>num_tracks</th>\n",
              "      <th>num_followers</th>\n",
              "    </tr>\n",
              "  </thead>\n",
              "  <tbody>\n",
              "    <tr>\n",
              "      <th>0</th>\n",
              "      <td>463CkQjx2Zk1yXoBuierM9</td>\n",
              "      <td>Levitating (feat. DaBaby)</td>\n",
              "      <td>37i9dQZF1DXcBWIGoYBM5M</td>\n",
              "      <td>Today's Top Hits</td>\n",
              "      <td>['6M2wZ9GZgrQXHCFfjv46we', '4r63FhuTkUYltbVAg5...</td>\n",
              "      <td>['Dua Lipa', 'DaBaby']</td>\n",
              "      <td>04m06KhJUuwe1Q487puIud</td>\n",
              "      <td>Levitating (feat. DaBaby)</td>\n",
              "      <td>203064</td>\n",
              "      <td>0.702</td>\n",
              "      <td>0.825</td>\n",
              "      <td>6</td>\n",
              "      <td>-3.787</td>\n",
              "      <td>0</td>\n",
              "      <td>0.0601</td>\n",
              "      <td>0.00883</td>\n",
              "      <td>0.00000</td>\n",
              "      <td>0.0674</td>\n",
              "      <td>0.915</td>\n",
              "      <td>102.977</td>\n",
              "      <td>https://api.spotify.com/v1/audio-analysis/463C...</td>\n",
              "      <td>4</td>\n",
              "      <td>Dua Lipa &amp; DaBaby are on top of the Hottest 50!</td>\n",
              "      <td>50</td>\n",
              "      <td>27084233</td>\n",
              "    </tr>\n",
              "    <tr>\n",
              "      <th>1</th>\n",
              "      <td>7igeByaBM0MgGsgXtNxDJ7</td>\n",
              "      <td>positions</td>\n",
              "      <td>37i9dQZF1DXcBWIGoYBM5M</td>\n",
              "      <td>Today's Top Hits</td>\n",
              "      <td>['66CXWjxzNUsdJxJ2JdwvnR']</td>\n",
              "      <td>['Ariana Grande']</td>\n",
              "      <td>3jqEvfiu2ENgmgzZq27zbi</td>\n",
              "      <td>positions</td>\n",
              "      <td>172324</td>\n",
              "      <td>0.736</td>\n",
              "      <td>0.802</td>\n",
              "      <td>0</td>\n",
              "      <td>-4.759</td>\n",
              "      <td>1</td>\n",
              "      <td>0.0864</td>\n",
              "      <td>0.46800</td>\n",
              "      <td>0.00000</td>\n",
              "      <td>0.0940</td>\n",
              "      <td>0.675</td>\n",
              "      <td>144.005</td>\n",
              "      <td>https://api.spotify.com/v1/audio-analysis/7ige...</td>\n",
              "      <td>4</td>\n",
              "      <td>Dua Lipa &amp; DaBaby are on top of the Hottest 50!</td>\n",
              "      <td>50</td>\n",
              "      <td>27084233</td>\n",
              "    </tr>\n",
              "    <tr>\n",
              "      <th>2</th>\n",
              "      <td>0lx2cLdOt3piJbcaXIV74f</td>\n",
              "      <td>willow</td>\n",
              "      <td>37i9dQZF1DXcBWIGoYBM5M</td>\n",
              "      <td>Today's Top Hits</td>\n",
              "      <td>['06HL4z0CvFAxyc27GXpf02']</td>\n",
              "      <td>['Taylor Swift']</td>\n",
              "      <td>2Xoteh7uEpea4TohMxjtaq</td>\n",
              "      <td>evermore</td>\n",
              "      <td>214706</td>\n",
              "      <td>0.392</td>\n",
              "      <td>0.574</td>\n",
              "      <td>7</td>\n",
              "      <td>-9.195</td>\n",
              "      <td>1</td>\n",
              "      <td>0.1700</td>\n",
              "      <td>0.83300</td>\n",
              "      <td>0.00179</td>\n",
              "      <td>0.1450</td>\n",
              "      <td>0.529</td>\n",
              "      <td>81.112</td>\n",
              "      <td>https://api.spotify.com/v1/audio-analysis/0lx2...</td>\n",
              "      <td>4</td>\n",
              "      <td>Dua Lipa &amp; DaBaby are on top of the Hottest 50!</td>\n",
              "      <td>50</td>\n",
              "      <td>27084233</td>\n",
              "    </tr>\n",
              "    <tr>\n",
              "      <th>3</th>\n",
              "      <td>2Z8yfpFX0ZMavHkcIeHiO1</td>\n",
              "      <td>Monster (Shawn Mendes &amp; Justin Bieber)</td>\n",
              "      <td>37i9dQZF1DXcBWIGoYBM5M</td>\n",
              "      <td>Today's Top Hits</td>\n",
              "      <td>['7n2wHs1TKAczGzO7Dd2rGr', '1uNFoZAHBGtllmzznp...</td>\n",
              "      <td>['Shawn Mendes', 'Justin Bieber']</td>\n",
              "      <td>3yVVL2EYLp8g7gT08VvYKy</td>\n",
              "      <td>Monster</td>\n",
              "      <td>178994</td>\n",
              "      <td>0.652</td>\n",
              "      <td>0.383</td>\n",
              "      <td>2</td>\n",
              "      <td>-7.076</td>\n",
              "      <td>0</td>\n",
              "      <td>0.0516</td>\n",
              "      <td>0.06760</td>\n",
              "      <td>0.00000</td>\n",
              "      <td>0.0828</td>\n",
              "      <td>0.549</td>\n",
              "      <td>145.765</td>\n",
              "      <td>https://api.spotify.com/v1/audio-analysis/2Z8y...</td>\n",
              "      <td>4</td>\n",
              "      <td>Dua Lipa &amp; DaBaby are on top of the Hottest 50!</td>\n",
              "      <td>50</td>\n",
              "      <td>27084233</td>\n",
              "    </tr>\n",
              "    <tr>\n",
              "      <th>4</th>\n",
              "      <td>6zFMeegAMYQo0mt8rXtrli</td>\n",
              "      <td>HOLIDAY</td>\n",
              "      <td>37i9dQZF1DXcBWIGoYBM5M</td>\n",
              "      <td>Today's Top Hits</td>\n",
              "      <td>['7jVv8c5Fj3E9VhNjxT4snq']</td>\n",
              "      <td>['Lil Nas X']</td>\n",
              "      <td>4EvukZrmNBiqJbs3LwOSHu</td>\n",
              "      <td>HOLIDAY</td>\n",
              "      <td>154997</td>\n",
              "      <td>0.810</td>\n",
              "      <td>0.511</td>\n",
              "      <td>5</td>\n",
              "      <td>-6.924</td>\n",
              "      <td>0</td>\n",
              "      <td>0.1640</td>\n",
              "      <td>0.12000</td>\n",
              "      <td>0.00000</td>\n",
              "      <td>0.0832</td>\n",
              "      <td>0.837</td>\n",
              "      <td>151.947</td>\n",
              "      <td>https://api.spotify.com/v1/audio-analysis/6zFM...</td>\n",
              "      <td>4</td>\n",
              "      <td>Dua Lipa &amp; DaBaby are on top of the Hottest 50!</td>\n",
              "      <td>50</td>\n",
              "      <td>27084233</td>\n",
              "    </tr>\n",
              "  </tbody>\n",
              "</table>\n",
              "</div>"
            ],
            "text/plain": [
              "                 track_id  ... num_followers\n",
              "0  463CkQjx2Zk1yXoBuierM9  ...      27084233\n",
              "1  7igeByaBM0MgGsgXtNxDJ7  ...      27084233\n",
              "2  0lx2cLdOt3piJbcaXIV74f  ...      27084233\n",
              "3  2Z8yfpFX0ZMavHkcIeHiO1  ...      27084233\n",
              "4  6zFMeegAMYQo0mt8rXtrli  ...      27084233\n",
              "\n",
              "[5 rows x 25 columns]"
            ]
          },
          "metadata": {
            "tags": []
          },
          "execution_count": 15
        }
      ]
    },
    {
      "cell_type": "markdown",
      "metadata": {
        "id": "IhEnwDB1_gzD"
      },
      "source": [
        "## 2. Phân tích và khám phá dữ liệu (EDA)"
      ]
    },
    {
      "cell_type": "markdown",
      "metadata": {
        "id": "mTQjwa6-BkCN"
      },
      "source": [
        "### Nhóm câu hỏi 1: Liên quan đến playlist."
      ]
    },
    {
      "cell_type": "markdown",
      "metadata": {
        "id": "KZzopQaaJgxW"
      },
      "source": [
        "#### Câu hỏi 1: Số lượng bài hát thu thập được trong mỗi playlist có đều không?"
      ]
    },
    {
      "cell_type": "code",
      "metadata": {
        "colab": {
          "base_uri": "https://localhost:8080/",
          "height": 297
        },
        "id": "4V5dwQaDByFr",
        "outputId": "6ef660a6-d8e6-482d-ea82-68f4649dccb4"
      },
      "source": [
        "fig, ax = plt.subplots(1, 2)\r\n",
        "sns.distplot(pd_playlists['num_tracks'].values, ax = ax[0])\r\n",
        "sns.distplot(pd_playlists['num_followers'].values, ax = ax[1])\r\n",
        "\r\n",
        "ax[0].set_title('num_tracks')\r\n",
        "ax[1].set_title('num_followers')\r\n",
        "\r\n",
        "ax[0].set_ylabel('Mật độ')\r\n",
        "ax[0].set_xlabel('Giá trị')\r\n",
        "ax[1].set_ylabel('Mật độ')\r\n",
        "ax[1].set_xlabel('Giá trị')\r\n",
        "\r\n",
        "fig.tight_layout()"
      ],
      "execution_count": 16,
      "outputs": [
        {
          "output_type": "display_data",
          "data": {
            "image/png": "[encoded data removed]",
            "text/plain": [
              "<Figure size 432x288 with 2 Axes>"
            ]
          },
          "metadata": {
            "tags": [],
            "needs_background": "light"
          }
        }
      ]
    },
    {
      "cell_type": "code",
      "metadata": {
        "colab": {
          "base_uri": "https://localhost:8080/",
          "height": 297
        },
        "id": "iNALIfFC0JwO",
        "outputId": "5dee4696-14a1-4cc0-b04c-cbcc7b59b63c"
      },
      "source": [
        "fig, ax = plt.subplots(1, 2)\r\n",
        "\r\n",
        "sns.boxplot(data=pd_playlists['num_tracks'], ax = ax[0])\r\n",
        "sns.boxplot(data=pd_playlists['num_followers'], ax = ax[1])\r\n",
        "\r\n",
        "for i in range(2):\r\n",
        "  ax[i].set_ylabel('Value')\r\n",
        "  ax[i].set_xlabel('Features')\r\n",
        "\r\n",
        "fig.tight_layout()"
      ],
      "execution_count": 33,
      "outputs": [
        {
          "output_type": "display_data",
          "data": {
            "image/png": "[encoded data removed]",
            "text/plain": [
              "<Figure size 432x288 with 2 Axes>"
            ]
          },
          "metadata": {
            "tags": [],
            "needs_background": "light"
          }
        }
      ]
    },
    {
      "cell_type": "markdown",
      "metadata": {
        "id": "WETGLI7jQuc9"
      },
      "source": [
        "**Nhận xét**: "
      ]
    },
    {
      "cell_type": "markdown",
      "metadata": {
        "id": "mHdJppFDWMY3"
      },
      "source": [
        "#### Câu hỏi 2: Hãy liệt kê các tên playlist có số lượng người theo dõi nhiều nhất (thông tin này sẽ có lợi cho quá trình đề xuất bài hát)."
      ]
    },
    {
      "cell_type": "code",
      "metadata": {
        "colab": {
          "base_uri": "https://localhost:8080/",
          "height": 297
        },
        "id": "mSX-vkNSWMJW",
        "outputId": "0dbee342-10b1-4f14-bb88-063e57b6f26f"
      },
      "source": [
        "temp_pd = pd_playlists.sort_values(by=['num_followers'], ascending=False)\r\n",
        "top_num = 20\r\n",
        "sns.barplot(x=\"num_followers\", y=\"playlist_name\", data=temp_pd[:top_num])"
      ],
      "execution_count": 17,
      "outputs": [
        {
          "output_type": "execute_result",
          "data": {
            "text/plain": [
              "<matplotlib.axes._subplots.AxesSubplot at 0x7fb28400ac18>"
            ]
          },
          "metadata": {
            "tags": []
          },
          "execution_count": 17
        },
        {
          "output_type": "display_data",
          "data": {
            "image/png": "[encoded data removed]",
            "text/plain": [
              "<Figure size 432x288 with 1 Axes>"
            ]
          },
          "metadata": {
            "tags": [],
            "needs_background": "light"
          }
        }
      ]
    },
    {
      "cell_type": "markdown",
      "metadata": {
        "id": "3IQTtsWoftBn"
      },
      "source": [
        "**Nhận xét**: "
      ]
    },
    {
      "cell_type": "markdown",
      "metadata": {
        "id": "bE8aApPNWacm"
      },
      "source": [
        "#### Câu hỏi 3: Hãy liệt kê các tên playlist có số lượng tracks nhiều nhất."
      ]
    },
    {
      "cell_type": "code",
      "metadata": {
        "colab": {
          "base_uri": "https://localhost:8080/",
          "height": 297
        },
        "id": "I4CbpTF5fsG3",
        "outputId": "5bc45c60-1f1a-4d4e-af49-3b32823fbcf2"
      },
      "source": [
        "temp_pd = pd_playlists.sort_values(by=['num_tracks'], ascending=False)\r\n",
        "top_num = 20\r\n",
        "sns.barplot(x=\"num_tracks\", y=\"playlist_name\", data=temp_pd[:top_num])"
      ],
      "execution_count": 18,
      "outputs": [
        {
          "output_type": "execute_result",
          "data": {
            "text/plain": [
              "<matplotlib.axes._subplots.AxesSubplot at 0x7fb2810c3cc0>"
            ]
          },
          "metadata": {
            "tags": []
          },
          "execution_count": 18
        },
        {
          "output_type": "display_data",
          "data": {
            "image/png": "[encoded data removed]",
            "text/plain": [
              "<Figure size 432x288 with 1 Axes>"
            ]
          },
          "metadata": {
            "tags": [],
            "needs_background": "light"
          }
        }
      ]
    },
    {
      "cell_type": "markdown",
      "metadata": {
        "id": "4LGLCUSefto-"
      },
      "source": [
        "**Nhận xét**: 'Not care about them'."
      ]
    },
    {
      "cell_type": "markdown",
      "metadata": {
        "id": "L-3hsuKHB0bb"
      },
      "source": [
        "### Nhóm câu hỏi 2: Liên quan đến tác giả bài hát (artist) và album (album)"
      ]
    },
    {
      "cell_type": "markdown",
      "metadata": {
        "id": "d2mSjEDlyhVI"
      },
      "source": [
        "#### Câu hỏi 1: Hãy liệt kê các tên tác giả (artist) và album có số lượng tracks nhiều nhất. "
      ]
    },
    {
      "cell_type": "code",
      "metadata": {
        "colab": {
          "base_uri": "https://localhost:8080/"
        },
        "id": "otcrrOtRK4Vb",
        "outputId": "65441a9a-f7f1-4cba-89c1-01513b8923bf"
      },
      "source": [
        "temp_df = pd_full[['artist_names']]\r\n",
        "temp_df['artist_names'] = temp_df['artist_names'].apply(lambda x : x[1:-1].split(','))\r\n",
        "temp_df = temp_df.explode('artist_names')\r\n",
        "\r\n",
        "top_num = 20\r\n",
        "temp_df = temp_df['artist_names'].value_counts()[:top_num]"
      ],
      "execution_count": 19,
      "outputs": [
        {
          "output_type": "stream",
          "text": [
            "/usr/local/lib/python3.6/dist-packages/ipykernel_launcher.py:2: SettingWithCopyWarning: \n",
            "A value is trying to be set on a copy of a slice from a DataFrame.\n",
            "Try using .loc[row_indexer,col_indexer] = value instead\n",
            "\n",
            "See the caveats in the documentation: https://pandas.pydata.org/pandas-docs/stable/user_guide/indexing.html#returning-a-view-versus-a-copy\n",
            "  \n"
          ],
          "name": "stderr"
        }
      ]
    },
    {
      "cell_type": "code",
      "metadata": {
        "colab": {
          "base_uri": "https://localhost:8080/",
          "height": 282
        },
        "id": "eclC5W-JmPtx",
        "outputId": "0c91c545-e256-4f7f-ebbc-84bf697b7e51"
      },
      "source": [
        "sns.barplot(x = temp_df.values, y= temp_df.index)"
      ],
      "execution_count": 20,
      "outputs": [
        {
          "output_type": "execute_result",
          "data": {
            "text/plain": [
              "<matplotlib.axes._subplots.AxesSubplot at 0x7fb27fb614e0>"
            ]
          },
          "metadata": {
            "tags": []
          },
          "execution_count": 20
        },
        {
          "output_type": "display_data",
          "data": {
            "image/png": "[encoded data removed]",
            "text/plain": [
              "<Figure size 432x288 with 1 Axes>"
            ]
          },
          "metadata": {
            "tags": [],
            "needs_background": "light"
          }
        }
      ]
    },
    {
      "cell_type": "markdown",
      "metadata": {
        "id": "dsn2z3hk0lBB"
      },
      "source": [
        "**Nhận xét**: "
      ]
    },
    {
      "cell_type": "code",
      "metadata": {
        "id": "Sf5GSf-lpZuw"
      },
      "source": [
        "temp_df = pd_full[['album_name']]\r\n",
        "\r\n",
        "top_num = 20\r\n",
        "temp_df = temp_df['album_name'].value_counts()[:top_num]"
      ],
      "execution_count": 21,
      "outputs": []
    },
    {
      "cell_type": "code",
      "metadata": {
        "colab": {
          "base_uri": "https://localhost:8080/",
          "height": 282
        },
        "id": "MCMyGEGQrNk8",
        "outputId": "64bbd943-e638-4eea-c1cc-cd88ba9331b7"
      },
      "source": [
        "sns.barplot(x = temp_df.values, y= temp_df.index)"
      ],
      "execution_count": 22,
      "outputs": [
        {
          "output_type": "execute_result",
          "data": {
            "text/plain": [
              "<matplotlib.axes._subplots.AxesSubplot at 0x7fb27fee3ef0>"
            ]
          },
          "metadata": {
            "tags": []
          },
          "execution_count": 22
        },
        {
          "output_type": "display_data",
          "data": {
            "image/png": "[encoded data removed]",
            "text/plain": [
              "<Figure size 432x288 with 1 Axes>"
            ]
          },
          "metadata": {
            "tags": [],
            "needs_background": "light"
          }
        }
      ]
    },
    {
      "cell_type": "markdown",
      "metadata": {
        "id": "gM7ZqgUh0lzX"
      },
      "source": [
        "**Nhận xét**:"
      ]
    },
    {
      "cell_type": "markdown",
      "metadata": {
        "id": "13Za8U-Z0bRH"
      },
      "source": [
        "### Nhóm câu hỏi 3: Liên quan đến các thuộc tính của mỗi bài hát."
      ]
    },
    {
      "cell_type": "markdown",
      "metadata": {
        "id": "PJpr3ymb0efg"
      },
      "source": [
        "Mỗi bài hát có các loại thuộc tính gì, liệt kê ra."
      ]
    },
    {
      "cell_type": "markdown",
      "metadata": {
        "id": "9KXCE-i40r-J"
      },
      "source": [
        "#### Câu hỏi 1: Thời lượng của các bài hát được phân bố như thế nào?"
      ]
    },
    {
      "cell_type": "code",
      "metadata": {
        "id": "GVUisSLo0WgE",
        "colab": {
          "base_uri": "https://localhost:8080/",
          "height": 297
        },
        "outputId": "adeaceda-b094-47b6-ffc0-acc6b5f7a1c9"
      },
      "source": [
        "fig, ax = plt.subplots()\r\n",
        "\r\n",
        "sns.distplot(pd_full['track_duration_ms'].values, ax = ax)\r\n",
        "\r\n",
        "ax.set_title('track_duration_ms')\r\n",
        "\r\n",
        "ax.set_ylabel('Mật độ')\r\n",
        "ax.set_xlabel('Giá trị')\r\n",
        "\r\n",
        "fig.tight_layout()"
      ],
      "execution_count": 23,
      "outputs": [
        {
          "output_type": "display_data",
          "data": {
            "image/png": "[encoded data removed]",
            "text/plain": [
              "<Figure size 432x288 with 1 Axes>"
            ]
          },
          "metadata": {
            "tags": [],
            "needs_background": "light"
          }
        }
      ]
    },
    {
      "cell_type": "markdown",
      "metadata": {
        "id": "02tGMn767N5h"
      },
      "source": [
        "**Nhận xét**:"
      ]
    },
    {
      "cell_type": "markdown",
      "metadata": {
        "id": "SXJM2Xmx5iWx"
      },
      "source": [
        "#### Câu hỏi 2: Các thuộc tính liên quan đến tâm trạng bài hát (Danceability, Valence, Energy, Tempo) được phân bố như thế nào?"
      ]
    },
    {
      "cell_type": "code",
      "metadata": {
        "colab": {
          "base_uri": "https://localhost:8080/",
          "height": 297
        },
        "id": "VgB48p0x4bxf",
        "outputId": "404c8918-4be2-4566-e01f-3bad806dcae3"
      },
      "source": [
        "fig, ax = plt.subplots(2, 2)\r\n",
        "\r\n",
        "sns.distplot(pd_full['danceability'].values, ax = ax[0][0])\r\n",
        "sns.distplot(pd_full['valence'].values, ax = ax[0][1])\r\n",
        "sns.distplot(pd_full['energy'].values, ax = ax[1][0])\r\n",
        "sns.distplot(pd_full['tempo'].values, ax = ax[1][1])\r\n",
        "\r\n",
        "ax[0][0].set_title('danceability')\r\n",
        "ax[0][1].set_title('valence')\r\n",
        "ax[1][0].set_title('energy')\r\n",
        "ax[1][1].set_title('tempo')\r\n",
        "\r\n",
        "for i in range(2):\r\n",
        "  for j in range(2):\r\n",
        "    ax[i][j].set_ylabel('Mật độ')\r\n",
        "    ax[i][j].set_xlabel('Giá trị')\r\n",
        "\r\n",
        "fig.tight_layout()"
      ],
      "execution_count": 24,
      "outputs": [
        {
          "output_type": "display_data",
          "data": {
            "image/png": "[encoded data removed]",
            "text/plain": [
              "<Figure size 432x288 with 4 Axes>"
            ]
          },
          "metadata": {
            "tags": [],
            "needs_background": "light"
          }
        }
      ]
    },
    {
      "cell_type": "code",
      "metadata": {
        "colab": {
          "base_uri": "https://localhost:8080/",
          "height": 297
        },
        "id": "45CpCX2m_i2i",
        "outputId": "dd895921-1958-42dd-f0ed-d73914fc542c"
      },
      "source": [
        "fig, ax = plt.subplots(2, 2)\r\n",
        "\r\n",
        "sns.boxplot(data=pd_full[['danceability']], ax = ax[0][0])\r\n",
        "sns.boxplot(data=pd_full[['valence']], ax = ax[0][1])\r\n",
        "sns.boxplot(data=pd_full[['energy']], ax = ax[1][0])\r\n",
        "sns.boxplot(data=pd_full[['tempo']], ax = ax[1][1])\r\n",
        "\r\n",
        "for i in range(2):\r\n",
        "  for j in range(2):\r\n",
        "    ax[i][j].set_ylabel('Value')\r\n",
        "    ax[i][j].set_xlabel('Features')\r\n",
        "\r\n",
        "fig.tight_layout()"
      ],
      "execution_count": 27,
      "outputs": [
        {
          "output_type": "display_data",
          "data": {
            "image/png": "[encoded data removed]",
            "text/plain": [
              "<Figure size 432x288 with 4 Axes>"
            ]
          },
          "metadata": {
            "tags": [],
            "needs_background": "light"
          }
        }
      ]
    },
    {
      "cell_type": "markdown",
      "metadata": {
        "id": "1BBAkzYQ7Lwr"
      },
      "source": [
        "**Nhận xét**:"
      ]
    },
    {
      "cell_type": "markdown",
      "metadata": {
        "id": "369CZxAR5sAR"
      },
      "source": [
        "#### Câu hỏi 3: Các thuộc tính liên quan đến đặc điểm bài hát (Loudness, Speechiness, Instrumentalness) được phân bố như thế nào?"
      ]
    },
    {
      "cell_type": "code",
      "metadata": {
        "colab": {
          "base_uri": "https://localhost:8080/",
          "height": 297
        },
        "id": "W6bY-alo5yBY",
        "outputId": "6a3e8e6f-ba27-4e42-9fbc-9f057e39868d"
      },
      "source": [
        "fig, ax = plt.subplots(2, 2)\r\n",
        "\r\n",
        "sns.distplot(pd_full['loudness'].values, ax = ax[0][0])\r\n",
        "sns.distplot(pd_full['speechiness'].values, ax = ax[0][1])\r\n",
        "sns.distplot(pd_full['instrumentalness'].values, ax = ax[1][0])\r\n",
        "\r\n",
        "ax[0][0].set_title('loudness')\r\n",
        "ax[0][1].set_title('speechiness')\r\n",
        "ax[1][0].set_title('instrumentalness')\r\n",
        "\r\n",
        "for i in range(2):\r\n",
        "  for j in range(2):\r\n",
        "    if (i != 1 or j != 1):\r\n",
        "      ax[i][j].set_ylabel('Mật độ')\r\n",
        "      ax[i][j].set_xlabel('Giá trị')\r\n",
        "\r\n",
        "fig.tight_layout()"
      ],
      "execution_count": null,
      "outputs": [
        {
          "output_type": "display_data",
          "data": {
            "image/png": "[encoded data removed]",
            "text/plain": [
              "<Figure size 432x288 with 4 Axes>"
            ]
          },
          "metadata": {
            "tags": [],
            "needs_background": "light"
          }
        }
      ]
    },
    {
      "cell_type": "code",
      "metadata": {
        "colab": {
          "base_uri": "https://localhost:8080/",
          "height": 297
        },
        "id": "WSQV44yC_a-p",
        "outputId": "7996965d-3c1c-4ecb-cffe-53e3453faaba"
      },
      "source": [
        "fig, ax = plt.subplots(2, 2)\r\n",
        "\r\n",
        "sns.boxplot(data=pd_full[['loudness']], ax = ax[0][0])\r\n",
        "sns.boxplot(data=pd_full[['speechiness']], ax = ax[0][1])\r\n",
        "sns.boxplot(data=pd_full[['instrumentalness']], ax = ax[1][0])\r\n",
        "\r\n",
        "for i in range(2):\r\n",
        "  for j in range(2):\r\n",
        "    if (i != 1 or j != 1):\r\n",
        "      ax[i][j].set_ylabel('Value')\r\n",
        "      ax[i][j].set_xlabel('Features')\r\n",
        "\r\n",
        "fig.tight_layout()"
      ],
      "execution_count": 31,
      "outputs": [
        {
          "output_type": "display_data",
          "data": {
            "image/png": "[encoded data removed]",
            "text/plain": [
              "<Figure size 432x288 with 4 Axes>"
            ]
          },
          "metadata": {
            "tags": [],
            "needs_background": "light"
          }
        }
      ]
    },
    {
      "cell_type": "markdown",
      "metadata": {
        "id": "6XVn0wIa5xBg"
      },
      "source": [
        "#### Câu hỏi 4: Các thuộc tính liên quan đến nội dung bài hát (Liveness, Acousticness) được phân bố như thế nào?"
      ]
    },
    {
      "cell_type": "code",
      "metadata": {
        "colab": {
          "base_uri": "https://localhost:8080/",
          "height": 297
        },
        "id": "d5Bp0z3x57Py",
        "outputId": "c062c266-bfa6-4cfe-bcc7-02f535570a5b"
      },
      "source": [
        "fig, ax = plt.subplots(1, 2)\r\n",
        "\r\n",
        "sns.distplot(pd_full['liveness'].values, ax = ax[0])\r\n",
        "sns.distplot(pd_full['acousticness'].values, ax = ax[1])\r\n",
        "\r\n",
        "ax[0].set_title('liveness')\r\n",
        "ax[1].set_title('acousticness')\r\n",
        "\r\n",
        "for i in range(2):\r\n",
        "    ax[i].set_ylabel('Mật độ')\r\n",
        "    ax[i].set_xlabel('Giá trị')\r\n",
        "\r\n",
        "fig.tight_layout()"
      ],
      "execution_count": null,
      "outputs": [
        {
          "output_type": "display_data",
          "data": {
            "image/png": "[encoded data removed]",
            "text/plain": [
              "<Figure size 432x288 with 2 Axes>"
            ]
          },
          "metadata": {
            "tags": [],
            "needs_background": "light"
          }
        }
      ]
    },
    {
      "cell_type": "code",
      "metadata": {
        "colab": {
          "base_uri": "https://localhost:8080/",
          "height": 297
        },
        "id": "EmkPX9-D_IOE",
        "outputId": "3b69be27-bf00-4cb9-a528-897e8024c2d6"
      },
      "source": [
        "fig, ax = plt.subplots(1, 2)\r\n",
        "\r\n",
        "sns.boxplot(data=pd_full[['liveness']], ax = ax[0])\r\n",
        "sns.boxplot(data=pd_full[['acousticness']], ax = ax[1])\r\n",
        "\r\n",
        "for i in range(2):\r\n",
        "  ax[i].set_ylabel('Value')\r\n",
        "  ax[i].set_xlabel('Features')\r\n",
        "\r\n",
        "fig.tight_layout()"
      ],
      "execution_count": 32,
      "outputs": [
        {
          "output_type": "display_data",
          "data": {
            "image/png": "[encoded data removed]",
            "text/plain": [
              "<Figure size 432x288 with 2 Axes>"
            ]
          },
          "metadata": {
            "tags": [],
            "needs_background": "light"
          }
        }
      ]
    },
    {
      "cell_type": "markdown",
      "metadata": {
        "id": "oQWpkzj97O2z"
      },
      "source": [
        "**Nhận xét**:"
      ]
    },
    {
      "cell_type": "markdown",
      "metadata": {
        "id": "fLtD6wuV9yN6"
      },
      "source": [
        "#### Câu hỏi 5: Tương quan giữa các thuộc tính trên (Danceability, Valence, Energy, Tempo, Loudness, Speechiness, Instrumentalness, Liveness, Acousticness, Duration) là như thế nào?"
      ]
    },
    {
      "cell_type": "code",
      "metadata": {
        "id": "OSsrUQA09xtj"
      },
      "source": [
        "temp_df = pd_full[['track_duration_ms', 'liveness', 'acousticness', 'loudness', 'speechiness', 'instrumentalness', 'danceability', 'valence', 'energy', 'tempo']]"
      ],
      "execution_count": null,
      "outputs": []
    },
    {
      "cell_type": "code",
      "metadata": {
        "colab": {
          "base_uri": "https://localhost:8080/",
          "height": 690
        },
        "id": "cjaDr1H5-UnZ",
        "outputId": "f9f85677-0d5f-450a-b1ab-0f68dac4644c"
      },
      "source": [
        "# Plot linear correlation matrix\r\n",
        "fig, ax = plt.subplots(figsize=(15,10))\r\n",
        "sns.heatmap(temp_df.corr(), annot=True, cmap='YlGnBu', vmin=-1, vmax=1, center=0, ax=ax)\r\n",
        "plt.title('LINEAR CORRELATION MATRIX')\r\n",
        "plt.show()"
      ],
      "execution_count": null,
      "outputs": [
        {
          "output_type": "display_data",
          "data": {
            "image/png": "[encoded data removed]",
            "text/plain": [
              "<Figure size 1080x720 with 2 Axes>"
            ]
          },
          "metadata": {
            "tags": [],
            "needs_background": "light"
          }
        }
      ]
    },
    {
      "cell_type": "markdown",
      "metadata": {
        "id": "3rruycqL-sGD"
      },
      "source": [
        "**Nhận xét**:"
      ]
    },
    {
      "cell_type": "code",
      "metadata": {
        "id": "mj2Eek97-eTe"
      },
      "source": [
        ""
      ],
      "execution_count": null,
      "outputs": []
    }
  ]
}