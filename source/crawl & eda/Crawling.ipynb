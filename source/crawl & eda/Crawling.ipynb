{
 "cells": [
  {
   "cell_type": "code",
   "execution_count": 233,
   "metadata": {},
   "outputs": [],
   "source": [
    "import os\n",
    "import pandas as pd\n",
    "import numpy as np\n",
    "import csv\n",
    "from tqdm.notebook import tqdm\n",
    "import time\n",
    "from requests_html import HTMLSession\n",
    "import re"
   ]
  },
  {
   "cell_type": "code",
   "execution_count": 59,
   "metadata": {},
   "outputs": [],
   "source": [
    "# set up environment variable (depend on the user's account)\n",
    "\n",
    "os.environ['SPOTIPY_CLIENT_ID']=\"3e3851d02b36446a85fec637a37c573f\"\n",
    "os.environ['SPOTIPY_CLIENT_SECRET']=\"9c763e54e63744a190c9085f64779680\""
   ]
  },
  {
   "cell_type": "markdown",
   "metadata": {},
   "source": [
    "Dữ liệu được sử dụng trong đồ án này được lấy như sau:\n",
    "- **Playlists**: lấy tất cả các public playlists của Spotify sử dụng Spotify API \n",
    "- **Tracks**: thông tin sơ lược về tracks và kết quả phân tích audio của tracks được lấy sử dụng Spotify API \n",
    "- **Artists**: kết hợp cả Spotify API và parse HTML để lấy được nhiều thông tin nhất có thể (có những thông tin **không thể** lấy được nếu dùng API như số người nghe mỗi tháng `monthly_listeners`)\n"
   ]
  },
  {
   "cell_type": "markdown",
   "metadata": {},
   "source": [
    "# 1. Dùng Spotify API để crawl dữ liệu playlist và track "
   ]
  },
  {
   "cell_type": "code",
   "execution_count": 60,
   "metadata": {},
   "outputs": [],
   "source": [
    "import spotipy\n",
    "from spotipy.oauth2 import SpotifyClientCredentials\n"
   ]
  },
  {
   "cell_type": "code",
   "execution_count": 61,
   "metadata": {},
   "outputs": [],
   "source": [
    "auth_manager = SpotifyClientCredentials()\n",
    "sp = spotipy.Spotify(auth_manager=auth_manager)"
   ]
  },
  {
   "cell_type": "markdown",
   "metadata": {},
   "source": [
    "## a. Crawl playlist data"
   ]
  },
  {
   "cell_type": "code",
   "execution_count": 62,
   "metadata": {},
   "outputs": [],
   "source": [
    "def crawl_playlist_data(user='spotify', num_playlist=50, replace=True):\n",
    "    playlist_attributes = [\n",
    "        'playlist_id',\n",
    "        'playlist_name',\n",
    "        'description',\n",
    "        'num_tracks',\n",
    "        'num_followers'\n",
    "    ]\n",
    "\n",
    "    track_attributes = [\n",
    "        'track_id',\n",
    "        'track_name',\n",
    "        'playlist_id',\n",
    "        'playlist_name',\n",
    "        'artist_ids',\n",
    "        'artist_names',\n",
    "        'album_id',\n",
    "        'album_name',\n",
    "        'track_duration_ms'\n",
    "    ]\n",
    "    \n",
    "    if replace:\n",
    "        # write header files\n",
    "        with open('../../data/playlists.tsv', 'w') as f:\n",
    "            f.write('\\t'.join(playlist_attributes) + '\\n')\n",
    "\n",
    "        with open('../../data/tracks.tsv', 'w') as f:\n",
    "            f.write('\\t'.join(track_attributes) + '\\n')\n",
    "\n",
    "    # crawl data     \n",
    "    i = 0\n",
    "    for i in tqdm(range(0, num_playlist, 50), desc=\"All playlists\"):\n",
    "        time.sleep(0.1)\n",
    "        playlists = sp.user_playlists(user, offset=i)\n",
    "\n",
    "        playlist_data = {}\n",
    "        for attr in playlist_attributes:\n",
    "            playlist_data[attr] = []\n",
    "\n",
    "        track_data = {}\n",
    "        for attr in track_attributes:\n",
    "            track_data[attr] = []\n",
    "\n",
    "        for pl in tqdm(playlists['items'], desc='Playlist {} to {}'.format(i, i+50)):\n",
    "            try:\n",
    "                playlist = sp.playlist(pl['id'])\n",
    "\n",
    "                # add playlist information to playlist data \n",
    "                playlist_data['playlist_id'].append(playlist['id'])\n",
    "                playlist_data['playlist_name'].append(playlist['name'])\n",
    "                playlist_data['description'].append(playlist['description'])\n",
    "                playlist_data['playlist_name'].append(playlist['name'])\n",
    "                playlist_data['num_tracks'].append(playlist['tracks']['total'])\n",
    "                playlist_data['num_followers'].append(playlist['followers']['total'])\n",
    "\n",
    "                # add track information to track data \n",
    "                for track in playlist['tracks']['items']:\n",
    "                    track_data['playlist_id'].append(playlist['id'])\n",
    "                    track_data['playlist_name'].append(playlist['name']) \n",
    "                    track = track['track']\n",
    "                    track_data['track_id'].append(track['id'])\n",
    "                    track_data['track_name'].append(track['name'])         \n",
    "                    track_data['artist_ids'].append([artist['id'] for artist in track['artists']])\n",
    "                    track_data['artist_names'].append([artist['name'] for artist in track['artists']])\n",
    "                    track_data['album_id'].append(track['album']['id'])\n",
    "                    track_data['album_name'].append(track['album']['name'])\n",
    "                    track_data['track_duration_ms'].append(track['duration_ms'])\n",
    "            except:\n",
    "                print('Error while processing the', i, 'playlist:', pl['external_urls']['spotify'])\n",
    "                \n",
    "            i += 1\n",
    "\n",
    "        with open('../../data/playlists.tsv', 'a') as f:\n",
    "            for i in range(len(playlist_data['playlist_id'])):\n",
    "                f.write('\\t'.join([str(playlist_data[k][i]).strip().replace('\\t', ' ').replace('\\n', ' ').replace('\\r', ' ') \n",
    "                                   for k in playlist_attributes])\n",
    "                                   + '\\n')\n",
    "\n",
    "        with open('../../data/tracks.tsv', 'a') as f:\n",
    "            for i in range(len(track_data['track_id'])):\n",
    "                f.write('\\t'.join([str(track_data[k][i]).strip().replace('\\t', ' ').replace('\\n', ' ').replace('\\r', ' ') \n",
    "                                   for k in track_attributes])\n",
    "                                   + '\\n')        "
   ]
  },
  {
   "cell_type": "code",
   "execution_count": 6,
   "metadata": {},
   "outputs": [
    {
     "data": {
      "application/vnd.jupyter.widget-view+json": {
       "model_id": "5f2cc6019a264696bf26565b7cff32a8",
       "version_major": 2,
       "version_minor": 0
      },
      "text/plain": [
       "HBox(children=(HTML(value='All playlists'), FloatProgress(value=0.0, max=40.0), HTML(value='')))"
      ]
     },
     "metadata": {},
     "output_type": "display_data"
    },
    {
     "data": {
      "application/vnd.jupyter.widget-view+json": {
       "model_id": "3764d6a3e72d499fbbca201e490b2b22",
       "version_major": 2,
       "version_minor": 0
      },
      "text/plain": [
       "HBox(children=(HTML(value='Playlist 0 to 50'), FloatProgress(value=0.0, max=50.0), HTML(value='')))"
      ]
     },
     "metadata": {},
     "output_type": "display_data"
    },
    {
     "name": "stdout",
     "output_type": "stream",
     "text": [
      "Error while processing the 36 playlist: https://open.spotify.com/playlist/37i9dQZF1DWT2jS7NwYPVI\n",
      "\n"
     ]
    },
    {
     "data": {
      "application/vnd.jupyter.widget-view+json": {
       "model_id": "2f72ab80154a43faa2fe28c8ea30d2a9",
       "version_major": 2,
       "version_minor": 0
      },
      "text/plain": [
       "HBox(children=(HTML(value='Playlist 50 to 100'), FloatProgress(value=0.0, max=50.0), HTML(value='')))"
      ]
     },
     "metadata": {},
     "output_type": "display_data"
    },
    {
     "name": "stdout",
     "output_type": "stream",
     "text": [
      "\n"
     ]
    },
    {
     "data": {
      "application/vnd.jupyter.widget-view+json": {
       "model_id": "c5a45fd6a7e04a3f86a7ba6d0d4fff1e",
       "version_major": 2,
       "version_minor": 0
      },
      "text/plain": [
       "HBox(children=(HTML(value='Playlist 100 to 150'), FloatProgress(value=0.0, max=50.0), HTML(value='')))"
      ]
     },
     "metadata": {},
     "output_type": "display_data"
    },
    {
     "name": "stdout",
     "output_type": "stream",
     "text": [
      "Error while processing the 133 playlist: https://open.spotify.com/playlist/37i9dQZF1DWUq3wF0JVtEy\n",
      "\n"
     ]
    },
    {
     "data": {
      "application/vnd.jupyter.widget-view+json": {
       "model_id": "cc169b8fe4224c6fb62bf6da8d4c2258",
       "version_major": 2,
       "version_minor": 0
      },
      "text/plain": [
       "HBox(children=(HTML(value='Playlist 150 to 200'), FloatProgress(value=0.0, max=50.0), HTML(value='')))"
      ]
     },
     "metadata": {},
     "output_type": "display_data"
    },
    {
     "name": "stdout",
     "output_type": "stream",
     "text": [
      "\n"
     ]
    },
    {
     "data": {
      "application/vnd.jupyter.widget-view+json": {
       "model_id": "4ec39d2ff5984d4fb778362569f97d1d",
       "version_major": 2,
       "version_minor": 0
      },
      "text/plain": [
       "HBox(children=(HTML(value='Playlist 200 to 250'), FloatProgress(value=0.0, max=50.0), HTML(value='')))"
      ]
     },
     "metadata": {},
     "output_type": "display_data"
    },
    {
     "name": "stdout",
     "output_type": "stream",
     "text": [
      "Error while processing the 223 playlist: https://open.spotify.com/playlist/37i9dQZF1DWYHkSks5rujC\n",
      "Error while processing the 225 playlist: https://open.spotify.com/playlist/37i9dQZF1DWZreqadA03A8\n",
      "Error while processing the 226 playlist: https://open.spotify.com/playlist/37i9dQZF1DXdwF9DytRe8w\n",
      "Error while processing the 234 playlist: https://open.spotify.com/playlist/37i9dQZF1DXec50AjHrNTq\n",
      "\n"
     ]
    },
    {
     "data": {
      "application/vnd.jupyter.widget-view+json": {
       "model_id": "22aebb1bb0e04ed6bb303a202855ef88",
       "version_major": 2,
       "version_minor": 0
      },
      "text/plain": [
       "HBox(children=(HTML(value='Playlist 250 to 300'), FloatProgress(value=0.0, max=50.0), HTML(value='')))"
      ]
     },
     "metadata": {},
     "output_type": "display_data"
    },
    {
     "name": "stdout",
     "output_type": "stream",
     "text": [
      "Error while processing the 251 playlist: https://open.spotify.com/playlist/37i9dQZF1DWYrlaUEYy4Vg\n",
      "\n"
     ]
    },
    {
     "data": {
      "application/vnd.jupyter.widget-view+json": {
       "model_id": "ef840d305d3540ddb3af54f3262affd9",
       "version_major": 2,
       "version_minor": 0
      },
      "text/plain": [
       "HBox(children=(HTML(value='Playlist 300 to 350'), FloatProgress(value=0.0, max=50.0), HTML(value='')))"
      ]
     },
     "metadata": {},
     "output_type": "display_data"
    },
    {
     "name": "stdout",
     "output_type": "stream",
     "text": [
      "\n"
     ]
    },
    {
     "data": {
      "application/vnd.jupyter.widget-view+json": {
       "model_id": "bc2ce16f54c14f05a8ac4520947862e1",
       "version_major": 2,
       "version_minor": 0
      },
      "text/plain": [
       "HBox(children=(HTML(value='Playlist 350 to 400'), FloatProgress(value=0.0, max=50.0), HTML(value='')))"
      ]
     },
     "metadata": {},
     "output_type": "display_data"
    },
    {
     "name": "stdout",
     "output_type": "stream",
     "text": [
      "Error while processing the 396 playlist: https://open.spotify.com/playlist/37i9dQZF1DX56qfiUZBncF\n",
      "\n"
     ]
    },
    {
     "data": {
      "application/vnd.jupyter.widget-view+json": {
       "model_id": "3e0dc2cd85eb49f2849b613fb9425f35",
       "version_major": 2,
       "version_minor": 0
      },
      "text/plain": [
       "HBox(children=(HTML(value='Playlist 400 to 450'), FloatProgress(value=0.0, max=50.0), HTML(value='')))"
      ]
     },
     "metadata": {},
     "output_type": "display_data"
    },
    {
     "name": "stdout",
     "output_type": "stream",
     "text": [
      "\n"
     ]
    },
    {
     "data": {
      "application/vnd.jupyter.widget-view+json": {
       "model_id": "34e25d312dcc42a291713aa5e5bd3504",
       "version_major": 2,
       "version_minor": 0
      },
      "text/plain": [
       "HBox(children=(HTML(value='Playlist 450 to 500'), FloatProgress(value=0.0, max=50.0), HTML(value='')))"
      ]
     },
     "metadata": {},
     "output_type": "display_data"
    },
    {
     "name": "stdout",
     "output_type": "stream",
     "text": [
      "Error while processing the 499 playlist: https://open.spotify.com/playlist/37i9dQZF1DX3ZeFHRhhi7Y\n",
      "\n"
     ]
    },
    {
     "data": {
      "application/vnd.jupyter.widget-view+json": {
       "model_id": "6dd22f6fd17b415f957e8ab6df9983c5",
       "version_major": 2,
       "version_minor": 0
      },
      "text/plain": [
       "HBox(children=(HTML(value='Playlist 500 to 550'), FloatProgress(value=0.0, max=50.0), HTML(value='')))"
      ]
     },
     "metadata": {},
     "output_type": "display_data"
    },
    {
     "name": "stdout",
     "output_type": "stream",
     "text": [
      "\n"
     ]
    },
    {
     "data": {
      "application/vnd.jupyter.widget-view+json": {
       "model_id": "e7e12a40d0e74e5b9be3f34e0db1c3c8",
       "version_major": 2,
       "version_minor": 0
      },
      "text/plain": [
       "HBox(children=(HTML(value='Playlist 550 to 600'), FloatProgress(value=0.0, max=50.0), HTML(value='')))"
      ]
     },
     "metadata": {},
     "output_type": "display_data"
    },
    {
     "name": "stdout",
     "output_type": "stream",
     "text": [
      "\n"
     ]
    },
    {
     "data": {
      "application/vnd.jupyter.widget-view+json": {
       "model_id": "efd1b20b1eda44f088688b70e1e80331",
       "version_major": 2,
       "version_minor": 0
      },
      "text/plain": [
       "HBox(children=(HTML(value='Playlist 600 to 650'), FloatProgress(value=0.0, max=50.0), HTML(value='')))"
      ]
     },
     "metadata": {},
     "output_type": "display_data"
    },
    {
     "name": "stdout",
     "output_type": "stream",
     "text": [
      "\n"
     ]
    },
    {
     "data": {
      "application/vnd.jupyter.widget-view+json": {
       "model_id": "98c2439c4578455fb822c6024329d626",
       "version_major": 2,
       "version_minor": 0
      },
      "text/plain": [
       "HBox(children=(HTML(value='Playlist 650 to 700'), FloatProgress(value=0.0, max=50.0), HTML(value='')))"
      ]
     },
     "metadata": {},
     "output_type": "display_data"
    },
    {
     "name": "stdout",
     "output_type": "stream",
     "text": [
      "\n"
     ]
    },
    {
     "data": {
      "application/vnd.jupyter.widget-view+json": {
       "model_id": "388c15c522a0467f93d12fd16046074f",
       "version_major": 2,
       "version_minor": 0
      },
      "text/plain": [
       "HBox(children=(HTML(value='Playlist 700 to 750'), FloatProgress(value=0.0, max=50.0), HTML(value='')))"
      ]
     },
     "metadata": {},
     "output_type": "display_data"
    },
    {
     "name": "stdout",
     "output_type": "stream",
     "text": [
      "Error while processing the 705 playlist: https://open.spotify.com/playlist/37i9dQZF1DWVk7x1ClrO0Y\n",
      "\n"
     ]
    },
    {
     "data": {
      "application/vnd.jupyter.widget-view+json": {
       "model_id": "167b293bd3b34eb5a8a1591ecd7f7ccb",
       "version_major": 2,
       "version_minor": 0
      },
      "text/plain": [
       "HBox(children=(HTML(value='Playlist 750 to 800'), FloatProgress(value=0.0, max=50.0), HTML(value='')))"
      ]
     },
     "metadata": {},
     "output_type": "display_data"
    },
    {
     "name": "stdout",
     "output_type": "stream",
     "text": [
      "Error while processing the 760 playlist: https://open.spotify.com/playlist/37i9dQZF1DX7WJ4yDmRK8R\n",
      "Error while processing the 766 playlist: https://open.spotify.com/playlist/37i9dQZF1DXaDzsRodF91I\n",
      "Error while processing the 771 playlist: https://open.spotify.com/playlist/37i9dQZF1DWZC2yew0xGiz\n",
      "\n"
     ]
    },
    {
     "data": {
      "application/vnd.jupyter.widget-view+json": {
       "model_id": "dc0c4c4b066a4ca4af9c3574d77a26aa",
       "version_major": 2,
       "version_minor": 0
      },
      "text/plain": [
       "HBox(children=(HTML(value='Playlist 800 to 850'), FloatProgress(value=0.0, max=50.0), HTML(value='')))"
      ]
     },
     "metadata": {},
     "output_type": "display_data"
    },
    {
     "name": "stdout",
     "output_type": "stream",
     "text": [
      "\n"
     ]
    },
    {
     "data": {
      "application/vnd.jupyter.widget-view+json": {
       "model_id": "5458510a88cc4b92bd55a13dab66cea2",
       "version_major": 2,
       "version_minor": 0
      },
      "text/plain": [
       "HBox(children=(HTML(value='Playlist 850 to 900'), FloatProgress(value=0.0, max=50.0), HTML(value='')))"
      ]
     },
     "metadata": {},
     "output_type": "display_data"
    },
    {
     "name": "stdout",
     "output_type": "stream",
     "text": [
      "\n"
     ]
    },
    {
     "data": {
      "application/vnd.jupyter.widget-view+json": {
       "model_id": "4365e37de62543f6a89fc9ab478ac98e",
       "version_major": 2,
       "version_minor": 0
      },
      "text/plain": [
       "HBox(children=(HTML(value='Playlist 900 to 950'), FloatProgress(value=0.0, max=50.0), HTML(value='')))"
      ]
     },
     "metadata": {},
     "output_type": "display_data"
    },
    {
     "name": "stdout",
     "output_type": "stream",
     "text": [
      "\n"
     ]
    },
    {
     "data": {
      "application/vnd.jupyter.widget-view+json": {
       "model_id": "bded1ccaa096469cbc9219951faeba6d",
       "version_major": 2,
       "version_minor": 0
      },
      "text/plain": [
       "HBox(children=(HTML(value='Playlist 950 to 1000'), FloatProgress(value=0.0, max=50.0), HTML(value='')))"
      ]
     },
     "metadata": {},
     "output_type": "display_data"
    },
    {
     "name": "stdout",
     "output_type": "stream",
     "text": [
      "Error while processing the 975 playlist: https://open.spotify.com/playlist/37i9dQZF1DX6taq20FeuKj\n",
      "Error while processing the 977 playlist: https://open.spotify.com/playlist/37i9dQZF1DWT5MrZnPU1zD\n",
      "\n"
     ]
    },
    {
     "data": {
      "application/vnd.jupyter.widget-view+json": {
       "model_id": "a8f467a1e7354cf7b1abfc445e6e8add",
       "version_major": 2,
       "version_minor": 0
      },
      "text/plain": [
       "HBox(children=(HTML(value='Playlist 1000 to 1050'), FloatProgress(value=0.0, max=50.0), HTML(value='')))"
      ]
     },
     "metadata": {},
     "output_type": "display_data"
    },
    {
     "name": "stdout",
     "output_type": "stream",
     "text": [
      "Error while processing the 1012 playlist: https://open.spotify.com/playlist/37i9dQZF1DXdbXrPNafg9d\n",
      "\n"
     ]
    },
    {
     "data": {
      "application/vnd.jupyter.widget-view+json": {
       "model_id": "a7c315494a7e4f789a29281a5fe91633",
       "version_major": 2,
       "version_minor": 0
      },
      "text/plain": [
       "HBox(children=(HTML(value='Playlist 1050 to 1100'), FloatProgress(value=0.0, max=50.0), HTML(value='')))"
      ]
     },
     "metadata": {},
     "output_type": "display_data"
    },
    {
     "name": "stdout",
     "output_type": "stream",
     "text": [
      "Error while processing the 1054 playlist: https://open.spotify.com/playlist/37i9dQZF1DWWOGXILUAh53\n",
      "Error while processing the 1088 playlist: https://open.spotify.com/playlist/37i9dQZF1DXcb6CQIjdqKy\n",
      "\n"
     ]
    },
    {
     "data": {
      "application/vnd.jupyter.widget-view+json": {
       "model_id": "4a67d4d01a5a4a7bae2d222bb6320a45",
       "version_major": 2,
       "version_minor": 0
      },
      "text/plain": [
       "HBox(children=(HTML(value='Playlist 1100 to 1150'), FloatProgress(value=0.0, max=50.0), HTML(value='')))"
      ]
     },
     "metadata": {},
     "output_type": "display_data"
    },
    {
     "name": "stdout",
     "output_type": "stream",
     "text": [
      "\n"
     ]
    },
    {
     "data": {
      "application/vnd.jupyter.widget-view+json": {
       "model_id": "82c2d9d20f3241119f6e9b5557a47472",
       "version_major": 2,
       "version_minor": 0
      },
      "text/plain": [
       "HBox(children=(HTML(value='Playlist 1150 to 1200'), FloatProgress(value=0.0, max=50.0), HTML(value='')))"
      ]
     },
     "metadata": {},
     "output_type": "display_data"
    },
    {
     "name": "stdout",
     "output_type": "stream",
     "text": [
      "Error while processing the 1175 playlist: https://open.spotify.com/playlist/37i9dQZF1DXcnkReojaCnV\n",
      "\n"
     ]
    },
    {
     "data": {
      "application/vnd.jupyter.widget-view+json": {
       "model_id": "6476c04121674bf2a9b992d8c9878a73",
       "version_major": 2,
       "version_minor": 0
      },
      "text/plain": [
       "HBox(children=(HTML(value='Playlist 1200 to 1250'), FloatProgress(value=0.0, max=50.0), HTML(value='')))"
      ]
     },
     "metadata": {},
     "output_type": "display_data"
    },
    {
     "name": "stdout",
     "output_type": "stream",
     "text": [
      "Error while processing the 1239 playlist: https://open.spotify.com/playlist/37i9dQZF1DX0sQWfevMRw3\n",
      "\n"
     ]
    },
    {
     "data": {
      "application/vnd.jupyter.widget-view+json": {
       "model_id": "02635acb35da4f8f97e09e5768d3dbb2",
       "version_major": 2,
       "version_minor": 0
      },
      "text/plain": [
       "HBox(children=(HTML(value='Playlist 1250 to 1300'), FloatProgress(value=0.0, max=50.0), HTML(value='')))"
      ]
     },
     "metadata": {},
     "output_type": "display_data"
    },
    {
     "name": "stdout",
     "output_type": "stream",
     "text": [
      "\n"
     ]
    },
    {
     "data": {
      "application/vnd.jupyter.widget-view+json": {
       "model_id": "35eb6e6ab5154374ac33ce63254b95a4",
       "version_major": 2,
       "version_minor": 0
      },
      "text/plain": [
       "HBox(children=(HTML(value='Playlist 1300 to 1350'), FloatProgress(value=0.0, max=50.0), HTML(value='')))"
      ]
     },
     "metadata": {},
     "output_type": "display_data"
    },
    {
     "name": "stdout",
     "output_type": "stream",
     "text": [
      "Error while processing the 1320 playlist: https://open.spotify.com/playlist/37i9dQZF1DWXfgo3OOonqa\n",
      "\n"
     ]
    },
    {
     "data": {
      "application/vnd.jupyter.widget-view+json": {
       "model_id": "568e00e1bda24e908b6b840eaee55784",
       "version_major": 2,
       "version_minor": 0
      },
      "text/plain": [
       "HBox(children=(HTML(value='Playlist 1350 to 1400'), FloatProgress(value=0.0, max=50.0), HTML(value='')))"
      ]
     },
     "metadata": {},
     "output_type": "display_data"
    },
    {
     "name": "stdout",
     "output_type": "stream",
     "text": [
      "Error while processing the 1398 playlist: https://open.spotify.com/playlist/37i9dQZF1DXdc0DUqaW3MZ\n",
      "\n"
     ]
    },
    {
     "data": {
      "application/vnd.jupyter.widget-view+json": {
       "model_id": "b43b082944304038815c7127d9e7931f",
       "version_major": 2,
       "version_minor": 0
      },
      "text/plain": [
       "HBox(children=(HTML(value='Playlist 1400 to 1450'), FloatProgress(value=0.0, max=12.0), HTML(value='')))"
      ]
     },
     "metadata": {},
     "output_type": "display_data"
    },
    {
     "name": "stdout",
     "output_type": "stream",
     "text": [
      "\n"
     ]
    },
    {
     "data": {
      "application/vnd.jupyter.widget-view+json": {
       "model_id": "87d6304ff57c4b699f3051525fdf1f77",
       "version_major": 2,
       "version_minor": 0
      },
      "text/plain": [
       "HBox(children=(HTML(value='Playlist 1450 to 1500'), FloatProgress(value=1.0, bar_style='info', layout=Layout(w…"
      ]
     },
     "metadata": {},
     "output_type": "display_data"
    },
    {
     "name": "stdout",
     "output_type": "stream",
     "text": [
      "\n"
     ]
    },
    {
     "data": {
      "application/vnd.jupyter.widget-view+json": {
       "model_id": "d4f86efc227044789e959f72b4844159",
       "version_major": 2,
       "version_minor": 0
      },
      "text/plain": [
       "HBox(children=(HTML(value='Playlist 1500 to 1550'), FloatProgress(value=1.0, bar_style='info', layout=Layout(w…"
      ]
     },
     "metadata": {},
     "output_type": "display_data"
    },
    {
     "name": "stdout",
     "output_type": "stream",
     "text": [
      "\n"
     ]
    },
    {
     "data": {
      "application/vnd.jupyter.widget-view+json": {
       "model_id": "e4efb08940b548b0854ff6a4f06d38ce",
       "version_major": 2,
       "version_minor": 0
      },
      "text/plain": [
       "HBox(children=(HTML(value='Playlist 1550 to 1600'), FloatProgress(value=1.0, bar_style='info', layout=Layout(w…"
      ]
     },
     "metadata": {},
     "output_type": "display_data"
    },
    {
     "name": "stdout",
     "output_type": "stream",
     "text": [
      "\n"
     ]
    },
    {
     "data": {
      "application/vnd.jupyter.widget-view+json": {
       "model_id": "1715719b90074ed98f36ed130bcc69c8",
       "version_major": 2,
       "version_minor": 0
      },
      "text/plain": [
       "HBox(children=(HTML(value='Playlist 1600 to 1650'), FloatProgress(value=1.0, bar_style='info', layout=Layout(w…"
      ]
     },
     "metadata": {},
     "output_type": "display_data"
    },
    {
     "name": "stdout",
     "output_type": "stream",
     "text": [
      "\n"
     ]
    },
    {
     "data": {
      "application/vnd.jupyter.widget-view+json": {
       "model_id": "1672f7d1ae5c4a46850b4d16bf7a1d0a",
       "version_major": 2,
       "version_minor": 0
      },
      "text/plain": [
       "HBox(children=(HTML(value='Playlist 1650 to 1700'), FloatProgress(value=1.0, bar_style='info', layout=Layout(w…"
      ]
     },
     "metadata": {},
     "output_type": "display_data"
    },
    {
     "name": "stdout",
     "output_type": "stream",
     "text": [
      "\n"
     ]
    },
    {
     "data": {
      "application/vnd.jupyter.widget-view+json": {
       "model_id": "e438ff431ea04db4801d10effdbaded0",
       "version_major": 2,
       "version_minor": 0
      },
      "text/plain": [
       "HBox(children=(HTML(value='Playlist 1700 to 1750'), FloatProgress(value=1.0, bar_style='info', layout=Layout(w…"
      ]
     },
     "metadata": {},
     "output_type": "display_data"
    },
    {
     "name": "stdout",
     "output_type": "stream",
     "text": [
      "\n"
     ]
    },
    {
     "data": {
      "application/vnd.jupyter.widget-view+json": {
       "model_id": "8de41cf1f5a04e038877849d32872224",
       "version_major": 2,
       "version_minor": 0
      },
      "text/plain": [
       "HBox(children=(HTML(value='Playlist 1750 to 1800'), FloatProgress(value=1.0, bar_style='info', layout=Layout(w…"
      ]
     },
     "metadata": {},
     "output_type": "display_data"
    },
    {
     "name": "stdout",
     "output_type": "stream",
     "text": [
      "\n"
     ]
    },
    {
     "data": {
      "application/vnd.jupyter.widget-view+json": {
       "model_id": "278f6ee1721f409d80f6975427bedc29",
       "version_major": 2,
       "version_minor": 0
      },
      "text/plain": [
       "HBox(children=(HTML(value='Playlist 1800 to 1850'), FloatProgress(value=1.0, bar_style='info', layout=Layout(w…"
      ]
     },
     "metadata": {},
     "output_type": "display_data"
    },
    {
     "name": "stdout",
     "output_type": "stream",
     "text": [
      "\n"
     ]
    },
    {
     "data": {
      "application/vnd.jupyter.widget-view+json": {
       "model_id": "342509bfeffb41bcac63d0af69b8c20e",
       "version_major": 2,
       "version_minor": 0
      },
      "text/plain": [
       "HBox(children=(HTML(value='Playlist 1850 to 1900'), FloatProgress(value=1.0, bar_style='info', layout=Layout(w…"
      ]
     },
     "metadata": {},
     "output_type": "display_data"
    },
    {
     "name": "stdout",
     "output_type": "stream",
     "text": [
      "\n"
     ]
    },
    {
     "data": {
      "application/vnd.jupyter.widget-view+json": {
       "model_id": "865b4efac54b4ec6802f29c644987c96",
       "version_major": 2,
       "version_minor": 0
      },
      "text/plain": [
       "HBox(children=(HTML(value='Playlist 1900 to 1950'), FloatProgress(value=1.0, bar_style='info', layout=Layout(w…"
      ]
     },
     "metadata": {},
     "output_type": "display_data"
    },
    {
     "name": "stdout",
     "output_type": "stream",
     "text": [
      "\n"
     ]
    },
    {
     "data": {
      "application/vnd.jupyter.widget-view+json": {
       "model_id": "47b330eebbf54f3ea70711e4da4b48f0",
       "version_major": 2,
       "version_minor": 0
      },
      "text/plain": [
       "HBox(children=(HTML(value='Playlist 1950 to 2000'), FloatProgress(value=1.0, bar_style='info', layout=Layout(w…"
      ]
     },
     "metadata": {},
     "output_type": "display_data"
    },
    {
     "name": "stdout",
     "output_type": "stream",
     "text": [
      "\n",
      "\n"
     ]
    }
   ],
   "source": [
    "crawl_playlist_data(num_playlist=2000)"
   ]
  },
  {
   "cell_type": "markdown",
   "metadata": {},
   "source": [
    "## b. Crawl track audio information"
   ]
  },
  {
   "cell_type": "code",
   "execution_count": 63,
   "metadata": {},
   "outputs": [
    {
     "data": {
      "text/html": [
       "<div>\n",
       "<style scoped>\n",
       "    .dataframe tbody tr th:only-of-type {\n",
       "        vertical-align: middle;\n",
       "    }\n",
       "\n",
       "    .dataframe tbody tr th {\n",
       "        vertical-align: top;\n",
       "    }\n",
       "\n",
       "    .dataframe thead th {\n",
       "        text-align: right;\n",
       "    }\n",
       "</style>\n",
       "<table border=\"1\" class=\"dataframe\">\n",
       "  <thead>\n",
       "    <tr style=\"text-align: right;\">\n",
       "      <th></th>\n",
       "      <th>track_id</th>\n",
       "      <th>track_name</th>\n",
       "      <th>playlist_id</th>\n",
       "      <th>playlist_name</th>\n",
       "      <th>artist_ids</th>\n",
       "      <th>artist_names</th>\n",
       "      <th>album_id</th>\n",
       "      <th>album_name</th>\n",
       "      <th>track_duration_ms</th>\n",
       "    </tr>\n",
       "  </thead>\n",
       "  <tbody>\n",
       "    <tr>\n",
       "      <th>0</th>\n",
       "      <td>463CkQjx2Zk1yXoBuierM9</td>\n",
       "      <td>Levitating (feat. DaBaby)</td>\n",
       "      <td>37i9dQZF1DXcBWIGoYBM5M</td>\n",
       "      <td>Today's Top Hits</td>\n",
       "      <td>['6M2wZ9GZgrQXHCFfjv46we', '4r63FhuTkUYltbVAg5...</td>\n",
       "      <td>['Dua Lipa', 'DaBaby']</td>\n",
       "      <td>04m06KhJUuwe1Q487puIud</td>\n",
       "      <td>Levitating (feat. DaBaby)</td>\n",
       "      <td>203064</td>\n",
       "    </tr>\n",
       "    <tr>\n",
       "      <th>1</th>\n",
       "      <td>7igeByaBM0MgGsgXtNxDJ7</td>\n",
       "      <td>positions</td>\n",
       "      <td>37i9dQZF1DXcBWIGoYBM5M</td>\n",
       "      <td>Today's Top Hits</td>\n",
       "      <td>['66CXWjxzNUsdJxJ2JdwvnR']</td>\n",
       "      <td>['Ariana Grande']</td>\n",
       "      <td>3jqEvfiu2ENgmgzZq27zbi</td>\n",
       "      <td>positions</td>\n",
       "      <td>172324</td>\n",
       "    </tr>\n",
       "    <tr>\n",
       "      <th>2</th>\n",
       "      <td>0lx2cLdOt3piJbcaXIV74f</td>\n",
       "      <td>willow</td>\n",
       "      <td>37i9dQZF1DXcBWIGoYBM5M</td>\n",
       "      <td>Today's Top Hits</td>\n",
       "      <td>['06HL4z0CvFAxyc27GXpf02']</td>\n",
       "      <td>['Taylor Swift']</td>\n",
       "      <td>2Xoteh7uEpea4TohMxjtaq</td>\n",
       "      <td>evermore</td>\n",
       "      <td>214706</td>\n",
       "    </tr>\n",
       "    <tr>\n",
       "      <th>3</th>\n",
       "      <td>2Z8yfpFX0ZMavHkcIeHiO1</td>\n",
       "      <td>Monster (Shawn Mendes &amp; Justin Bieber)</td>\n",
       "      <td>37i9dQZF1DXcBWIGoYBM5M</td>\n",
       "      <td>Today's Top Hits</td>\n",
       "      <td>['7n2wHs1TKAczGzO7Dd2rGr', '1uNFoZAHBGtllmzznp...</td>\n",
       "      <td>['Shawn Mendes', 'Justin Bieber']</td>\n",
       "      <td>3yVVL2EYLp8g7gT08VvYKy</td>\n",
       "      <td>Monster</td>\n",
       "      <td>178994</td>\n",
       "    </tr>\n",
       "    <tr>\n",
       "      <th>4</th>\n",
       "      <td>6zFMeegAMYQo0mt8rXtrli</td>\n",
       "      <td>HOLIDAY</td>\n",
       "      <td>37i9dQZF1DXcBWIGoYBM5M</td>\n",
       "      <td>Today's Top Hits</td>\n",
       "      <td>['7jVv8c5Fj3E9VhNjxT4snq']</td>\n",
       "      <td>['Lil Nas X']</td>\n",
       "      <td>4EvukZrmNBiqJbs3LwOSHu</td>\n",
       "      <td>HOLIDAY</td>\n",
       "      <td>154997</td>\n",
       "    </tr>\n",
       "  </tbody>\n",
       "</table>\n",
       "</div>"
      ],
      "text/plain": [
       "                 track_id                              track_name  \\\n",
       "0  463CkQjx2Zk1yXoBuierM9               Levitating (feat. DaBaby)   \n",
       "1  7igeByaBM0MgGsgXtNxDJ7                               positions   \n",
       "2  0lx2cLdOt3piJbcaXIV74f                                  willow   \n",
       "3  2Z8yfpFX0ZMavHkcIeHiO1  Monster (Shawn Mendes & Justin Bieber)   \n",
       "4  6zFMeegAMYQo0mt8rXtrli                                 HOLIDAY   \n",
       "\n",
       "              playlist_id     playlist_name  \\\n",
       "0  37i9dQZF1DXcBWIGoYBM5M  Today's Top Hits   \n",
       "1  37i9dQZF1DXcBWIGoYBM5M  Today's Top Hits   \n",
       "2  37i9dQZF1DXcBWIGoYBM5M  Today's Top Hits   \n",
       "3  37i9dQZF1DXcBWIGoYBM5M  Today's Top Hits   \n",
       "4  37i9dQZF1DXcBWIGoYBM5M  Today's Top Hits   \n",
       "\n",
       "                                          artist_ids  \\\n",
       "0  ['6M2wZ9GZgrQXHCFfjv46we', '4r63FhuTkUYltbVAg5...   \n",
       "1                         ['66CXWjxzNUsdJxJ2JdwvnR']   \n",
       "2                         ['06HL4z0CvFAxyc27GXpf02']   \n",
       "3  ['7n2wHs1TKAczGzO7Dd2rGr', '1uNFoZAHBGtllmzznp...   \n",
       "4                         ['7jVv8c5Fj3E9VhNjxT4snq']   \n",
       "\n",
       "                        artist_names                album_id  \\\n",
       "0             ['Dua Lipa', 'DaBaby']  04m06KhJUuwe1Q487puIud   \n",
       "1                  ['Ariana Grande']  3jqEvfiu2ENgmgzZq27zbi   \n",
       "2                   ['Taylor Swift']  2Xoteh7uEpea4TohMxjtaq   \n",
       "3  ['Shawn Mendes', 'Justin Bieber']  3yVVL2EYLp8g7gT08VvYKy   \n",
       "4                      ['Lil Nas X']  4EvukZrmNBiqJbs3LwOSHu   \n",
       "\n",
       "                  album_name  track_duration_ms  \n",
       "0  Levitating (feat. DaBaby)             203064  \n",
       "1                  positions             172324  \n",
       "2                   evermore             214706  \n",
       "3                    Monster             178994  \n",
       "4                    HOLIDAY             154997  "
      ]
     },
     "execution_count": 63,
     "metadata": {},
     "output_type": "execute_result"
    }
   ],
   "source": [
    "track_df = pd.read_csv('../../data/tracks.tsv', sep='\\t')\n",
    "track_df.head()"
   ]
  },
  {
   "cell_type": "code",
   "execution_count": 127,
   "metadata": {},
   "outputs": [],
   "source": [
    "def crawl_audio_data(track_file='../../data/tracks.tsv'):\n",
    "    track_df = pd.read_csv(track_file, sep='\\t')\n",
    "    track_ids = list(set(track_df['track_id']))\n",
    "    audio_attributes = [\n",
    "        'id',\n",
    "        'danceability',\n",
    "        'energy',\n",
    "        'key',\n",
    "        'loudness',\n",
    "        'mode',\n",
    "        'speechiness',\n",
    "        'acousticness',\n",
    "        'instrumentalness',\n",
    "        'liveness',\n",
    "        'valence',\n",
    "        'tempo',\n",
    "        'analysis_url',\n",
    "        'time_signature'\n",
    "    ]\n",
    "    \n",
    "    track_attributes = [\n",
    "        'available_markets',\n",
    "        'popularity'\n",
    "    ]\n",
    "\n",
    "    with open('../../data/audio_features.tsv', 'w') as f:\n",
    "        f.write('\\t'.join(audio_attributes + track_attributes) + '\\n')\n",
    "    \n",
    "    i = -1\n",
    "    for start in tqdm(range(0, len(track_ids), 50), desc='All tracks'):\n",
    "        time.sleep(0.1)\n",
    "        data = {}\n",
    "        for attr in audio_attributes + track_attributes:\n",
    "            data[attr] = []\n",
    "        \n",
    "        end = min(start+50, len(track_ids))\n",
    "        audio_features = sp.audio_features(track_ids[start:end])\n",
    "        track_features = sp.tracks(track_ids[start:end])\n",
    "        for audio, track in zip(audio_features, track_features['tracks']):\n",
    "            i += 1\n",
    "            try:\n",
    "                for attr in audio_attributes:\n",
    "                    data[attr].append(audio[attr])\n",
    "                    \n",
    "                for attr in track_attributes:\n",
    "                    data[attr].append(track[attr])\n",
    "            except:\n",
    "                print('Error while processing the {}th track with id {}'.format(i, track_ids[i]))\n",
    "                                \n",
    "        with open('../../data/audio_features.tsv', 'a') as f:\n",
    "            for i in range(len(data['id'])):\n",
    "                f.write('\\t'.join([str(data[k][i]).strip().replace('\\t', ' ').replace('\\n', ' ').replace('\\r', ' ') \n",
    "                                   for k in (audio_attributes+track_attributes)])\n",
    "                                   + '\\n')              "
   ]
  },
  {
   "cell_type": "code",
   "execution_count": 128,
   "metadata": {},
   "outputs": [
    {
     "data": {
      "application/vnd.jupyter.widget-view+json": {
       "model_id": "6240810164aa4260a290e4b2ff2d11e4",
       "version_major": 2,
       "version_minor": 0
      },
      "text/plain": [
       "HBox(children=(HTML(value='All tracks'), FloatProgress(value=0.0, max=1372.0), HTML(value='')))"
      ]
     },
     "metadata": {},
     "output_type": "display_data"
    },
    {
     "name": "stdout",
     "output_type": "stream",
     "text": [
      "Error while processing the 94th track with id 6tvzakkt80JJBQDwv7gOJ2\n",
      "Error while processing the 84th track with id 1bCmU5Ouw4G0l9d73oNxFc\n",
      "Error while processing the 80th track with id 7aaHlvqJoea0S46e3YPVEX\n",
      "Error while processing the 65th track with id 6POfrpc0tv287bg8lpfsRs\n",
      "Error while processing the 64th track with id 3tn802xiWFEfwoBnFfORTH\n",
      "Error while processing the 86th track with id 3kgx7Hw9C0cMPOYUdtIrXI\n",
      "Error while processing the 66th track with id 0VeJBq4WnjbpUlxew0zOjp\n",
      "Error while processing the 85th track with id 2uqowBnUT4KrCszpKiOLCH\n",
      "Error while processing the 72th track with id 0zEswgpayNg0tlsr2L0q7P\n",
      "Error while processing the 84th track with id 1bCmU5Ouw4G0l9d73oNxFc\n",
      "Error while processing the 75th track with id 422kCwhe9nDgNDcYHdmsEl\n",
      "Error while processing the 54th track with id 7HQ8kBRQCdhRtCBwu8a4a7\n",
      "Error while processing the 56th track with id 1Oewmmr12xuhgzvUJ9Q0cf\n",
      "Error while processing the 70th track with id 1MIQyiSyJcRBKg3pCLESFa\n",
      "Error while processing the 55th track with id 3ThQavikriVutPV3UPyXzz\n",
      "Error while processing the 69th track with id 4zheMvCKOVUhYCDftdSqfJ\n",
      "Error while processing the 97th track with id 0rLLKtog5Bc0XoGRnYOZ19\n",
      "Error while processing the 72th track with id 0zEswgpayNg0tlsr2L0q7P\n",
      "Error while processing the 97th track with id 0rLLKtog5Bc0XoGRnYOZ19\n",
      "Error while processing the 56th track with id 1Oewmmr12xuhgzvUJ9Q0cf\n",
      "Error while processing the 73th track with id 5BJmdbayrUuwVQK2eK1lr1\n",
      "Error while processing the 91th track with id 6iY9AS4wKGbUCDyxAjWICR\n",
      "Error while processing the 94th track with id 6tvzakkt80JJBQDwv7gOJ2\n",
      "\n"
     ]
    }
   ],
   "source": [
    "crawl_audio_data()"
   ]
  },
  {
   "cell_type": "markdown",
   "metadata": {},
   "source": [
    "# 2. Dùng Spotify API kết hợp Parse HTML để lấy thông tin artist "
   ]
  },
  {
   "cell_type": "code",
   "execution_count": 170,
   "metadata": {},
   "outputs": [
    {
     "data": {
      "text/html": [
       "<div>\n",
       "<style scoped>\n",
       "    .dataframe tbody tr th:only-of-type {\n",
       "        vertical-align: middle;\n",
       "    }\n",
       "\n",
       "    .dataframe tbody tr th {\n",
       "        vertical-align: top;\n",
       "    }\n",
       "\n",
       "    .dataframe thead th {\n",
       "        text-align: right;\n",
       "    }\n",
       "</style>\n",
       "<table border=\"1\" class=\"dataframe\">\n",
       "  <thead>\n",
       "    <tr style=\"text-align: right;\">\n",
       "      <th></th>\n",
       "      <th>track_id</th>\n",
       "      <th>track_name</th>\n",
       "      <th>playlist_id</th>\n",
       "      <th>playlist_name</th>\n",
       "      <th>artist_ids</th>\n",
       "      <th>artist_names</th>\n",
       "      <th>album_id</th>\n",
       "      <th>album_name</th>\n",
       "      <th>track_duration_ms</th>\n",
       "    </tr>\n",
       "  </thead>\n",
       "  <tbody>\n",
       "    <tr>\n",
       "      <th>0</th>\n",
       "      <td>463CkQjx2Zk1yXoBuierM9</td>\n",
       "      <td>Levitating (feat. DaBaby)</td>\n",
       "      <td>37i9dQZF1DXcBWIGoYBM5M</td>\n",
       "      <td>Today's Top Hits</td>\n",
       "      <td>['6M2wZ9GZgrQXHCFfjv46we', '4r63FhuTkUYltbVAg5...</td>\n",
       "      <td>['Dua Lipa', 'DaBaby']</td>\n",
       "      <td>04m06KhJUuwe1Q487puIud</td>\n",
       "      <td>Levitating (feat. DaBaby)</td>\n",
       "      <td>203064</td>\n",
       "    </tr>\n",
       "    <tr>\n",
       "      <th>1</th>\n",
       "      <td>7igeByaBM0MgGsgXtNxDJ7</td>\n",
       "      <td>positions</td>\n",
       "      <td>37i9dQZF1DXcBWIGoYBM5M</td>\n",
       "      <td>Today's Top Hits</td>\n",
       "      <td>['66CXWjxzNUsdJxJ2JdwvnR']</td>\n",
       "      <td>['Ariana Grande']</td>\n",
       "      <td>3jqEvfiu2ENgmgzZq27zbi</td>\n",
       "      <td>positions</td>\n",
       "      <td>172324</td>\n",
       "    </tr>\n",
       "    <tr>\n",
       "      <th>2</th>\n",
       "      <td>0lx2cLdOt3piJbcaXIV74f</td>\n",
       "      <td>willow</td>\n",
       "      <td>37i9dQZF1DXcBWIGoYBM5M</td>\n",
       "      <td>Today's Top Hits</td>\n",
       "      <td>['06HL4z0CvFAxyc27GXpf02']</td>\n",
       "      <td>['Taylor Swift']</td>\n",
       "      <td>2Xoteh7uEpea4TohMxjtaq</td>\n",
       "      <td>evermore</td>\n",
       "      <td>214706</td>\n",
       "    </tr>\n",
       "    <tr>\n",
       "      <th>3</th>\n",
       "      <td>2Z8yfpFX0ZMavHkcIeHiO1</td>\n",
       "      <td>Monster (Shawn Mendes &amp; Justin Bieber)</td>\n",
       "      <td>37i9dQZF1DXcBWIGoYBM5M</td>\n",
       "      <td>Today's Top Hits</td>\n",
       "      <td>['7n2wHs1TKAczGzO7Dd2rGr', '1uNFoZAHBGtllmzznp...</td>\n",
       "      <td>['Shawn Mendes', 'Justin Bieber']</td>\n",
       "      <td>3yVVL2EYLp8g7gT08VvYKy</td>\n",
       "      <td>Monster</td>\n",
       "      <td>178994</td>\n",
       "    </tr>\n",
       "    <tr>\n",
       "      <th>4</th>\n",
       "      <td>6zFMeegAMYQo0mt8rXtrli</td>\n",
       "      <td>HOLIDAY</td>\n",
       "      <td>37i9dQZF1DXcBWIGoYBM5M</td>\n",
       "      <td>Today's Top Hits</td>\n",
       "      <td>['7jVv8c5Fj3E9VhNjxT4snq']</td>\n",
       "      <td>['Lil Nas X']</td>\n",
       "      <td>4EvukZrmNBiqJbs3LwOSHu</td>\n",
       "      <td>HOLIDAY</td>\n",
       "      <td>154997</td>\n",
       "    </tr>\n",
       "  </tbody>\n",
       "</table>\n",
       "</div>"
      ],
      "text/plain": [
       "                 track_id                              track_name  \\\n",
       "0  463CkQjx2Zk1yXoBuierM9               Levitating (feat. DaBaby)   \n",
       "1  7igeByaBM0MgGsgXtNxDJ7                               positions   \n",
       "2  0lx2cLdOt3piJbcaXIV74f                                  willow   \n",
       "3  2Z8yfpFX0ZMavHkcIeHiO1  Monster (Shawn Mendes & Justin Bieber)   \n",
       "4  6zFMeegAMYQo0mt8rXtrli                                 HOLIDAY   \n",
       "\n",
       "              playlist_id     playlist_name  \\\n",
       "0  37i9dQZF1DXcBWIGoYBM5M  Today's Top Hits   \n",
       "1  37i9dQZF1DXcBWIGoYBM5M  Today's Top Hits   \n",
       "2  37i9dQZF1DXcBWIGoYBM5M  Today's Top Hits   \n",
       "3  37i9dQZF1DXcBWIGoYBM5M  Today's Top Hits   \n",
       "4  37i9dQZF1DXcBWIGoYBM5M  Today's Top Hits   \n",
       "\n",
       "                                          artist_ids  \\\n",
       "0  ['6M2wZ9GZgrQXHCFfjv46we', '4r63FhuTkUYltbVAg5...   \n",
       "1                         ['66CXWjxzNUsdJxJ2JdwvnR']   \n",
       "2                         ['06HL4z0CvFAxyc27GXpf02']   \n",
       "3  ['7n2wHs1TKAczGzO7Dd2rGr', '1uNFoZAHBGtllmzznp...   \n",
       "4                         ['7jVv8c5Fj3E9VhNjxT4snq']   \n",
       "\n",
       "                        artist_names                album_id  \\\n",
       "0             ['Dua Lipa', 'DaBaby']  04m06KhJUuwe1Q487puIud   \n",
       "1                  ['Ariana Grande']  3jqEvfiu2ENgmgzZq27zbi   \n",
       "2                   ['Taylor Swift']  2Xoteh7uEpea4TohMxjtaq   \n",
       "3  ['Shawn Mendes', 'Justin Bieber']  3yVVL2EYLp8g7gT08VvYKy   \n",
       "4                      ['Lil Nas X']  4EvukZrmNBiqJbs3LwOSHu   \n",
       "\n",
       "                  album_name  track_duration_ms  \n",
       "0  Levitating (feat. DaBaby)             203064  \n",
       "1                  positions             172324  \n",
       "2                   evermore             214706  \n",
       "3                    Monster             178994  \n",
       "4                    HOLIDAY             154997  "
      ]
     },
     "execution_count": 170,
     "metadata": {},
     "output_type": "execute_result"
    }
   ],
   "source": [
    "track_df = pd.read_csv('../../data/tracks.tsv', sep='\\t')\n",
    "track_df.head()"
   ]
  },
  {
   "cell_type": "code",
   "execution_count": null,
   "metadata": {},
   "outputs": [],
   "source": [
    "a = sp.artists(artist_ids[0:])"
   ]
  },
  {
   "cell_type": "code",
   "execution_count": null,
   "metadata": {},
   "outputs": [],
   "source": [
    "def crawl_artist_data(track_file='../../data/tracks.tsv'):\n",
    "    # create HTML Session\n",
    "    session = HTMLSession()\n",
    "    \n",
    "    track_df = pd.read_csv(track_file, sep='\\t')\n",
    "    artist_ids = track_df['artist_ids'].apply(lambda x: x[1:-1].split(', '))\n",
    "    artist_ids = list(artist_id[1:-1] for artist_id in set(artist_ids.explode().values))\n",
    "    \n",
    "    artist_attributes = [\n",
    "        'id',\n",
    "        'name',\n",
    "        'popularity',\n",
    "        'genres',\n",
    "        'num_followers',\n",
    "        'monthly_listeners'\n",
    "    ]\n",
    "\n",
    "    with open('../../data/artists.tsv', 'w') as f:\n",
    "        f.write('\\t'.join(artist_attributes) + '\\n')\n",
    "    \n",
    "    i = -1\n",
    "    for start in tqdm(range(0, len(artist_ids), 25), desc='All artists'):\n",
    "        time.sleep(0.1)\n",
    "        data = {}\n",
    "        for attr in artist_attributes:\n",
    "            data[attr] = []\n",
    "        \n",
    "        end = min(start+50, len(artist_ids))\n",
    "        artist_features = sp.artists(artist_ids[start:end])\n",
    "        for artist in artist_features['artists']:\n",
    "            i += 1\n",
    "            \n",
    "            if artist is None:\n",
    "                continue\n",
    "                \n",
    "            url = artist['external_urls']['spotify']\n",
    "            monthly_listeners = 0\n",
    "            \n",
    "            # get HTML content\n",
    "            content = session.get(url).text\n",
    "            \n",
    "            # use regular expression to find the value of monthly listeners\n",
    "            text = r\"Monthly Listeners: \\d+\"\n",
    "            res = re.findall(text, content)\n",
    "            for r in res:\n",
    "                try:\n",
    "                    # update value if available and break the loop\n",
    "                    monthly_listeners = int(r.split(': ')[-1])\n",
    "                    break \n",
    "                except:\n",
    "                    pass\n",
    "                \n",
    "            try:    \n",
    "                \n",
    "                for attr in artist_attributes[:-2]:\n",
    "                    data[attr].append(artist[attr])\n",
    "                data['monthly_listeners'].append(monthly_listeners)\n",
    "                data['num_followers'].append(artist['followers']['total'])\n",
    "            except:\n",
    "                print('Error while processing the {}th artist with id {}'.format(i, artist_ids[i]))\n",
    "                                \n",
    "        with open('../../data/artists.tsv', 'a') as f:\n",
    "            for i in range(len(data['id'])):\n",
    "                f.write('\\t'.join([str(data[k][i]).strip().replace('\\t', ' ').replace('\\n', ' ').replace('\\r', ' ') \n",
    "                                   for k in artist_attributes])\n",
    "                                   + '\\n')              "
   ]
  },
  {
   "cell_type": "markdown",
   "metadata": {},
   "source": [
    "**LƯU Ý:** Crawl data nghệ sĩ do có parse HTML nên sẽ tốn nhiều thời gian hơn so với việc crawl playlist và track data. Việc crawl data nghệ sĩ có thể tốn khoảng **5.5 tiếng** tùy cấu hình máy."
   ]
  },
  {
   "cell_type": "code",
   "execution_count": 279,
   "metadata": {},
   "outputs": [
    {
     "data": {
      "application/vnd.jupyter.widget-view+json": {
       "model_id": "e13811d63bf8412898424c3b199a637f",
       "version_major": 2,
       "version_minor": 0
      },
      "text/plain": [
       "HBox(children=(HTML(value='All artists'), FloatProgress(value=0.0, max=1354.0), HTML(value='')))"
      ]
     },
     "metadata": {},
     "output_type": "display_data"
    },
    {
     "name": "stdout",
     "output_type": "stream",
     "text": [
      "\n"
     ]
    }
   ],
   "source": [
    "crawl_artist_data()"
   ]
  }
 ],
 "metadata": {
  "kernelspec": {
   "display_name": "Python 3",
   "language": "python",
   "name": "python3"
  },
  "language_info": {
   "codemirror_mode": {
    "name": "ipython",
    "version": 3
   },
   "file_extension": ".py",
   "mimetype": "text/x-python",
   "name": "python",
   "nbconvert_exporter": "python",
   "pygments_lexer": "ipython3",
   "version": "3.8.5"
  }
 },
 "nbformat": 4,
 "nbformat_minor": 4
}
