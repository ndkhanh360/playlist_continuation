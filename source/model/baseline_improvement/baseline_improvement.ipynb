{
  "nbformat": 4,
  "nbformat_minor": 0,
  "metadata": {
    "colab": {
      "name": "baseline_improvement.ipynb",
      "provenance": [],
      "collapsed_sections": [],
      "toc_visible": true
    },
    "kernelspec": {
      "name": "python3",
      "display_name": "Python 3"
    }
  },
  "cells": [
    {
      "cell_type": "code",
      "metadata": {
        "id": "3Ox07YU_VApc"
      },
      "source": [
        "import json\r\n",
        "import pandas as pd\r\n",
        "import numpy as np  \r\n",
        "import os\r\n",
        "import random\r\n",
        "\r\n",
        "from metric import r_precision, dcg_at_k, ndcg_at_k\r\n",
        "from utils import generate_playlists, generate_testcases\r\n",
        "\r\n",
        "from numpy import linalg as LA\r\n",
        "\r\n",
        "import sklearn\r\n",
        "from sklearn.metrics.pairwise import cosine_similarity\r\n",
        "from sklearn.model_selection import train_test_split\r\n",
        "from sklearn import preprocessing\r\n",
        "from sklearn.preprocessing import MinMaxScaler\r\n",
        "from sklearn.ensemble import ExtraTreesClassifier\r\n",
        "from sklearn.model_selection import train_test_split\r\n",
        "from sklearn.cluster import KMeans\r\n",
        "\r\n",
        "import matplotlib.pyplot as plt\r\n",
        "import seaborn as sns\r\n",
        "import collections\r\n",
        "\r\n",
        "import lightgbm as lgb\r\n",
        "\r\n",
        "import warnings\r\n",
        "warnings.simplefilter(action='ignore', category=FutureWarning)"
      ],
      "execution_count": 1,
      "outputs": []
    },
    {
      "cell_type": "code",
      "metadata": {
        "id": "MYbDEUH6blG6"
      },
      "source": [
        "path = '/content/drive/MyDrive/DO_AN_KHDL/DATA'\r\n",
        "path_audio_feats = os.path.join(path, 'audio_features.tsv')\r\n",
        "path_playlists = os.path.join(path, 'playlists.tsv')\r\n",
        "path_tracks = os.path.join(path, 'tracks.tsv')"
      ],
      "execution_count": 2,
      "outputs": []
    },
    {
      "cell_type": "code",
      "metadata": {
        "id": "Oen2tLuOblLn"
      },
      "source": [
        "pd_audio_feats = pd.read_csv(path_audio_feats, sep = '\\t')\r\n",
        "pd_tracks = pd.read_csv(path_tracks, sep = '\\t')\r\n",
        "pd_playlists = pd.read_csv(path_playlists, sep = '\\t')\r\n",
        "pd_playlists = pd_playlists.fillna('None')"
      ],
      "execution_count": 3,
      "outputs": []
    },
    {
      "cell_type": "code",
      "metadata": {
        "id": "9AaHwCK_blN3"
      },
      "source": [
        "pd_tracks = pd.merge(pd_tracks, pd_audio_feats, left_on = 'track_id', right_on = 'id')\r\n",
        "pd_full = pd.merge(pd_tracks, pd_playlists, left_on = 'playlist_id', right_on = 'playlist_id')\r\n",
        "\r\n",
        "pd_tracks = pd_tracks.drop('id', 1)\r\n",
        "pd_full = pd_full.drop('playlist_name_y', 1)\r\n",
        "pd_full = pd_full.drop('id', 1)"
      ],
      "execution_count": 4,
      "outputs": []
    },
    {
      "cell_type": "code",
      "metadata": {
        "colab": {
          "base_uri": "https://localhost:8080/"
        },
        "id": "sq_trfrGbysH",
        "outputId": "de743abe-cdc0-47c5-d47c-4d8e72b5c1e4"
      },
      "source": [
        "pd_full.shape"
      ],
      "execution_count": 5,
      "outputs": [
        {
          "output_type": "execute_result",
          "data": {
            "text/plain": [
              "(86400, 25)"
            ]
          },
          "metadata": {
            "tags": []
          },
          "execution_count": 5
        }
      ]
    },
    {
      "cell_type": "code",
      "metadata": {
        "id": "x7ORw-zdbu83"
      },
      "source": [
        "#Thông tin rỗng là discription, ta có thể chỉ điền vào \"None\"\r\n",
        "pd_full = pd_full.fillna('None')"
      ],
      "execution_count": 6,
      "outputs": []
    },
    {
      "cell_type": "code",
      "metadata": {
        "id": "JXm0SU6DblPw"
      },
      "source": [
        "#Kiểm tra và bỏ giá trị trùng lặp\r\n",
        "pd_full = pd_full.drop_duplicates()"
      ],
      "execution_count": 7,
      "outputs": []
    },
    {
      "cell_type": "code",
      "metadata": {
        "colab": {
          "base_uri": "https://localhost:8080/"
        },
        "id": "UgE-13NgblRX",
        "outputId": "157b130a-8272-417e-fc57-bc6d466061f7"
      },
      "source": [
        "pd_full.shape"
      ],
      "execution_count": 8,
      "outputs": [
        {
          "output_type": "execute_result",
          "data": {
            "text/plain": [
              "(86350, 25)"
            ]
          },
          "metadata": {
            "tags": []
          },
          "execution_count": 8
        }
      ]
    },
    {
      "cell_type": "markdown",
      "metadata": {
        "id": "oDyYVLKiewsh"
      },
      "source": [
        "## Baseline model"
      ]
    },
    {
      "cell_type": "markdown",
      "metadata": {
        "id": "RbDpK-oMMgtv"
      },
      "source": [
        "### Xác định độ quan trọng của các features?"
      ]
    },
    {
      "cell_type": "code",
      "metadata": {
        "colab": {
          "base_uri": "https://localhost:8080/"
        },
        "id": "viyJWOnUMkJI",
        "outputId": "6dee5b7b-34e5-4844-dd7a-47a743dbaca0"
      },
      "source": [
        "nums_top = 80\r\n",
        "pd_playlists_top = pd_playlists.copy()\r\n",
        "pd_playlists_top = pd_playlists_top.sort_values(by = 'num_tracks', ascending=False)\r\n",
        "pd_playlists_top = pd_playlists_top[:nums_top]\r\n",
        "pd_playlists_top.shape"
      ],
      "execution_count": 9,
      "outputs": [
        {
          "output_type": "execute_result",
          "data": {
            "text/plain": [
              "(80, 5)"
            ]
          },
          "metadata": {
            "tags": []
          },
          "execution_count": 9
        }
      ]
    },
    {
      "cell_type": "code",
      "metadata": {
        "id": "6MmTlzeHNj01"
      },
      "source": [
        "pd_tracks_copy = pd.read_csv(path_tracks, sep = '\\t')\r\n",
        "pd_tracks_copy.head()\r\n",
        "\r\n",
        "pd_tracks_copy = pd.merge(pd_tracks_copy, pd_audio_feats, left_on = 'track_id', right_on = 'id')\r\n",
        "pd_tracks_copy = pd_tracks_copy.drop('id', 1)\r\n",
        "\r\n",
        "pd_full_top = pd.merge(pd_tracks_copy, pd_playlists_top, left_on = 'playlist_id', right_on = 'playlist_id')\r\n",
        "\r\n",
        "pd_full_top = pd_full_top.drop('playlist_name_y', 1)\r\n"
      ],
      "execution_count": 10,
      "outputs": []
    },
    {
      "cell_type": "code",
      "metadata": {
        "id": "6RjrNKn9N-4Q"
      },
      "source": [
        "le = preprocessing.LabelEncoder()\r\n",
        "le.fit(pd_full_top['playlist_id'])\r\n",
        "pd_full_top['playlist_id_label'] = le.transform(pd_full_top['playlist_id'])"
      ],
      "execution_count": 11,
      "outputs": []
    },
    {
      "cell_type": "code",
      "metadata": {
        "id": "Hks0sRdEOLRW"
      },
      "source": [
        "omit_feats = ['track_id', 'track_name', 'playlist_id', 'playlist_name_x','artist_ids', 'artist_names', 'album_id', 'album_name', 'analysis_url', 'time_signature', 'description', 'num_followers', 'num_tracks']\r\n",
        "pd_full_top = pd_full_top.drop(omit_feats, 1)"
      ],
      "execution_count": 12,
      "outputs": []
    },
    {
      "cell_type": "markdown",
      "metadata": {
        "id": "fqX36pmSRb1v"
      },
      "source": [
        "**Ý tưởng**:\r\n",
        "\r\n",
        "Model 1: LightGBM"
      ]
    },
    {
      "cell_type": "code",
      "metadata": {
        "id": "x_XO4WO9Oc2i"
      },
      "source": [
        "clf = lgb.LGBMClassifier(class_weight='balanced',drop_rate=0.9, min_data_in_leaf=100, max_bin=255,\r\n",
        "                                 n_estimators=500,min_sum_hessian_in_leaf=1,importance_type='gain',learning_rate=0.1,bagging_fraction = 0.85,\r\n",
        "                                 colsample_bytree = 1.0,feature_fraction = 0.1,lambda_l1 = 5.0,lambda_l2 = 3.0,max_depth =  9,\r\n",
        "                                 min_child_samples = 55,min_child_weight = 5.0,min_split_gain = 0.1,num_leaves = 45,subsample = 0.75)  \r\n",
        "\r\n",
        "X = pd_full_top.drop('playlist_id_label', 1)\r\n",
        "y = pd_full_top['playlist_id_label']"
      ],
      "execution_count": 13,
      "outputs": []
    },
    {
      "cell_type": "code",
      "metadata": {
        "colab": {
          "base_uri": "https://localhost:8080/"
        },
        "id": "lbj-hObdOc5o",
        "outputId": "bbdbd67b-f7de-4e33-b904-02030a480b1b"
      },
      "source": [
        "clf.fit(X, y, verbose=True)"
      ],
      "execution_count": 14,
      "outputs": [
        {
          "output_type": "execute_result",
          "data": {
            "text/plain": [
              "LGBMClassifier(bagging_fraction=0.85, boosting_type='gbdt',\n",
              "               class_weight='balanced', colsample_bytree=1.0, drop_rate=0.9,\n",
              "               feature_fraction=0.1, importance_type='gain', lambda_l1=5.0,\n",
              "               lambda_l2=3.0, learning_rate=0.1, max_bin=255, max_depth=9,\n",
              "               min_child_samples=55, min_child_weight=5.0, min_data_in_leaf=100,\n",
              "               min_split_gain=0.1, min_sum_hessian_in_leaf=1, n_estimators=500,\n",
              "               n_jobs=-1, num_leaves=45, objective=None, random_state=None,\n",
              "               reg_alpha=0.0, reg_lambda=0.0, silent=True, subsample=0.75,\n",
              "               subsample_for_bin=200000, subsample_freq=0)"
            ]
          },
          "metadata": {
            "tags": []
          },
          "execution_count": 14
        }
      ]
    },
    {
      "cell_type": "code",
      "metadata": {
        "colab": {
          "base_uri": "https://localhost:8080/",
          "height": 570
        },
        "id": "E5kWnStFOc8Q",
        "outputId": "f864181e-6783-4985-bfb6-80a7457ac166"
      },
      "source": [
        "# sorted(zip(clf.feature_importances_, X.columns), reverse=True)\r\n",
        "feature_imp = pd.DataFrame(sorted(zip(clf.feature_importances_,X.columns)), columns=['Value','Feature'])\r\n",
        "\r\n",
        "plt.figure(figsize=(20, 10))\r\n",
        "sns.barplot(x=\"Value\", y=\"Feature\", data=feature_imp.sort_values(by=\"Value\", ascending=False))\r\n",
        "plt.title('LightGBM Features')\r\n",
        "plt.tight_layout()\r\n",
        "plt.show()"
      ],
      "execution_count": 15,
      "outputs": [
        {
          "output_type": "display_data",
          "data": {
            "image/png": "[encoded data removed]",
            "text/plain": [
              "<Figure size 1440x720 with 1 Axes>"
            ]
          },
          "metadata": {
            "tags": [],
            "needs_background": "light"
          }
        }
      ]
    },
    {
      "cell_type": "markdown",
      "metadata": {
        "id": "vO1NZNYwXG4S"
      },
      "source": [
        "**Sử dụng model ExtraTreesClassifier**"
      ]
    },
    {
      "cell_type": "code",
      "metadata": {
        "colab": {
          "base_uri": "https://localhost:8080/"
        },
        "id": "kr1R8HACOc-7",
        "outputId": "3ab37c3f-a5eb-4283-eac1-8362ca835104"
      },
      "source": [
        "model = ExtraTreesClassifier()\r\n",
        "model.fit(X,y)"
      ],
      "execution_count": 16,
      "outputs": [
        {
          "output_type": "execute_result",
          "data": {
            "text/plain": [
              "ExtraTreesClassifier(bootstrap=False, ccp_alpha=0.0, class_weight=None,\n",
              "                     criterion='gini', max_depth=None, max_features='auto',\n",
              "                     max_leaf_nodes=None, max_samples=None,\n",
              "                     min_impurity_decrease=0.0, min_impurity_split=None,\n",
              "                     min_samples_leaf=1, min_samples_split=2,\n",
              "                     min_weight_fraction_leaf=0.0, n_estimators=100,\n",
              "                     n_jobs=None, oob_score=False, random_state=None, verbose=0,\n",
              "                     warm_start=False)"
            ]
          },
          "metadata": {
            "tags": []
          },
          "execution_count": 16
        }
      ]
    },
    {
      "cell_type": "code",
      "metadata": {
        "colab": {
          "base_uri": "https://localhost:8080/",
          "height": 749
        },
        "id": "_MpRJ6U4OdBe",
        "outputId": "1a0a68e8-7acb-4619-c0ad-f84f6d090f8b"
      },
      "source": [
        "# sorted(zip(clf.feature_importances_, X.columns), reverse=True)\r\n",
        "feature_imp = pd.DataFrame(sorted(zip(model.feature_importances_,X.columns)), columns=['Value','Feature'])\r\n",
        "\r\n",
        "plt.figure(figsize=(20, 10))\r\n",
        "sns.barplot(x=\"Value\", y=\"Feature\", data=feature_imp.sort_values(by=\"Value\", ascending=False))\r\n",
        "plt.title('ExtraTreesClassifier Features')\r\n",
        "plt.tight_layout()\r\n",
        "plt.show()"
      ],
      "execution_count": 17,
      "outputs": [
        {
          "output_type": "display_data",
          "data": {
            "image/png": "[encoded data removed]",
            "text/plain": [
              "<Figure size 1440x720 with 1 Axes>"
            ]
          },
          "metadata": {
            "tags": [],
            "needs_background": "light"
          }
        }
      ]
    },
    {
      "cell_type": "markdown",
      "metadata": {
        "id": "pmXlSO1edrRr"
      },
      "source": [
        "Ở đây nhóm em quyết định sử dụng các top 4 features quan trọng nhất của mỗi model bao gồm:\r\n",
        "\r\n"
      ]
    },
    {
      "cell_type": "markdown",
      "metadata": {
        "id": "FvjDMR8Ubhj6"
      },
      "source": [
        "## Improvement of baseline model"
      ]
    },
    {
      "cell_type": "code",
      "metadata": {
        "id": "cE6nZTAed2v7"
      },
      "source": [
        "features = ['loudness', 'acousticness', 'track_duration_ms', 'speechiness', 'danceability', 'loudness', 'energy', 'danceability']"
      ],
      "execution_count": 55,
      "outputs": []
    },
    {
      "cell_type": "code",
      "metadata": {
        "id": "9Z0Nj-AZptwO"
      },
      "source": [
        "fraction = 3\r\n",
        "track_id_all = generate_playlists(pd_tracks, pd_playlists)\r\n",
        "track_id_test = generate_testcases(track_id_all, fraction = fraction)"
      ],
      "execution_count": 56,
      "outputs": []
    },
    {
      "cell_type": "code",
      "metadata": {
        "id": "0Avpo5shDRa4"
      },
      "source": [
        "all_playlistID_for_tests = list(track_id_test.keys())"
      ],
      "execution_count": 57,
      "outputs": []
    },
    {
      "cell_type": "code",
      "metadata": {
        "id": "GcdL30gn5OJx"
      },
      "source": [
        "pd_full_tests = pd_full.copy()\r\n",
        "pd_full_tests = pd_full_tests[pd_full_tests['playlist_id'].isin(all_playlistID_for_tests)]"
      ],
      "execution_count": 58,
      "outputs": []
    },
    {
      "cell_type": "code",
      "metadata": {
        "id": "lxgeLpaKdWvq"
      },
      "source": [
        "def multi_feats_baseline(tracks, df, n_pred, feats):\r\n",
        "    recs_id = []\r\n",
        "    for t in tracks:\r\n",
        "      sum_feat_values = 0\r\n",
        "      for feat in feats:\r\n",
        "        feat_values = df[df['track_id'] == t][feat]\r\n",
        "        sum_feat_values = sum_feat_values + np.abs(df[feat] - feat_values.values[0]) ** len(feats)\r\n",
        "      \r\n",
        "      df['rec_df_feats'] = sum_feat_values ** (1 / len(feats))\r\n",
        "      one_recs_id = list(df.sort_values(by=['rec_df_feats'])['track_id'][1:].values)\r\n",
        "      recs_id.extend([track for track in one_recs_id if track not in tracks][0:n_pred])\r\n",
        "\r\n",
        "    preds = collections.Counter(recs_id).most_common(n_pred)\r\n",
        "    pred_titles = [p[0] for p in preds]\r\n",
        "\r\n",
        "    tracks_name = []\r\n",
        "    for id_track in pred_titles:\r\n",
        "      tracks_name.extend(list(np.unique(df[df['track_id'] == id_track]['track_name'].values)))\r\n",
        "\r\n",
        "    return pred_titles, tracks_name"
      ],
      "execution_count": 59,
      "outputs": []
    },
    {
      "cell_type": "markdown",
      "metadata": {
        "id": "Y65uWTRw-5uf"
      },
      "source": [
        "**Bây giờ ta sẽ thử test phương pháp này trên playlist đầu tiên của tập test**"
      ]
    },
    {
      "cell_type": "code",
      "metadata": {
        "id": "nAwfdWhO-9RK"
      },
      "source": [
        "playlists_to_test = all_playlistID_for_tests[0]"
      ],
      "execution_count": 60,
      "outputs": []
    },
    {
      "cell_type": "code",
      "metadata": {
        "id": "mFPf_y8g-9lQ"
      },
      "source": [
        "all_name_songs = list(pd_full[pd_full['track_id'].isin(track_id_all[playlists_to_test])]['track_name'].values)\r\n",
        "given_songs_name = list(pd_full[pd_full['track_id'].isin(track_id_test[playlists_to_test])]['track_name'].values)"
      ],
      "execution_count": 61,
      "outputs": []
    },
    {
      "cell_type": "code",
      "metadata": {
        "id": "snXY4grr-9nf"
      },
      "source": [
        "track_id_result, track_name_result = multi_feats_baseline(track_id_test[playlists_to_test], pd_full_tests, len(track_id_all[playlists_to_test])-len(track_id_test[playlists_to_test]), features)"
      ],
      "execution_count": 62,
      "outputs": []
    },
    {
      "cell_type": "code",
      "metadata": {
        "colab": {
          "base_uri": "https://localhost:8080/"
        },
        "id": "ftbsdUL_-9ps",
        "outputId": "20cfb461-1333-4af0-95e6-3d61939f5b90"
      },
      "source": [
        "print('Songs given: ', given_songs_name, '\\n')\r\n",
        "print('Songs recommended: ', track_name_result, '\\n')"
      ],
      "execution_count": 63,
      "outputs": [
        {
          "output_type": "stream",
          "text": [
            "Songs given:  ['101', 'The Less I Know The Better', 'The Less I Know The Better', 'Feeling Ok', 'Fire', 'Fire', 'Temporary Love', 'Mountain at My Gates', 'Fire', 'Tilted', 'Feeling Ok', 'Winterbreak', 'Our Own House', '101', 'The Less I Know The Better', 'Temporary Love', 'Mountain at My Gates', 'Mountain at My Gates', 'Never Going Home', 'Honey', 'Feeling Ok', 'Winterbreak', 'Underdressed', 'The Less I Know The Better', 'Ophelia', 'The Less I Know The Better', 'Temporary Love', 'Mountain at My Gates', 'Fire', 'Under the Sun', 'Tilted', 'Ophelia', 'Tired of Talking', 'Never Going Home', 'Honey', 'Feeling Ok', 'Winterbreak', 'Underdressed', 'All We Ever Knew', 'Our Own House', '101', 'All We Ever Knew', 'Under the Sun', 'Tilted', 'Tired of Talking', 'Ophelia', 'Our Own House', 'Our Own House'] \n",
            "\n",
            "Songs recommended:  ['Jonny Boy', \"You're Beautiful\", 'Lost Cowboys', 'What You Know Bout Love', 'Moor', 'Cruise', 'Forget Me Knots (feat. Dublin Gospel Choir)', 'XO', 'Kiss Me', 'In The Flesh? (The Wall Work In Progress, Pt. 1, 1979) [Programme 3] [Band Demo] - 2011 Remastered Version', 'Summer', 'No One', 'The Logical Song - Remastered 2010', 'State Of The Art', 'First We Take Manhattan - Digitally Remastered', 'I Dare You', 'That Smell', 'Trouble', '2 Become 1', 'Karma Police', 'Regret - 2015 Remaster', 'Always Be My Baby', 'Crystalised', 'Cheek to Cheek', 'She Looks So Perfect', 'She Was a Doorman', 'Only for You', 'Who Let The Dogs Out', 'All Summer Long', 'Ramuloo Ramulaa - Duet', 'Run Run Rudolph', 'Million Miles An Hour', 'Filthy Rich - Jodie Harsh Is Broke Dub Mix', 'PROGRESSO'] \n",
            "\n"
          ],
          "name": "stdout"
        }
      ]
    },
    {
      "cell_type": "markdown",
      "metadata": {
        "id": "sbvSjf7xA-A_"
      },
      "source": [
        "**Kiểm tra độ chính xác trên testcase đầu tiên**"
      ]
    },
    {
      "cell_type": "code",
      "metadata": {
        "id": "9QekUXNL-9rv"
      },
      "source": [
        "track_name_result.extend(given_songs_name)"
      ],
      "execution_count": 64,
      "outputs": []
    },
    {
      "cell_type": "code",
      "metadata": {
        "colab": {
          "base_uri": "https://localhost:8080/"
        },
        "id": "GZP2UyDX-9t_",
        "outputId": "a2644de4-a373-433b-b501-70dc9fa259c2"
      },
      "source": [
        "r_score = r_precision(track_name_result, all_name_songs)\r\n",
        "print(f'r_score: {r_score}')"
      ],
      "execution_count": 65,
      "outputs": [
        {
          "output_type": "stream",
          "text": [
            "r_score: 0.32653061224489793\n"
          ],
          "name": "stdout"
        }
      ]
    },
    {
      "cell_type": "markdown",
      "metadata": {
        "id": "0K3a28WwINkv"
      },
      "source": [
        "**Bây giờ ta sẽ sử dụng tất cả 100 playlists trong bộ test để đánh giá**"
      ]
    },
    {
      "cell_type": "code",
      "metadata": {
        "id": "HSDUxmh--9vx"
      },
      "source": [
        "def test_multi_feats(pd_full, track_id_all, track_id_test, all_playlistID_for_tests, features, fraction = 5):\r\n",
        "  r_score = []\r\n",
        "\r\n",
        "  for each_playlist in all_playlistID_for_tests:\r\n",
        "    track_id_result, track_name_result = multi_feats_baseline(track_id_test[each_playlist], pd_full, len(track_id_all[each_playlist])-len(track_id_test[each_playlist]),features)\r\n",
        "    \r\n",
        "    all_name_songs = list(pd_full[pd_full['track_id'].isin(track_id_all[each_playlist])]['track_name'].values)\r\n",
        "    given_songs_name = list(pd_full[pd_full['track_id'].isin(track_id_test[each_playlist])]['track_name'].values) \r\n",
        "\r\n",
        "    track_name_result.extend(given_songs_name)\r\n",
        "    r_score.append(r_precision(track_name_result, all_name_songs))\r\n",
        "\r\n",
        "  print(\"Average R precision: \" + str(np.mean(r_score)))\r\n",
        "  print(\"Max R precision: \" + str(np.max(r_score)))"
      ],
      "execution_count": 66,
      "outputs": []
    },
    {
      "cell_type": "code",
      "metadata": {
        "colab": {
          "base_uri": "https://localhost:8080/"
        },
        "id": "-UOqYmJc-91H",
        "outputId": "cd4044fb-2afe-4570-caa9-13777ac4eb57"
      },
      "source": [
        "test_multi_feats(pd_full_tests, track_id_all, track_id_test, all_playlistID_for_tests, features, fraction)"
      ],
      "execution_count": 67,
      "outputs": [
        {
          "output_type": "stream",
          "text": [
            "Average R precision: 0.3304913874668725\n",
            "Max R precision: 0.38372093023255816\n"
          ],
          "name": "stdout"
        }
      ]
    },
    {
      "cell_type": "markdown",
      "metadata": {
        "id": "ZMhpjmn7JFCl"
      },
      "source": [
        "**Bây giờ ta sẽ cho nhiều giá trị fraction khác nhau để vẽ biểu đồ**"
      ]
    },
    {
      "cell_type": "code",
      "metadata": {
        "colab": {
          "base_uri": "https://localhost:8080/"
        },
        "id": "nMegEO7wIbbR",
        "outputId": "dff115c1-3a7d-4127-ddff-bb79e1dcab01"
      },
      "source": [
        "fraction = list(np.arange(1, 10))\r\n",
        "fraction"
      ],
      "execution_count": 54,
      "outputs": [
        {
          "output_type": "execute_result",
          "data": {
            "text/plain": [
              "[1, 2, 3, 4, 5, 6, 7, 8, 9]"
            ]
          },
          "metadata": {
            "tags": []
          },
          "execution_count": 54
        }
      ]
    },
    {
      "cell_type": "markdown",
      "metadata": {
        "id": "Xk4S_9nWKhDW"
      },
      "source": [
        "**Nhận xét về mỗi model với các fraction khác nhau, so sánh 2 models với các fractions khác nhau, sử dụng nhiều features khác nhau (số lượng các features sử dụng, v.v).**"
      ]
    }
  ]
}