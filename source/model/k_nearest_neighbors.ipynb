{
  "nbformat": 4,
  "nbformat_minor": 0,
  "metadata": {
    "colab": {
      "name": "k-nearest-neighbors.ipynb",
      "provenance": [],
      "collapsed_sections": [],
      "toc_visible": true
    },
    "kernelspec": {
      "name": "python3",
      "display_name": "Python 3"
    }
  },
  "cells": [
    {
      "cell_type": "code",
      "metadata": {
        "id": "3Ox07YU_VApc"
      },
      "source": [
        "import json\r\n",
        "import pandas as pd\r\n",
        "import numpy as np  \r\n",
        "import os\r\n",
        "import random\r\n",
        "\r\n",
        "from metric import r_precision, dcg_at_k, ndcg_at_k\r\n",
        "from utils import generate_playlists, generate_testcases\r\n",
        "\r\n",
        "from numpy import linalg as LA\r\n",
        "\r\n",
        "import sklearn\r\n",
        "from sklearn.metrics.pairwise import cosine_similarity\r\n",
        "from sklearn.model_selection import train_test_split\r\n",
        "from sklearn import preprocessing\r\n",
        "from sklearn.preprocessing import MinMaxScaler\r\n",
        "from sklearn.ensemble import ExtraTreesClassifier\r\n",
        "from sklearn.model_selection import train_test_split\r\n",
        "from sklearn.cluster import KMeans\r\n",
        "\r\n",
        "import matplotlib.pyplot as plt\r\n",
        "import seaborn as sns\r\n",
        "import collections\r\n",
        "\r\n",
        "import lightgbm as lgb\r\n",
        "\r\n",
        "import warnings\r\n",
        "warnings.simplefilter(action='ignore', category=FutureWarning)"
      ],
      "execution_count": 28,
      "outputs": []
    },
    {
      "cell_type": "code",
      "metadata": {
        "id": "MYbDEUH6blG6"
      },
      "source": [
        "path_to_data = '/content/drive/MyDrive/DO_AN_KHDL/DATA'\r\n",
        "path_audio_feats = os.path.join(path_to_data, 'audio_features.tsv')\r\n",
        "path_playlists = os.path.join(path_to_data, 'playlists.tsv')\r\n",
        "path_tracks = os.path.join(path_to_data, 'tracks.tsv')"
      ],
      "execution_count": 29,
      "outputs": []
    },
    {
      "cell_type": "code",
      "metadata": {
        "id": "Oen2tLuOblLn"
      },
      "source": [
        "pd_audio_feats = pd.read_csv(path_audio_feats, sep = '\\t')\r\n",
        "pd_tracks = pd.read_csv(path_tracks, sep = '\\t')\r\n",
        "pd_playlists = pd.read_csv(path_playlists, sep = '\\t')\r\n",
        "pd_playlists = pd_playlists.fillna('None')"
      ],
      "execution_count": 30,
      "outputs": []
    },
    {
      "cell_type": "code",
      "metadata": {
        "id": "9AaHwCK_blN3"
      },
      "source": [
        "pd_tracks = pd.merge(pd_tracks, pd_audio_feats, left_on = 'track_id', right_on = 'id')\r\n",
        "pd_full = pd.merge(pd_tracks, pd_playlists, left_on = 'playlist_id', right_on = 'playlist_id')\r\n",
        "\r\n",
        "pd_tracks = pd_tracks.drop('id', 1)\r\n",
        "pd_full = pd_full.drop('playlist_name_y', 1)\r\n",
        "pd_full = pd_full.drop('id', 1)"
      ],
      "execution_count": 31,
      "outputs": []
    },
    {
      "cell_type": "code",
      "metadata": {
        "colab": {
          "base_uri": "https://localhost:8080/"
        },
        "id": "sq_trfrGbysH",
        "outputId": "b053ba89-1604-4d9a-dc3e-4f6c487e3eb4"
      },
      "source": [
        "pd_full.shape"
      ],
      "execution_count": 32,
      "outputs": [
        {
          "output_type": "execute_result",
          "data": {
            "text/plain": [
              "(86400, 27)"
            ]
          },
          "metadata": {
            "tags": []
          },
          "execution_count": 32
        }
      ]
    },
    {
      "cell_type": "code",
      "metadata": {
        "id": "x7ORw-zdbu83"
      },
      "source": [
        "#Thông tin rỗng là discription, ta có thể chỉ điền vào \"None\"\r\n",
        "pd_full = pd_full.fillna('None')"
      ],
      "execution_count": 33,
      "outputs": []
    },
    {
      "cell_type": "code",
      "metadata": {
        "id": "JXm0SU6DblPw"
      },
      "source": [
        "#Kiểm tra và bỏ giá trị trùng lặp\r\n",
        "pd_full = pd_full.drop_duplicates()"
      ],
      "execution_count": 34,
      "outputs": []
    },
    {
      "cell_type": "code",
      "metadata": {
        "id": "e6pxHMGumU2x"
      },
      "source": [
        "pd_full['available_markets'] = pd_full['available_markets'].apply(lambda x : x[1:-1].split(', '))\r\n",
        "pd_full['count_available_markets'] = pd_full['available_markets'].apply(lambda x : len(x))"
      ],
      "execution_count": 35,
      "outputs": []
    },
    {
      "cell_type": "code",
      "metadata": {
        "colab": {
          "base_uri": "https://localhost:8080/"
        },
        "id": "UgE-13NgblRX",
        "outputId": "c8cb9ecf-4479-4160-86f0-d2871bb25e91"
      },
      "source": [
        "pd_full.shape"
      ],
      "execution_count": 36,
      "outputs": [
        {
          "output_type": "execute_result",
          "data": {
            "text/plain": [
              "(86350, 28)"
            ]
          },
          "metadata": {
            "tags": []
          },
          "execution_count": 36
        }
      ]
    },
    {
      "cell_type": "code",
      "metadata": {
        "colab": {
          "base_uri": "https://localhost:8080/",
          "height": 484
        },
        "id": "CqdUrzNRmTtN",
        "outputId": "cb54e6a0-ce36-4b2c-fb64-511afc0f0adb"
      },
      "source": [
        "pd_full.head()"
      ],
      "execution_count": 37,
      "outputs": [
        {
          "output_type": "execute_result",
          "data": {
            "text/html": [
              "<div>\n",
              "<style scoped>\n",
              "    .dataframe tbody tr th:only-of-type {\n",
              "        vertical-align: middle;\n",
              "    }\n",
              "\n",
              "    .dataframe tbody tr th {\n",
              "        vertical-align: top;\n",
              "    }\n",
              "\n",
              "    .dataframe thead th {\n",
              "        text-align: right;\n",
              "    }\n",
              "</style>\n",
              "<table border=\"1\" class=\"dataframe\">\n",
              "  <thead>\n",
              "    <tr style=\"text-align: right;\">\n",
              "      <th></th>\n",
              "      <th>track_id</th>\n",
              "      <th>track_name</th>\n",
              "      <th>playlist_id</th>\n",
              "      <th>playlist_name_x</th>\n",
              "      <th>artist_ids</th>\n",
              "      <th>artist_names</th>\n",
              "      <th>album_id</th>\n",
              "      <th>album_name</th>\n",
              "      <th>track_duration_ms</th>\n",
              "      <th>danceability</th>\n",
              "      <th>energy</th>\n",
              "      <th>key</th>\n",
              "      <th>loudness</th>\n",
              "      <th>mode</th>\n",
              "      <th>speechiness</th>\n",
              "      <th>acousticness</th>\n",
              "      <th>instrumentalness</th>\n",
              "      <th>liveness</th>\n",
              "      <th>valence</th>\n",
              "      <th>tempo</th>\n",
              "      <th>analysis_url</th>\n",
              "      <th>time_signature</th>\n",
              "      <th>available_markets</th>\n",
              "      <th>popularity</th>\n",
              "      <th>description</th>\n",
              "      <th>num_tracks</th>\n",
              "      <th>num_followers</th>\n",
              "      <th>count_available_markets</th>\n",
              "    </tr>\n",
              "  </thead>\n",
              "  <tbody>\n",
              "    <tr>\n",
              "      <th>0</th>\n",
              "      <td>463CkQjx2Zk1yXoBuierM9</td>\n",
              "      <td>Levitating (feat. DaBaby)</td>\n",
              "      <td>37i9dQZF1DXcBWIGoYBM5M</td>\n",
              "      <td>Today's Top Hits</td>\n",
              "      <td>['6M2wZ9GZgrQXHCFfjv46we', '4r63FhuTkUYltbVAg5...</td>\n",
              "      <td>['Dua Lipa', 'DaBaby']</td>\n",
              "      <td>04m06KhJUuwe1Q487puIud</td>\n",
              "      <td>Levitating (feat. DaBaby)</td>\n",
              "      <td>203064</td>\n",
              "      <td>0.702</td>\n",
              "      <td>0.825</td>\n",
              "      <td>6</td>\n",
              "      <td>-3.787</td>\n",
              "      <td>0</td>\n",
              "      <td>0.0601</td>\n",
              "      <td>0.00883</td>\n",
              "      <td>0.00000</td>\n",
              "      <td>0.0674</td>\n",
              "      <td>0.915</td>\n",
              "      <td>102.977</td>\n",
              "      <td>https://api.spotify.com/v1/audio-analysis/463C...</td>\n",
              "      <td>4</td>\n",
              "      <td>['AD', 'AE', 'AL', 'AR', 'AU', 'BA', 'BE', 'BG...</td>\n",
              "      <td>90</td>\n",
              "      <td>Dua Lipa &amp; DaBaby are on top of the Hottest 50!</td>\n",
              "      <td>50</td>\n",
              "      <td>27084233</td>\n",
              "      <td>88</td>\n",
              "    </tr>\n",
              "    <tr>\n",
              "      <th>1</th>\n",
              "      <td>7igeByaBM0MgGsgXtNxDJ7</td>\n",
              "      <td>positions</td>\n",
              "      <td>37i9dQZF1DXcBWIGoYBM5M</td>\n",
              "      <td>Today's Top Hits</td>\n",
              "      <td>['66CXWjxzNUsdJxJ2JdwvnR']</td>\n",
              "      <td>['Ariana Grande']</td>\n",
              "      <td>3jqEvfiu2ENgmgzZq27zbi</td>\n",
              "      <td>positions</td>\n",
              "      <td>172324</td>\n",
              "      <td>0.736</td>\n",
              "      <td>0.802</td>\n",
              "      <td>0</td>\n",
              "      <td>-4.759</td>\n",
              "      <td>1</td>\n",
              "      <td>0.0864</td>\n",
              "      <td>0.46800</td>\n",
              "      <td>0.00000</td>\n",
              "      <td>0.0940</td>\n",
              "      <td>0.675</td>\n",
              "      <td>144.005</td>\n",
              "      <td>https://api.spotify.com/v1/audio-analysis/7ige...</td>\n",
              "      <td>4</td>\n",
              "      <td>[]</td>\n",
              "      <td>76</td>\n",
              "      <td>Dua Lipa &amp; DaBaby are on top of the Hottest 50!</td>\n",
              "      <td>50</td>\n",
              "      <td>27084233</td>\n",
              "      <td>1</td>\n",
              "    </tr>\n",
              "    <tr>\n",
              "      <th>2</th>\n",
              "      <td>0lx2cLdOt3piJbcaXIV74f</td>\n",
              "      <td>willow</td>\n",
              "      <td>37i9dQZF1DXcBWIGoYBM5M</td>\n",
              "      <td>Today's Top Hits</td>\n",
              "      <td>['06HL4z0CvFAxyc27GXpf02']</td>\n",
              "      <td>['Taylor Swift']</td>\n",
              "      <td>2Xoteh7uEpea4TohMxjtaq</td>\n",
              "      <td>evermore</td>\n",
              "      <td>214706</td>\n",
              "      <td>0.392</td>\n",
              "      <td>0.574</td>\n",
              "      <td>7</td>\n",
              "      <td>-9.195</td>\n",
              "      <td>1</td>\n",
              "      <td>0.1700</td>\n",
              "      <td>0.83300</td>\n",
              "      <td>0.00179</td>\n",
              "      <td>0.1450</td>\n",
              "      <td>0.529</td>\n",
              "      <td>81.112</td>\n",
              "      <td>https://api.spotify.com/v1/audio-analysis/0lx2...</td>\n",
              "      <td>4</td>\n",
              "      <td>['AD', 'AE', 'AL', 'AR', 'AT', 'AU', 'BA', 'BE...</td>\n",
              "      <td>91</td>\n",
              "      <td>Dua Lipa &amp; DaBaby are on top of the Hottest 50!</td>\n",
              "      <td>50</td>\n",
              "      <td>27084233</td>\n",
              "      <td>91</td>\n",
              "    </tr>\n",
              "    <tr>\n",
              "      <th>3</th>\n",
              "      <td>2Z8yfpFX0ZMavHkcIeHiO1</td>\n",
              "      <td>Monster (Shawn Mendes &amp; Justin Bieber)</td>\n",
              "      <td>37i9dQZF1DXcBWIGoYBM5M</td>\n",
              "      <td>Today's Top Hits</td>\n",
              "      <td>['7n2wHs1TKAczGzO7Dd2rGr', '1uNFoZAHBGtllmzznp...</td>\n",
              "      <td>['Shawn Mendes', 'Justin Bieber']</td>\n",
              "      <td>3yVVL2EYLp8g7gT08VvYKy</td>\n",
              "      <td>Monster</td>\n",
              "      <td>178994</td>\n",
              "      <td>0.652</td>\n",
              "      <td>0.383</td>\n",
              "      <td>2</td>\n",
              "      <td>-7.076</td>\n",
              "      <td>0</td>\n",
              "      <td>0.0516</td>\n",
              "      <td>0.06760</td>\n",
              "      <td>0.00000</td>\n",
              "      <td>0.0828</td>\n",
              "      <td>0.549</td>\n",
              "      <td>145.765</td>\n",
              "      <td>https://api.spotify.com/v1/audio-analysis/2Z8y...</td>\n",
              "      <td>4</td>\n",
              "      <td>['AD', 'AE', 'AL', 'AR', 'AT', 'AU', 'BA', 'BE...</td>\n",
              "      <td>93</td>\n",
              "      <td>Dua Lipa &amp; DaBaby are on top of the Hottest 50!</td>\n",
              "      <td>50</td>\n",
              "      <td>27084233</td>\n",
              "      <td>91</td>\n",
              "    </tr>\n",
              "    <tr>\n",
              "      <th>4</th>\n",
              "      <td>6zFMeegAMYQo0mt8rXtrli</td>\n",
              "      <td>HOLIDAY</td>\n",
              "      <td>37i9dQZF1DXcBWIGoYBM5M</td>\n",
              "      <td>Today's Top Hits</td>\n",
              "      <td>['7jVv8c5Fj3E9VhNjxT4snq']</td>\n",
              "      <td>['Lil Nas X']</td>\n",
              "      <td>4EvukZrmNBiqJbs3LwOSHu</td>\n",
              "      <td>HOLIDAY</td>\n",
              "      <td>154997</td>\n",
              "      <td>0.810</td>\n",
              "      <td>0.511</td>\n",
              "      <td>5</td>\n",
              "      <td>-6.924</td>\n",
              "      <td>0</td>\n",
              "      <td>0.1640</td>\n",
              "      <td>0.12000</td>\n",
              "      <td>0.00000</td>\n",
              "      <td>0.0832</td>\n",
              "      <td>0.837</td>\n",
              "      <td>151.947</td>\n",
              "      <td>https://api.spotify.com/v1/audio-analysis/6zFM...</td>\n",
              "      <td>4</td>\n",
              "      <td>['AD', 'AE', 'AL', 'AR', 'AT', 'AU', 'BA', 'BE...</td>\n",
              "      <td>93</td>\n",
              "      <td>Dua Lipa &amp; DaBaby are on top of the Hottest 50!</td>\n",
              "      <td>50</td>\n",
              "      <td>27084233</td>\n",
              "      <td>92</td>\n",
              "    </tr>\n",
              "  </tbody>\n",
              "</table>\n",
              "</div>"
            ],
            "text/plain": [
              "                 track_id  ... count_available_markets\n",
              "0  463CkQjx2Zk1yXoBuierM9  ...                      88\n",
              "1  7igeByaBM0MgGsgXtNxDJ7  ...                       1\n",
              "2  0lx2cLdOt3piJbcaXIV74f  ...                      91\n",
              "3  2Z8yfpFX0ZMavHkcIeHiO1  ...                      91\n",
              "4  6zFMeegAMYQo0mt8rXtrli  ...                      92\n",
              "\n",
              "[5 rows x 28 columns]"
            ]
          },
          "metadata": {
            "tags": []
          },
          "execution_count": 37
        }
      ]
    },
    {
      "cell_type": "markdown",
      "metadata": {
        "id": "SscakrgEXzlB"
      },
      "source": [
        "## k-nearest-neighbors"
      ]
    },
    {
      "cell_type": "markdown",
      "metadata": {
        "id": "jk_fYj20JIKr"
      },
      "source": [
        "**Ý tưởng model**: Với mỗi input là playlist hiện có **N** bài hát, ta sẽ sử dụng tất cả các đặc trưng số thực của mỗi bài hát (danceability, energy, key, loudness, v.v.) để đại diện cho mỗi bài. *Thuật toán*: \r\n",
        "\r\n",
        "- Tính trung bình các giá trị đặc trưng số thực trên của tất cả **N** bài hát, ta coi bài hát mang giá trị trung bình này là **mean song**. \r\n",
        "\r\n",
        "- Tìm k người hàng xóm gần nhất (k-nearest-neighbors) (khoảng cách norm-t gần nhất tính trên tất cả các features, t là số features sử dụng) từ database của **mean song**.\r\n",
        "\r\n",
        "- Thực hiện đề xuất các bài hát từ k người hàng xóm này theo độ ưu tiên: **'tần suất xuất hiện', 'độ phổ biến'** (đặc trưng **popularity**)."
      ]
    },
    {
      "cell_type": "markdown",
      "metadata": {
        "id": "tEP4ys8dGLoM"
      },
      "source": [
        "### create test-cases"
      ]
    },
    {
      "cell_type": "code",
      "metadata": {
        "id": "rsOHlbJIm0fg"
      },
      "source": [
        "fraction = 3\r\n",
        "nums_playlists_test = 100\r\n",
        "\r\n",
        "track_id_all = generate_playlists(pd_full, pd_playlists, nums_playlists_to_test = nums_playlists_test)\r\n",
        "track_id_test = generate_testcases(track_id_all, fraction = fraction)"
      ],
      "execution_count": 38,
      "outputs": []
    },
    {
      "cell_type": "code",
      "metadata": {
        "id": "z9__2C4bm0h3"
      },
      "source": [
        "all_playlistID_for_tests = list(track_id_test.keys())"
      ],
      "execution_count": 39,
      "outputs": []
    },
    {
      "cell_type": "code",
      "metadata": {
        "id": "l3Zmv0BIm5JP"
      },
      "source": [
        "pd_full_tests = pd_full.copy()\r\n",
        "pd_full_tests = pd_full_tests[pd_full_tests['playlist_id'].isin(all_playlistID_for_tests)]\r\n",
        "pd_full_tests = pd_full_tests.reset_index(drop = True)\r\n",
        "pd_full_tests_copy = pd_full_tests.copy()"
      ],
      "execution_count": 40,
      "outputs": []
    },
    {
      "cell_type": "code",
      "metadata": {
        "id": "juVYEgTQq4dC"
      },
      "source": [
        "omit_feats = ['track_id', 'track_name', 'playlist_id', 'playlist_name_x','artist_ids', 'artist_names', 'album_id', 'album_name', 'analysis_url', 'description', 'num_followers', 'available_markets', 'num_tracks']\r\n",
        "pd_full_tests_copy = pd_full_tests_copy.drop(omit_feats, 1)"
      ],
      "execution_count": 41,
      "outputs": []
    },
    {
      "cell_type": "markdown",
      "metadata": {
        "id": "_ZPpTJUpnUPC"
      },
      "source": [
        "### modeling"
      ]
    },
    {
      "cell_type": "code",
      "metadata": {
        "id": "7Crm_xdkm5Pr"
      },
      "source": [
        "def k_nearest_neighbors_model(tracks, df, n_pred, feats):\r\n",
        "    mean_songs = df.copy().iloc[0] #dict\r\n",
        "\r\n",
        "    df_rest = df[~(df['track_id'].isin(tracks))]\r\n",
        "    \r\n",
        "    for feat in feats:\r\n",
        "      mean_songs[feat] = np.mean(df[df['track_id'].isin(tracks)][feat].values)\r\n",
        "    \r\n",
        "    np_values = np.array(df[feats].values)\r\n",
        "    np_mean_values = np.array(mean_songs[feats].values)\r\n",
        "\r\n",
        "    dist = (np_mean_values - np_values) ** len(feats)\r\n",
        "    dist = np.sum(dist, axis=1)\r\n",
        "    dist = dist ** (1 / (len(feats)))\r\n",
        "\r\n",
        "    index_min = dist.argsort()[:(n_pred * max(3, len(feats)))]\r\n",
        "\r\n",
        "    df_min = df.iloc[index_min]\r\n",
        "    df_min = df_min.sort_values(by = 'popularity', ascending=False)\r\n",
        "\r\n",
        "    recs_id = df_min['track_id']\r\n",
        "\r\n",
        "    preds = collections.Counter(recs_id).most_common(n_pred)\r\n",
        "    pred_titles = [p[0] for p in preds]\r\n",
        "\r\n",
        "    tracks_name = []\r\n",
        "    for id_track in pred_titles:\r\n",
        "      tracks_name.extend(list(np.unique(df[df['track_id'] == id_track]['track_name'].values)))\r\n",
        "\r\n",
        "    return pred_titles, tracks_name"
      ],
      "execution_count": 42,
      "outputs": []
    },
    {
      "cell_type": "markdown",
      "metadata": {
        "id": "sF54cnlvHOwb"
      },
      "source": [
        "### testing"
      ]
    },
    {
      "cell_type": "markdown",
      "metadata": {
        "id": "lig10-fY1iIe"
      },
      "source": [
        "**Bây giờ ta sẽ thử test phương pháp này trên playlist đầu tiên của tập test**"
      ]
    },
    {
      "cell_type": "code",
      "metadata": {
        "id": "7XJM_Cc71yKW"
      },
      "source": [
        "features = pd_full_tests_copy.columns"
      ],
      "execution_count": 43,
      "outputs": []
    },
    {
      "cell_type": "code",
      "metadata": {
        "id": "ZI4h0YN6xqLz"
      },
      "source": [
        "playlists_to_test = all_playlistID_for_tests[0]"
      ],
      "execution_count": 44,
      "outputs": []
    },
    {
      "cell_type": "code",
      "metadata": {
        "id": "MxkbRnBY1jqt"
      },
      "source": [
        "all_name_songs = list(pd_full[pd_full['track_id'].isin(track_id_all[playlists_to_test])]['track_name'].values)\r\n",
        "given_songs_name = list(pd_full[pd_full['track_id'].isin(track_id_test[playlists_to_test])]['track_name'].values)"
      ],
      "execution_count": 45,
      "outputs": []
    },
    {
      "cell_type": "code",
      "metadata": {
        "colab": {
          "base_uri": "https://localhost:8080/"
        },
        "id": "63m66Fe51jss",
        "outputId": "841bf5c0-44c7-4745-81b4-d1f3074020cf"
      },
      "source": [
        "track_id_result, track_name_result = k_nearest_neighbors_model(track_id_test[playlists_to_test], pd_full_tests, len(track_id_all[playlists_to_test])-len(track_id_test[playlists_to_test]), features)"
      ],
      "execution_count": 46,
      "outputs": [
        {
          "output_type": "stream",
          "text": [
            "/usr/local/lib/python3.6/dist-packages/ipykernel_launcher.py:14: RuntimeWarning: invalid value encountered in double_scalars\n",
            "  \n",
            "/usr/local/lib/python3.6/dist-packages/ipykernel_launcher.py:14: RuntimeWarning: invalid value encountered in power\n",
            "  \n"
          ],
          "name": "stderr"
        }
      ]
    },
    {
      "cell_type": "code",
      "metadata": {
        "colab": {
          "base_uri": "https://localhost:8080/"
        },
        "id": "V9oS2Bzv1ju0",
        "outputId": "75a5d997-cc29-40fb-a0fe-c357a2bfc08b"
      },
      "source": [
        "print('Songs given: ', given_songs_name, '\\n')\r\n",
        "print('Songs recommended: ', track_name_result, '\\n')"
      ],
      "execution_count": 47,
      "outputs": [
        {
          "output_type": "stream",
          "text": [
            "Songs given:  ['Better', '+HWA+', 'NUNU NANA', \"I'M OKAY\", 'Better', 'NUNU NANA', 'Better', '+HWA+', 'NUNU NANA', 'One Day by Chance', 'stupid thought (Feat. BRWN, Novah the Ade)', 'U & ME - Between you and me (feat. Woozys, Seohyun)', 'Island', 'Happy Now!', 'ISLAND', 'Better Me', 'Make Me Better', 'PLAY', \"I'M OKAY\", 'pporappippam 보라빛 밤', 'Happy', 'Noise Cancelling', 'Spit it out', 'My Friend', 'INCOMPLETE', 'zZ(Tired) zZ(피곤해) (With Yebit)', 'KnoCK (Feat. Yerin Baek)', 'One Day by Chance', 'ISLAND', 'PLAY'] \n",
            "\n",
            "Songs recommended:  ['Sigur 3 (Untitled)', 'Then the Quiet Explosion', 'I Can Almost See You', 'HOLIDAY', \"Don't\", 'River', 'Sweet Melody', 'Window', 'Softly', 'Visions of Gideon', 'Inside Friend (feat. John Mayer)', 'A Case of You', 'In the Air', 'Both Sides Now', 'California', 'just a boy', 'Gnossienne No. 1', 'Broke', 'Chocolate. (ft. Ari Lennox)', 'Fresh Roses', 'Back Pocket', 'Wading In Waist-High Water', 'Sense of Home', \"Sure Don't Miss You\", 'Sweeter (feat. Terrace Martin)', 'My God Has A Telephone', 'Any Other Name', 'Money (with Tom Misch)', 'The Council of Elrond (feat. \"Aniron\") [Theme for Aragorn and Arwen]', 'Love Brought Weight', '50ft.', 'Petals', 'Church (feat. EARTHGANG)', 'Both Sides Now', 'i want war (BUT I NEED PEACE)', 'Danse Macabre, Op.40, R.171', 'A Letter From Prison', 'What You Love You Must Love Now', 'Kinderszenen, Op.15: 7. Träumerei', 'Main Title', 'Epilogue', 'In Dreams', 'Honeymoon Fades'] \n",
            "\n"
          ],
          "name": "stdout"
        }
      ]
    },
    {
      "cell_type": "markdown",
      "metadata": {
        "id": "0thlt95b2pEs"
      },
      "source": [
        "**Bây giờ ta sẽ sử dụng tất cả 100 playlists trong bộ test để đánh giá**"
      ]
    },
    {
      "cell_type": "code",
      "metadata": {
        "id": "mH0eMcQH2mo-"
      },
      "source": [
        "def test_multi_feats(pd_playlists, pd_full, features, fraction = 5, nums_playlists_test = 100):\r\n",
        "  r_score = []\r\n",
        "\r\n",
        "  track_id_all = generate_playlists(pd_full, pd_playlists, nums_playlists_to_test = nums_playlists_test)\r\n",
        "  track_id_test = generate_testcases(track_id_all, fraction = fraction)\r\n",
        "\r\n",
        "  all_playlistID_for_tests = list(track_id_test.keys())\r\n",
        "\r\n",
        "  pd_full_tests = pd_full.copy()\r\n",
        "  pd_full_tests = pd_full_tests[pd_full_tests['playlist_id'].isin(all_playlistID_for_tests)]\r\n",
        "  pd_full_tests = pd_full_tests.reset_index(drop = True)\r\n",
        "\r\n",
        "  for each_playlist in all_playlistID_for_tests:\r\n",
        "    track_id_result, track_name_result = k_nearest_neighbors_model(track_id_test[each_playlist], pd_full_tests, len(track_id_all[each_playlist])-len(track_id_test[each_playlist]), features)\r\n",
        "\r\n",
        "    all_name_songs = list(pd_full_tests[pd_full_tests['track_id'].isin(track_id_all[each_playlist])]['track_name'].values)\r\n",
        "    given_songs_name = list(pd_full_tests[pd_full_tests['track_id'].isin(track_id_test[each_playlist])]['track_name'].values) \r\n",
        "    test_songs_name = [x for x in all_name_songs if x not in given_songs_name]\r\n",
        "\r\n",
        "    r_score.append(r_precision(track_name_result, test_songs_name))\r\n",
        "\r\n",
        "  return r_score"
      ],
      "execution_count": 48,
      "outputs": []
    },
    {
      "cell_type": "code",
      "metadata": {
        "colab": {
          "base_uri": "https://localhost:8080/"
        },
        "id": "mFpODJ2Z2qz9",
        "outputId": "13aebd89-a15f-45d9-e412-e3e2f1005eae"
      },
      "source": [
        "r_score = test_multi_feats(pd_playlists, pd_full, features, fraction = 5, nums_playlists_test = 100)\r\n",
        "\r\n",
        "print(\"Average R precision: \" + str(np.mean(r_score)))\r\n",
        "print(\"Max R precision: \" + str(np.max(r_score)))"
      ],
      "execution_count": 49,
      "outputs": [
        {
          "output_type": "stream",
          "text": [
            "/usr/local/lib/python3.6/dist-packages/ipykernel_launcher.py:14: RuntimeWarning: invalid value encountered in double_scalars\n",
            "  \n"
          ],
          "name": "stderr"
        },
        {
          "output_type": "stream",
          "text": [
            "Average R precision: 0.009080534016683604\n",
            "Max R precision: 0.18333333333333332\n"
          ],
          "name": "stdout"
        }
      ]
    },
    {
      "cell_type": "markdown",
      "metadata": {
        "id": "4aFey5p576Te"
      },
      "source": [
        "**Test model trên những fraction khác nhau**:\r\n",
        "\r\n",
        "Fraction là tỷ lệ bài hát hiện có trong mỗi playlist, ta dựa vào chúng để đề xuất các bài hát còn lại, ví dụ playlist có 100 bài hát, ta dùng 1/5 số đó (20 bài hát) để dựa vào đó đề xuất 80 bài hát còn lại.\r\n",
        "\r\n",
        "Fraction có giá trị càng bé hoặc càng lớn thì tỷ lệ đề xuất trúng càng thấp.\r\n",
        "\r\n",
        "Ở đây ta test model với các fraction lần lượt là 2 - 10, tức là trong một playlist có 100 bài hát thì ta sẽ dùng 50, 100/3, 25, ..., 10 bài hát đầu tiên để đề xuất số bài hát còn lại."
      ]
    },
    {
      "cell_type": "code",
      "metadata": {
        "colab": {
          "base_uri": "https://localhost:8080/"
        },
        "id": "Ff0KFRJa2q14",
        "outputId": "7c534433-7a84-44ff-cc95-83515f329db4"
      },
      "source": [
        "fraction_to_test = list(np.arange(2, 11))\r\n",
        "\r\n",
        "result_mean = {}\r\n",
        "result_max = {}\r\n",
        "\r\n",
        "for fraction in fraction_to_test:\r\n",
        "  r_score = test_multi_feats(pd_playlists, pd_full, features, fraction = fraction, nums_playlists_test = 100)\r\n",
        "  result_mean[fraction] = np.mean(r_score)\r\n",
        "  result_max[fraction] = np.max(r_score)\r\n",
        "  print('-'*30)\r\n",
        "  print(f'fraction {fraction}:')\r\n",
        "  print(\"Average R precision: \" + str(np.mean(r_score)))\r\n",
        "  print(\"Max R precision: \" + str(np.max(r_score))) \r\n",
        "  print('-'*30)"
      ],
      "execution_count": 50,
      "outputs": [
        {
          "output_type": "stream",
          "text": [
            "/usr/local/lib/python3.6/dist-packages/ipykernel_launcher.py:14: RuntimeWarning: invalid value encountered in double_scalars\n",
            "  \n",
            "/usr/local/lib/python3.6/dist-packages/ipykernel_launcher.py:14: RuntimeWarning: invalid value encountered in power\n",
            "  \n"
          ],
          "name": "stderr"
        },
        {
          "output_type": "stream",
          "text": [
            "------------------------------\n",
            "fraction 2:\n",
            "Average R precision: 0.004938097005377919\n",
            "Max R precision: 0.25\n",
            "------------------------------\n",
            "------------------------------\n",
            "fraction 3:\n",
            "Average R precision: 0.005866021053772506\n",
            "Max R precision: 0.08823529411764706\n",
            "------------------------------\n",
            "------------------------------\n",
            "fraction 4:\n",
            "Average R precision: 0.01063585717540437\n",
            "Max R precision: 0.33783783783783783\n",
            "------------------------------\n"
          ],
          "name": "stdout"
        },
        {
          "output_type": "stream",
          "text": [
            "/usr/local/lib/python3.6/dist-packages/numpy/core/fromnumeric.py:3373: RuntimeWarning: Mean of empty slice.\n",
            "  out=out, **kwargs)\n",
            "/usr/local/lib/python3.6/dist-packages/numpy/core/_methods.py:170: RuntimeWarning: invalid value encountered in double_scalars\n",
            "  ret = ret.dtype.type(ret / rcount)\n"
          ],
          "name": "stderr"
        },
        {
          "output_type": "stream",
          "text": [
            "------------------------------\n",
            "fraction 5:\n",
            "Average R precision: 0.010983709999147747\n",
            "Max R precision: 0.20253164556962025\n",
            "------------------------------\n",
            "------------------------------\n",
            "fraction 6:\n",
            "Average R precision: 0.0055710888008866045\n",
            "Max R precision: 0.07407407407407407\n",
            "------------------------------\n",
            "------------------------------\n",
            "fraction 7:\n",
            "Average R precision: 0.011787654976961576\n",
            "Max R precision: 0.234375\n",
            "------------------------------\n",
            "------------------------------\n",
            "fraction 8:\n",
            "Average R precision: 0.00949223147392199\n",
            "Max R precision: 0.3220338983050847\n",
            "------------------------------\n",
            "------------------------------\n",
            "fraction 9:\n",
            "Average R precision: 0.011974480129593111\n",
            "Max R precision: 0.35555555555555557\n",
            "------------------------------\n",
            "------------------------------\n",
            "fraction 10:\n",
            "Average R precision: 0.011245467829569325\n",
            "Max R precision: 0.4888888888888889\n",
            "------------------------------\n"
          ],
          "name": "stdout"
        }
      ]
    },
    {
      "cell_type": "code",
      "metadata": {
        "colab": {
          "base_uri": "https://localhost:8080/",
          "height": 282
        },
        "id": "mlZeZZJN2q8O",
        "outputId": "abb1c820-b963-4151-ee94-c0a787a5edd7"
      },
      "source": [
        "sns.barplot(x=list(result_mean.keys()), y=list(result_mean.values()))"
      ],
      "execution_count": 51,
      "outputs": [
        {
          "output_type": "execute_result",
          "data": {
            "text/plain": [
              "<matplotlib.axes._subplots.AxesSubplot at 0x7fdca90e8128>"
            ]
          },
          "metadata": {
            "tags": []
          },
          "execution_count": 51
        },
        {
          "output_type": "display_data",
          "data": {
            "image/png": "[encoded data removed]",
            "text/plain": [
              "<Figure size 432x288 with 1 Axes>"
            ]
          },
          "metadata": {
            "tags": [],
            "needs_background": "light"
          }
        }
      ]
    },
    {
      "cell_type": "code",
      "metadata": {
        "colab": {
          "base_uri": "https://localhost:8080/",
          "height": 282
        },
        "id": "8IdnbgMDJ_fp",
        "outputId": "fc25af49-1dcd-4b88-cca4-88be7bab24d4"
      },
      "source": [
        "sns.barplot(x=list(result_max.keys()), y=list(result_max.values()))"
      ],
      "execution_count": 52,
      "outputs": [
        {
          "output_type": "execute_result",
          "data": {
            "text/plain": [
              "<matplotlib.axes._subplots.AxesSubplot at 0x7fdc77ba84a8>"
            ]
          },
          "metadata": {
            "tags": []
          },
          "execution_count": 52
        },
        {
          "output_type": "display_data",
          "data": {
            "image/png": "[encoded data removed]",
            "text/plain": [
              "<Figure size 432x288 with 1 Axes>"
            ]
          },
          "metadata": {
            "tags": [],
            "needs_background": "light"
          }
        }
      ]
    },
    {
      "cell_type": "markdown",
      "metadata": {
        "id": "7_A4G1c1NtYr"
      },
      "source": [
        "**Nhận xét**: \r\n",
        "\r\n",
        "Kết quả **Average R precision** giảm dần khi giá trị fraction tăng từ 2 - 10, tức là số lượng bài hát input dùng để đề xuất càng nhiều thì model hoạt động càng tốt. Tuy nhiên nhìn chung **Average R precision** vẫn còn khá thấp (< 1 %), tức là tỷ lệ đề xuất trung bình \r\n",
        "\r\n",
        "Kết quả **Max R precision** biến động hơn so với giá trị **Average R precision**, có một số playlist đề xuất được đúng khá nhiều bài hát (**Max R precision** khi **fraction = 2** lên tới gần 0.06)."
      ]
    }
  ]
}