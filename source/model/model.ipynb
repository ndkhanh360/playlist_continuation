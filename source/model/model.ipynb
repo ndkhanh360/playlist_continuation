{
 "cells": [
  {
   "cell_type": "code",
   "execution_count": null,
   "metadata": {
    "id": "3Ox07YU_VApc"
   },
   "outputs": [],
   "source": [
    "import json\n",
    "import pandas as pd\n",
    "import numpy as np  \n",
    "import os\n",
    "\n",
    "from numpy import linalg as LA\n",
    "\n",
    "import sklearn\n",
    "from sklearn.metrics.pairwise import cosine_similarity\n",
    "from sklearn.model_selection import train_test_split\n",
    "from sklearn import preprocessing\n",
    "from sklearn.preprocessing import MinMaxScaler\n",
    "from sklearn.ensemble import ExtraTreesClassifier\n",
    "from sklearn.model_selection import train_test_split\n",
    "from sklearn.cluster import KMeans\n",
    "\n",
    "import matplotlib.pyplot as plt\n",
    "import seaborn as sns\n",
    "import collections\n",
    "\n",
    "import lightgbm as lgb\n",
    "\n",
    "import warnings\n",
    "warnings.simplefilter(action='ignore', category=FutureWarning)"
   ]
  },
  {
   "cell_type": "code",
   "execution_count": null,
   "metadata": {
    "id": "MYbDEUH6blG6"
   },
   "outputs": [],
   "source": [
    "path = '/content/drive/MyDrive/DO_AN_KHDL/DATA'\n",
    "path_audio_feats = os.path.join(path, 'audio_features.tsv')\n",
    "path_playlists = os.path.join(path, 'playlists.tsv')\n",
    "path_tracks = os.path.join(path, 'tracks.tsv')"
   ]
  },
  {
   "cell_type": "code",
   "execution_count": null,
   "metadata": {
    "id": "Oen2tLuOblLn"
   },
   "outputs": [],
   "source": [
    "pd_audio_feats = pd.read_csv(path_audio_feats, sep = '\\t')\n",
    "pd_tracks = pd.read_csv(path_tracks, sep = '\\t')\n",
    "pd_playlists = pd.read_csv(path_playlists, sep = '\\t')\n",
    "pd_playlists = pd_playlists.fillna('None')"
   ]
  },
  {
   "cell_type": "code",
   "execution_count": null,
   "metadata": {
    "id": "9AaHwCK_blN3"
   },
   "outputs": [],
   "source": [
    "pd_tracks = pd.merge(pd_tracks, pd_audio_feats, left_on = 'track_id', right_on = 'id')\n",
    "pd_full = pd.merge(pd_tracks, pd_playlists, left_on = 'playlist_id', right_on = 'playlist_id')\n",
    "\n",
    "pd_tracks = pd_tracks.drop('id', 1)\n",
    "pd_full = pd_full.drop('playlist_name_y', 1)\n",
    "pd_full = pd_full.drop('id', 1)"
   ]
  },
  {
   "cell_type": "code",
   "execution_count": null,
   "metadata": {
    "colab": {
     "base_uri": "https://localhost:8080/"
    },
    "id": "sq_trfrGbysH",
    "outputId": "7fefc7e9-be8d-4ce0-9e61-cf73427fb6e1"
   },
   "outputs": [
    {
     "data": {
      "text/plain": [
       "(86400, 25)"
      ]
     },
     "execution_count": 85,
     "metadata": {
      "tags": []
     },
     "output_type": "execute_result"
    }
   ],
   "source": [
    "pd_full.shape"
   ]
  },
  {
   "cell_type": "code",
   "execution_count": null,
   "metadata": {
    "id": "x7ORw-zdbu83"
   },
   "outputs": [],
   "source": [
    "#Thông tin rỗng là discription, ta có thể chỉ điền vào \"None\"\n",
    "pd_full = pd_full.fillna('None')"
   ]
  },
  {
   "cell_type": "code",
   "execution_count": null,
   "metadata": {
    "id": "JXm0SU6DblPw"
   },
   "outputs": [],
   "source": [
    "#Kiểm tra và bỏ giá trị trùng lặp\n",
    "pd_full = pd_full.drop_duplicates()"
   ]
  },
  {
   "cell_type": "code",
   "execution_count": null,
   "metadata": {
    "colab": {
     "base_uri": "https://localhost:8080/"
    },
    "id": "UgE-13NgblRX",
    "outputId": "3ac39ba0-a48f-4b2f-b167-9db2b9d4329f"
   },
   "outputs": [
    {
     "data": {
      "text/plain": [
       "(86350, 25)"
      ]
     },
     "execution_count": 88,
     "metadata": {
      "tags": []
     },
     "output_type": "execute_result"
    }
   ],
   "source": [
    "pd_full.shape"
   ]
  },
  {
   "cell_type": "markdown",
   "metadata": {
    "id": "SscakrgEXzlB"
   },
   "source": [
    "## 1. K-means"
   ]
  },
  {
   "cell_type": "code",
   "execution_count": null,
   "metadata": {
    "colab": {
     "base_uri": "https://localhost:8080/"
    },
    "id": "a8XrMjH4X2gA",
    "outputId": "9f7e187d-e0dd-4f7a-93a0-41016f9cef46"
   },
   "outputs": [
    {
     "data": {
      "text/plain": [
       "(150, 5)"
      ]
     },
     "execution_count": 95,
     "metadata": {
      "tags": []
     },
     "output_type": "execute_result"
    }
   ],
   "source": [
    "pd_playlists_top150 = pd_playlists.copy()\n",
    "pd_playlists_top150 = pd_playlists_top150.sort_values(by = 'num_tracks', ascending=False)\n",
    "pd_playlists_top150 = pd_playlists_top150[:150]\n",
    "pd_playlists_top150.shape"
   ]
  },
  {
   "cell_type": "code",
   "execution_count": null,
   "metadata": {
    "id": "iGdaDfpkX2lv"
   },
   "outputs": [],
   "source": [
    "pd_tracks_copy = pd.read_csv(path_tracks, sep = '\\t')\n",
    "pd_tracks_copy.head()\n",
    "\n",
    "pd_tracks_copy = pd.merge(pd_tracks_copy, pd_audio_feats, left_on = 'track_id', right_on = 'id')\n",
    "pd_tracks_copy = pd_tracks_copy.drop('id', 1)\n",
    "\n",
    "pd_playlists_top150 = pd.merge(pd_tracks_copy, pd_playlists_top150, left_on = 'playlist_id', right_on = 'playlist_id')\n",
    "\n",
    "pd_playlists_top150 = pd_playlists_top150.drop('playlist_name_y', 1)"
   ]
  },
  {
   "cell_type": "code",
   "execution_count": null,
   "metadata": {
    "colab": {
     "base_uri": "https://localhost:8080/"
    },
    "id": "sndUiWL_Z7ev",
    "outputId": "a16c5863-de89-4f2b-834b-7d964b07c721"
   },
   "outputs": [
    {
     "data": {
      "text/plain": [
       "Index(['track_id', 'track_name', 'playlist_id', 'playlist_name_x',\n",
       "       'artist_ids', 'artist_names', 'album_id', 'album_name',\n",
       "       'track_duration_ms', 'danceability', 'energy', 'key', 'loudness',\n",
       "       'mode', 'speechiness', 'acousticness', 'instrumentalness', 'liveness',\n",
       "       'valence', 'tempo', 'analysis_url', 'time_signature', 'description',\n",
       "       'num_tracks', 'num_followers'],\n",
       "      dtype='object')"
      ]
     },
     "execution_count": 98,
     "metadata": {
      "tags": []
     },
     "output_type": "execute_result"
    }
   ],
   "source": [
    "pd_playlists_top150.columns"
   ]
  },
  {
   "cell_type": "code",
   "execution_count": null,
   "metadata": {
    "id": "AgoNdX7jaEbG"
   },
   "outputs": [],
   "source": [
    "pd_playlists_numeric = pd_playlists_top150.drop(['track_id', 'track_name', 'playlist_id', 'playlist_name_x',\n",
    "       'artist_ids', 'artist_names', 'album_id', 'album_name', 'description',\n",
    "       'num_tracks', 'num_followers', 'analysis_url'], 1)"
   ]
  },
  {
   "cell_type": "code",
   "execution_count": null,
   "metadata": {
    "colab": {
     "base_uri": "https://localhost:8080/",
     "height": 215
    },
    "id": "G8pvYMr0aUyG",
    "outputId": "2a0fdba7-3107-49c7-d125-78b7297259f2"
   },
   "outputs": [
    {
     "data": {
      "text/html": [
       "<div>\n",
       "<style scoped>\n",
       "    .dataframe tbody tr th:only-of-type {\n",
       "        vertical-align: middle;\n",
       "    }\n",
       "\n",
       "    .dataframe tbody tr th {\n",
       "        vertical-align: top;\n",
       "    }\n",
       "\n",
       "    .dataframe thead th {\n",
       "        text-align: right;\n",
       "    }\n",
       "</style>\n",
       "<table border=\"1\" class=\"dataframe\">\n",
       "  <thead>\n",
       "    <tr style=\"text-align: right;\">\n",
       "      <th></th>\n",
       "      <th>track_duration_ms</th>\n",
       "      <th>danceability</th>\n",
       "      <th>energy</th>\n",
       "      <th>key</th>\n",
       "      <th>loudness</th>\n",
       "      <th>mode</th>\n",
       "      <th>speechiness</th>\n",
       "      <th>acousticness</th>\n",
       "      <th>instrumentalness</th>\n",
       "      <th>liveness</th>\n",
       "      <th>valence</th>\n",
       "      <th>tempo</th>\n",
       "      <th>time_signature</th>\n",
       "    </tr>\n",
       "  </thead>\n",
       "  <tbody>\n",
       "    <tr>\n",
       "      <th>0</th>\n",
       "      <td>172324</td>\n",
       "      <td>0.736</td>\n",
       "      <td>0.802</td>\n",
       "      <td>0</td>\n",
       "      <td>-4.759</td>\n",
       "      <td>1</td>\n",
       "      <td>0.0864</td>\n",
       "      <td>0.4680</td>\n",
       "      <td>0.00000</td>\n",
       "      <td>0.0940</td>\n",
       "      <td>0.6750</td>\n",
       "      <td>144.005</td>\n",
       "      <td>4</td>\n",
       "    </tr>\n",
       "    <tr>\n",
       "      <th>1</th>\n",
       "      <td>214706</td>\n",
       "      <td>0.392</td>\n",
       "      <td>0.574</td>\n",
       "      <td>7</td>\n",
       "      <td>-9.195</td>\n",
       "      <td>1</td>\n",
       "      <td>0.1700</td>\n",
       "      <td>0.8330</td>\n",
       "      <td>0.00179</td>\n",
       "      <td>0.1450</td>\n",
       "      <td>0.5290</td>\n",
       "      <td>81.112</td>\n",
       "      <td>4</td>\n",
       "    </tr>\n",
       "    <tr>\n",
       "      <th>2</th>\n",
       "      <td>178994</td>\n",
       "      <td>0.652</td>\n",
       "      <td>0.383</td>\n",
       "      <td>2</td>\n",
       "      <td>-7.076</td>\n",
       "      <td>0</td>\n",
       "      <td>0.0516</td>\n",
       "      <td>0.0676</td>\n",
       "      <td>0.00000</td>\n",
       "      <td>0.0828</td>\n",
       "      <td>0.5490</td>\n",
       "      <td>145.765</td>\n",
       "      <td>4</td>\n",
       "    </tr>\n",
       "    <tr>\n",
       "      <th>3</th>\n",
       "      <td>174321</td>\n",
       "      <td>0.889</td>\n",
       "      <td>0.340</td>\n",
       "      <td>11</td>\n",
       "      <td>-7.773</td>\n",
       "      <td>0</td>\n",
       "      <td>0.0697</td>\n",
       "      <td>0.2180</td>\n",
       "      <td>0.13000</td>\n",
       "      <td>0.0550</td>\n",
       "      <td>0.7160</td>\n",
       "      <td>94.009</td>\n",
       "      <td>4</td>\n",
       "    </tr>\n",
       "    <tr>\n",
       "      <th>4</th>\n",
       "      <td>149297</td>\n",
       "      <td>0.631</td>\n",
       "      <td>0.239</td>\n",
       "      <td>11</td>\n",
       "      <td>-7.071</td>\n",
       "      <td>0</td>\n",
       "      <td>0.0398</td>\n",
       "      <td>0.8640</td>\n",
       "      <td>0.00000</td>\n",
       "      <td>0.1160</td>\n",
       "      <td>0.0927</td>\n",
       "      <td>79.859</td>\n",
       "      <td>4</td>\n",
       "    </tr>\n",
       "  </tbody>\n",
       "</table>\n",
       "</div>"
      ],
      "text/plain": [
       "   track_duration_ms  danceability  energy  ...  valence    tempo  time_signature\n",
       "0             172324         0.736   0.802  ...   0.6750  144.005               4\n",
       "1             214706         0.392   0.574  ...   0.5290   81.112               4\n",
       "2             178994         0.652   0.383  ...   0.5490  145.765               4\n",
       "3             174321         0.889   0.340  ...   0.7160   94.009               4\n",
       "4             149297         0.631   0.239  ...   0.0927   79.859               4\n",
       "\n",
       "[5 rows x 13 columns]"
      ]
     },
     "execution_count": 100,
     "metadata": {
      "tags": []
     },
     "output_type": "execute_result"
    }
   ],
   "source": [
    "pd_playlists_numeric.head()"
   ]
  },
  {
   "cell_type": "code",
   "execution_count": null,
   "metadata": {
    "id": "HZO4w91ZX2oJ"
   },
   "outputs": [],
   "source": [
    "# Standardizing the data\n",
    "scaler = MinMaxScaler()\n",
    "scaler.fit(pd_playlists_numeric)\n",
    "pd_playlists_numeric_scaled = scaler.transform(pd_playlists_numeric)"
   ]
  },
  {
   "cell_type": "code",
   "execution_count": null,
   "metadata": {
    "colab": {
     "base_uri": "https://localhost:8080/"
    },
    "id": "533P3xtYX2ss",
    "outputId": "f97ad4e8-8b04-42fd-e95c-b79bf651bd03"
   },
   "outputs": [
    {
     "data": {
      "text/plain": [
       "array([[0.03590713, 0.75178754, 0.80198388, ..., 0.67975831, 0.65545901,\n",
       "        0.8       ],\n",
       "       [0.04495888, 0.40040858, 0.57396532, ..., 0.5327291 , 0.36919268,\n",
       "        0.8       ],\n",
       "       [0.03733168, 0.6659857 , 0.38294977, ..., 0.55287009, 0.6634699 ,\n",
       "        0.8       ],\n",
       "       ...,\n",
       "       [0.07213718, 0.7752809 , 0.27694114, ..., 0.28096677, 0.49614248,\n",
       "        0.8       ],\n",
       "       [0.0646172 , 0.57814096, 0.32394497, ..., 0.20241692, 0.72777093,\n",
       "        0.8       ],\n",
       "       [0.04707519, 0.12359551, 0.08172525, ..., 0.03655589, 0.36518723,\n",
       "        0.8       ]])"
      ]
     },
     "execution_count": 102,
     "metadata": {
      "tags": []
     },
     "output_type": "execute_result"
    }
   ],
   "source": [
    "pd_playlists_numeric_scaled"
   ]
  },
  {
   "cell_type": "code",
   "execution_count": null,
   "metadata": {
    "colab": {
     "base_uri": "https://localhost:8080/",
     "height": 404
    },
    "id": "m6RntuOuX2vJ",
    "outputId": "c07679c6-83c1-4931-9869-00463f00e194"
   },
   "outputs": [
    {
     "data": {
      "image/png": "[encoded data removed]",
      "text/plain": [
       "<Figure size 720x432 with 1 Axes>"
      ]
     },
     "metadata": {
      "needs_background": "light",
      "tags": []
     },
     "output_type": "display_data"
    }
   ],
   "source": [
    "distortion = []\n",
    "n_clusters = 40\n",
    "\n",
    "for k in range(1, n_clusters):  \n",
    "    kmeans = KMeans(n_clusters = k)\n",
    "    kmeans.fit(pd_playlists_numeric_scaled)\n",
    "    distortion.append(kmeans.inertia_)\n",
    "\n",
    "fig = plt.figure(figsize=(10, 6))\n",
    "plt.plot(range(1, n_clusters), distortion, c = 'red')\n",
    "plt.xlabel('Number of Clusters')\n",
    "plt.ylabel('Distortion')\n",
    "plt.title('Elbow curve')\n",
    "plt.show()"
   ]
  },
  {
   "cell_type": "code",
   "execution_count": null,
   "metadata": {
    "colab": {
     "base_uri": "https://localhost:8080/"
    },
    "id": "YD-aybMBfHiY",
    "outputId": "4fea2328-086b-4951-de6d-c383d12443c5"
   },
   "outputs": [
    {
     "data": {
      "text/plain": [
       "KMeans(algorithm='auto', copy_x=True, init='k-means++', max_iter=300,\n",
       "       n_clusters=8, n_init=10, n_jobs=None, precompute_distances='auto',\n",
       "       random_state=None, tol=0.0001, verbose=0)"
      ]
     },
     "execution_count": 111,
     "metadata": {
      "tags": []
     },
     "output_type": "execute_result"
    }
   ],
   "source": [
    "kmeans = KMeans(n_clusters = 8)\n",
    "kmeans.fit(pd_playlists_numeric_scaled)"
   ]
  },
  {
   "cell_type": "code",
   "execution_count": null,
   "metadata": {
    "id": "dR0chwcLhULF"
   },
   "outputs": [],
   "source": [
    "label = kmeans.labels_\n",
    "pd_playlists_numeric['cluster_label'] = label"
   ]
  },
  {
   "cell_type": "code",
   "execution_count": null,
   "metadata": {
    "colab": {
     "base_uri": "https://localhost:8080/",
     "height": 422
    },
    "id": "spSqOU1dhUNS",
    "outputId": "71dc9e4c-974c-4ede-b80e-19f8bd841998"
   },
   "outputs": [
    {
     "data": {
      "text/html": [
       "<div>\n",
       "<style scoped>\n",
       "    .dataframe tbody tr th:only-of-type {\n",
       "        vertical-align: middle;\n",
       "    }\n",
       "\n",
       "    .dataframe tbody tr th {\n",
       "        vertical-align: top;\n",
       "    }\n",
       "\n",
       "    .dataframe thead th {\n",
       "        text-align: right;\n",
       "    }\n",
       "</style>\n",
       "<table border=\"1\" class=\"dataframe\">\n",
       "  <thead>\n",
       "    <tr style=\"text-align: right;\">\n",
       "      <th></th>\n",
       "      <th>track_duration_ms</th>\n",
       "      <th>danceability</th>\n",
       "      <th>energy</th>\n",
       "      <th>key</th>\n",
       "      <th>loudness</th>\n",
       "      <th>mode</th>\n",
       "      <th>speechiness</th>\n",
       "      <th>acousticness</th>\n",
       "      <th>instrumentalness</th>\n",
       "      <th>liveness</th>\n",
       "      <th>valence</th>\n",
       "      <th>tempo</th>\n",
       "      <th>time_signature</th>\n",
       "      <th>cluster_label</th>\n",
       "    </tr>\n",
       "  </thead>\n",
       "  <tbody>\n",
       "    <tr>\n",
       "      <th>0</th>\n",
       "      <td>172324</td>\n",
       "      <td>0.736</td>\n",
       "      <td>0.8020</td>\n",
       "      <td>0</td>\n",
       "      <td>-4.759</td>\n",
       "      <td>1</td>\n",
       "      <td>0.0864</td>\n",
       "      <td>0.4680</td>\n",
       "      <td>0.00000</td>\n",
       "      <td>0.0940</td>\n",
       "      <td>0.6750</td>\n",
       "      <td>144.005</td>\n",
       "      <td>4</td>\n",
       "      <td>3</td>\n",
       "    </tr>\n",
       "    <tr>\n",
       "      <th>1</th>\n",
       "      <td>214706</td>\n",
       "      <td>0.392</td>\n",
       "      <td>0.5740</td>\n",
       "      <td>7</td>\n",
       "      <td>-9.195</td>\n",
       "      <td>1</td>\n",
       "      <td>0.1700</td>\n",
       "      <td>0.8330</td>\n",
       "      <td>0.00179</td>\n",
       "      <td>0.1450</td>\n",
       "      <td>0.5290</td>\n",
       "      <td>81.112</td>\n",
       "      <td>4</td>\n",
       "      <td>4</td>\n",
       "    </tr>\n",
       "    <tr>\n",
       "      <th>2</th>\n",
       "      <td>178994</td>\n",
       "      <td>0.652</td>\n",
       "      <td>0.3830</td>\n",
       "      <td>2</td>\n",
       "      <td>-7.076</td>\n",
       "      <td>0</td>\n",
       "      <td>0.0516</td>\n",
       "      <td>0.0676</td>\n",
       "      <td>0.00000</td>\n",
       "      <td>0.0828</td>\n",
       "      <td>0.5490</td>\n",
       "      <td>145.765</td>\n",
       "      <td>4</td>\n",
       "      <td>6</td>\n",
       "    </tr>\n",
       "    <tr>\n",
       "      <th>3</th>\n",
       "      <td>174321</td>\n",
       "      <td>0.889</td>\n",
       "      <td>0.3400</td>\n",
       "      <td>11</td>\n",
       "      <td>-7.773</td>\n",
       "      <td>0</td>\n",
       "      <td>0.0697</td>\n",
       "      <td>0.2180</td>\n",
       "      <td>0.13000</td>\n",
       "      <td>0.0550</td>\n",
       "      <td>0.7160</td>\n",
       "      <td>94.009</td>\n",
       "      <td>4</td>\n",
       "      <td>6</td>\n",
       "    </tr>\n",
       "    <tr>\n",
       "      <th>4</th>\n",
       "      <td>149297</td>\n",
       "      <td>0.631</td>\n",
       "      <td>0.2390</td>\n",
       "      <td>11</td>\n",
       "      <td>-7.071</td>\n",
       "      <td>0</td>\n",
       "      <td>0.0398</td>\n",
       "      <td>0.8640</td>\n",
       "      <td>0.00000</td>\n",
       "      <td>0.1160</td>\n",
       "      <td>0.0927</td>\n",
       "      <td>79.859</td>\n",
       "      <td>4</td>\n",
       "      <td>5</td>\n",
       "    </tr>\n",
       "    <tr>\n",
       "      <th>...</th>\n",
       "      <td>...</td>\n",
       "      <td>...</td>\n",
       "      <td>...</td>\n",
       "      <td>...</td>\n",
       "      <td>...</td>\n",
       "      <td>...</td>\n",
       "      <td>...</td>\n",
       "      <td>...</td>\n",
       "      <td>...</td>\n",
       "      <td>...</td>\n",
       "      <td>...</td>\n",
       "      <td>...</td>\n",
       "      <td>...</td>\n",
       "      <td>...</td>\n",
       "    </tr>\n",
       "    <tr>\n",
       "      <th>14707</th>\n",
       "      <td>250285</td>\n",
       "      <td>0.100</td>\n",
       "      <td>0.1490</td>\n",
       "      <td>9</td>\n",
       "      <td>-23.935</td>\n",
       "      <td>1</td>\n",
       "      <td>0.0423</td>\n",
       "      <td>0.9440</td>\n",
       "      <td>0.95000</td>\n",
       "      <td>0.1400</td>\n",
       "      <td>0.0460</td>\n",
       "      <td>83.857</td>\n",
       "      <td>4</td>\n",
       "      <td>2</td>\n",
       "    </tr>\n",
       "    <tr>\n",
       "      <th>14708</th>\n",
       "      <td>328193</td>\n",
       "      <td>0.595</td>\n",
       "      <td>0.0331</td>\n",
       "      <td>5</td>\n",
       "      <td>-23.656</td>\n",
       "      <td>0</td>\n",
       "      <td>0.0331</td>\n",
       "      <td>0.9630</td>\n",
       "      <td>0.93200</td>\n",
       "      <td>0.0866</td>\n",
       "      <td>0.0602</td>\n",
       "      <td>99.999</td>\n",
       "      <td>4</td>\n",
       "      <td>7</td>\n",
       "    </tr>\n",
       "    <tr>\n",
       "      <th>14709</th>\n",
       "      <td>341960</td>\n",
       "      <td>0.759</td>\n",
       "      <td>0.2770</td>\n",
       "      <td>1</td>\n",
       "      <td>-14.485</td>\n",
       "      <td>1</td>\n",
       "      <td>0.0484</td>\n",
       "      <td>0.7670</td>\n",
       "      <td>0.87100</td>\n",
       "      <td>0.0834</td>\n",
       "      <td>0.2790</td>\n",
       "      <td>109.003</td>\n",
       "      <td>4</td>\n",
       "      <td>2</td>\n",
       "    </tr>\n",
       "    <tr>\n",
       "      <th>14710</th>\n",
       "      <td>306750</td>\n",
       "      <td>0.566</td>\n",
       "      <td>0.3240</td>\n",
       "      <td>0</td>\n",
       "      <td>-14.811</td>\n",
       "      <td>0</td>\n",
       "      <td>0.0371</td>\n",
       "      <td>0.6920</td>\n",
       "      <td>0.85500</td>\n",
       "      <td>0.0829</td>\n",
       "      <td>0.2010</td>\n",
       "      <td>159.892</td>\n",
       "      <td>4</td>\n",
       "      <td>7</td>\n",
       "    </tr>\n",
       "    <tr>\n",
       "      <th>14711</th>\n",
       "      <td>224615</td>\n",
       "      <td>0.121</td>\n",
       "      <td>0.0818</td>\n",
       "      <td>3</td>\n",
       "      <td>-25.055</td>\n",
       "      <td>1</td>\n",
       "      <td>0.0433</td>\n",
       "      <td>0.9320</td>\n",
       "      <td>0.96000</td>\n",
       "      <td>0.0910</td>\n",
       "      <td>0.0363</td>\n",
       "      <td>80.232</td>\n",
       "      <td>4</td>\n",
       "      <td>2</td>\n",
       "    </tr>\n",
       "  </tbody>\n",
       "</table>\n",
       "<p>14712 rows × 14 columns</p>\n",
       "</div>"
      ],
      "text/plain": [
       "       track_duration_ms  danceability  ...  time_signature  cluster_label\n",
       "0                 172324         0.736  ...               4              3\n",
       "1                 214706         0.392  ...               4              4\n",
       "2                 178994         0.652  ...               4              6\n",
       "3                 174321         0.889  ...               4              6\n",
       "4                 149297         0.631  ...               4              5\n",
       "...                  ...           ...  ...             ...            ...\n",
       "14707             250285         0.100  ...               4              2\n",
       "14708             328193         0.595  ...               4              7\n",
       "14709             341960         0.759  ...               4              2\n",
       "14710             306750         0.566  ...               4              7\n",
       "14711             224615         0.121  ...               4              2\n",
       "\n",
       "[14712 rows x 14 columns]"
      ]
     },
     "execution_count": 113,
     "metadata": {
      "tags": []
     },
     "output_type": "execute_result"
    }
   ],
   "source": [
    "pd_playlists_numeric.sort_values"
   ]
  },
  {
   "cell_type": "code",
   "execution_count": null,
   "metadata": {
    "id": "SiEu3TSzhUP-"
   },
   "outputs": [],
   "source": []
  },
  {
   "cell_type": "markdown",
   "metadata": {
    "id": "oDyYVLKiewsh"
   },
   "source": [
    "## 1. Baseline model"
   ]
  },
  {
   "cell_type": "markdown",
   "metadata": {
    "id": "F7gGnqK2o2fo"
   },
   "source": [
    "**Phân tích biến danceability**"
   ]
  },
  {
   "cell_type": "code",
   "execution_count": null,
   "metadata": {
    "id": "0S_pUyWWl_mz"
   },
   "outputs": [],
   "source": [
    "track_name = ['Levitating (feat. DaBaby)', 'Tessanne Tell Dem']"
   ]
  },
  {
   "cell_type": "code",
   "execution_count": null,
   "metadata": {
    "id": "gNAwqzFeblTC"
   },
   "outputs": [],
   "source": [
    "def baseline(tracks, df, n_pred):\n",
    "    '''\n",
    "    Input:\n",
    "    1. tracks = Takes a list of track titles as input (strings)\n",
    "    2. df = Dataframe containing all track info\n",
    "    Output:\n",
    "    recs = Recommends (n_pred) track uri based on info of that string (List of strings)\n",
    "    '''\n",
    "    recs = []\n",
    "    for t in tracks:\n",
    "        danceability = df[df['track_name'] == t]['danceability']\n",
    "        df['rec_df_dance'] = np.abs(df['danceability'] - danceability.values[0])\n",
    "        one_recs = list(df.sort_values(by=['rec_df_dance'])['track_name'][1:].values)\n",
    "        recs = [track for track in one_recs if track not in tracks][0:n_pred]\n",
    "    preds = collections.Counter(recs).most_common(n_pred)\n",
    "    pred_titles = [p[0] for p in preds]\n",
    "    return pred_titles"
   ]
  },
  {
   "cell_type": "code",
   "execution_count": null,
   "metadata": {
    "id": "Fa3CI0k6blUm"
   },
   "outputs": [],
   "source": [
    "result = baseline(track_name, pd_full, 10)"
   ]
  },
  {
   "cell_type": "code",
   "execution_count": null,
   "metadata": {
    "colab": {
     "base_uri": "https://localhost:8080/"
    },
    "id": "uP7U5AMYblWF",
    "outputId": "e7a76309-8857-48f1-d9ca-6530f181766a"
   },
   "outputs": [
    {
     "data": {
      "text/plain": [
       "['Dying in the Subtlety',\n",
       " 'Cross My Mind',\n",
       " 'REALiTi (Demo)',\n",
       " 'Super Bass',\n",
       " \"I'm Leaving You (feat. Ledisi & John Scofield)\",\n",
       " 'She Will Be Loved',\n",
       " 'Astronaut - Something About Your Love',\n",
       " 'No Mercy',\n",
       " 'Tattoo - Remix with Camilo',\n",
       " 'Swim']"
      ]
     },
     "execution_count": 13,
     "metadata": {
      "tags": []
     },
     "output_type": "execute_result"
    }
   ],
   "source": [
    "result"
   ]
  },
  {
   "cell_type": "markdown",
   "metadata": {
    "id": "T63pxRlVnty3"
   },
   "source": [
    "## 2. Improvement of baseline model"
   ]
  },
  {
   "cell_type": "code",
   "execution_count": null,
   "metadata": {
    "id": "uK4kcigkblZI"
   },
   "outputs": [],
   "source": [
    "pd_full_copy = pd_full.copy()"
   ]
  },
  {
   "cell_type": "code",
   "execution_count": null,
   "metadata": {
    "colab": {
     "base_uri": "https://localhost:8080/",
     "height": 195
    },
    "id": "HEu9MLuZWgrj",
    "outputId": "9f759e18-3ae6-40bf-99eb-e62c316f6193"
   },
   "outputs": [
    {
     "data": {
      "text/html": [
       "<div>\n",
       "<style scoped>\n",
       "    .dataframe tbody tr th:only-of-type {\n",
       "        vertical-align: middle;\n",
       "    }\n",
       "\n",
       "    .dataframe tbody tr th {\n",
       "        vertical-align: top;\n",
       "    }\n",
       "\n",
       "    .dataframe thead th {\n",
       "        text-align: right;\n",
       "    }\n",
       "</style>\n",
       "<table border=\"1\" class=\"dataframe\">\n",
       "  <thead>\n",
       "    <tr style=\"text-align: right;\">\n",
       "      <th></th>\n",
       "      <th>playlist_id</th>\n",
       "      <th>playlist_name</th>\n",
       "      <th>description</th>\n",
       "      <th>num_tracks</th>\n",
       "      <th>num_followers</th>\n",
       "    </tr>\n",
       "  </thead>\n",
       "  <tbody>\n",
       "    <tr>\n",
       "      <th>0</th>\n",
       "      <td>37i9dQZF1DXcBWIGoYBM5M</td>\n",
       "      <td>Today's Top Hits</td>\n",
       "      <td>Dua Lipa &amp; DaBaby are on top of the Hottest 50!</td>\n",
       "      <td>50</td>\n",
       "      <td>27084233</td>\n",
       "    </tr>\n",
       "    <tr>\n",
       "      <th>1</th>\n",
       "      <td>37i9dQZF1DX0XUsuxWHRQd</td>\n",
       "      <td>Today's Top Hits</td>\n",
       "      <td>New music from Jack Harlow, Juice WRLD and Kid...</td>\n",
       "      <td>50</td>\n",
       "      <td>13537247</td>\n",
       "    </tr>\n",
       "    <tr>\n",
       "      <th>2</th>\n",
       "      <td>37i9dQZF1DX1lVhptIYRda</td>\n",
       "      <td>RapCaviar</td>\n",
       "      <td>Today's top country hits of the week, worldwid...</td>\n",
       "      <td>53</td>\n",
       "      <td>6189727</td>\n",
       "    </tr>\n",
       "    <tr>\n",
       "      <th>3</th>\n",
       "      <td>37i9dQZF1DX10zKzsJ2jva</td>\n",
       "      <td>RapCaviar</td>\n",
       "      <td>Today's top Latin hits are right here, on ¡Viv...</td>\n",
       "      <td>50</td>\n",
       "      <td>10763311</td>\n",
       "    </tr>\n",
       "    <tr>\n",
       "      <th>4</th>\n",
       "      <td>37i9dQZF1DX4JAvHpjipBk</td>\n",
       "      <td>Hot Country</td>\n",
       "      <td>New albums from Taylor Swift, Jack Harlow, Kid...</td>\n",
       "      <td>100</td>\n",
       "      <td>3694201</td>\n",
       "    </tr>\n",
       "  </tbody>\n",
       "</table>\n",
       "</div>"
      ],
      "text/plain": [
       "              playlist_id     playlist_name  ... num_tracks  num_followers\n",
       "0  37i9dQZF1DXcBWIGoYBM5M  Today's Top Hits  ...         50       27084233\n",
       "1  37i9dQZF1DX0XUsuxWHRQd  Today's Top Hits  ...         50       13537247\n",
       "2  37i9dQZF1DX1lVhptIYRda         RapCaviar  ...         53        6189727\n",
       "3  37i9dQZF1DX10zKzsJ2jva         RapCaviar  ...         50       10763311\n",
       "4  37i9dQZF1DX4JAvHpjipBk       Hot Country  ...        100        3694201\n",
       "\n",
       "[5 rows x 5 columns]"
      ]
     },
     "execution_count": 36,
     "metadata": {
      "tags": []
     },
     "output_type": "execute_result"
    }
   ],
   "source": [
    "pd_playlists.head()"
   ]
  },
  {
   "cell_type": "code",
   "execution_count": null,
   "metadata": {
    "colab": {
     "base_uri": "https://localhost:8080/"
    },
    "id": "UkaZUa1OWGMc",
    "outputId": "76b8ccee-9aa1-41d7-b3d1-7313890c2304"
   },
   "outputs": [
    {
     "data": {
      "text/plain": [
       "(50, 5)"
      ]
     },
     "execution_count": 37,
     "metadata": {
      "tags": []
     },
     "output_type": "execute_result"
    }
   ],
   "source": [
    "pd_playlists_top50 = pd_playlists.copy()\n",
    "pd_playlists_top50 = pd_playlists_top50.sort_values(by = 'num_tracks', ascending=False)\n",
    "pd_playlists_top50 = pd_playlists_top50[:50]\n",
    "pd_playlists_top50.shape"
   ]
  },
  {
   "cell_type": "code",
   "execution_count": null,
   "metadata": {
    "colab": {
     "base_uri": "https://localhost:8080/",
     "height": 534
    },
    "id": "wuGdPVm6XgJO",
    "outputId": "e1a911ed-d805-4829-dc53-973c880bbafd"
   },
   "outputs": [
    {
     "name": "stdout",
     "output_type": "stream",
     "text": [
      "(86432, 9)\n",
      "(86400, 22)\n"
     ]
    },
    {
     "data": {
      "text/html": [
       "<div>\n",
       "<style scoped>\n",
       "    .dataframe tbody tr th:only-of-type {\n",
       "        vertical-align: middle;\n",
       "    }\n",
       "\n",
       "    .dataframe tbody tr th {\n",
       "        vertical-align: top;\n",
       "    }\n",
       "\n",
       "    .dataframe thead th {\n",
       "        text-align: right;\n",
       "    }\n",
       "</style>\n",
       "<table border=\"1\" class=\"dataframe\">\n",
       "  <thead>\n",
       "    <tr style=\"text-align: right;\">\n",
       "      <th></th>\n",
       "      <th>track_id</th>\n",
       "      <th>track_name</th>\n",
       "      <th>playlist_id</th>\n",
       "      <th>playlist_name_x</th>\n",
       "      <th>artist_ids</th>\n",
       "      <th>artist_names</th>\n",
       "      <th>album_id</th>\n",
       "      <th>album_name</th>\n",
       "      <th>track_duration_ms</th>\n",
       "      <th>danceability</th>\n",
       "      <th>energy</th>\n",
       "      <th>key</th>\n",
       "      <th>loudness</th>\n",
       "      <th>mode</th>\n",
       "      <th>speechiness</th>\n",
       "      <th>acousticness</th>\n",
       "      <th>instrumentalness</th>\n",
       "      <th>liveness</th>\n",
       "      <th>valence</th>\n",
       "      <th>tempo</th>\n",
       "      <th>analysis_url</th>\n",
       "      <th>time_signature</th>\n",
       "      <th>description</th>\n",
       "      <th>num_tracks</th>\n",
       "      <th>num_followers</th>\n",
       "    </tr>\n",
       "  </thead>\n",
       "  <tbody>\n",
       "    <tr>\n",
       "      <th>0</th>\n",
       "      <td>20McUFi8KCIVdNDLrkTDuZ</td>\n",
       "      <td>Goosebumps</td>\n",
       "      <td>37i9dQZF1DX32NsLKyzScr</td>\n",
       "      <td>Power Hour</td>\n",
       "      <td>['2o08sCWF5yyo2G4DCiT7T9']</td>\n",
       "      <td>['HVME']</td>\n",
       "      <td>49HjM8mnjS9PgYjSC03tkS</td>\n",
       "      <td>Goosebumps</td>\n",
       "      <td>163208</td>\n",
       "      <td>0.767</td>\n",
       "      <td>0.659</td>\n",
       "      <td>1</td>\n",
       "      <td>-7.429</td>\n",
       "      <td>1</td>\n",
       "      <td>0.0444</td>\n",
       "      <td>0.32500</td>\n",
       "      <td>0.000000</td>\n",
       "      <td>0.130</td>\n",
       "      <td>0.4390</td>\n",
       "      <td>124.946</td>\n",
       "      <td>https://api.spotify.com/v1/audio-analysis/20Mc...</td>\n",
       "      <td>4</td>\n",
       "      <td>Tap it back or go for a spin with these uptemp...</td>\n",
       "      <td>212</td>\n",
       "      <td>2064049</td>\n",
       "    </tr>\n",
       "    <tr>\n",
       "      <th>1</th>\n",
       "      <td>6f3Slt0GbA2bPZlz0aIFXN</td>\n",
       "      <td>The Business</td>\n",
       "      <td>37i9dQZF1DX32NsLKyzScr</td>\n",
       "      <td>Power Hour</td>\n",
       "      <td>['2o5jDhtHVPhrJdv3cEQ99Z']</td>\n",
       "      <td>['Tiësto']</td>\n",
       "      <td>2adSO4KU3FDjeM1PXCRDZm</td>\n",
       "      <td>The Business</td>\n",
       "      <td>164000</td>\n",
       "      <td>0.798</td>\n",
       "      <td>0.620</td>\n",
       "      <td>8</td>\n",
       "      <td>-7.079</td>\n",
       "      <td>0</td>\n",
       "      <td>0.2320</td>\n",
       "      <td>0.41400</td>\n",
       "      <td>0.019200</td>\n",
       "      <td>0.112</td>\n",
       "      <td>0.2350</td>\n",
       "      <td>120.031</td>\n",
       "      <td>https://api.spotify.com/v1/audio-analysis/6f3S...</td>\n",
       "      <td>4</td>\n",
       "      <td>Tap it back or go for a spin with these uptemp...</td>\n",
       "      <td>212</td>\n",
       "      <td>2064049</td>\n",
       "    </tr>\n",
       "    <tr>\n",
       "      <th>2</th>\n",
       "      <td>14ngWWxvUSnIMXgF6rzSk1</td>\n",
       "      <td>Head Shoulders Knees &amp; Toes (feat. Norma Jean ...</td>\n",
       "      <td>37i9dQZF1DX32NsLKyzScr</td>\n",
       "      <td>Power Hour</td>\n",
       "      <td>['4AKwRarlmsUlLjIwt38NLw', '2h6hAChW74hB9HvrNo...</td>\n",
       "      <td>['Ofenbach', 'Quarterhead', 'Norma Jean Martine']</td>\n",
       "      <td>1h2sYjn95QeTA0rSBCoke0</td>\n",
       "      <td>Head Shoulders Knees &amp; Toes (feat. Norma Jean ...</td>\n",
       "      <td>156960</td>\n",
       "      <td>0.798</td>\n",
       "      <td>0.828</td>\n",
       "      <td>2</td>\n",
       "      <td>-5.360</td>\n",
       "      <td>1</td>\n",
       "      <td>0.1930</td>\n",
       "      <td>0.02470</td>\n",
       "      <td>0.000003</td>\n",
       "      <td>0.121</td>\n",
       "      <td>0.6000</td>\n",
       "      <td>124.962</td>\n",
       "      <td>https://api.spotify.com/v1/audio-analysis/14ng...</td>\n",
       "      <td>4</td>\n",
       "      <td>Tap it back or go for a spin with these uptemp...</td>\n",
       "      <td>212</td>\n",
       "      <td>2064049</td>\n",
       "    </tr>\n",
       "    <tr>\n",
       "      <th>3</th>\n",
       "      <td>1w8DxFHDDInmn5TovLKKrW</td>\n",
       "      <td>Save My Life (feat. Lovespeake)</td>\n",
       "      <td>37i9dQZF1DX32NsLKyzScr</td>\n",
       "      <td>Power Hour</td>\n",
       "      <td>['1Cs0zKBU1kc0i8ypK3B9ai', '19HFRWmRCl27kTk6Le...</td>\n",
       "      <td>['David Guetta', 'MORTEN', 'Lovespeake']</td>\n",
       "      <td>4tqrHaVlCyNSvhRD4RAvCQ</td>\n",
       "      <td>Save My Life (feat. Lovespeake)</td>\n",
       "      <td>183750</td>\n",
       "      <td>0.704</td>\n",
       "      <td>0.745</td>\n",
       "      <td>11</td>\n",
       "      <td>-7.664</td>\n",
       "      <td>0</td>\n",
       "      <td>0.0448</td>\n",
       "      <td>0.00135</td>\n",
       "      <td>0.741000</td>\n",
       "      <td>0.234</td>\n",
       "      <td>0.0511</td>\n",
       "      <td>128.002</td>\n",
       "      <td>https://api.spotify.com/v1/audio-analysis/1w8D...</td>\n",
       "      <td>4</td>\n",
       "      <td>Tap it back or go for a spin with these uptemp...</td>\n",
       "      <td>212</td>\n",
       "      <td>2064049</td>\n",
       "    </tr>\n",
       "    <tr>\n",
       "      <th>4</th>\n",
       "      <td>7GiozRoMk95aFl1WbrDdjX</td>\n",
       "      <td>Nobody</td>\n",
       "      <td>37i9dQZF1DX32NsLKyzScr</td>\n",
       "      <td>Power Hour</td>\n",
       "      <td>['5jAMCwdNHWr7JThxtMuEyy', '4cpqUkL78IoYnEvYj4...</td>\n",
       "      <td>['NOTD', 'Catello']</td>\n",
       "      <td>0n1BagGDuJad065Qjb7enT</td>\n",
       "      <td>Nobody</td>\n",
       "      <td>143952</td>\n",
       "      <td>0.818</td>\n",
       "      <td>0.773</td>\n",
       "      <td>8</td>\n",
       "      <td>-5.714</td>\n",
       "      <td>0</td>\n",
       "      <td>0.0579</td>\n",
       "      <td>0.01660</td>\n",
       "      <td>0.000008</td>\n",
       "      <td>0.377</td>\n",
       "      <td>0.8780</td>\n",
       "      <td>122.016</td>\n",
       "      <td>https://api.spotify.com/v1/audio-analysis/7Gio...</td>\n",
       "      <td>4</td>\n",
       "      <td>Tap it back or go for a spin with these uptemp...</td>\n",
       "      <td>212</td>\n",
       "      <td>2064049</td>\n",
       "    </tr>\n",
       "  </tbody>\n",
       "</table>\n",
       "</div>"
      ],
      "text/plain": [
       "                 track_id  ... num_followers\n",
       "0  20McUFi8KCIVdNDLrkTDuZ  ...       2064049\n",
       "1  6f3Slt0GbA2bPZlz0aIFXN  ...       2064049\n",
       "2  14ngWWxvUSnIMXgF6rzSk1  ...       2064049\n",
       "3  1w8DxFHDDInmn5TovLKKrW  ...       2064049\n",
       "4  7GiozRoMk95aFl1WbrDdjX  ...       2064049\n",
       "\n",
       "[5 rows x 25 columns]"
      ]
     },
     "execution_count": 38,
     "metadata": {
      "tags": []
     },
     "output_type": "execute_result"
    }
   ],
   "source": [
    "pd_tracks_copy = pd.read_csv(path_tracks, sep = '\\t')\n",
    "pd_tracks_copy.head()\n",
    "\n",
    "print(pd_tracks_copy.shape)\n",
    "pd_tracks_copy = pd.merge(pd_tracks_copy, pd_audio_feats, left_on = 'track_id', right_on = 'id')\n",
    "pd_tracks_copy = pd_tracks_copy.drop('id', 1)\n",
    "print(pd_tracks_copy.shape)\n",
    "\n",
    "pd_full_top50 = pd.merge(pd_tracks_copy, pd_playlists_top50, left_on = 'playlist_id', right_on = 'playlist_id')\n",
    "\n",
    "pd_full_top50 = pd_full_top50.drop('playlist_name_y', 1)\n",
    "pd_full_top50.head()\n"
   ]
  },
  {
   "cell_type": "code",
   "execution_count": null,
   "metadata": {
    "colab": {
     "base_uri": "https://localhost:8080/"
    },
    "id": "plseoa1r62BU",
    "outputId": "bbd334e5-109f-4cc8-ecf0-21b158b95d82"
   },
   "outputs": [
    {
     "data": {
      "text/plain": [
       "LabelEncoder()"
      ]
     },
     "execution_count": 18,
     "metadata": {
      "tags": []
     },
     "output_type": "execute_result"
    }
   ],
   "source": [
    "le = preprocessing.LabelEncoder()\n",
    "le.fit(pd_full_top50['playlist_id'])"
   ]
  },
  {
   "cell_type": "code",
   "execution_count": null,
   "metadata": {
    "id": "e5FOcqqs6-oK"
   },
   "outputs": [],
   "source": [
    "pd_full_top50['playlist_id_label'] = le.transform(pd_full_top50['playlist_id'])"
   ]
  },
  {
   "cell_type": "code",
   "execution_count": null,
   "metadata": {
    "id": "AihueRer7UEy"
   },
   "outputs": [],
   "source": [
    "omit_feats = ['track_id', 'track_name', 'playlist_id', 'playlist_name_x','artist_ids', 'artist_names', 'album_id', 'album_name', 'analysis_url', 'time_signature', 'description', 'num_followers', 'num_tracks']"
   ]
  },
  {
   "cell_type": "code",
   "execution_count": null,
   "metadata": {
    "id": "rNHLdU2_7yHD"
   },
   "outputs": [],
   "source": [
    "pd_full_top50 = pd_full_top50.drop(omit_feats, 1)"
   ]
  },
  {
   "cell_type": "code",
   "execution_count": null,
   "metadata": {
    "colab": {
     "base_uri": "https://localhost:8080/",
     "height": 215
    },
    "id": "GcKhku0072_s",
    "outputId": "7e8fbf53-a758-4b4f-c6dd-636edc670609"
   },
   "outputs": [
    {
     "data": {
      "text/html": [
       "<div>\n",
       "<style scoped>\n",
       "    .dataframe tbody tr th:only-of-type {\n",
       "        vertical-align: middle;\n",
       "    }\n",
       "\n",
       "    .dataframe tbody tr th {\n",
       "        vertical-align: top;\n",
       "    }\n",
       "\n",
       "    .dataframe thead th {\n",
       "        text-align: right;\n",
       "    }\n",
       "</style>\n",
       "<table border=\"1\" class=\"dataframe\">\n",
       "  <thead>\n",
       "    <tr style=\"text-align: right;\">\n",
       "      <th></th>\n",
       "      <th>track_duration_ms</th>\n",
       "      <th>danceability</th>\n",
       "      <th>energy</th>\n",
       "      <th>key</th>\n",
       "      <th>loudness</th>\n",
       "      <th>mode</th>\n",
       "      <th>speechiness</th>\n",
       "      <th>acousticness</th>\n",
       "      <th>instrumentalness</th>\n",
       "      <th>liveness</th>\n",
       "      <th>valence</th>\n",
       "      <th>tempo</th>\n",
       "      <th>playlist_id_label</th>\n",
       "    </tr>\n",
       "  </thead>\n",
       "  <tbody>\n",
       "    <tr>\n",
       "      <th>0</th>\n",
       "      <td>163208</td>\n",
       "      <td>0.767</td>\n",
       "      <td>0.659</td>\n",
       "      <td>1</td>\n",
       "      <td>-7.429</td>\n",
       "      <td>1</td>\n",
       "      <td>0.0444</td>\n",
       "      <td>0.32500</td>\n",
       "      <td>0.000000</td>\n",
       "      <td>0.130</td>\n",
       "      <td>0.4390</td>\n",
       "      <td>124.946</td>\n",
       "      <td>24</td>\n",
       "    </tr>\n",
       "    <tr>\n",
       "      <th>1</th>\n",
       "      <td>164000</td>\n",
       "      <td>0.798</td>\n",
       "      <td>0.620</td>\n",
       "      <td>8</td>\n",
       "      <td>-7.079</td>\n",
       "      <td>0</td>\n",
       "      <td>0.2320</td>\n",
       "      <td>0.41400</td>\n",
       "      <td>0.019200</td>\n",
       "      <td>0.112</td>\n",
       "      <td>0.2350</td>\n",
       "      <td>120.031</td>\n",
       "      <td>24</td>\n",
       "    </tr>\n",
       "    <tr>\n",
       "      <th>2</th>\n",
       "      <td>156960</td>\n",
       "      <td>0.798</td>\n",
       "      <td>0.828</td>\n",
       "      <td>2</td>\n",
       "      <td>-5.360</td>\n",
       "      <td>1</td>\n",
       "      <td>0.1930</td>\n",
       "      <td>0.02470</td>\n",
       "      <td>0.000003</td>\n",
       "      <td>0.121</td>\n",
       "      <td>0.6000</td>\n",
       "      <td>124.962</td>\n",
       "      <td>24</td>\n",
       "    </tr>\n",
       "    <tr>\n",
       "      <th>3</th>\n",
       "      <td>183750</td>\n",
       "      <td>0.704</td>\n",
       "      <td>0.745</td>\n",
       "      <td>11</td>\n",
       "      <td>-7.664</td>\n",
       "      <td>0</td>\n",
       "      <td>0.0448</td>\n",
       "      <td>0.00135</td>\n",
       "      <td>0.741000</td>\n",
       "      <td>0.234</td>\n",
       "      <td>0.0511</td>\n",
       "      <td>128.002</td>\n",
       "      <td>24</td>\n",
       "    </tr>\n",
       "    <tr>\n",
       "      <th>4</th>\n",
       "      <td>143952</td>\n",
       "      <td>0.818</td>\n",
       "      <td>0.773</td>\n",
       "      <td>8</td>\n",
       "      <td>-5.714</td>\n",
       "      <td>0</td>\n",
       "      <td>0.0579</td>\n",
       "      <td>0.01660</td>\n",
       "      <td>0.000008</td>\n",
       "      <td>0.377</td>\n",
       "      <td>0.8780</td>\n",
       "      <td>122.016</td>\n",
       "      <td>24</td>\n",
       "    </tr>\n",
       "  </tbody>\n",
       "</table>\n",
       "</div>"
      ],
      "text/plain": [
       "   track_duration_ms  danceability  energy  ...  valence    tempo  playlist_id_label\n",
       "0             163208         0.767   0.659  ...   0.4390  124.946                 24\n",
       "1             164000         0.798   0.620  ...   0.2350  120.031                 24\n",
       "2             156960         0.798   0.828  ...   0.6000  124.962                 24\n",
       "3             183750         0.704   0.745  ...   0.0511  128.002                 24\n",
       "4             143952         0.818   0.773  ...   0.8780  122.016                 24\n",
       "\n",
       "[5 rows x 13 columns]"
      ]
     },
     "execution_count": 22,
     "metadata": {
      "tags": []
     },
     "output_type": "execute_result"
    }
   ],
   "source": [
    "pd_full_top50.head()\n"
   ]
  },
  {
   "cell_type": "code",
   "execution_count": null,
   "metadata": {
    "id": "S38w60kcAEGK"
   },
   "outputs": [],
   "source": [
    "clf = lgb.LGBMClassifier(class_weight='balanced',drop_rate=0.9, min_data_in_leaf=100, max_bin=255,\n",
    "                                 n_estimators=500,min_sum_hessian_in_leaf=1,importance_type='gain',learning_rate=0.1,bagging_fraction = 0.85,\n",
    "                                 colsample_bytree = 1.0,feature_fraction = 0.1,lambda_l1 = 5.0,lambda_l2 = 3.0,max_depth =  9,\n",
    "                                 min_child_samples = 55,min_child_weight = 5.0,min_split_gain = 0.1,num_leaves = 45,subsample = 0.75)  \n",
    "\n",
    "X = pd_full_top50.drop('playlist_id_label', 1)\n",
    "y = pd_full_top50['playlist_id_label']"
   ]
  },
  {
   "cell_type": "code",
   "execution_count": null,
   "metadata": {
    "colab": {
     "base_uri": "https://localhost:8080/"
    },
    "id": "34h2MIO2FSKy",
    "outputId": "9e94a0fa-c76c-463d-8f26-e443606a4b8e"
   },
   "outputs": [
    {
     "data": {
      "text/plain": [
       "LGBMClassifier(bagging_fraction=0.85, boosting_type='gbdt',\n",
       "               class_weight='balanced', colsample_bytree=1.0, drop_rate=0.9,\n",
       "               feature_fraction=0.1, importance_type='gain', lambda_l1=5.0,\n",
       "               lambda_l2=3.0, learning_rate=0.1, max_bin=255, max_depth=9,\n",
       "               min_child_samples=55, min_child_weight=5.0, min_data_in_leaf=100,\n",
       "               min_split_gain=0.1, min_sum_hessian_in_leaf=1, n_estimators=500,\n",
       "               n_jobs=-1, num_leaves=45, objective=None, random_state=None,\n",
       "               reg_alpha=0.0, reg_lambda=0.0, silent=True, subsample=0.75,\n",
       "               subsample_for_bin=200000, subsample_freq=0)"
      ]
     },
     "execution_count": 25,
     "metadata": {
      "tags": []
     },
     "output_type": "execute_result"
    }
   ],
   "source": [
    "clf.fit(X, y, verbose=True)"
   ]
  },
  {
   "cell_type": "code",
   "execution_count": null,
   "metadata": {
    "colab": {
     "base_uri": "https://localhost:8080/",
     "height": 570
    },
    "id": "JnQk8UXOAEIk",
    "outputId": "0f93ddb7-b63e-46e8-bf3b-4cf3b737bb32"
   },
   "outputs": [
    {
     "data": {
      "image/png": "[encoded data removed]",
      "text/plain": [
       "<Figure size 1440x720 with 1 Axes>"
      ]
     },
     "metadata": {
      "needs_background": "light",
      "tags": []
     },
     "output_type": "display_data"
    }
   ],
   "source": [
    "# sorted(zip(clf.feature_importances_, X.columns), reverse=True)\n",
    "feature_imp = pd.DataFrame(sorted(zip(clf.feature_importances_,X.columns)), columns=['Value','Feature'])\n",
    "\n",
    "plt.figure(figsize=(20, 10))\n",
    "sns.barplot(x=\"Value\", y=\"Feature\", data=feature_imp.sort_values(by=\"Value\", ascending=False))\n",
    "plt.title('LightGBM Features')\n",
    "plt.tight_layout()\n",
    "plt.show()"
   ]
  },
  {
   "cell_type": "code",
   "execution_count": null,
   "metadata": {
    "colab": {
     "base_uri": "https://localhost:8080/"
    },
    "id": "BUbogfmJblg7",
    "outputId": "c41733e6-9c5c-4839-d41f-598e5aa116ea"
   },
   "outputs": [
    {
     "data": {
      "text/plain": [
       "ExtraTreesClassifier(bootstrap=False, ccp_alpha=0.0, class_weight=None,\n",
       "                     criterion='gini', max_depth=None, max_features='auto',\n",
       "                     max_leaf_nodes=None, max_samples=None,\n",
       "                     min_impurity_decrease=0.0, min_impurity_split=None,\n",
       "                     min_samples_leaf=1, min_samples_split=2,\n",
       "                     min_weight_fraction_leaf=0.0, n_estimators=100,\n",
       "                     n_jobs=None, oob_score=False, random_state=None, verbose=0,\n",
       "                     warm_start=False)"
      ]
     },
     "execution_count": 27,
     "metadata": {
      "tags": []
     },
     "output_type": "execute_result"
    }
   ],
   "source": [
    "model = ExtraTreesClassifier()\n",
    "model.fit(X,y)"
   ]
  },
  {
   "cell_type": "code",
   "execution_count": null,
   "metadata": {
    "colab": {
     "base_uri": "https://localhost:8080/",
     "height": 570
    },
    "id": "doMD4R_AdYjc",
    "outputId": "97318092-89eb-4f81-9a06-34cfb4129986"
   },
   "outputs": [
    {
     "data": {
      "image/png": "[encoded data removed]",
      "text/plain": [
       "<Figure size 1440x720 with 1 Axes>"
      ]
     },
     "metadata": {
      "needs_background": "light",
      "tags": []
     },
     "output_type": "display_data"
    }
   ],
   "source": [
    "# sorted(zip(clf.feature_importances_, X.columns), reverse=True)\n",
    "feature_imp = pd.DataFrame(sorted(zip(model.feature_importances_,X.columns)), columns=['Value','Feature'])\n",
    "\n",
    "plt.figure(figsize=(20, 10))\n",
    "sns.barplot(x=\"Value\", y=\"Feature\", data=feature_imp.sort_values(by=\"Value\", ascending=False))\n",
    "plt.title('ExtraTreesClassifier Features')\n",
    "plt.tight_layout()\n",
    "plt.show()"
   ]
  },
  {
   "cell_type": "markdown",
   "metadata": {
    "id": "pmXlSO1edrRr"
   },
   "source": [
    "## Multi features"
   ]
  },
  {
   "cell_type": "code",
   "execution_count": null,
   "metadata": {
    "colab": {
     "base_uri": "https://localhost:8080/"
    },
    "id": "kCOFtz3TejRy",
    "outputId": "96cfafb8-727e-44c7-de60-e51096b473e2"
   },
   "outputs": [
    {
     "data": {
      "text/plain": [
       "Index(['track_duration_ms', 'danceability', 'energy', 'key', 'loudness',\n",
       "       'mode', 'speechiness', 'acousticness', 'instrumentalness', 'liveness',\n",
       "       'valence', 'tempo'],\n",
       "      dtype='object')"
      ]
     },
     "execution_count": 29,
     "metadata": {
      "tags": []
     },
     "output_type": "execute_result"
    }
   ],
   "source": [
    "X.columns"
   ]
  },
  {
   "cell_type": "code",
   "execution_count": null,
   "metadata": {
    "id": "cE6nZTAed2v7"
   },
   "outputs": [],
   "source": [
    "track_name = ['Levitating (feat. DaBaby)', 'Tessanne Tell Dem']\n",
    "features = ['loudness', 'acousticness', 'speechiness', 'energy']"
   ]
  },
  {
   "cell_type": "code",
   "execution_count": null,
   "metadata": {
    "id": "Ly1WDowwBBkD"
   },
   "outputs": [],
   "source": [
    "def baseline(tracks, df, n_pred):\n",
    "    recs = []\n",
    "    for t in tracks:\n",
    "        danceability = df[df['track_name'] == t]['danceability']\n",
    "        df['rec_df_dance'] = np.abs(df['danceability'] - danceability.values[0])\n",
    "        one_recs = list(df.sort_values(by=['rec_df_dance'])['track_name'][1:].values)\n",
    "        recs.extend([track for track in one_recs if track not in tracks][0:n_pred])\n",
    "  \n",
    "    preds = collections.Counter(recs).most_common(n_pred)\n",
    "    pred_titles = [p[0] for p in preds]\n",
    "    return pred_titles"
   ]
  },
  {
   "cell_type": "code",
   "execution_count": null,
   "metadata": {
    "colab": {
     "base_uri": "https://localhost:8080/"
    },
    "id": "ig0BZFffEbTk",
    "outputId": "46e92542-c65e-4534-b525-0b63daebed6b"
   },
   "outputs": [
    {
     "data": {
      "text/plain": [
       "[\"Can't Feel My Face\",\n",
       " 'Power Without Greed',\n",
       " 'Hot N Cold',\n",
       " \"Would You Would or Would You Won't?\",\n",
       " 'Within',\n",
       " 'Available',\n",
       " 'Born 100,000 Years Ago',\n",
       " 'Gone - Radio Edit',\n",
       " 'Sorry - Dirty South Radio Edit',\n",
       " 'Dying in the Subtlety']"
      ]
     },
     "execution_count": 32,
     "metadata": {
      "tags": []
     },
     "output_type": "execute_result"
    }
   ],
   "source": [
    "result = baseline(track_name, pd_full, 10)\n",
    "result"
   ]
  },
  {
   "cell_type": "code",
   "execution_count": null,
   "metadata": {
    "id": "lxgeLpaKdWvq"
   },
   "outputs": [],
   "source": [
    "def multi_feats_baseline(tracks, df, n_pred, feats):\n",
    "    recs = []\n",
    "    for t in tracks:\n",
    "        sum_feat_values = 0\n",
    "        for feat in feats:\n",
    "          feat_values = df[df['track_name'] == t][feat]\n",
    "          sum_feat_values = sum_feat_values + np.abs(df[feat] - feat_values.values[0]) ** len(feats)\n",
    "\n",
    "        df['rec_df_feats'] = sum_feat_values ** (1 / len(feats))\n",
    "        one_recs = list(df.sort_values(by=['rec_df_feats'])['track_name'][1:].values)\n",
    "        recs.extend([track for track in one_recs if track not in tracks][0:n_pred])\n",
    "\n",
    "    preds = collections.Counter(recs).most_common(n_pred)\n",
    "    pred_titles = [p[0] for p in preds]\n",
    "    return pred_titles"
   ]
  },
  {
   "cell_type": "code",
   "execution_count": null,
   "metadata": {
    "colab": {
     "base_uri": "https://localhost:8080/"
    },
    "id": "kyvSDwiag5Tm",
    "outputId": "a91a12d8-c5fc-404b-aadb-8cba9c4d551b"
   },
   "outputs": [
    {
     "data": {
      "text/plain": [
       "array([0.767, 0.798, 0.798, ..., 0.164, 0.231, 0.187])"
      ]
     },
     "execution_count": 34,
     "metadata": {
      "tags": []
     },
     "output_type": "execute_result"
    }
   ],
   "source": [
    "danceability = pd_full_top50['danceability']\n",
    "danceability.values"
   ]
  },
  {
   "cell_type": "code",
   "execution_count": null,
   "metadata": {
    "colab": {
     "base_uri": "https://localhost:8080/"
    },
    "id": "JOLM3eozrpKa",
    "outputId": "3dfe2272-4d80-4816-f1af-7f690b6a9572"
   },
   "outputs": [
    {
     "data": {
      "text/plain": [
       "array([4, 5, 6])"
      ]
     },
     "execution_count": 35,
     "metadata": {
      "tags": []
     },
     "output_type": "execute_result"
    }
   ],
   "source": [
    "a = 0\n",
    "b = np.array([4,5,6])\n",
    "a + b"
   ]
  },
  {
   "cell_type": "code",
   "execution_count": null,
   "metadata": {
    "id": "-Nwkpwm9eT8T"
   },
   "outputs": [],
   "source": [
    "result = multi_feats_baseline(track_name, pd_full, 10, features)"
   ]
  },
  {
   "cell_type": "code",
   "execution_count": null,
   "metadata": {
    "colab": {
     "base_uri": "https://localhost:8080/"
    },
    "id": "hRzfnjyXsOf_",
    "outputId": "f513c973-4049-4c15-aadd-6e296482ebf0"
   },
   "outputs": [
    {
     "data": {
      "text/plain": [
       "['Last Friday Night (T.G.I.F.)',\n",
       " 'All Good',\n",
       " 'Better Together',\n",
       " 'Thunder',\n",
       " 'Blurry',\n",
       " 'Stick It to the Man',\n",
       " \"Ain't Right\",\n",
       " 'Lady Marmalade - From \"Moulin Rouge\" Soundtrack',\n",
       " \"Runnin' (Dying To Live)\",\n",
       " 'Doppelganger']"
      ]
     },
     "execution_count": 37,
     "metadata": {
      "tags": []
     },
     "output_type": "execute_result"
    }
   ],
   "source": [
    "result"
   ]
  },
  {
   "cell_type": "code",
   "execution_count": null,
   "metadata": {
    "colab": {
     "base_uri": "https://localhost:8080/",
     "height": 484
    },
    "id": "n5ydTiyfCNsj",
    "outputId": "8b32e9e9-e682-4ed8-cc3c-b3e39715c35a"
   },
   "outputs": [
    {
     "data": {
      "text/html": [
       "<div>\n",
       "<style scoped>\n",
       "    .dataframe tbody tr th:only-of-type {\n",
       "        vertical-align: middle;\n",
       "    }\n",
       "\n",
       "    .dataframe tbody tr th {\n",
       "        vertical-align: top;\n",
       "    }\n",
       "\n",
       "    .dataframe thead th {\n",
       "        text-align: right;\n",
       "    }\n",
       "</style>\n",
       "<table border=\"1\" class=\"dataframe\">\n",
       "  <thead>\n",
       "    <tr style=\"text-align: right;\">\n",
       "      <th></th>\n",
       "      <th>track_id</th>\n",
       "      <th>track_name</th>\n",
       "      <th>playlist_id</th>\n",
       "      <th>playlist_name_x</th>\n",
       "      <th>artist_ids</th>\n",
       "      <th>artist_names</th>\n",
       "      <th>album_id</th>\n",
       "      <th>album_name</th>\n",
       "      <th>track_duration_ms</th>\n",
       "      <th>danceability</th>\n",
       "      <th>energy</th>\n",
       "      <th>key</th>\n",
       "      <th>loudness</th>\n",
       "      <th>mode</th>\n",
       "      <th>speechiness</th>\n",
       "      <th>acousticness</th>\n",
       "      <th>instrumentalness</th>\n",
       "      <th>liveness</th>\n",
       "      <th>valence</th>\n",
       "      <th>tempo</th>\n",
       "      <th>analysis_url</th>\n",
       "      <th>time_signature</th>\n",
       "      <th>description</th>\n",
       "      <th>num_tracks</th>\n",
       "      <th>num_followers</th>\n",
       "      <th>rec_df_dance</th>\n",
       "      <th>rec_df_feats</th>\n",
       "    </tr>\n",
       "  </thead>\n",
       "  <tbody>\n",
       "    <tr>\n",
       "      <th>0</th>\n",
       "      <td>463CkQjx2Zk1yXoBuierM9</td>\n",
       "      <td>Levitating (feat. DaBaby)</td>\n",
       "      <td>37i9dQZF1DXcBWIGoYBM5M</td>\n",
       "      <td>Today's Top Hits</td>\n",
       "      <td>['6M2wZ9GZgrQXHCFfjv46we', '4r63FhuTkUYltbVAg5...</td>\n",
       "      <td>['Dua Lipa', 'DaBaby']</td>\n",
       "      <td>04m06KhJUuwe1Q487puIud</td>\n",
       "      <td>Levitating (feat. DaBaby)</td>\n",
       "      <td>203064</td>\n",
       "      <td>0.702</td>\n",
       "      <td>0.825</td>\n",
       "      <td>6</td>\n",
       "      <td>-3.787</td>\n",
       "      <td>0</td>\n",
       "      <td>0.0601</td>\n",
       "      <td>0.00883</td>\n",
       "      <td>0.00000</td>\n",
       "      <td>0.0674</td>\n",
       "      <td>0.915</td>\n",
       "      <td>102.977</td>\n",
       "      <td>https://api.spotify.com/v1/audio-analysis/463C...</td>\n",
       "      <td>4</td>\n",
       "      <td>Dua Lipa &amp; DaBaby are on top of the Hottest 50!</td>\n",
       "      <td>50</td>\n",
       "      <td>27084233</td>\n",
       "      <td>0.019</td>\n",
       "      <td>1.106072</td>\n",
       "    </tr>\n",
       "    <tr>\n",
       "      <th>1</th>\n",
       "      <td>7igeByaBM0MgGsgXtNxDJ7</td>\n",
       "      <td>positions</td>\n",
       "      <td>37i9dQZF1DXcBWIGoYBM5M</td>\n",
       "      <td>Today's Top Hits</td>\n",
       "      <td>['66CXWjxzNUsdJxJ2JdwvnR']</td>\n",
       "      <td>['Ariana Grande']</td>\n",
       "      <td>3jqEvfiu2ENgmgzZq27zbi</td>\n",
       "      <td>positions</td>\n",
       "      <td>172324</td>\n",
       "      <td>0.736</td>\n",
       "      <td>0.802</td>\n",
       "      <td>0</td>\n",
       "      <td>-4.759</td>\n",
       "      <td>1</td>\n",
       "      <td>0.0864</td>\n",
       "      <td>0.46800</td>\n",
       "      <td>0.00000</td>\n",
       "      <td>0.0940</td>\n",
       "      <td>0.675</td>\n",
       "      <td>144.005</td>\n",
       "      <td>https://api.spotify.com/v1/audio-analysis/7ige...</td>\n",
       "      <td>4</td>\n",
       "      <td>Dua Lipa &amp; DaBaby are on top of the Hottest 50!</td>\n",
       "      <td>50</td>\n",
       "      <td>27084233</td>\n",
       "      <td>0.015</td>\n",
       "      <td>2.072903</td>\n",
       "    </tr>\n",
       "    <tr>\n",
       "      <th>2</th>\n",
       "      <td>0lx2cLdOt3piJbcaXIV74f</td>\n",
       "      <td>willow</td>\n",
       "      <td>37i9dQZF1DXcBWIGoYBM5M</td>\n",
       "      <td>Today's Top Hits</td>\n",
       "      <td>['06HL4z0CvFAxyc27GXpf02']</td>\n",
       "      <td>['Taylor Swift']</td>\n",
       "      <td>2Xoteh7uEpea4TohMxjtaq</td>\n",
       "      <td>evermore</td>\n",
       "      <td>214706</td>\n",
       "      <td>0.392</td>\n",
       "      <td>0.574</td>\n",
       "      <td>7</td>\n",
       "      <td>-9.195</td>\n",
       "      <td>1</td>\n",
       "      <td>0.1700</td>\n",
       "      <td>0.83300</td>\n",
       "      <td>0.00179</td>\n",
       "      <td>0.1450</td>\n",
       "      <td>0.529</td>\n",
       "      <td>81.112</td>\n",
       "      <td>https://api.spotify.com/v1/audio-analysis/0lx2...</td>\n",
       "      <td>4</td>\n",
       "      <td>Dua Lipa &amp; DaBaby are on top of the Hottest 50!</td>\n",
       "      <td>50</td>\n",
       "      <td>27084233</td>\n",
       "      <td>0.329</td>\n",
       "      <td>6.507396</td>\n",
       "    </tr>\n",
       "    <tr>\n",
       "      <th>3</th>\n",
       "      <td>2Z8yfpFX0ZMavHkcIeHiO1</td>\n",
       "      <td>Monster (Shawn Mendes &amp; Justin Bieber)</td>\n",
       "      <td>37i9dQZF1DXcBWIGoYBM5M</td>\n",
       "      <td>Today's Top Hits</td>\n",
       "      <td>['7n2wHs1TKAczGzO7Dd2rGr', '1uNFoZAHBGtllmzznp...</td>\n",
       "      <td>['Shawn Mendes', 'Justin Bieber']</td>\n",
       "      <td>3yVVL2EYLp8g7gT08VvYKy</td>\n",
       "      <td>Monster</td>\n",
       "      <td>178994</td>\n",
       "      <td>0.652</td>\n",
       "      <td>0.383</td>\n",
       "      <td>2</td>\n",
       "      <td>-7.076</td>\n",
       "      <td>0</td>\n",
       "      <td>0.0516</td>\n",
       "      <td>0.06760</td>\n",
       "      <td>0.00000</td>\n",
       "      <td>0.0828</td>\n",
       "      <td>0.549</td>\n",
       "      <td>145.765</td>\n",
       "      <td>https://api.spotify.com/v1/audio-analysis/2Z8y...</td>\n",
       "      <td>4</td>\n",
       "      <td>Dua Lipa &amp; DaBaby are on top of the Hottest 50!</td>\n",
       "      <td>50</td>\n",
       "      <td>27084233</td>\n",
       "      <td>0.069</td>\n",
       "      <td>4.388142</td>\n",
       "    </tr>\n",
       "    <tr>\n",
       "      <th>4</th>\n",
       "      <td>6zFMeegAMYQo0mt8rXtrli</td>\n",
       "      <td>HOLIDAY</td>\n",
       "      <td>37i9dQZF1DXcBWIGoYBM5M</td>\n",
       "      <td>Today's Top Hits</td>\n",
       "      <td>['7jVv8c5Fj3E9VhNjxT4snq']</td>\n",
       "      <td>['Lil Nas X']</td>\n",
       "      <td>4EvukZrmNBiqJbs3LwOSHu</td>\n",
       "      <td>HOLIDAY</td>\n",
       "      <td>154997</td>\n",
       "      <td>0.810</td>\n",
       "      <td>0.511</td>\n",
       "      <td>5</td>\n",
       "      <td>-6.924</td>\n",
       "      <td>0</td>\n",
       "      <td>0.1640</td>\n",
       "      <td>0.12000</td>\n",
       "      <td>0.00000</td>\n",
       "      <td>0.0832</td>\n",
       "      <td>0.837</td>\n",
       "      <td>151.947</td>\n",
       "      <td>https://api.spotify.com/v1/audio-analysis/6zFM...</td>\n",
       "      <td>4</td>\n",
       "      <td>Dua Lipa &amp; DaBaby are on top of the Hottest 50!</td>\n",
       "      <td>50</td>\n",
       "      <td>27084233</td>\n",
       "      <td>0.089</td>\n",
       "      <td>4.236045</td>\n",
       "    </tr>\n",
       "  </tbody>\n",
       "</table>\n",
       "</div>"
      ],
      "text/plain": [
       "                 track_id  ... rec_df_feats\n",
       "0  463CkQjx2Zk1yXoBuierM9  ...     1.106072\n",
       "1  7igeByaBM0MgGsgXtNxDJ7  ...     2.072903\n",
       "2  0lx2cLdOt3piJbcaXIV74f  ...     6.507396\n",
       "3  2Z8yfpFX0ZMavHkcIeHiO1  ...     4.388142\n",
       "4  6zFMeegAMYQo0mt8rXtrli  ...     4.236045\n",
       "\n",
       "[5 rows x 27 columns]"
      ]
     },
     "execution_count": 38,
     "metadata": {
      "tags": []
     },
     "output_type": "execute_result"
    }
   ],
   "source": [
    "pd_full.head()"
   ]
  },
  {
   "cell_type": "markdown",
   "metadata": {
    "id": "kcgVMDgxt28n"
   },
   "source": [
    "## Content Filtering"
   ]
  },
  {
   "cell_type": "code",
   "execution_count": null,
   "metadata": {
    "id": "Mp-xgEbcNzjZ"
   },
   "outputs": [],
   "source": [
    "pd_full_top50_copy = pd_full_top50.copy()"
   ]
  },
  {
   "cell_type": "code",
   "execution_count": null,
   "metadata": {
    "id": "8w3YVdKIwOKX"
   },
   "outputs": [],
   "source": [
    "pd_full_top50 = pd_full_top50.drop('playlist_id_label', 1)"
   ]
  },
  {
   "cell_type": "code",
   "execution_count": null,
   "metadata": {
    "colab": {
     "base_uri": "https://localhost:8080/",
     "height": 195
    },
    "id": "frO4rKkqI5Z6",
    "outputId": "75b4a404-774a-463b-d586-67967cf3dddb"
   },
   "outputs": [
    {
     "data": {
      "text/html": [
       "<div>\n",
       "<style scoped>\n",
       "    .dataframe tbody tr th:only-of-type {\n",
       "        vertical-align: middle;\n",
       "    }\n",
       "\n",
       "    .dataframe tbody tr th {\n",
       "        vertical-align: top;\n",
       "    }\n",
       "\n",
       "    .dataframe thead th {\n",
       "        text-align: right;\n",
       "    }\n",
       "</style>\n",
       "<table border=\"1\" class=\"dataframe\">\n",
       "  <thead>\n",
       "    <tr style=\"text-align: right;\">\n",
       "      <th></th>\n",
       "      <th>track_duration_ms</th>\n",
       "      <th>danceability</th>\n",
       "      <th>energy</th>\n",
       "      <th>key</th>\n",
       "      <th>loudness</th>\n",
       "      <th>mode</th>\n",
       "      <th>speechiness</th>\n",
       "      <th>acousticness</th>\n",
       "      <th>instrumentalness</th>\n",
       "      <th>liveness</th>\n",
       "      <th>valence</th>\n",
       "      <th>tempo</th>\n",
       "    </tr>\n",
       "  </thead>\n",
       "  <tbody>\n",
       "    <tr>\n",
       "      <th>0</th>\n",
       "      <td>163208</td>\n",
       "      <td>0.767</td>\n",
       "      <td>0.659</td>\n",
       "      <td>1</td>\n",
       "      <td>-7.429</td>\n",
       "      <td>1</td>\n",
       "      <td>0.0444</td>\n",
       "      <td>0.32500</td>\n",
       "      <td>0.000000</td>\n",
       "      <td>0.130</td>\n",
       "      <td>0.4390</td>\n",
       "      <td>124.946</td>\n",
       "    </tr>\n",
       "    <tr>\n",
       "      <th>1</th>\n",
       "      <td>164000</td>\n",
       "      <td>0.798</td>\n",
       "      <td>0.620</td>\n",
       "      <td>8</td>\n",
       "      <td>-7.079</td>\n",
       "      <td>0</td>\n",
       "      <td>0.2320</td>\n",
       "      <td>0.41400</td>\n",
       "      <td>0.019200</td>\n",
       "      <td>0.112</td>\n",
       "      <td>0.2350</td>\n",
       "      <td>120.031</td>\n",
       "    </tr>\n",
       "    <tr>\n",
       "      <th>2</th>\n",
       "      <td>156960</td>\n",
       "      <td>0.798</td>\n",
       "      <td>0.828</td>\n",
       "      <td>2</td>\n",
       "      <td>-5.360</td>\n",
       "      <td>1</td>\n",
       "      <td>0.1930</td>\n",
       "      <td>0.02470</td>\n",
       "      <td>0.000003</td>\n",
       "      <td>0.121</td>\n",
       "      <td>0.6000</td>\n",
       "      <td>124.962</td>\n",
       "    </tr>\n",
       "    <tr>\n",
       "      <th>3</th>\n",
       "      <td>183750</td>\n",
       "      <td>0.704</td>\n",
       "      <td>0.745</td>\n",
       "      <td>11</td>\n",
       "      <td>-7.664</td>\n",
       "      <td>0</td>\n",
       "      <td>0.0448</td>\n",
       "      <td>0.00135</td>\n",
       "      <td>0.741000</td>\n",
       "      <td>0.234</td>\n",
       "      <td>0.0511</td>\n",
       "      <td>128.002</td>\n",
       "    </tr>\n",
       "    <tr>\n",
       "      <th>4</th>\n",
       "      <td>143952</td>\n",
       "      <td>0.818</td>\n",
       "      <td>0.773</td>\n",
       "      <td>8</td>\n",
       "      <td>-5.714</td>\n",
       "      <td>0</td>\n",
       "      <td>0.0579</td>\n",
       "      <td>0.01660</td>\n",
       "      <td>0.000008</td>\n",
       "      <td>0.377</td>\n",
       "      <td>0.8780</td>\n",
       "      <td>122.016</td>\n",
       "    </tr>\n",
       "  </tbody>\n",
       "</table>\n",
       "</div>"
      ],
      "text/plain": [
       "   track_duration_ms  danceability  energy  ...  liveness  valence    tempo\n",
       "0             163208         0.767   0.659  ...     0.130   0.4390  124.946\n",
       "1             164000         0.798   0.620  ...     0.112   0.2350  120.031\n",
       "2             156960         0.798   0.828  ...     0.121   0.6000  124.962\n",
       "3             183750         0.704   0.745  ...     0.234   0.0511  128.002\n",
       "4             143952         0.818   0.773  ...     0.377   0.8780  122.016\n",
       "\n",
       "[5 rows x 12 columns]"
      ]
     },
     "execution_count": 30,
     "metadata": {
      "tags": []
     },
     "output_type": "execute_result"
    }
   ],
   "source": [
    "pd_full_top50.head()"
   ]
  },
  {
   "cell_type": "code",
   "execution_count": null,
   "metadata": {
    "id": "0Jbdq6cYsPOo"
   },
   "outputs": [],
   "source": [
    "# Standardizing the data\n",
    "scaler = MinMaxScaler()\n",
    "scaler.fit(pd_full_top50)\n",
    "df_full_scaled = scaler.transform(pd_full_top50)\n",
    "\n",
    "# We create the cosine similarity matrix of the small scaled dataframe we have \n",
    "df_full_cosine = pd.DataFrame(cosine_similarity(df_full_scaled))"
   ]
  },
  {
   "cell_type": "code",
   "execution_count": null,
   "metadata": {
    "colab": {
     "base_uri": "https://localhost:8080/",
     "height": 402
    },
    "id": "bWsxJ5xiv4Iv",
    "outputId": "6e40998f-fe35-406f-eb52-d68beb43de82"
   },
   "outputs": [
    {
     "data": {
      "text/html": [
       "<div>\n",
       "<style scoped>\n",
       "    .dataframe tbody tr th:only-of-type {\n",
       "        vertical-align: middle;\n",
       "    }\n",
       "\n",
       "    .dataframe tbody tr th {\n",
       "        vertical-align: top;\n",
       "    }\n",
       "\n",
       "    .dataframe thead th {\n",
       "        text-align: right;\n",
       "    }\n",
       "</style>\n",
       "<table border=\"1\" class=\"dataframe\">\n",
       "  <thead>\n",
       "    <tr style=\"text-align: right;\">\n",
       "      <th></th>\n",
       "      <th>track_duration_ms</th>\n",
       "      <th>danceability</th>\n",
       "      <th>energy</th>\n",
       "      <th>key</th>\n",
       "      <th>loudness</th>\n",
       "      <th>mode</th>\n",
       "      <th>speechiness</th>\n",
       "      <th>acousticness</th>\n",
       "      <th>instrumentalness</th>\n",
       "      <th>liveness</th>\n",
       "      <th>valence</th>\n",
       "      <th>tempo</th>\n",
       "    </tr>\n",
       "  </thead>\n",
       "  <tbody>\n",
       "    <tr>\n",
       "      <th>0</th>\n",
       "      <td>163208</td>\n",
       "      <td>0.7670</td>\n",
       "      <td>0.6590</td>\n",
       "      <td>1</td>\n",
       "      <td>-7.429</td>\n",
       "      <td>1</td>\n",
       "      <td>0.0444</td>\n",
       "      <td>0.32500</td>\n",
       "      <td>0.000000</td>\n",
       "      <td>0.130</td>\n",
       "      <td>0.4390</td>\n",
       "      <td>124.946</td>\n",
       "    </tr>\n",
       "    <tr>\n",
       "      <th>1</th>\n",
       "      <td>164000</td>\n",
       "      <td>0.7980</td>\n",
       "      <td>0.6200</td>\n",
       "      <td>8</td>\n",
       "      <td>-7.079</td>\n",
       "      <td>0</td>\n",
       "      <td>0.2320</td>\n",
       "      <td>0.41400</td>\n",
       "      <td>0.019200</td>\n",
       "      <td>0.112</td>\n",
       "      <td>0.2350</td>\n",
       "      <td>120.031</td>\n",
       "    </tr>\n",
       "    <tr>\n",
       "      <th>2</th>\n",
       "      <td>156960</td>\n",
       "      <td>0.7980</td>\n",
       "      <td>0.8280</td>\n",
       "      <td>2</td>\n",
       "      <td>-5.360</td>\n",
       "      <td>1</td>\n",
       "      <td>0.1930</td>\n",
       "      <td>0.02470</td>\n",
       "      <td>0.000003</td>\n",
       "      <td>0.121</td>\n",
       "      <td>0.6000</td>\n",
       "      <td>124.962</td>\n",
       "    </tr>\n",
       "    <tr>\n",
       "      <th>3</th>\n",
       "      <td>183750</td>\n",
       "      <td>0.7040</td>\n",
       "      <td>0.7450</td>\n",
       "      <td>11</td>\n",
       "      <td>-7.664</td>\n",
       "      <td>0</td>\n",
       "      <td>0.0448</td>\n",
       "      <td>0.00135</td>\n",
       "      <td>0.741000</td>\n",
       "      <td>0.234</td>\n",
       "      <td>0.0511</td>\n",
       "      <td>128.002</td>\n",
       "    </tr>\n",
       "    <tr>\n",
       "      <th>4</th>\n",
       "      <td>143952</td>\n",
       "      <td>0.8180</td>\n",
       "      <td>0.7730</td>\n",
       "      <td>8</td>\n",
       "      <td>-5.714</td>\n",
       "      <td>0</td>\n",
       "      <td>0.0579</td>\n",
       "      <td>0.01660</td>\n",
       "      <td>0.000008</td>\n",
       "      <td>0.377</td>\n",
       "      <td>0.8780</td>\n",
       "      <td>122.016</td>\n",
       "    </tr>\n",
       "    <tr>\n",
       "      <th>...</th>\n",
       "      <td>...</td>\n",
       "      <td>...</td>\n",
       "      <td>...</td>\n",
       "      <td>...</td>\n",
       "      <td>...</td>\n",
       "      <td>...</td>\n",
       "      <td>...</td>\n",
       "      <td>...</td>\n",
       "      <td>...</td>\n",
       "      <td>...</td>\n",
       "      <td>...</td>\n",
       "      <td>...</td>\n",
       "    </tr>\n",
       "    <tr>\n",
       "      <th>4993</th>\n",
       "      <td>229404</td>\n",
       "      <td>0.0602</td>\n",
       "      <td>0.0873</td>\n",
       "      <td>0</td>\n",
       "      <td>-25.050</td>\n",
       "      <td>1</td>\n",
       "      <td>0.0445</td>\n",
       "      <td>0.96500</td>\n",
       "      <td>0.866000</td>\n",
       "      <td>0.107</td>\n",
       "      <td>0.0359</td>\n",
       "      <td>64.171</td>\n",
       "    </tr>\n",
       "    <tr>\n",
       "      <th>4994</th>\n",
       "      <td>208000</td>\n",
       "      <td>0.2330</td>\n",
       "      <td>0.2280</td>\n",
       "      <td>5</td>\n",
       "      <td>-21.068</td>\n",
       "      <td>0</td>\n",
       "      <td>0.0363</td>\n",
       "      <td>0.92200</td>\n",
       "      <td>0.941000</td>\n",
       "      <td>0.116</td>\n",
       "      <td>0.0641</td>\n",
       "      <td>96.783</td>\n",
       "    </tr>\n",
       "    <tr>\n",
       "      <th>4995</th>\n",
       "      <td>179793</td>\n",
       "      <td>0.1640</td>\n",
       "      <td>0.0258</td>\n",
       "      <td>10</td>\n",
       "      <td>-27.415</td>\n",
       "      <td>1</td>\n",
       "      <td>0.0374</td>\n",
       "      <td>0.95700</td>\n",
       "      <td>0.921000</td>\n",
       "      <td>0.129</td>\n",
       "      <td>0.0628</td>\n",
       "      <td>62.577</td>\n",
       "    </tr>\n",
       "    <tr>\n",
       "      <th>4996</th>\n",
       "      <td>199672</td>\n",
       "      <td>0.2310</td>\n",
       "      <td>0.1200</td>\n",
       "      <td>0</td>\n",
       "      <td>-20.327</td>\n",
       "      <td>0</td>\n",
       "      <td>0.0466</td>\n",
       "      <td>0.99300</td>\n",
       "      <td>0.952000</td>\n",
       "      <td>0.168</td>\n",
       "      <td>0.1110</td>\n",
       "      <td>67.950</td>\n",
       "    </tr>\n",
       "    <tr>\n",
       "      <th>4997</th>\n",
       "      <td>164124</td>\n",
       "      <td>0.1870</td>\n",
       "      <td>0.0911</td>\n",
       "      <td>0</td>\n",
       "      <td>-28.802</td>\n",
       "      <td>1</td>\n",
       "      <td>0.0489</td>\n",
       "      <td>0.94400</td>\n",
       "      <td>0.921000</td>\n",
       "      <td>0.104</td>\n",
       "      <td>0.3590</td>\n",
       "      <td>66.282</td>\n",
       "    </tr>\n",
       "  </tbody>\n",
       "</table>\n",
       "<p>4998 rows × 12 columns</p>\n",
       "</div>"
      ],
      "text/plain": [
       "      track_duration_ms  danceability  energy  ...  liveness  valence    tempo\n",
       "0                163208        0.7670  0.6590  ...     0.130   0.4390  124.946\n",
       "1                164000        0.7980  0.6200  ...     0.112   0.2350  120.031\n",
       "2                156960        0.7980  0.8280  ...     0.121   0.6000  124.962\n",
       "3                183750        0.7040  0.7450  ...     0.234   0.0511  128.002\n",
       "4                143952        0.8180  0.7730  ...     0.377   0.8780  122.016\n",
       "...                 ...           ...     ...  ...       ...      ...      ...\n",
       "4993             229404        0.0602  0.0873  ...     0.107   0.0359   64.171\n",
       "4994             208000        0.2330  0.2280  ...     0.116   0.0641   96.783\n",
       "4995             179793        0.1640  0.0258  ...     0.129   0.0628   62.577\n",
       "4996             199672        0.2310  0.1200  ...     0.168   0.1110   67.950\n",
       "4997             164124        0.1870  0.0911  ...     0.104   0.3590   66.282\n",
       "\n",
       "[4998 rows x 12 columns]"
      ]
     },
     "execution_count": 34,
     "metadata": {
      "tags": []
     },
     "output_type": "execute_result"
    }
   ],
   "source": [
    "pd_full_top50"
   ]
  },
  {
   "cell_type": "code",
   "execution_count": null,
   "metadata": {
    "id": "vz8mcN5eG260"
   },
   "outputs": [],
   "source": [
    "def generate_radio(tracks, cosine_df, info_df, n_pred = 10):\n",
    "    recs = []\n",
    "    for t in tracks:\n",
    "      index = info_df.index[info_df['track_id'] == t][0]\n",
    "      similarities = cosine_df.iloc[:, index].sort_values(ascending=False)\n",
    "      final_indices = list(similarities[1:(n_pred + 1)].index)\n",
    "      rec_songs = info_df[['track_name','track_id']].iloc[final_indices]\n",
    "      recs.extend(rec_songs['track_name'].values)\n",
    "\n",
    "    preds = collections.Counter(recs).most_common(n_pred)\n",
    "    pred_titles = [p[0] for p in preds]\n",
    "    return pred_titles"
   ]
  },
  {
   "cell_type": "code",
   "execution_count": null,
   "metadata": {
    "colab": {
     "base_uri": "https://localhost:8080/"
    },
    "id": "FndyhUFgJjoR",
    "outputId": "627955a3-32c7-48fc-d957-62b11fcb4e4b"
   },
   "outputs": [
    {
     "name": "stdout",
     "output_type": "stream",
     "text": [
      "Song provided:\n",
      "['Better Off Without You (feat. Shift K3Y)' 'Mr. Brightside'\n",
      " 'Starting Over' 'You']\n",
      "\n",
      "Radio recommended\n",
      "['Long Blue Light', 'Somebody New', 'Mess Is Mine', 'I Just Got 2', \"When We're Gone\", 'WANT', 'Dumb Litty', 'Up & Down', 'Weirdo, Pt. 2', 'Orange Trees - Claptone Remix']\n"
     ]
    }
   ],
   "source": [
    "i = [34, 60, 100, 120]\n",
    "\n",
    "test_url = pd_full_top50_copy.iloc[i]['track_id']\n",
    "print(\"Song provided:\")\n",
    "print(pd_full_top50_copy.iloc[i]['track_name'].values)\n",
    "\n",
    "x = generate_radio(test_url, df_full_cosine, pd_full_top50_copy, 10)\n",
    "print()\n",
    "print(\"Radio recommended\")\n",
    "print(x)"
   ]
  },
  {
   "cell_type": "markdown",
   "metadata": {
    "id": "aviHc5k5TXhg"
   },
   "source": [
    "## K - means"
   ]
  },
  {
   "cell_type": "code",
   "execution_count": null,
   "metadata": {
    "id": "bd1aq3aaLXmo"
   },
   "outputs": [],
   "source": []
  }
 ],
 "metadata": {
  "colab": {
   "collapsed_sections": [],
   "name": "model.ipynb",
   "provenance": [],
   "toc_visible": true
  },
  "kernelspec": {
   "display_name": "Python 3",
   "language": "python",
   "name": "python3"
  },
  "language_info": {
   "codemirror_mode": {
    "name": "ipython",
    "version": 3
   },
   "file_extension": ".py",
   "mimetype": "text/x-python",
   "name": "python",
   "nbconvert_exporter": "python",
   "pygments_lexer": "ipython3",
   "version": "3.8.5"
  }
 },
 "nbformat": 4,
 "nbformat_minor": 1
}
