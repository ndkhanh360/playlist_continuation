{
  "nbformat": 4,
  "nbformat_minor": 0,
  "metadata": {
    "colab": {
      "name": "baseline.ipynb",
      "provenance": [],
      "collapsed_sections": [],
      "toc_visible": true
    },
    "kernelspec": {
      "name": "python3",
      "display_name": "Python 3"
    }
  },
  "cells": [
    {
      "cell_type": "code",
      "metadata": {
        "id": "3Ox07YU_VApc"
      },
      "source": [
        "import json\r\n",
        "import pandas as pd\r\n",
        "import numpy as np  \r\n",
        "import os\r\n",
        "import random\r\n",
        "\r\n",
        "from metric import r_precision, dcg_at_k, ndcg_at_k\r\n",
        "from utils import generate_playlists, generate_testcases\r\n",
        "\r\n",
        "from numpy import linalg as LA\r\n",
        "\r\n",
        "import sklearn\r\n",
        "from sklearn.metrics.pairwise import cosine_similarity\r\n",
        "from sklearn.model_selection import train_test_split\r\n",
        "from sklearn import preprocessing\r\n",
        "from sklearn.preprocessing import MinMaxScaler\r\n",
        "from sklearn.ensemble import ExtraTreesClassifier\r\n",
        "from sklearn.model_selection import train_test_split\r\n",
        "from sklearn.cluster import KMeans\r\n",
        "\r\n",
        "import matplotlib.pyplot as plt\r\n",
        "import seaborn as sns\r\n",
        "import collections\r\n",
        "\r\n",
        "import lightgbm as lgb\r\n",
        "\r\n",
        "import warnings\r\n",
        "warnings.simplefilter(action='ignore', category=FutureWarning)"
      ],
      "execution_count": 4,
      "outputs": []
    },
    {
      "cell_type": "code",
      "metadata": {
        "id": "MYbDEUH6blG6"
      },
      "source": [
        "path_to_data = '../../data' #'/content/drive/MyDrive/DO_AN_KHDL/DATA'\r\n",
        "path_audio_feats = os.path.join(path_to_data, 'audio_features.tsv')\r\n",
        "path_playlists = os.path.join(path_to_data, 'playlists.tsv')\r\n",
        "path_tracks = os.path.join(path_to_data, 'tracks.tsv')"
      ],
      "execution_count": 5,
      "outputs": []
    },
    {
      "cell_type": "code",
      "metadata": {
        "id": "Oen2tLuOblLn"
      },
      "source": [
        "pd_audio_feats = pd.read_csv(path_audio_feats, sep = '\\t')\r\n",
        "pd_tracks = pd.read_csv(path_tracks, sep = '\\t')\r\n",
        "pd_playlists = pd.read_csv(path_playlists, sep = '\\t')\r\n",
        "pd_playlists = pd_playlists.fillna('None')"
      ],
      "execution_count": 6,
      "outputs": []
    },
    {
      "cell_type": "code",
      "metadata": {
        "id": "9AaHwCK_blN3"
      },
      "source": [
        "pd_tracks = pd.merge(pd_tracks, pd_audio_feats, left_on = 'track_id', right_on = 'id')\r\n",
        "pd_full = pd.merge(pd_tracks, pd_playlists, left_on = 'playlist_id', right_on = 'playlist_id')\r\n",
        "\r\n",
        "pd_tracks = pd_tracks.drop('id', 1)\r\n",
        "pd_full = pd_full.drop('playlist_name_y', 1)\r\n",
        "pd_full = pd_full.drop('id', 1)"
      ],
      "execution_count": 7,
      "outputs": []
    },
    {
      "cell_type": "code",
      "metadata": {
        "colab": {
          "base_uri": "https://localhost:8080/"
        },
        "id": "sq_trfrGbysH",
        "outputId": "0a658bbc-b2a5-41cf-fca1-724301046e77"
      },
      "source": [
        "pd_full.shape"
      ],
      "execution_count": 8,
      "outputs": [
        {
          "output_type": "execute_result",
          "data": {
            "text/plain": [
              "(86400, 27)"
            ]
          },
          "metadata": {
            "tags": []
          },
          "execution_count": 8
        }
      ]
    },
    {
      "cell_type": "code",
      "metadata": {
        "id": "x7ORw-zdbu83"
      },
      "source": [
        "#Thông tin rỗng là discription, ta có thể chỉ điền vào \"None\"\r\n",
        "pd_full = pd_full.fillna('None')"
      ],
      "execution_count": 9,
      "outputs": []
    },
    {
      "cell_type": "code",
      "metadata": {
        "id": "JXm0SU6DblPw"
      },
      "source": [
        "#Kiểm tra và bỏ giá trị trùng lặp\r\n",
        "pd_full = pd_full.drop_duplicates()"
      ],
      "execution_count": 10,
      "outputs": []
    },
    {
      "cell_type": "code",
      "metadata": {
        "id": "7vkD-h1nHv8D"
      },
      "source": [
        "pd_full['available_markets'] = pd_full['available_markets'].apply(lambda x : x[1:-1].split(', '))\r\n",
        "pd_full['count_available_markets'] = pd_full['available_markets'].apply(lambda x : len(x))"
      ],
      "execution_count": 11,
      "outputs": []
    },
    {
      "cell_type": "code",
      "metadata": {
        "colab": {
          "base_uri": "https://localhost:8080/"
        },
        "id": "UgE-13NgblRX",
        "outputId": "67c5f5a0-d6b2-4566-d0b8-c607441abf40"
      },
      "source": [
        "pd_full.shape"
      ],
      "execution_count": 12,
      "outputs": [
        {
          "output_type": "execute_result",
          "data": {
            "text/plain": [
              "(86350, 28)"
            ]
          },
          "metadata": {
            "tags": []
          },
          "execution_count": 12
        }
      ]
    },
    {
      "cell_type": "markdown",
      "metadata": {
        "id": "oDyYVLKiewsh"
      },
      "source": [
        "## Baseline model"
      ]
    },
    {
      "cell_type": "markdown",
      "metadata": {
        "id": "DZSwE34FIl4m"
      },
      "source": [
        "* **Thuộc tính**: dựa vào kết quả EDA, sử dụng 5 thuộc tính có phân phối gần chuẩn nhất bao gồm `danceability`, `energy`, `acousticness`, `valence`, `popularity`.\r\n",
        "* **Mô tả ý tưởng**:\r\n",
        "    * Tính **K** tracks trong tập hợp tất cả các tracks (trừ những seed tracks) có khoảng cách L2 gần nhất với từng seed track, ta được tập **N x K** tracks.\r\n",
        "    * Sort các tracks vừa tìm được theo tần suất xuất hiện và chọn **K** tracks xuất hiện nhiều nhất làm kết quả dự đoán."
      ]
    },
    {
      "cell_type": "markdown",
      "metadata": {
        "id": "0y0zqp4V2wx4"
      },
      "source": [
        "### thử sử dụng duy nhất một đặc trưng 'danceability'"
      ]
    },
    {
      "cell_type": "markdown",
      "metadata": {
        "id": "TW6SWr-5JLPF"
      },
      "source": [
        "#### create test-cases"
      ]
    },
    {
      "cell_type": "code",
      "metadata": {
        "id": "9Z0Nj-AZptwO"
      },
      "source": [
        "fraction = 3\r\n",
        "track_id_all = generate_playlists(pd_tracks, pd_playlists)\r\n",
        "track_id_test = generate_testcases(track_id_all, fraction = fraction)"
      ],
      "execution_count": 15,
      "outputs": []
    },
    {
      "cell_type": "code",
      "metadata": {
        "id": "0Avpo5shDRa4"
      },
      "source": [
        "all_playlistID_for_tests = list(track_id_test.keys())"
      ],
      "execution_count": 16,
      "outputs": []
    },
    {
      "cell_type": "code",
      "metadata": {
        "id": "GcdL30gn5OJx"
      },
      "source": [
        "pd_full_tests = pd_full.copy()\r\n",
        "pd_full_tests = pd_full_tests[pd_full_tests['playlist_id'].isin(all_playlistID_for_tests)]"
      ],
      "execution_count": 17,
      "outputs": []
    },
    {
      "cell_type": "markdown",
      "metadata": {
        "id": "X-s3PLzoJR2f"
      },
      "source": [
        "#### modeling"
      ]
    },
    {
      "cell_type": "code",
      "metadata": {
        "id": "gNAwqzFeblTC"
      },
      "source": [
        "def baseline(tracks, df, n_pred):\r\n",
        "    recs_id = []\r\n",
        "    for t in tracks:\r\n",
        "        danceability = df[df['track_id'] == t]['danceability']\r\n",
        "        df['rec_df_dance'] = np.abs(df['danceability'] - danceability.values[0])\r\n",
        "        one_recs_id = list(df.sort_values(by=['rec_df_dance'])['track_id'][1:].values)\r\n",
        "        recs_id.extend([track for track in one_recs_id if track not in tracks][0:n_pred])\r\n",
        "\r\n",
        "    preds = collections.Counter(recs_id).most_common(n_pred)\r\n",
        "    pred_titles = [p[0] for p in preds]\r\n",
        "\r\n",
        "    tracks_name = []\r\n",
        "    for id_track in pred_titles:\r\n",
        "      tracks_name.extend(list(np.unique(df[df['track_id'] == id_track]['track_name'].values)))\r\n",
        "\r\n",
        "    return pred_titles, tracks_name"
      ],
      "execution_count": 18,
      "outputs": []
    },
    {
      "cell_type": "markdown",
      "metadata": {
        "id": "fmekw8K3JUB-"
      },
      "source": [
        "#### testing"
      ]
    },
    {
      "cell_type": "markdown",
      "metadata": {
        "id": "Ny4A59AuD9Ak"
      },
      "source": [
        "**Bây giờ ta sẽ thử test phương pháp này trên playlist đầu tiên của tập test**"
      ]
    },
    {
      "cell_type": "code",
      "metadata": {
        "id": "U8lpAcyOqSxc"
      },
      "source": [
        "playlists_to_test = all_playlistID_for_tests[0]"
      ],
      "execution_count": 19,
      "outputs": []
    },
    {
      "cell_type": "code",
      "metadata": {
        "id": "zgnLNssGyijg"
      },
      "source": [
        "all_name_songs = list(pd_full[pd_full['track_id'].isin(track_id_all[playlists_to_test])]['track_name'].values)\r\n",
        "given_songs_name = list(pd_full[pd_full['track_id'].isin(track_id_test[playlists_to_test])]['track_name'].values)"
      ],
      "execution_count": 20,
      "outputs": []
    },
    {
      "cell_type": "code",
      "metadata": {
        "id": "00mQib2dDhdB"
      },
      "source": [
        "track_id_result, track_name_result = baseline(track_id_test[playlists_to_test], pd_full_tests, len(track_id_all[playlists_to_test])-len(track_id_test[playlists_to_test]))"
      ],
      "execution_count": 21,
      "outputs": []
    },
    {
      "cell_type": "code",
      "metadata": {
        "colab": {
          "base_uri": "https://localhost:8080/"
        },
        "id": "gHUEj5R1DxzN",
        "outputId": "f92ef2bb-5aa7-4f4c-eddb-d27c4a6af21e"
      },
      "source": [
        "print('Songs given: ', given_songs_name, '\\n')\r\n",
        "print('Songs recommended: ', track_name_result, '\\n')"
      ],
      "execution_count": 22,
      "outputs": [
        {
          "output_type": "stream",
          "text": [
            "Songs given:  ['Falling Short', 'Falling Short', 'Falling Short', 'Chill', 'Middle', 'Mood Ring', 'On Circus', 'Night Lake', 'Busy', 'Memory Lane', 'Need To Breathe', 'Call Me', 'Feeling Forever - Bondax Remix', 'lyfe tajm', 'Bingsoo', 'Tomorrow', 'Too Tired', 'Save Me', 'Wish We Had History', 'Parting Ways - Sigh-Phy Remix', 'Bittersweetener', 'Rays', 'Rural', 'Melting Sun', 'Spinning (feat. Ilsey)', 'Świnoujście'] \n",
            "\n",
            "Songs recommended:  ['positions', 'Chapter 32', 'SO DONE', 'William Wordsworth: I Wandered Lonely As a Cloud', 'Read My Thoughts', 'Do I Do', 'Hearts', 'The Crime At Pickets Mill', 'Time of Our Lives', 'Samson and Delilah', 'Virtue', 'Aurora Leigh (Excerpts) - Elizabeth Barrett Browning', 'Glitch Through the Matrix', 'BEN AFFLECK', 'Du som snodde min cykel', 'Right Round', 'Pebble', 'Chapter 16', 'Treat Yo Self', 'Diamonds', 'Compass', 'Rob Roy: Chapter 4, An Encounter', 'Last Christmas', 'On The Floor - Radio Edit', 'Surrounded by Bubbles', 'Be With You', 'Moves Like Jagger - Studio Recording From The Voice Performance', 'Mood (feat. iann dior)', 'Lemonade (feat. Gunna, Don Toliver & NAV)', 'Say Goodbye', 'White Fang - Chapter 2', 'Chapter 29', 'Lady - Hear Me Tonight', \"A Man's Requirements By Elizabeth Barrett Browning\", 'Got All Night (feat. Amanda Collis)', 'Your Love', 'Three Musketeers, Pt. 3', 'Inauguration de la maison de la culture à Amiens (19 Mars 1966) : La civilisation des loisirs', 'Sunnanvind', 'The Tables Are Turned', 'RITMO (Bad Boys For Life)', 'Ablaze - MUNA Remix', 'Stuck', 'Invisible Dress - Maro Music x Skytech Remix - Short Edit', 'The Open Window by Saki', 'Enough', '04 - Animal Farm', 'Blodad Tand'] \n",
            "\n"
          ],
          "name": "stdout"
        }
      ]
    },
    {
      "cell_type": "markdown",
      "metadata": {
        "id": "XKw47gK1pt9y"
      },
      "source": [
        "**Bây giờ ta sẽ sử dụng tất cả 100 playlists trong bộ test để đánh giá**"
      ]
    },
    {
      "cell_type": "code",
      "metadata": {
        "id": "Fa3CI0k6blUm"
      },
      "source": [
        "def test_multi_feats(pd_playlists, pd_full, fraction = 5, nums_playlists_test = 100):\r\n",
        "  r_score = []\r\n",
        "\r\n",
        "  track_id_all = generate_playlists(pd_full, pd_playlists, nums_playlists_to_test = nums_playlists_test)\r\n",
        "  track_id_test = generate_testcases(track_id_all, fraction = fraction)\r\n",
        "\r\n",
        "  all_playlistID_for_tests = list(track_id_test.keys())\r\n",
        "\r\n",
        "  pd_full_tests = pd_full.copy()\r\n",
        "  pd_full_tests = pd_full_tests[pd_full_tests['playlist_id'].isin(all_playlistID_for_tests)]\r\n",
        "  pd_full_tests = pd_full_tests.reset_index(drop = True)\r\n",
        "\r\n",
        "  for each_playlist in all_playlistID_for_tests:\r\n",
        "    track_id_result, track_name_result = baseline(track_id_test[each_playlist], pd_full_tests, len(track_id_all[each_playlist])-len(track_id_test[each_playlist]))\r\n",
        "    \r\n",
        "    all_name_songs = list(pd_full_tests[pd_full_tests['track_id'].isin(track_id_all[each_playlist])]['track_name'].values)\r\n",
        "    given_songs_name = list(pd_full_tests[pd_full_tests['track_id'].isin(track_id_test[each_playlist])]['track_name'].values) \r\n",
        "    test_songs_name = [x for x in all_name_songs if x not in given_songs_name]\r\n",
        "\r\n",
        "    r_score.append(r_precision(track_name_result, test_songs_name))\r\n",
        "\r\n",
        "  return r_score"
      ],
      "execution_count": 28,
      "outputs": []
    },
    {
      "cell_type": "code",
      "metadata": {
        "colab": {
          "base_uri": "https://localhost:8080/"
        },
        "id": "uP7U5AMYblWF",
        "outputId": "c9ec7262-4a68-49b1-f25e-a39d980a5338"
      },
      "source": [
        "r_score = test_multi_feats(pd_playlists, pd_full, fraction = 5, nums_playlists_test = 100)\r\n",
        "\r\n",
        "print(\"Average R precision: \" + str(np.mean(r_score)))\r\n",
        "print(\"Max R precision: \" + str(np.max(r_score)))"
      ],
      "execution_count": 29,
      "outputs": [
        {
          "output_type": "stream",
          "text": [
            "Average R precision: 0.02930887770432027\n",
            "Max R precision: 0.23333333333333334\n"
          ],
          "name": "stdout"
        }
      ]
    },
    {
      "cell_type": "markdown",
      "metadata": {
        "id": "T63pxRlVnty3"
      },
      "source": [
        "### Sử dụng multi features thay vì một feature (`danceability`, `energy`, `acousticness`, `valence`, `popularity`)"
      ]
    },
    {
      "cell_type": "markdown",
      "metadata": {
        "id": "vnd0Y0WdKdn0"
      },
      "source": [
        "#### modeling"
      ]
    },
    {
      "cell_type": "code",
      "metadata": {
        "id": "cE6nZTAed2v7"
      },
      "source": [
        "features = ['danceability', 'energy', 'acousticness', 'valence', 'popularity']"
      ],
      "execution_count": 30,
      "outputs": []
    },
    {
      "cell_type": "code",
      "metadata": {
        "id": "lxgeLpaKdWvq"
      },
      "source": [
        "def multi_feats_baseline(tracks, df, n_pred, feats):\r\n",
        "    recs_id = []\r\n",
        "    for t in tracks:\r\n",
        "      sum_feat_values = 0\r\n",
        "      for feat in feats:\r\n",
        "        feat_values = df[df['track_id'] == t][feat]\r\n",
        "        sum_feat_values = sum_feat_values + np.abs(df[feat] - feat_values.values[0]) ** 2\r\n",
        "      \r\n",
        "      df['rec_df_feats'] = sum_feat_values ** (1/2)\r\n",
        "      one_recs_id = list(df.sort_values(by=['rec_df_feats'])['track_id'][1:].values)\r\n",
        "      recs_id.extend([track for track in one_recs_id if track not in tracks][0:n_pred])\r\n",
        "\r\n",
        "    preds = collections.Counter(recs_id).most_common(n_pred)\r\n",
        "    pred_titles = [p[0] for p in preds]\r\n",
        "\r\n",
        "    tracks_name = []\r\n",
        "    for id_track in pred_titles:\r\n",
        "      tracks_name.extend(list(np.unique(df[df['track_id'] == id_track]['track_name'].values)))\r\n",
        "\r\n",
        "    return pred_titles, tracks_name"
      ],
      "execution_count": 31,
      "outputs": []
    },
    {
      "cell_type": "markdown",
      "metadata": {
        "id": "Q3hQ0v5uKffk"
      },
      "source": [
        "#### testing"
      ]
    },
    {
      "cell_type": "markdown",
      "metadata": {
        "id": "Y65uWTRw-5uf"
      },
      "source": [
        "**Bây giờ ta sẽ thử test phương pháp này trên playlist đầu tiên của tập test**"
      ]
    },
    {
      "cell_type": "code",
      "metadata": {
        "id": "nAwfdWhO-9RK"
      },
      "source": [
        "playlists_to_test = all_playlistID_for_tests[0]"
      ],
      "execution_count": 41,
      "outputs": []
    },
    {
      "cell_type": "code",
      "metadata": {
        "id": "mFPf_y8g-9lQ"
      },
      "source": [
        "all_name_songs = list(pd_full[pd_full['track_id'].isin(track_id_all[playlists_to_test])]['track_name'].values)\r\n",
        "given_songs_name = list(pd_full[pd_full['track_id'].isin(track_id_test[playlists_to_test])]['track_name'].values)"
      ],
      "execution_count": 42,
      "outputs": []
    },
    {
      "cell_type": "code",
      "metadata": {
        "id": "snXY4grr-9nf"
      },
      "source": [
        "track_id_result, track_name_result = multi_feats_baseline(track_id_test[playlists_to_test], pd_full_tests, len(track_id_all[playlists_to_test])-len(track_id_test[playlists_to_test]), features)"
      ],
      "execution_count": 43,
      "outputs": []
    },
    {
      "cell_type": "code",
      "metadata": {
        "colab": {
          "base_uri": "https://localhost:8080/"
        },
        "id": "ftbsdUL_-9ps",
        "outputId": "5ce29765-d8df-4013-e58f-2206fd8b100a"
      },
      "source": [
        "print('Songs given: ', given_songs_name, '\\n')\r\n",
        "print('Songs recommended: ', track_name_result, '\\n')"
      ],
      "execution_count": 44,
      "outputs": [
        {
          "output_type": "stream",
          "text": [
            "Songs given:  ['Falling Short', 'Falling Short', 'Falling Short', 'Chill', 'Middle', 'Mood Ring', 'On Circus', 'Night Lake', 'Busy', 'Memory Lane', 'Need To Breathe', 'Call Me', 'Feeling Forever - Bondax Remix', 'lyfe tajm', 'Bingsoo', 'Tomorrow', 'Too Tired', 'Save Me', 'Wish We Had History', 'Parting Ways - Sigh-Phy Remix', 'Bittersweetener', 'Rays', 'Rural', 'Melting Sun', 'Spinning (feat. Ilsey)', 'Świnoujście'] \n",
            "\n",
            "Songs recommended:  ['Both Of Us - Jayda G Sunset Bliss Mix', 'Clouds', 'The Recipe (prod. by KAYTRANADA) - The Martinez Brothers Remix', \"Balance, Not Symmetry - From the Original Motion Picture Soundtrack 'Balance, Not Symmetry'\", 'Unavailable', 'ARRIVAL', 'Faded By Design', 'Full Metal Jacket', 'What Lovers Do', \"Children's Limbs\", 'Long Tin', 'Nyoro', 'Dance Upon Your Grave', 'Jug Land (Instrumental)', 'Mercedes', 'Kung av sand', 'One Last Time', 'Runna', 'Stick Walk', 'Too Late (Part I)', 'Canary', 'Strange Organism', 'Breathe', 'Tej', 'The Curse', 'Trenches', 'Good Luck With That', 'Sandra', 'Molten Young Lovers', 'VIEW FROM OUR BEDROOM WINDOW', 'Dance AM', \"Thinkin'\", 'Reconnect', 'Sourire', 'First Half', \"Love's Not Enough\", 'Glitch Through the Matrix', 'Distorcido', 'New York Groove', 'Novice Juggler', 'Blistered', 'King Ov Deception', 'Danger Zone', 'ECSTASY OF ST. TERESA', 'Te Deum, H. 146: Te Deum, H. 146: I. Prélude', 'Get Lit', 'Milmo', 'Her'] \n",
            "\n"
          ],
          "name": "stdout"
        }
      ]
    },
    {
      "cell_type": "markdown",
      "metadata": {
        "id": "0K3a28WwINkv"
      },
      "source": [
        "**Bây giờ ta sẽ sử dụng tất cả 100 playlists trong bộ test để đánh giá**"
      ]
    },
    {
      "cell_type": "code",
      "metadata": {
        "id": "HSDUxmh--9vx"
      },
      "source": [
        "def test_multi_feats(pd_playlists, pd_full, features, fraction = 5, nums_playlists_test = 100):\r\n",
        "  r_score = []\r\n",
        "\r\n",
        "  track_id_all = generate_playlists(pd_full, pd_playlists, nums_playlists_to_test = nums_playlists_test)\r\n",
        "  track_id_test = generate_testcases(track_id_all, fraction = fraction)\r\n",
        "\r\n",
        "  all_playlistID_for_tests = list(track_id_test.keys())\r\n",
        "\r\n",
        "  pd_full_tests = pd_full.copy()\r\n",
        "  pd_full_tests = pd_full_tests[pd_full_tests['playlist_id'].isin(all_playlistID_for_tests)]\r\n",
        "  pd_full_tests = pd_full_tests.reset_index(drop = True)\r\n",
        "\r\n",
        "  for each_playlist in all_playlistID_for_tests:\r\n",
        "    track_id_result, track_name_result = multi_feats_baseline(track_id_test[each_playlist], pd_full_tests, len(track_id_all[each_playlist])-len(track_id_test[each_playlist]), features)\r\n",
        "    \r\n",
        "    all_name_songs = list(pd_full_tests[pd_full_tests['track_id'].isin(track_id_all[each_playlist])]['track_name'].values)\r\n",
        "    given_songs_name = list(pd_full_tests[pd_full_tests['track_id'].isin(track_id_test[each_playlist])]['track_name'].values) \r\n",
        "    test_songs_name = [x for x in all_name_songs if x not in given_songs_name]\r\n",
        "\r\n",
        "    r_score.append(r_precision(track_name_result, test_songs_name))\r\n",
        "\r\n",
        "  return r_score"
      ],
      "execution_count": 47,
      "outputs": []
    },
    {
      "cell_type": "code",
      "metadata": {
        "colab": {
          "base_uri": "https://localhost:8080/"
        },
        "id": "-UOqYmJc-91H",
        "outputId": "494bbf26-140f-40ea-a382-c8b408e022db"
      },
      "source": [
        "r_score = test_multi_feats(pd_playlists, pd_full, features, fraction = 5, nums_playlists_test = 100)\r\n",
        "\r\n",
        "print(\"Average R precision: \" + str(np.mean(r_score)))\r\n",
        "print(\"Max R precision: \" + str(np.max(r_score)))"
      ],
      "execution_count": 48,
      "outputs": [
        {
          "output_type": "stream",
          "text": [
            "Average R precision: 0.09107847661874932\n",
            "Max R precision: 0.475\n"
          ],
          "name": "stdout"
        }
      ]
    },
    {
      "cell_type": "markdown",
      "metadata": {
        "id": "ZMhpjmn7JFCl"
      },
      "source": [
        "**Test model trên những fraction khác nhau**:\r\n",
        "\r\n",
        "Fraction là tỷ lệ bài hát hiện có trong mỗi playlist, ta dựa vào chúng để đề xuất các bài hát còn lại, ví dụ playlist có 100 bài hát, ta dùng 1/5 số đó (20 bài hát) để dựa vào đó đề xuất 80 bài hát còn lại.\r\n",
        "\r\n",
        "Fraction có giá trị càng bé hoặc càng lớn thì tỷ lệ đề xuất trúng càng thấp.\r\n",
        "\r\n",
        "Ở đây ta test model với các fraction lần lượt là 2 - 10, tức là trong một playlist có 100 bài hát thì ta sẽ dùng 50, 100/3, 25, ..., 10 bài hát đầu tiên để đề xuất số bài hát còn lại."
      ]
    },
    {
      "cell_type": "code",
      "metadata": {
        "colab": {
          "base_uri": "https://localhost:8080/"
        },
        "id": "nMegEO7wIbbR",
        "outputId": "7cc8fd46-57b8-4e5b-d7f1-b50ec0e221c0"
      },
      "source": [
        "fraction_to_test = list(np.arange(2, 11))\r\n",
        "\r\n",
        "result_mean = {}\r\n",
        "result_max = {}\r\n",
        "\r\n",
        "for fraction in fraction_to_test:\r\n",
        "  r_score = test_multi_feats(pd_playlists, pd_full, features, fraction = fraction, nums_playlists_test = 100)\r\n",
        "  result_mean[fraction] = np.mean(r_score)\r\n",
        "  result_max[fraction] = np.max(r_score)\r\n",
        "  print('-'*30)\r\n",
        "  print(f'fraction {fraction}:')\r\n",
        "  print(\"Average R precision: \" + str(np.mean(r_score)))\r\n",
        "  print(\"Max R precision: \" + str(np.max(r_score))) \r\n",
        "  print('-'*30)"
      ],
      "execution_count": 49,
      "outputs": [
        {
          "output_type": "stream",
          "text": [
            "------------------------------\n",
            "fraction 2:\n",
            "Average R precision: 0.06616075873035011\n",
            "Max R precision: 0.4482758620689655\n",
            "------------------------------\n",
            "------------------------------\n",
            "fraction 3:\n",
            "Average R precision: 0.07950141050080699\n",
            "Max R precision: 0.5671641791044776\n",
            "------------------------------\n",
            "------------------------------\n",
            "fraction 4:\n",
            "Average R precision: 0.09546368664402469\n",
            "Max R precision: 0.6388888888888888\n",
            "------------------------------\n",
            "------------------------------\n",
            "fraction 5:\n",
            "Average R precision: 0.09131664096027141\n",
            "Max R precision: 0.55\n",
            "------------------------------\n",
            "------------------------------\n",
            "fraction 6:\n",
            "Average R precision: 0.08445638600583248\n",
            "Max R precision: 0.5595238095238095\n",
            "------------------------------\n",
            "------------------------------\n",
            "fraction 7:\n",
            "Average R precision: 0.09316476168213825\n",
            "Max R precision: 0.5714285714285714\n",
            "------------------------------\n",
            "------------------------------\n",
            "fraction 8:\n",
            "Average R precision: 0.07936101201933339\n",
            "Max R precision: 0.4431818181818182\n",
            "------------------------------\n",
            "------------------------------\n",
            "fraction 9:\n",
            "Average R precision: 0.10721971142893588\n",
            "Max R precision: 0.7368421052631579\n",
            "------------------------------\n",
            "------------------------------\n",
            "fraction 10:\n",
            "Average R precision: 0.0669425499296408\n",
            "Max R precision: 0.32222222222222224\n",
            "------------------------------\n"
          ],
          "name": "stdout"
        }
      ]
    },
    {
      "cell_type": "code",
      "metadata": {
        "colab": {
          "base_uri": "https://localhost:8080/"
        },
        "id": "Ecq9-3H-LNLN",
        "outputId": "3be2a15a-c0b5-490e-e1cd-6890bbd685d2"
      },
      "source": [
        "print(f'Mean Average R precision over all fractions: {np.mean(list(result_mean.values()))}')\r\n",
        "print(f'Mean Max R precision over all fractions: {np.mean(list(result_max.values()))}')"
      ],
      "execution_count": 50,
      "outputs": [
        {
          "output_type": "stream",
          "text": [
            "Mean Average R precision over all fractions: 0.08484299087792599\n",
            "Mean Max R precision over all fractions: 0.5375030507424347\n"
          ],
          "name": "stdout"
        }
      ]
    },
    {
      "cell_type": "code",
      "metadata": {
        "colab": {
          "base_uri": "https://localhost:8080/",
          "height": 350
        },
        "id": "-WRzfK0BLNTF",
        "outputId": "1fc7ae99-1169-4e75-a619-b0941b6f26ba"
      },
      "source": [
        "plt.figure(figsize=(10, 5))\r\n",
        "\r\n",
        "ax = sns.barplot(x=list(result_mean.keys()), y=list(result_mean.values()))\r\n",
        "\r\n",
        "_ = ax.set_title('Average R precision over 10 fractions - baseline')\r\n",
        "\r\n",
        "ax.set_ylabel('precision')\r\n",
        "ax.set_xlabel('fraction')\r\n",
        "\r\n",
        "plt.savefig('../../images/baseline_average_R_precision.png', bbox_inches = 'tight')"
      ],
      "execution_count": 52,
      "outputs": [
        {
          "output_type": "display_data",
          "data": {
            "image/png": "[encoded data removed]",
            "text/plain": [
              "<Figure size 720x360 with 1 Axes>"
            ]
          },
          "metadata": {
            "tags": [],
            "needs_background": "light"
          }
        }
      ]
    },
    {
      "cell_type": "code",
      "metadata": {
        "colab": {
          "base_uri": "https://localhost:8080/",
          "height": 350
        },
        "id": "c8Y7ps1gLNVV",
        "outputId": "1097fce4-72cd-469c-c98a-4ab107530ba7"
      },
      "source": [
        "plt.figure(figsize=(10, 5))\r\n",
        "\r\n",
        "ax = sns.barplot(x=list(result_max.keys()), y=list(result_max.values()))\r\n",
        "\r\n",
        "_ = ax.set_title('Max R precision over 10 fractions - baseline')\r\n",
        "\r\n",
        "ax.set_ylabel('precision')\r\n",
        "ax.set_xlabel('fraction')\r\n",
        "\r\n",
        "plt.savefig('../../images/baseline_max_R_precision.png', bbox_inches = 'tight')"
      ],
      "execution_count": 53,
      "outputs": [
        {
          "output_type": "display_data",
          "data": {
            "image/png": "[encoded data removed]",
            "text/plain": [
              "<Figure size 720x360 with 1 Axes>"
            ]
          },
          "metadata": {
            "tags": [],
            "needs_background": "light"
          }
        }
      ]
    },
    {
      "cell_type": "code",
      "metadata": {
        "colab": {
          "base_uri": "https://localhost:8080/"
        },
        "id": "tkiicMO_LNXl",
        "outputId": "0f8eee16-8dac-40e8-956b-e86a90911118"
      },
      "source": [
        "result = []\r\n",
        "\r\n",
        "for keys in result_mean:\r\n",
        "  result.append({'mean' : result_mean[keys]})\r\n",
        "\r\n",
        "i = 0\r\n",
        "for keys in result_max:\r\n",
        "  result[i]['max'] = result_max[keys]\r\n",
        "  result[i]['fraction'] = i + 2\r\n",
        "  i = i + 1\r\n",
        "\r\n",
        "result"
      ],
      "execution_count": 54,
      "outputs": [
        {
          "output_type": "execute_result",
          "data": {
            "text/plain": [
              "[{'fraction': 2, 'max': 0.4482758620689655, 'mean': 0.06616075873035011},\n",
              " {'fraction': 3, 'max': 0.5671641791044776, 'mean': 0.07950141050080699},\n",
              " {'fraction': 4, 'max': 0.6388888888888888, 'mean': 0.09546368664402469},\n",
              " {'fraction': 5, 'max': 0.55, 'mean': 0.09131664096027141},\n",
              " {'fraction': 6, 'max': 0.5595238095238095, 'mean': 0.08445638600583248},\n",
              " {'fraction': 7, 'max': 0.5714285714285714, 'mean': 0.09316476168213825},\n",
              " {'fraction': 8, 'max': 0.4431818181818182, 'mean': 0.07936101201933339},\n",
              " {'fraction': 9, 'max': 0.7368421052631579, 'mean': 0.10721971142893588},\n",
              " {'fraction': 10, 'max': 0.32222222222222224, 'mean': 0.0669425499296408}]"
            ]
          },
          "metadata": {
            "tags": []
          },
          "execution_count": 54
        }
      ]
    },
    {
      "cell_type": "code",
      "metadata": {
        "id": "-7uAS529LNZ7"
      },
      "source": [
        "df_result = pd.DataFrame(result)\r\n",
        "df_result.to_csv('baseline_result.csv', index = False)"
      ],
      "execution_count": 56,
      "outputs": []
    },
    {
      "cell_type": "markdown",
      "metadata": {
        "id": "_HpXL5ttLUWO"
      },
      "source": [
        "**Nhận xét**: \r\n",
        "\r\n",
        "Tuy chỉ là baseline nhưng kết quả **Average R precision** trên các fraction khác nhau thu được cũng khá khả quan, dao động từ 0.06 - 0.1, tức là đoán đúng được 6% - 10% phần còn lại của playlist.\r\n",
        "\r\n",
        "Ngoài ra kết quả sử dụng nhiều features tốt hơn nhiều so với chỉ sử dụng một feature là 'danceability' - chỉ đề xuất đúng được trung bình 1-2%."
      ]
    }
  ]
}