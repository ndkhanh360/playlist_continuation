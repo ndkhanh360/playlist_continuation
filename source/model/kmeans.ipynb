{
  "nbformat": 4,
  "nbformat_minor": 0,
  "metadata": {
    "colab": {
      "name": "kmeans.ipynb",
      "provenance": [],
      "collapsed_sections": [],
      "toc_visible": true
    },
    "kernelspec": {
      "name": "python3",
      "display_name": "Python 3"
    }
  },
  "cells": [
    {
      "cell_type": "code",
      "metadata": {
        "id": "3Ox07YU_VApc"
      },
      "source": [
        "import json\r\n",
        "import pandas as pd\r\n",
        "import numpy as np  \r\n",
        "import os\r\n",
        "import random\r\n",
        "\r\n",
        "from metric import r_precision, dcg_at_k, ndcg_at_k\r\n",
        "from utils import generate_playlists, generate_testcases\r\n",
        "\r\n",
        "from numpy import linalg as LA\r\n",
        "\r\n",
        "import sklearn\r\n",
        "from sklearn.metrics.pairwise import cosine_similarity\r\n",
        "from sklearn.model_selection import train_test_split\r\n",
        "from sklearn import preprocessing\r\n",
        "from sklearn.preprocessing import MinMaxScaler\r\n",
        "from sklearn.ensemble import ExtraTreesClassifier\r\n",
        "from sklearn.model_selection import train_test_split\r\n",
        "from sklearn.cluster import KMeans\r\n",
        "\r\n",
        "import matplotlib.pyplot as plt\r\n",
        "import seaborn as sns\r\n",
        "import collections\r\n",
        "\r\n",
        "import lightgbm as lgb\r\n",
        "\r\n",
        "import warnings\r\n",
        "warnings.simplefilter(action='ignore', category=FutureWarning)"
      ],
      "execution_count": 1,
      "outputs": []
    },
    {
      "cell_type": "code",
      "metadata": {
        "id": "MYbDEUH6blG6"
      },
      "source": [
        "path_to_data = '/content/drive/MyDrive/DO_AN_KHDL/DATA'\r\n",
        "path_audio_feats = os.path.join(path_to_data, 'audio_features.tsv')\r\n",
        "path_playlists = os.path.join(path_to_data, 'playlists.tsv')\r\n",
        "path_tracks = os.path.join(path_to_data, 'tracks.tsv')"
      ],
      "execution_count": 2,
      "outputs": []
    },
    {
      "cell_type": "code",
      "metadata": {
        "id": "Oen2tLuOblLn"
      },
      "source": [
        "pd_audio_feats = pd.read_csv(path_audio_feats, sep = '\\t')\r\n",
        "pd_tracks = pd.read_csv(path_tracks, sep = '\\t')\r\n",
        "pd_playlists = pd.read_csv(path_playlists, sep = '\\t')\r\n",
        "pd_playlists = pd_playlists.fillna('None')"
      ],
      "execution_count": 3,
      "outputs": []
    },
    {
      "cell_type": "code",
      "metadata": {
        "id": "9AaHwCK_blN3"
      },
      "source": [
        "pd_tracks = pd.merge(pd_tracks, pd_audio_feats, left_on = 'track_id', right_on = 'id')\r\n",
        "pd_full = pd.merge(pd_tracks, pd_playlists, left_on = 'playlist_id', right_on = 'playlist_id')\r\n",
        "\r\n",
        "pd_tracks = pd_tracks.drop('id', 1)\r\n",
        "pd_full = pd_full.drop('playlist_name_y', 1)\r\n",
        "pd_full = pd_full.drop('id', 1)"
      ],
      "execution_count": 4,
      "outputs": []
    },
    {
      "cell_type": "code",
      "metadata": {
        "colab": {
          "base_uri": "https://localhost:8080/"
        },
        "id": "sq_trfrGbysH",
        "outputId": "5f915b30-dadc-491a-8be9-559aa517f506"
      },
      "source": [
        "pd_full.shape"
      ],
      "execution_count": 5,
      "outputs": [
        {
          "output_type": "execute_result",
          "data": {
            "text/plain": [
              "(86400, 27)"
            ]
          },
          "metadata": {
            "tags": []
          },
          "execution_count": 5
        }
      ]
    },
    {
      "cell_type": "code",
      "metadata": {
        "id": "x7ORw-zdbu83"
      },
      "source": [
        "#Thông tin rỗng là discription, ta có thể chỉ điền vào \"None\"\r\n",
        "pd_full = pd_full.fillna('None')"
      ],
      "execution_count": 6,
      "outputs": []
    },
    {
      "cell_type": "code",
      "metadata": {
        "id": "JXm0SU6DblPw"
      },
      "source": [
        "#Kiểm tra và bỏ giá trị trùng lặp\r\n",
        "pd_full = pd_full.drop_duplicates()"
      ],
      "execution_count": 7,
      "outputs": []
    },
    {
      "cell_type": "code",
      "metadata": {
        "colab": {
          "base_uri": "https://localhost:8080/"
        },
        "id": "UgE-13NgblRX",
        "outputId": "4e2af58d-43c5-4f74-ee01-cfdd7dae0679"
      },
      "source": [
        "pd_full.shape"
      ],
      "execution_count": 8,
      "outputs": [
        {
          "output_type": "execute_result",
          "data": {
            "text/plain": [
              "(86350, 27)"
            ]
          },
          "metadata": {
            "tags": []
          },
          "execution_count": 8
        }
      ]
    },
    {
      "cell_type": "code",
      "metadata": {
        "id": "NqbWQgPK_K4D"
      },
      "source": [
        "pd_full['available_markets'] = pd_full['available_markets'].apply(lambda x : x[1:-1].split(', '))\r\n",
        "pd_full['count_available_markets'] = pd_full['available_markets'].apply(lambda x : len(x))"
      ],
      "execution_count": 9,
      "outputs": []
    },
    {
      "cell_type": "code",
      "metadata": {
        "colab": {
          "base_uri": "https://localhost:8080/",
          "height": 484
        },
        "id": "bA_CeXRrA9_Y",
        "outputId": "aab14b4a-5647-40a5-ffec-d244dc86e3f7"
      },
      "source": [
        "pd_full.head()"
      ],
      "execution_count": 10,
      "outputs": [
        {
          "output_type": "execute_result",
          "data": {
            "text/html": [
              "<div>\n",
              "<style scoped>\n",
              "    .dataframe tbody tr th:only-of-type {\n",
              "        vertical-align: middle;\n",
              "    }\n",
              "\n",
              "    .dataframe tbody tr th {\n",
              "        vertical-align: top;\n",
              "    }\n",
              "\n",
              "    .dataframe thead th {\n",
              "        text-align: right;\n",
              "    }\n",
              "</style>\n",
              "<table border=\"1\" class=\"dataframe\">\n",
              "  <thead>\n",
              "    <tr style=\"text-align: right;\">\n",
              "      <th></th>\n",
              "      <th>track_id</th>\n",
              "      <th>track_name</th>\n",
              "      <th>playlist_id</th>\n",
              "      <th>playlist_name_x</th>\n",
              "      <th>artist_ids</th>\n",
              "      <th>artist_names</th>\n",
              "      <th>album_id</th>\n",
              "      <th>album_name</th>\n",
              "      <th>track_duration_ms</th>\n",
              "      <th>danceability</th>\n",
              "      <th>energy</th>\n",
              "      <th>key</th>\n",
              "      <th>loudness</th>\n",
              "      <th>mode</th>\n",
              "      <th>speechiness</th>\n",
              "      <th>acousticness</th>\n",
              "      <th>instrumentalness</th>\n",
              "      <th>liveness</th>\n",
              "      <th>valence</th>\n",
              "      <th>tempo</th>\n",
              "      <th>analysis_url</th>\n",
              "      <th>time_signature</th>\n",
              "      <th>available_markets</th>\n",
              "      <th>popularity</th>\n",
              "      <th>description</th>\n",
              "      <th>num_tracks</th>\n",
              "      <th>num_followers</th>\n",
              "      <th>count_available_markets</th>\n",
              "    </tr>\n",
              "  </thead>\n",
              "  <tbody>\n",
              "    <tr>\n",
              "      <th>0</th>\n",
              "      <td>463CkQjx2Zk1yXoBuierM9</td>\n",
              "      <td>Levitating (feat. DaBaby)</td>\n",
              "      <td>37i9dQZF1DXcBWIGoYBM5M</td>\n",
              "      <td>Today's Top Hits</td>\n",
              "      <td>['6M2wZ9GZgrQXHCFfjv46we', '4r63FhuTkUYltbVAg5...</td>\n",
              "      <td>['Dua Lipa', 'DaBaby']</td>\n",
              "      <td>04m06KhJUuwe1Q487puIud</td>\n",
              "      <td>Levitating (feat. DaBaby)</td>\n",
              "      <td>203064</td>\n",
              "      <td>0.702</td>\n",
              "      <td>0.825</td>\n",
              "      <td>6</td>\n",
              "      <td>-3.787</td>\n",
              "      <td>0</td>\n",
              "      <td>0.0601</td>\n",
              "      <td>0.00883</td>\n",
              "      <td>0.00000</td>\n",
              "      <td>0.0674</td>\n",
              "      <td>0.915</td>\n",
              "      <td>102.977</td>\n",
              "      <td>https://api.spotify.com/v1/audio-analysis/463C...</td>\n",
              "      <td>4</td>\n",
              "      <td>['AD', 'AE', 'AL', 'AR', 'AU', 'BA', 'BE', 'BG...</td>\n",
              "      <td>90</td>\n",
              "      <td>Dua Lipa &amp; DaBaby are on top of the Hottest 50!</td>\n",
              "      <td>50</td>\n",
              "      <td>27084233</td>\n",
              "      <td>88</td>\n",
              "    </tr>\n",
              "    <tr>\n",
              "      <th>1</th>\n",
              "      <td>7igeByaBM0MgGsgXtNxDJ7</td>\n",
              "      <td>positions</td>\n",
              "      <td>37i9dQZF1DXcBWIGoYBM5M</td>\n",
              "      <td>Today's Top Hits</td>\n",
              "      <td>['66CXWjxzNUsdJxJ2JdwvnR']</td>\n",
              "      <td>['Ariana Grande']</td>\n",
              "      <td>3jqEvfiu2ENgmgzZq27zbi</td>\n",
              "      <td>positions</td>\n",
              "      <td>172324</td>\n",
              "      <td>0.736</td>\n",
              "      <td>0.802</td>\n",
              "      <td>0</td>\n",
              "      <td>-4.759</td>\n",
              "      <td>1</td>\n",
              "      <td>0.0864</td>\n",
              "      <td>0.46800</td>\n",
              "      <td>0.00000</td>\n",
              "      <td>0.0940</td>\n",
              "      <td>0.675</td>\n",
              "      <td>144.005</td>\n",
              "      <td>https://api.spotify.com/v1/audio-analysis/7ige...</td>\n",
              "      <td>4</td>\n",
              "      <td>[]</td>\n",
              "      <td>76</td>\n",
              "      <td>Dua Lipa &amp; DaBaby are on top of the Hottest 50!</td>\n",
              "      <td>50</td>\n",
              "      <td>27084233</td>\n",
              "      <td>1</td>\n",
              "    </tr>\n",
              "    <tr>\n",
              "      <th>2</th>\n",
              "      <td>0lx2cLdOt3piJbcaXIV74f</td>\n",
              "      <td>willow</td>\n",
              "      <td>37i9dQZF1DXcBWIGoYBM5M</td>\n",
              "      <td>Today's Top Hits</td>\n",
              "      <td>['06HL4z0CvFAxyc27GXpf02']</td>\n",
              "      <td>['Taylor Swift']</td>\n",
              "      <td>2Xoteh7uEpea4TohMxjtaq</td>\n",
              "      <td>evermore</td>\n",
              "      <td>214706</td>\n",
              "      <td>0.392</td>\n",
              "      <td>0.574</td>\n",
              "      <td>7</td>\n",
              "      <td>-9.195</td>\n",
              "      <td>1</td>\n",
              "      <td>0.1700</td>\n",
              "      <td>0.83300</td>\n",
              "      <td>0.00179</td>\n",
              "      <td>0.1450</td>\n",
              "      <td>0.529</td>\n",
              "      <td>81.112</td>\n",
              "      <td>https://api.spotify.com/v1/audio-analysis/0lx2...</td>\n",
              "      <td>4</td>\n",
              "      <td>['AD', 'AE', 'AL', 'AR', 'AT', 'AU', 'BA', 'BE...</td>\n",
              "      <td>91</td>\n",
              "      <td>Dua Lipa &amp; DaBaby are on top of the Hottest 50!</td>\n",
              "      <td>50</td>\n",
              "      <td>27084233</td>\n",
              "      <td>91</td>\n",
              "    </tr>\n",
              "    <tr>\n",
              "      <th>3</th>\n",
              "      <td>2Z8yfpFX0ZMavHkcIeHiO1</td>\n",
              "      <td>Monster (Shawn Mendes &amp; Justin Bieber)</td>\n",
              "      <td>37i9dQZF1DXcBWIGoYBM5M</td>\n",
              "      <td>Today's Top Hits</td>\n",
              "      <td>['7n2wHs1TKAczGzO7Dd2rGr', '1uNFoZAHBGtllmzznp...</td>\n",
              "      <td>['Shawn Mendes', 'Justin Bieber']</td>\n",
              "      <td>3yVVL2EYLp8g7gT08VvYKy</td>\n",
              "      <td>Monster</td>\n",
              "      <td>178994</td>\n",
              "      <td>0.652</td>\n",
              "      <td>0.383</td>\n",
              "      <td>2</td>\n",
              "      <td>-7.076</td>\n",
              "      <td>0</td>\n",
              "      <td>0.0516</td>\n",
              "      <td>0.06760</td>\n",
              "      <td>0.00000</td>\n",
              "      <td>0.0828</td>\n",
              "      <td>0.549</td>\n",
              "      <td>145.765</td>\n",
              "      <td>https://api.spotify.com/v1/audio-analysis/2Z8y...</td>\n",
              "      <td>4</td>\n",
              "      <td>['AD', 'AE', 'AL', 'AR', 'AT', 'AU', 'BA', 'BE...</td>\n",
              "      <td>93</td>\n",
              "      <td>Dua Lipa &amp; DaBaby are on top of the Hottest 50!</td>\n",
              "      <td>50</td>\n",
              "      <td>27084233</td>\n",
              "      <td>91</td>\n",
              "    </tr>\n",
              "    <tr>\n",
              "      <th>4</th>\n",
              "      <td>6zFMeegAMYQo0mt8rXtrli</td>\n",
              "      <td>HOLIDAY</td>\n",
              "      <td>37i9dQZF1DXcBWIGoYBM5M</td>\n",
              "      <td>Today's Top Hits</td>\n",
              "      <td>['7jVv8c5Fj3E9VhNjxT4snq']</td>\n",
              "      <td>['Lil Nas X']</td>\n",
              "      <td>4EvukZrmNBiqJbs3LwOSHu</td>\n",
              "      <td>HOLIDAY</td>\n",
              "      <td>154997</td>\n",
              "      <td>0.810</td>\n",
              "      <td>0.511</td>\n",
              "      <td>5</td>\n",
              "      <td>-6.924</td>\n",
              "      <td>0</td>\n",
              "      <td>0.1640</td>\n",
              "      <td>0.12000</td>\n",
              "      <td>0.00000</td>\n",
              "      <td>0.0832</td>\n",
              "      <td>0.837</td>\n",
              "      <td>151.947</td>\n",
              "      <td>https://api.spotify.com/v1/audio-analysis/6zFM...</td>\n",
              "      <td>4</td>\n",
              "      <td>['AD', 'AE', 'AL', 'AR', 'AT', 'AU', 'BA', 'BE...</td>\n",
              "      <td>93</td>\n",
              "      <td>Dua Lipa &amp; DaBaby are on top of the Hottest 50!</td>\n",
              "      <td>50</td>\n",
              "      <td>27084233</td>\n",
              "      <td>92</td>\n",
              "    </tr>\n",
              "  </tbody>\n",
              "</table>\n",
              "</div>"
            ],
            "text/plain": [
              "                 track_id  ... count_available_markets\n",
              "0  463CkQjx2Zk1yXoBuierM9  ...                      88\n",
              "1  7igeByaBM0MgGsgXtNxDJ7  ...                       1\n",
              "2  0lx2cLdOt3piJbcaXIV74f  ...                      91\n",
              "3  2Z8yfpFX0ZMavHkcIeHiO1  ...                      91\n",
              "4  6zFMeegAMYQo0mt8rXtrli  ...                      92\n",
              "\n",
              "[5 rows x 28 columns]"
            ]
          },
          "metadata": {
            "tags": []
          },
          "execution_count": 10
        }
      ]
    },
    {
      "cell_type": "markdown",
      "metadata": {
        "id": "SscakrgEXzlB"
      },
      "source": [
        "## k-means"
      ]
    },
    {
      "cell_type": "markdown",
      "metadata": {
        "id": "Df_9GkQiTHox"
      },
      "source": [
        "**Ý tưởng model**: Với mỗi input là playlist hiện có **N** bài hát,"
      ]
    },
    {
      "cell_type": "markdown",
      "metadata": {
        "id": "DT4L1IZJTJrK"
      },
      "source": [
        "### create test-cases"
      ]
    },
    {
      "cell_type": "code",
      "metadata": {
        "id": "a8XrMjH4X2gA"
      },
      "source": [
        "fraction = 3\r\n",
        "nums_playlists_test = 100\r\n",
        "\r\n",
        "track_id_all = generate_playlists(pd_full, pd_playlists, nums_playlists_to_test = nums_playlists_test)\r\n",
        "track_id_test = generate_testcases(track_id_all, fraction = fraction)"
      ],
      "execution_count": 11,
      "outputs": []
    },
    {
      "cell_type": "code",
      "metadata": {
        "id": "ciOzgrSJvm8W"
      },
      "source": [
        "all_playlistID_for_tests = list(track_id_test.keys())"
      ],
      "execution_count": 12,
      "outputs": []
    },
    {
      "cell_type": "code",
      "metadata": {
        "id": "iGdaDfpkX2lv"
      },
      "source": [
        "pd_full_tests = pd_full.copy()\r\n",
        "pd_full_tests = pd_full_tests[pd_full_tests['playlist_id'].isin(all_playlistID_for_tests)]\r\n",
        "pd_full_tests = pd_full_tests.reset_index(drop = True)\r\n",
        "pd_full_tests_copy = pd_full_tests.copy()"
      ],
      "execution_count": 13,
      "outputs": []
    },
    {
      "cell_type": "code",
      "metadata": {
        "id": "BL0wT_cuvpbC"
      },
      "source": [
        "omit_feats = ['track_id', 'track_name', 'playlist_id', 'playlist_name_x','artist_ids', 'artist_names', 'album_id', 'album_name', 'analysis_url', 'description', 'num_followers', 'available_markets', 'num_tracks']\r\n",
        "pd_full_tests_copy = pd_full_tests_copy.drop(omit_feats, 1)"
      ],
      "execution_count": 14,
      "outputs": []
    },
    {
      "cell_type": "markdown",
      "metadata": {
        "id": "td_th43mvuda"
      },
      "source": [
        "### modeling"
      ]
    },
    {
      "cell_type": "markdown",
      "metadata": {
        "id": "o_MK1uD4UCmA"
      },
      "source": [
        "#### tìm số cụm tốt nhất ứng với data?"
      ]
    },
    {
      "cell_type": "code",
      "metadata": {
        "id": "HZO4w91ZX2oJ"
      },
      "source": [
        "# Standardizing the data\r\n",
        "scaler = MinMaxScaler()\r\n",
        "scaler.fit(pd_full_tests_copy)\r\n",
        "pd_playlists_numeric_scaled = scaler.transform(pd_full_tests_copy)"
      ],
      "execution_count": 15,
      "outputs": []
    },
    {
      "cell_type": "code",
      "metadata": {
        "colab": {
          "base_uri": "https://localhost:8080/",
          "height": 404
        },
        "id": "m6RntuOuX2vJ",
        "outputId": "a67990e0-32f4-4242-9d9e-af121369d824"
      },
      "source": [
        "distortion = []\r\n",
        "n_clusters = 40\r\n",
        "\r\n",
        "for k in range(1, n_clusters):  \r\n",
        "    kmeans = KMeans(n_clusters = k)\r\n",
        "    kmeans.fit(pd_playlists_numeric_scaled)\r\n",
        "    distortion.append(kmeans.inertia_)\r\n",
        "\r\n",
        "fig = plt.figure(figsize=(10, 6))\r\n",
        "plt.plot(range(1, n_clusters), distortion, c = 'red')\r\n",
        "plt.xlabel('Number of Clusters')\r\n",
        "plt.ylabel('Distortion')\r\n",
        "plt.title('Elbow curve')\r\n",
        "plt.show()"
      ],
      "execution_count": 16,
      "outputs": [
        {
          "output_type": "display_data",
          "data": {
            "image/png": "[encoded data removed]",
            "text/plain": [
              "<Figure size 720x432 with 1 Axes>"
            ]
          },
          "metadata": {
            "tags": [],
            "needs_background": "light"
          }
        }
      ]
    },
    {
      "cell_type": "markdown",
      "metadata": {
        "id": "TuOv-XI7Fj3Q"
      },
      "source": [
        "**Nhận xét**: theo nguyên tắc Elbow (khuỷu tay) trong phân cụm, ta thấy số cụm tốt nhất ứng với dữ liệu nằm trong khoảng 6-8. Ở đây nhóm em chọn số cụm là 7."
      ]
    },
    {
      "cell_type": "markdown",
      "metadata": {
        "id": "4qr8IlccWJoB"
      },
      "source": [
        "#### tạo k-means model với số cụm tốt nhất (k=7)"
      ]
    },
    {
      "cell_type": "code",
      "metadata": {
        "colab": {
          "base_uri": "https://localhost:8080/"
        },
        "id": "YD-aybMBfHiY",
        "outputId": "0451d87e-b54b-4e2b-af87-506d3b276f9d"
      },
      "source": [
        "kmeans = KMeans(n_clusters = 7)\r\n",
        "kmeans.fit(pd_playlists_numeric_scaled)"
      ],
      "execution_count": 17,
      "outputs": [
        {
          "output_type": "execute_result",
          "data": {
            "text/plain": [
              "KMeans(algorithm='auto', copy_x=True, init='k-means++', max_iter=300,\n",
              "       n_clusters=7, n_init=10, n_jobs=None, precompute_distances='auto',\n",
              "       random_state=None, tol=0.0001, verbose=0)"
            ]
          },
          "metadata": {
            "tags": []
          },
          "execution_count": 17
        }
      ]
    },
    {
      "cell_type": "code",
      "metadata": {
        "id": "dR0chwcLhULF"
      },
      "source": [
        "label = kmeans.labels_\r\n",
        "pd_full_tests_copy['cluster_label'] = label"
      ],
      "execution_count": 18,
      "outputs": []
    },
    {
      "cell_type": "code",
      "metadata": {
        "colab": {
          "base_uri": "https://localhost:8080/",
          "height": 215
        },
        "id": "spSqOU1dhUNS",
        "outputId": "bf80f4f0-51a2-4daa-a08c-109db52674c6"
      },
      "source": [
        "pd_full_tests_copy.head()"
      ],
      "execution_count": 19,
      "outputs": [
        {
          "output_type": "execute_result",
          "data": {
            "text/html": [
              "<div>\n",
              "<style scoped>\n",
              "    .dataframe tbody tr th:only-of-type {\n",
              "        vertical-align: middle;\n",
              "    }\n",
              "\n",
              "    .dataframe tbody tr th {\n",
              "        vertical-align: top;\n",
              "    }\n",
              "\n",
              "    .dataframe thead th {\n",
              "        text-align: right;\n",
              "    }\n",
              "</style>\n",
              "<table border=\"1\" class=\"dataframe\">\n",
              "  <thead>\n",
              "    <tr style=\"text-align: right;\">\n",
              "      <th></th>\n",
              "      <th>track_duration_ms</th>\n",
              "      <th>danceability</th>\n",
              "      <th>energy</th>\n",
              "      <th>key</th>\n",
              "      <th>loudness</th>\n",
              "      <th>mode</th>\n",
              "      <th>speechiness</th>\n",
              "      <th>acousticness</th>\n",
              "      <th>instrumentalness</th>\n",
              "      <th>liveness</th>\n",
              "      <th>valence</th>\n",
              "      <th>tempo</th>\n",
              "      <th>time_signature</th>\n",
              "      <th>popularity</th>\n",
              "      <th>count_available_markets</th>\n",
              "      <th>cluster_label</th>\n",
              "    </tr>\n",
              "  </thead>\n",
              "  <tbody>\n",
              "    <tr>\n",
              "      <th>0</th>\n",
              "      <td>172324</td>\n",
              "      <td>0.736</td>\n",
              "      <td>0.802</td>\n",
              "      <td>0</td>\n",
              "      <td>-4.759</td>\n",
              "      <td>1</td>\n",
              "      <td>0.0864</td>\n",
              "      <td>0.4680</td>\n",
              "      <td>0.00000</td>\n",
              "      <td>0.0940</td>\n",
              "      <td>0.6750</td>\n",
              "      <td>144.005</td>\n",
              "      <td>4</td>\n",
              "      <td>76</td>\n",
              "      <td>1</td>\n",
              "      <td>0</td>\n",
              "    </tr>\n",
              "    <tr>\n",
              "      <th>1</th>\n",
              "      <td>214706</td>\n",
              "      <td>0.392</td>\n",
              "      <td>0.574</td>\n",
              "      <td>7</td>\n",
              "      <td>-9.195</td>\n",
              "      <td>1</td>\n",
              "      <td>0.1700</td>\n",
              "      <td>0.8330</td>\n",
              "      <td>0.00179</td>\n",
              "      <td>0.1450</td>\n",
              "      <td>0.5290</td>\n",
              "      <td>81.112</td>\n",
              "      <td>4</td>\n",
              "      <td>91</td>\n",
              "      <td>91</td>\n",
              "      <td>5</td>\n",
              "    </tr>\n",
              "    <tr>\n",
              "      <th>2</th>\n",
              "      <td>178994</td>\n",
              "      <td>0.652</td>\n",
              "      <td>0.383</td>\n",
              "      <td>2</td>\n",
              "      <td>-7.076</td>\n",
              "      <td>0</td>\n",
              "      <td>0.0516</td>\n",
              "      <td>0.0676</td>\n",
              "      <td>0.00000</td>\n",
              "      <td>0.0828</td>\n",
              "      <td>0.5490</td>\n",
              "      <td>145.765</td>\n",
              "      <td>4</td>\n",
              "      <td>93</td>\n",
              "      <td>91</td>\n",
              "      <td>1</td>\n",
              "    </tr>\n",
              "    <tr>\n",
              "      <th>3</th>\n",
              "      <td>174321</td>\n",
              "      <td>0.889</td>\n",
              "      <td>0.340</td>\n",
              "      <td>11</td>\n",
              "      <td>-7.773</td>\n",
              "      <td>0</td>\n",
              "      <td>0.0697</td>\n",
              "      <td>0.2180</td>\n",
              "      <td>0.13000</td>\n",
              "      <td>0.0550</td>\n",
              "      <td>0.7160</td>\n",
              "      <td>94.009</td>\n",
              "      <td>4</td>\n",
              "      <td>96</td>\n",
              "      <td>92</td>\n",
              "      <td>1</td>\n",
              "    </tr>\n",
              "    <tr>\n",
              "      <th>4</th>\n",
              "      <td>149297</td>\n",
              "      <td>0.631</td>\n",
              "      <td>0.239</td>\n",
              "      <td>11</td>\n",
              "      <td>-7.071</td>\n",
              "      <td>0</td>\n",
              "      <td>0.0398</td>\n",
              "      <td>0.8640</td>\n",
              "      <td>0.00000</td>\n",
              "      <td>0.1160</td>\n",
              "      <td>0.0927</td>\n",
              "      <td>79.859</td>\n",
              "      <td>4</td>\n",
              "      <td>94</td>\n",
              "      <td>92</td>\n",
              "      <td>1</td>\n",
              "    </tr>\n",
              "  </tbody>\n",
              "</table>\n",
              "</div>"
            ],
            "text/plain": [
              "   track_duration_ms  danceability  ...  count_available_markets  cluster_label\n",
              "0             172324         0.736  ...                        1              0\n",
              "1             214706         0.392  ...                       91              5\n",
              "2             178994         0.652  ...                       91              1\n",
              "3             174321         0.889  ...                       92              1\n",
              "4             149297         0.631  ...                       92              1\n",
              "\n",
              "[5 rows x 16 columns]"
            ]
          },
          "metadata": {
            "tags": []
          },
          "execution_count": 19
        }
      ]
    },
    {
      "cell_type": "code",
      "metadata": {
        "id": "eIZN8LJAPod1"
      },
      "source": [
        "def generate_songs_kmeans(playlist, df_scaled_features, info_df, n_pred, num_clusters = 7, random_state = 2711):\r\n",
        "    pid = list(info_df[info_df['track_id'].isin(playlist)]['playlist_id'].value_counts().index)[0]\r\n",
        "    df_k = pd.DataFrame(df_scaled_features.copy())\r\n",
        "\r\n",
        "    kmeans = KMeans(n_clusters = num_clusters, random_state = random_state)\r\n",
        "    kmeans.fit(df_k)\r\n",
        "    \r\n",
        "    label = kmeans.labels_\r\n",
        "    df_k['cluster_label'] = label\r\n",
        "    \r\n",
        "    mode_cluster = list(df_k[info_df['playlist_id'] == pid]['cluster_label'].value_counts().index)[0]\r\n",
        "    \r\n",
        "    our_df = info_df[~(info_df['track_id'].isin(playlist)) & (df_k['cluster_label'] == mode_cluster)]\r\n",
        "    our_df = our_df.sort_values(by = 'popularity', ascending=False)\r\n",
        "\r\n",
        "    recs_names = list(np.unique(our_df['track_name'].values))\r\n",
        "    preds = collections.Counter(recs_names).most_common(n_pred)\r\n",
        "    pred_titles = [p[0] for p in preds]\r\n",
        "    return pred_titles"
      ],
      "execution_count": 20,
      "outputs": []
    },
    {
      "cell_type": "markdown",
      "metadata": {
        "id": "hdjBvDk6YX-S"
      },
      "source": [
        "### testing"
      ]
    },
    {
      "cell_type": "markdown",
      "metadata": {
        "id": "hqK99MsLiqv6"
      },
      "source": [
        "**Bây giờ ta sẽ thử test phương pháp này trên playlist đầu tiên của tập test**"
      ]
    },
    {
      "cell_type": "code",
      "metadata": {
        "id": "HHPC46OxWyUV"
      },
      "source": [
        "playlists_to_test = all_playlistID_for_tests[0]"
      ],
      "execution_count": 21,
      "outputs": []
    },
    {
      "cell_type": "code",
      "metadata": {
        "id": "p97F56y3iyEM"
      },
      "source": [
        "all_name_songs = list(pd_full[pd_full['track_id'].isin(track_id_all[playlists_to_test])]['track_name'].values)\r\n",
        "given_songs_name = list(pd_full[pd_full['track_id'].isin(track_id_test[playlists_to_test])]['track_name'].values)"
      ],
      "execution_count": 22,
      "outputs": []
    },
    {
      "cell_type": "code",
      "metadata": {
        "id": "eWZBSPJ6iyGR"
      },
      "source": [
        "track_name_result = generate_songs_kmeans(track_id_test[playlists_to_test], pd_playlists_numeric_scaled, pd_full_tests, len(track_id_all[playlists_to_test])-len(track_id_test[playlists_to_test]))"
      ],
      "execution_count": 23,
      "outputs": []
    },
    {
      "cell_type": "code",
      "metadata": {
        "colab": {
          "base_uri": "https://localhost:8080/"
        },
        "id": "7z8ILieOiyIg",
        "outputId": "7ad42919-138c-4b43-b3a9-831b9071781a"
      },
      "source": [
        "print('Songs given: ', given_songs_name, '\\n')\r\n",
        "print('Songs recommended: ', track_name_result, '\\n')"
      ],
      "execution_count": 24,
      "outputs": [
        {
          "output_type": "stream",
          "text": [
            "Songs given:  ['All of Me', 'You & I (Nobody in the World)', 'All of Me', 'XO', '(What A) Wonderful World', 'Fire and Rain', 'How Deep Is Your Love', 'If You Leave Me Now', 'All of Me', 'Thinking out Loud', 'When I Was Your Man', 'XO', 'Fire and Rain', 'Fire and Rain', 'Fire and Rain', \"You're the Inspiration - 2006 Remaster\", 'Collide - Acoustic Version', 'Thinking out Loud', 'Fire and Rain', 'Fire and Rain', 'Iris', 'Hello', \"You're the Inspiration - 2006 Remaster\", 'Right Here Waiting', '(Everything I Do) I Do It For You', 'Woman - Remastered 2010', '(What A) Wonderful World', 'Iris', 'A Groovy Kind of Love', 'Stuck On You', \"If You're Not The One\", \"If You're Not The One\", '(Everything I Do) I Do It For You', \"I'll Make Love To You\", 'A Groovy Kind of Love', 'Stuck On You', 'How Am I Supposed to Live Without You', 'How Deep Is Your Love', 'If You Leave Me Now', '(What A) Wonderful World', 'Perfect', 'All of Me', 'Thinking out Loud', 'When I Was Your Man', 'At My Weakest', 'XO', 'Who You Love (feat. Katy Perry)', 'You & I (Nobody in the World)', 'Back for Good - Radio Mix', 'Have I Told You Lately', 'Collide - Acoustic Version', 'Iris', 'Hello', 'Woman - Remastered 2010', \"You're the Inspiration - 2006 Remaster\", 'Fire and Rain', 'Sweet Creature', 'Shape of You - Acoustic', 'If You Ever Wanna Be In Love - James Bay Spotify Session 2015', 'Mandy', 'Longer', 'Glory of Love', 'Right Here Waiting', 'Now And Forever', '(Everything I Do) I Do It For You', 'Thinking out Loud', '(What A) Wonderful World', 'Perfect', 'All of Me', 'Thinking out Loud', 'Collide - Acoustic Version', 'Iris', 'Thinking out Loud', 'XO', 'Collide - Acoustic Version', 'Thinking out Loud', 'XO', 'If You Ever Wanna Be In Love - James Bay Spotify Session 2015', 'Perfect', 'All of Me', 'Thinking out Loud', '(Everything I Do) I Do It For You', \"I'll Make Love To You\", 'A Groovy Kind of Love', 'How Deep Is Your Love', '(What A) Wonderful World', 'All of Me', 'Thinking out Loud', 'XO', 'You & I (Nobody in the World)', 'Woman - Remastered 2010', 'Mandy', 'Now And Forever', '(Everything I Do) I Do It For You', \"I'll Make Love To You\", 'A Groovy Kind of Love', 'How Deep Is Your Love', '(What A) Wonderful World', 'Perfect', 'All of Me', 'Thinking out Loud', 'XO', 'You & I (Nobody in the World)', 'Woman - Remastered 2010', 'Mandy', 'Right Here Waiting', 'Now And Forever', 'Shape of You - Acoustic', 'Perfect', 'All of Me', 'XO', 'Iris', 'All of Me', 'Thinking out Loud', 'XO', 'Thinking out Loud', 'XO', 'XO', 'Who You Love (feat. Katy Perry)', 'If You Leave Me Now', 'All of Me', 'Thinking out Loud', 'Thinking out Loud', 'When I Was Your Man', 'Who You Love (feat. Katy Perry)', 'Perfect', 'Who You Love (feat. Katy Perry)', '(Everything I Do) I Do It For You', \"I'll Make Love To You\", 'A Groovy Kind of Love', 'Stuck On You', 'How Am I Supposed to Live Without You', 'Perfect', 'Glory of Love', 'Right Here Waiting', 'Fire and Rain', 'If You Leave Me Now', 'All of Me', 'Have I Told You Lately', '(What A) Wonderful World', 'Longer', 'Who You Love (feat. Katy Perry)', 'Fire and Rain', '(What A) Wonderful World', 'Perfect', 'Thinking out Loud', 'Perfect', 'All of Me', 'Thinking out Loud', 'All of Me', 'Thinking out Loud', 'When I Was Your Man', 'At My Weakest', 'When I Was Your Man', 'Iris', 'If You Ever Wanna Be In Love - James Bay Spotify Session 2015', 'Thinking out Loud', 'XO', 'Collide - Acoustic Version', 'Iris', 'Thinking out Loud', 'XO', 'Now And Forever', 'Sweet Creature', 'Shape of You - Acoustic', 'If You Ever Wanna Be In Love - James Bay Spotify Session 2015', 'Mandy', 'When I Was Your Man', 'XO', 'Back for Good - Radio Mix'] \n",
            "\n",
            "Songs recommended:  ['(I Heard That) Lonesome Whistle', '(Nice To Meet You) Anyway - Stripped Version', \"(What's So Funny 'Bout) Peace, Love and Understanding?\", '1,000,000 X Better', '1901', '1922 Blues', '26', '3 Crow', 'A Beautiful Noise', 'A Boy Named Sue - Live at San Quentin State Prison, San Quentin, CA - February 1969', 'A Change Is Gonna Come', 'A Ghost (feat. Elena Coats)', \"A Hard Day's Night\", 'A Little Bit Yours', 'A Sky Full of Stars', 'A Thing Called Love', 'AUATC', 'Accordion Solo - Slow Air/Reel: An Paistin Fionn (The Fair-Haired Boy) / The Flowers of Munster', 'Acuff-Rose', 'Adeline', 'Adeline (feat. Kathleen)', 'After the Ball', \"Ain't No Grave (Sparse)\", 'Air: An Páistín Fionn', 'Alicia', 'All Dead, All Dead', 'All Over Again', 'All The Fucking Time - Acoustic', 'All Three', 'All Time Low (Acoustic)', 'All the Lies About Me', 'All the Pretty Girls - Recorded at Spotify Studios NYC', 'Allegheny', 'Always Gonna Love You', 'American Flowers', 'Anbu (feat.CHANYEOL)', \"And It's Still Alright\", 'Angel', 'Angel from Montgomery - 2008 Remaster', 'Any Old Wind That Blows', 'Anyone Who Had a Heart', 'Anyone Who Knows What Love Is (Will Understand)', 'Apanhei-te Cavaquinho', 'Apples in Winter', 'Are You Listening?', 'Arms', 'Arms Of A Woman', 'Astral Plane', 'At My Worst', \"At the Purchaser's Option\", 'Baby Love', 'Babylonian Creation Myths (part 1)', 'Bad Boy', 'Bad News', 'Bad to Me', 'Ballad of a Teenage Queen', 'Barbry Ellen (Barbara Allen)', 'Be Alright', 'Beautiful Crazy', 'Beautiful Friend', 'Beautiful Stranger', 'Beauty of Discipline', 'Been My Last', 'Behind Closed Doors', 'Behind the Light', 'Better', 'Better Half of Me'] \n",
            "\n"
          ],
          "name": "stdout"
        }
      ]
    },
    {
      "cell_type": "markdown",
      "metadata": {
        "id": "eq4JRClukglc"
      },
      "source": [
        "**Bây giờ ta sẽ sử dụng tất cả 100 playlists trong bộ test để đánh giá**"
      ]
    },
    {
      "cell_type": "code",
      "metadata": {
        "id": "nq6x3QbOkftC"
      },
      "source": [
        "def test_multi_feats(pd_playlists, pd_full, fraction = 5, nums_playlists_test = 100):\r\n",
        "  r_score = []\r\n",
        "\r\n",
        "  track_id_all = generate_playlists(pd_full, pd_playlists, nums_playlists_to_test = nums_playlists_test)\r\n",
        "  track_id_test = generate_testcases(track_id_all, fraction = fraction)\r\n",
        "\r\n",
        "  all_playlistID_for_tests = list(track_id_test.keys())\r\n",
        "\r\n",
        "  pd_full_tests = pd_full.copy()\r\n",
        "  pd_full_tests = pd_full_tests[pd_full_tests['playlist_id'].isin(all_playlistID_for_tests)]\r\n",
        "  pd_full_tests = pd_full_tests.reset_index(drop = True)\r\n",
        "\r\n",
        "  pd_full_tests_copy = pd_full_tests.copy()\r\n",
        "  omit_feats = ['track_id', 'track_name', 'playlist_id', 'playlist_name_x','artist_ids', 'artist_names', 'album_id', 'album_name', 'analysis_url', 'description', 'num_followers', 'available_markets', 'num_tracks']\r\n",
        "  pd_full_tests_copy = pd_full_tests_copy.drop(omit_feats, 1)\r\n",
        "\r\n",
        "  # Standardizing the data\r\n",
        "  scaler = MinMaxScaler()\r\n",
        "  scaler.fit(pd_full_tests_copy)\r\n",
        "  pd_playlists_numeric_scaled = scaler.transform(pd_full_tests_copy)\r\n",
        "\r\n",
        "  for each_playlist in all_playlistID_for_tests:\r\n",
        "    track_name_result = generate_songs_kmeans(track_id_test[each_playlist], pd_playlists_numeric_scaled, pd_full_tests, len(track_id_all[each_playlist])-len(track_id_test[each_playlist]))\r\n",
        "\r\n",
        "    all_name_songs = list(pd_full_tests[pd_full_tests['track_id'].isin(track_id_all[each_playlist])]['track_name'].values)\r\n",
        "    given_songs_name = list(pd_full_tests[pd_full_tests['track_id'].isin(track_id_test[each_playlist])]['track_name'].values) \r\n",
        "    test_songs_name = [x for x in all_name_songs if x not in given_songs_name]\r\n",
        "\r\n",
        "    r_score.append(r_precision(track_name_result, test_songs_name))\r\n",
        "\r\n",
        "  return r_score"
      ],
      "execution_count": 25,
      "outputs": []
    },
    {
      "cell_type": "code",
      "metadata": {
        "colab": {
          "base_uri": "https://localhost:8080/"
        },
        "id": "CaEZ_CEUkfuu",
        "outputId": "326af04b-1705-4ddd-ecc6-320ea59fd307"
      },
      "source": [
        "r_score = test_multi_feats(pd_playlists, pd_full, fraction = 5, nums_playlists_test = 100)\r\n",
        "\r\n",
        "print(\"Average R precision: \" + str(np.mean(r_score)))\r\n",
        "print(\"Max R precision: \" + str(np.max(r_score)))"
      ],
      "execution_count": 26,
      "outputs": [
        {
          "output_type": "stream",
          "text": [
            "Average R precision: 0.03531143801847948\n",
            "Max R precision: 0.5063291139240507\n"
          ],
          "name": "stdout"
        }
      ]
    },
    {
      "cell_type": "markdown",
      "metadata": {
        "id": "MAIanMb-YoXI"
      },
      "source": [
        "**Test model trên những fraction khác nhau**:\r\n",
        "\r\n",
        "Fraction là tỷ lệ bài hát hiện có trong mỗi playlist, ta dựa vào chúng để đề xuất các bài hát còn lại, ví dụ playlist có 100 bài hát, ta dùng 1/5 số đó (20 bài hát) để dựa vào đó đề xuất 80 bài hát còn lại.\r\n",
        "\r\n",
        "Fraction có giá trị càng bé hoặc càng lớn thì tỷ lệ đề xuất trúng càng thấp.\r\n",
        "\r\n",
        "Ở đây ta test model với các fraction lần lượt là 2 - 10, tức là trong một playlist có 100 bài hát thì ta sẽ dùng 50, 100/3, 25, ..., 10 bài hát đầu tiên để đề xuất số bài hát còn lại."
      ]
    },
    {
      "cell_type": "code",
      "metadata": {
        "colab": {
          "base_uri": "https://localhost:8080/"
        },
        "id": "kwAYgDZFkfws",
        "outputId": "10c0e69f-fd38-4e13-b107-a38bc0acc32b"
      },
      "source": [
        "fraction_to_test = list(np.arange(2, 11))\r\n",
        "\r\n",
        "result_mean = {}\r\n",
        "result_max = {}\r\n",
        "\r\n",
        "for fraction in fraction_to_test:\r\n",
        "  r_score = test_multi_feats(pd_playlists, pd_full, fraction = fraction, nums_playlists_test = 100)\r\n",
        "  result_mean[fraction] = np.mean(r_score)\r\n",
        "  result_max[fraction] = np.max(r_score)\r\n",
        "  print('-'*30)\r\n",
        "  print(f'fraction {fraction}:')\r\n",
        "  print(\"Average R precision: \" + str(np.mean(r_score)))\r\n",
        "  print(\"Max R precision: \" + str(np.max(r_score))) \r\n",
        "  print('-'*30)"
      ],
      "execution_count": 27,
      "outputs": [
        {
          "output_type": "stream",
          "text": [
            "------------------------------\n",
            "fraction 2:\n",
            "Average R precision: 0.01916099453322683\n",
            "Max R precision: 0.12\n",
            "------------------------------\n",
            "------------------------------\n",
            "fraction 3:\n",
            "Average R precision: 0.032049499050828885\n",
            "Max R precision: 0.21052631578947367\n",
            "------------------------------\n",
            "------------------------------\n",
            "fraction 4:\n",
            "Average R precision: 0.03751860996863051\n",
            "Max R precision: 0.2222222222222222\n",
            "------------------------------\n",
            "------------------------------\n",
            "fraction 5:\n",
            "Average R precision: 0.04544183073342486\n",
            "Max R precision: 0.21568627450980393\n",
            "------------------------------\n",
            "------------------------------\n",
            "fraction 6:\n",
            "Average R precision: 0.05978210011566188\n",
            "Max R precision: 0.2926829268292683\n",
            "------------------------------\n",
            "------------------------------\n",
            "fraction 7:\n",
            "Average R precision: 0.04057185452769223\n",
            "Max R precision: 0.17647058823529413\n",
            "------------------------------\n",
            "------------------------------\n",
            "fraction 8:\n",
            "Average R precision: 0.04602201842871879\n",
            "Max R precision: 0.4942528735632184\n",
            "------------------------------\n",
            "------------------------------\n",
            "fraction 9:\n",
            "Average R precision: 0.042451316186716465\n",
            "Max R precision: 0.15730337078651685\n",
            "------------------------------\n",
            "------------------------------\n",
            "fraction 10:\n",
            "Average R precision: 0.05153977274883093\n",
            "Max R precision: 0.24615384615384617\n",
            "------------------------------\n"
          ],
          "name": "stdout"
        }
      ]
    },
    {
      "cell_type": "code",
      "metadata": {
        "colab": {
          "base_uri": "https://localhost:8080/",
          "height": 282
        },
        "id": "b2CEGcrKkfyk",
        "outputId": "1d8e17eb-8e80-4501-8f79-b2740f338f07"
      },
      "source": [
        "sns.barplot(x=list(result_mean.keys()), y=list(result_mean.values()))"
      ],
      "execution_count": 28,
      "outputs": [
        {
          "output_type": "execute_result",
          "data": {
            "text/plain": [
              "<matplotlib.axes._subplots.AxesSubplot at 0x7f07e2e48d68>"
            ]
          },
          "metadata": {
            "tags": []
          },
          "execution_count": 28
        },
        {
          "output_type": "display_data",
          "data": {
            "image/png": "[encoded data removed]",
            "text/plain": [
              "<Figure size 432x288 with 1 Axes>"
            ]
          },
          "metadata": {
            "tags": [],
            "needs_background": "light"
          }
        }
      ]
    },
    {
      "cell_type": "code",
      "metadata": {
        "colab": {
          "base_uri": "https://localhost:8080/",
          "height": 282
        },
        "id": "vxe32pXFkf0b",
        "outputId": "4c97c8b8-a279-43ca-aea3-54e689d7f48e"
      },
      "source": [
        "sns.barplot(x=list(result_max.keys()), y=list(result_max.values()))"
      ],
      "execution_count": 29,
      "outputs": [
        {
          "output_type": "execute_result",
          "data": {
            "text/plain": [
              "<matplotlib.axes._subplots.AxesSubplot at 0x7f07e1b0df60>"
            ]
          },
          "metadata": {
            "tags": []
          },
          "execution_count": 29
        },
        {
          "output_type": "display_data",
          "data": {
            "image/png": "[encoded data removed]",
            "text/plain": [
              "<Figure size 432x288 with 1 Axes>"
            ]
          },
          "metadata": {
            "tags": [],
            "needs_background": "light"
          }
        }
      ]
    },
    {
      "cell_type": "markdown",
      "metadata": {
        "id": "DDl43ARKYvIQ"
      },
      "source": [
        "**Nhận xét**: \r\n",
        "\r\n",
        "Kết quả **Average R precision** giảm dần khi giá trị fraction tăng từ 2 - 10, tức là số lượng bài hát input dùng để đề xuất càng nhiều thì model hoạt động càng tốt. Tuy nhiên nhìn chung **Average R precision** vẫn còn khá thấp (< 1 %), tức là tỷ lệ đề xuất trung bình \r\n",
        "\r\n",
        "Kết quả **Max R precision** biến động hơn so với giá trị **Average R precision**, có một số playlist đề xuất được đúng khá nhiều bài hát (**Max R precision** khi **fraction = 2** lên tới gần 0.06)."
      ]
    }
  ]
}