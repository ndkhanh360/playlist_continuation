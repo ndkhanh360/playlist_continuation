{
  "nbformat": 4,
  "nbformat_minor": 0,
  "metadata": {
    "colab": {
      "name": "kmeans.ipynb",
      "provenance": [],
      "collapsed_sections": [],
      "toc_visible": true
    },
    "kernelspec": {
      "name": "python3",
      "display_name": "Python 3"
    }
  },
  "cells": [
    {
      "cell_type": "code",
      "metadata": {
        "id": "3Ox07YU_VApc"
      },
      "source": [
        "import json\r\n",
        "import pandas as pd\r\n",
        "import numpy as np  \r\n",
        "import os\r\n",
        "import random\r\n",
        "\r\n",
        "from metric import r_precision, dcg_at_k, ndcg_at_k\r\n",
        "from utils import generate_playlists, generate_testcases\r\n",
        "\r\n",
        "from numpy import linalg as LA\r\n",
        "\r\n",
        "import sklearn\r\n",
        "from sklearn.metrics.pairwise import cosine_similarity\r\n",
        "from sklearn.model_selection import train_test_split\r\n",
        "from sklearn import preprocessing\r\n",
        "from sklearn.preprocessing import MinMaxScaler\r\n",
        "from sklearn.ensemble import ExtraTreesClassifier\r\n",
        "from sklearn.model_selection import train_test_split\r\n",
        "from sklearn.cluster import KMeans\r\n",
        "\r\n",
        "import matplotlib.pyplot as plt\r\n",
        "import seaborn as sns\r\n",
        "import collections\r\n",
        "\r\n",
        "import lightgbm as lgb\r\n",
        "\r\n",
        "import warnings\r\n",
        "warnings.simplefilter(action='ignore', category=FutureWarning)"
      ],
      "execution_count": 162,
      "outputs": []
    },
    {
      "cell_type": "code",
      "metadata": {
        "id": "MYbDEUH6blG6"
      },
      "source": [
        "path_to_data = '/content/drive/MyDrive/DO_AN_KHDL/DATA'\r\n",
        "path_audio_feats = os.path.join(path_to_data, 'audio_features.tsv')\r\n",
        "path_playlists = os.path.join(path_to_data, 'playlists.tsv')\r\n",
        "path_tracks = os.path.join(path_to_data, 'tracks.tsv')"
      ],
      "execution_count": 163,
      "outputs": []
    },
    {
      "cell_type": "code",
      "metadata": {
        "id": "Oen2tLuOblLn"
      },
      "source": [
        "pd_audio_feats = pd.read_csv(path_audio_feats, sep = '\\t')\r\n",
        "pd_tracks = pd.read_csv(path_tracks, sep = '\\t')\r\n",
        "pd_playlists = pd.read_csv(path_playlists, sep = '\\t')\r\n",
        "pd_playlists = pd_playlists.fillna('None')"
      ],
      "execution_count": 164,
      "outputs": []
    },
    {
      "cell_type": "code",
      "metadata": {
        "id": "9AaHwCK_blN3"
      },
      "source": [
        "pd_tracks = pd.merge(pd_tracks, pd_audio_feats, left_on = 'track_id', right_on = 'id')\r\n",
        "pd_full = pd.merge(pd_tracks, pd_playlists, left_on = 'playlist_id', right_on = 'playlist_id')\r\n",
        "\r\n",
        "pd_tracks = pd_tracks.drop('id', 1)\r\n",
        "pd_full = pd_full.drop('playlist_name_y', 1)\r\n",
        "pd_full = pd_full.drop('id', 1)"
      ],
      "execution_count": 165,
      "outputs": []
    },
    {
      "cell_type": "code",
      "metadata": {
        "colab": {
          "base_uri": "https://localhost:8080/"
        },
        "id": "sq_trfrGbysH",
        "outputId": "58fa7934-3390-4b48-fc36-1362cfc5a389"
      },
      "source": [
        "pd_full.shape"
      ],
      "execution_count": 166,
      "outputs": [
        {
          "output_type": "execute_result",
          "data": {
            "text/plain": [
              "(86400, 27)"
            ]
          },
          "metadata": {
            "tags": []
          },
          "execution_count": 166
        }
      ]
    },
    {
      "cell_type": "code",
      "metadata": {
        "id": "x7ORw-zdbu83"
      },
      "source": [
        "#Thông tin rỗng là discription, ta có thể chỉ điền vào \"None\"\r\n",
        "pd_full = pd_full.fillna('None')"
      ],
      "execution_count": 167,
      "outputs": []
    },
    {
      "cell_type": "code",
      "metadata": {
        "id": "JXm0SU6DblPw"
      },
      "source": [
        "#Kiểm tra và bỏ giá trị trùng lặp\r\n",
        "pd_full = pd_full.drop_duplicates()"
      ],
      "execution_count": 168,
      "outputs": []
    },
    {
      "cell_type": "code",
      "metadata": {
        "colab": {
          "base_uri": "https://localhost:8080/"
        },
        "id": "UgE-13NgblRX",
        "outputId": "f32fe93b-f3f8-4c10-9446-cfc7de31e504"
      },
      "source": [
        "pd_full.shape"
      ],
      "execution_count": 169,
      "outputs": [
        {
          "output_type": "execute_result",
          "data": {
            "text/plain": [
              "(86350, 27)"
            ]
          },
          "metadata": {
            "tags": []
          },
          "execution_count": 169
        }
      ]
    },
    {
      "cell_type": "code",
      "metadata": {
        "id": "NqbWQgPK_K4D"
      },
      "source": [
        "pd_full['available_markets'] = pd_full['available_markets'].apply(lambda x : x[1:-1].split(', '))\r\n",
        "pd_full['count_available_markets'] = pd_full['available_markets'].apply(lambda x : len(x))"
      ],
      "execution_count": 170,
      "outputs": []
    },
    {
      "cell_type": "code",
      "metadata": {
        "colab": {
          "base_uri": "https://localhost:8080/",
          "height": 484
        },
        "id": "bA_CeXRrA9_Y",
        "outputId": "4b595e00-92f9-46a1-e186-59364102094e"
      },
      "source": [
        "pd_full.head()"
      ],
      "execution_count": 171,
      "outputs": [
        {
          "output_type": "execute_result",
          "data": {
            "text/html": [
              "<div>\n",
              "<style scoped>\n",
              "    .dataframe tbody tr th:only-of-type {\n",
              "        vertical-align: middle;\n",
              "    }\n",
              "\n",
              "    .dataframe tbody tr th {\n",
              "        vertical-align: top;\n",
              "    }\n",
              "\n",
              "    .dataframe thead th {\n",
              "        text-align: right;\n",
              "    }\n",
              "</style>\n",
              "<table border=\"1\" class=\"dataframe\">\n",
              "  <thead>\n",
              "    <tr style=\"text-align: right;\">\n",
              "      <th></th>\n",
              "      <th>track_id</th>\n",
              "      <th>track_name</th>\n",
              "      <th>playlist_id</th>\n",
              "      <th>playlist_name_x</th>\n",
              "      <th>artist_ids</th>\n",
              "      <th>artist_names</th>\n",
              "      <th>album_id</th>\n",
              "      <th>album_name</th>\n",
              "      <th>track_duration_ms</th>\n",
              "      <th>danceability</th>\n",
              "      <th>energy</th>\n",
              "      <th>key</th>\n",
              "      <th>loudness</th>\n",
              "      <th>mode</th>\n",
              "      <th>speechiness</th>\n",
              "      <th>acousticness</th>\n",
              "      <th>instrumentalness</th>\n",
              "      <th>liveness</th>\n",
              "      <th>valence</th>\n",
              "      <th>tempo</th>\n",
              "      <th>analysis_url</th>\n",
              "      <th>time_signature</th>\n",
              "      <th>available_markets</th>\n",
              "      <th>popularity</th>\n",
              "      <th>description</th>\n",
              "      <th>num_tracks</th>\n",
              "      <th>num_followers</th>\n",
              "      <th>count_available_markets</th>\n",
              "    </tr>\n",
              "  </thead>\n",
              "  <tbody>\n",
              "    <tr>\n",
              "      <th>0</th>\n",
              "      <td>463CkQjx2Zk1yXoBuierM9</td>\n",
              "      <td>Levitating (feat. DaBaby)</td>\n",
              "      <td>37i9dQZF1DXcBWIGoYBM5M</td>\n",
              "      <td>Today's Top Hits</td>\n",
              "      <td>['6M2wZ9GZgrQXHCFfjv46we', '4r63FhuTkUYltbVAg5...</td>\n",
              "      <td>['Dua Lipa', 'DaBaby']</td>\n",
              "      <td>04m06KhJUuwe1Q487puIud</td>\n",
              "      <td>Levitating (feat. DaBaby)</td>\n",
              "      <td>203064</td>\n",
              "      <td>0.702</td>\n",
              "      <td>0.825</td>\n",
              "      <td>6</td>\n",
              "      <td>-3.787</td>\n",
              "      <td>0</td>\n",
              "      <td>0.0601</td>\n",
              "      <td>0.00883</td>\n",
              "      <td>0.00000</td>\n",
              "      <td>0.0674</td>\n",
              "      <td>0.915</td>\n",
              "      <td>102.977</td>\n",
              "      <td>https://api.spotify.com/v1/audio-analysis/463C...</td>\n",
              "      <td>4</td>\n",
              "      <td>['AD', 'AE', 'AL', 'AR', 'AU', 'BA', 'BE', 'BG...</td>\n",
              "      <td>90</td>\n",
              "      <td>Dua Lipa &amp; DaBaby are on top of the Hottest 50!</td>\n",
              "      <td>50</td>\n",
              "      <td>27084233</td>\n",
              "      <td>88</td>\n",
              "    </tr>\n",
              "    <tr>\n",
              "      <th>1</th>\n",
              "      <td>7igeByaBM0MgGsgXtNxDJ7</td>\n",
              "      <td>positions</td>\n",
              "      <td>37i9dQZF1DXcBWIGoYBM5M</td>\n",
              "      <td>Today's Top Hits</td>\n",
              "      <td>['66CXWjxzNUsdJxJ2JdwvnR']</td>\n",
              "      <td>['Ariana Grande']</td>\n",
              "      <td>3jqEvfiu2ENgmgzZq27zbi</td>\n",
              "      <td>positions</td>\n",
              "      <td>172324</td>\n",
              "      <td>0.736</td>\n",
              "      <td>0.802</td>\n",
              "      <td>0</td>\n",
              "      <td>-4.759</td>\n",
              "      <td>1</td>\n",
              "      <td>0.0864</td>\n",
              "      <td>0.46800</td>\n",
              "      <td>0.00000</td>\n",
              "      <td>0.0940</td>\n",
              "      <td>0.675</td>\n",
              "      <td>144.005</td>\n",
              "      <td>https://api.spotify.com/v1/audio-analysis/7ige...</td>\n",
              "      <td>4</td>\n",
              "      <td>[]</td>\n",
              "      <td>76</td>\n",
              "      <td>Dua Lipa &amp; DaBaby are on top of the Hottest 50!</td>\n",
              "      <td>50</td>\n",
              "      <td>27084233</td>\n",
              "      <td>1</td>\n",
              "    </tr>\n",
              "    <tr>\n",
              "      <th>2</th>\n",
              "      <td>0lx2cLdOt3piJbcaXIV74f</td>\n",
              "      <td>willow</td>\n",
              "      <td>37i9dQZF1DXcBWIGoYBM5M</td>\n",
              "      <td>Today's Top Hits</td>\n",
              "      <td>['06HL4z0CvFAxyc27GXpf02']</td>\n",
              "      <td>['Taylor Swift']</td>\n",
              "      <td>2Xoteh7uEpea4TohMxjtaq</td>\n",
              "      <td>evermore</td>\n",
              "      <td>214706</td>\n",
              "      <td>0.392</td>\n",
              "      <td>0.574</td>\n",
              "      <td>7</td>\n",
              "      <td>-9.195</td>\n",
              "      <td>1</td>\n",
              "      <td>0.1700</td>\n",
              "      <td>0.83300</td>\n",
              "      <td>0.00179</td>\n",
              "      <td>0.1450</td>\n",
              "      <td>0.529</td>\n",
              "      <td>81.112</td>\n",
              "      <td>https://api.spotify.com/v1/audio-analysis/0lx2...</td>\n",
              "      <td>4</td>\n",
              "      <td>['AD', 'AE', 'AL', 'AR', 'AT', 'AU', 'BA', 'BE...</td>\n",
              "      <td>91</td>\n",
              "      <td>Dua Lipa &amp; DaBaby are on top of the Hottest 50!</td>\n",
              "      <td>50</td>\n",
              "      <td>27084233</td>\n",
              "      <td>91</td>\n",
              "    </tr>\n",
              "    <tr>\n",
              "      <th>3</th>\n",
              "      <td>2Z8yfpFX0ZMavHkcIeHiO1</td>\n",
              "      <td>Monster (Shawn Mendes &amp; Justin Bieber)</td>\n",
              "      <td>37i9dQZF1DXcBWIGoYBM5M</td>\n",
              "      <td>Today's Top Hits</td>\n",
              "      <td>['7n2wHs1TKAczGzO7Dd2rGr', '1uNFoZAHBGtllmzznp...</td>\n",
              "      <td>['Shawn Mendes', 'Justin Bieber']</td>\n",
              "      <td>3yVVL2EYLp8g7gT08VvYKy</td>\n",
              "      <td>Monster</td>\n",
              "      <td>178994</td>\n",
              "      <td>0.652</td>\n",
              "      <td>0.383</td>\n",
              "      <td>2</td>\n",
              "      <td>-7.076</td>\n",
              "      <td>0</td>\n",
              "      <td>0.0516</td>\n",
              "      <td>0.06760</td>\n",
              "      <td>0.00000</td>\n",
              "      <td>0.0828</td>\n",
              "      <td>0.549</td>\n",
              "      <td>145.765</td>\n",
              "      <td>https://api.spotify.com/v1/audio-analysis/2Z8y...</td>\n",
              "      <td>4</td>\n",
              "      <td>['AD', 'AE', 'AL', 'AR', 'AT', 'AU', 'BA', 'BE...</td>\n",
              "      <td>93</td>\n",
              "      <td>Dua Lipa &amp; DaBaby are on top of the Hottest 50!</td>\n",
              "      <td>50</td>\n",
              "      <td>27084233</td>\n",
              "      <td>91</td>\n",
              "    </tr>\n",
              "    <tr>\n",
              "      <th>4</th>\n",
              "      <td>6zFMeegAMYQo0mt8rXtrli</td>\n",
              "      <td>HOLIDAY</td>\n",
              "      <td>37i9dQZF1DXcBWIGoYBM5M</td>\n",
              "      <td>Today's Top Hits</td>\n",
              "      <td>['7jVv8c5Fj3E9VhNjxT4snq']</td>\n",
              "      <td>['Lil Nas X']</td>\n",
              "      <td>4EvukZrmNBiqJbs3LwOSHu</td>\n",
              "      <td>HOLIDAY</td>\n",
              "      <td>154997</td>\n",
              "      <td>0.810</td>\n",
              "      <td>0.511</td>\n",
              "      <td>5</td>\n",
              "      <td>-6.924</td>\n",
              "      <td>0</td>\n",
              "      <td>0.1640</td>\n",
              "      <td>0.12000</td>\n",
              "      <td>0.00000</td>\n",
              "      <td>0.0832</td>\n",
              "      <td>0.837</td>\n",
              "      <td>151.947</td>\n",
              "      <td>https://api.spotify.com/v1/audio-analysis/6zFM...</td>\n",
              "      <td>4</td>\n",
              "      <td>['AD', 'AE', 'AL', 'AR', 'AT', 'AU', 'BA', 'BE...</td>\n",
              "      <td>93</td>\n",
              "      <td>Dua Lipa &amp; DaBaby are on top of the Hottest 50!</td>\n",
              "      <td>50</td>\n",
              "      <td>27084233</td>\n",
              "      <td>92</td>\n",
              "    </tr>\n",
              "  </tbody>\n",
              "</table>\n",
              "</div>"
            ],
            "text/plain": [
              "                 track_id  ... count_available_markets\n",
              "0  463CkQjx2Zk1yXoBuierM9  ...                      88\n",
              "1  7igeByaBM0MgGsgXtNxDJ7  ...                       1\n",
              "2  0lx2cLdOt3piJbcaXIV74f  ...                      91\n",
              "3  2Z8yfpFX0ZMavHkcIeHiO1  ...                      91\n",
              "4  6zFMeegAMYQo0mt8rXtrli  ...                      92\n",
              "\n",
              "[5 rows x 28 columns]"
            ]
          },
          "metadata": {
            "tags": []
          },
          "execution_count": 171
        }
      ]
    },
    {
      "cell_type": "markdown",
      "metadata": {
        "id": "SscakrgEXzlB"
      },
      "source": [
        "## k-means"
      ]
    },
    {
      "cell_type": "markdown",
      "metadata": {
        "id": "Df_9GkQiTHox"
      },
      "source": [
        "**Ý tưởng model**: Với mỗi input là playlist hiện có **N** bài hát,"
      ]
    },
    {
      "cell_type": "markdown",
      "metadata": {
        "id": "DT4L1IZJTJrK"
      },
      "source": [
        "### create test-cases"
      ]
    },
    {
      "cell_type": "code",
      "metadata": {
        "id": "a8XrMjH4X2gA"
      },
      "source": [
        "fraction = 3\r\n",
        "nums_playlists_test = 100\r\n",
        "\r\n",
        "track_id_all = generate_playlists(pd_full, pd_playlists, nums_playlists_to_test = nums_playlists_test)\r\n",
        "track_id_test = generate_testcases(track_id_all, fraction = fraction)"
      ],
      "execution_count": 172,
      "outputs": []
    },
    {
      "cell_type": "code",
      "metadata": {
        "id": "ciOzgrSJvm8W"
      },
      "source": [
        "all_playlistID_for_tests = list(track_id_test.keys())"
      ],
      "execution_count": 173,
      "outputs": []
    },
    {
      "cell_type": "code",
      "metadata": {
        "id": "iGdaDfpkX2lv"
      },
      "source": [
        "pd_full_tests = pd_full.copy()\r\n",
        "pd_full_tests = pd_full_tests[pd_full_tests['playlist_id'].isin(all_playlistID_for_tests)]\r\n",
        "pd_full_tests = pd_full_tests.reset_index(drop = True)\r\n",
        "pd_full_tests_copy = pd_full_tests.copy()"
      ],
      "execution_count": 174,
      "outputs": []
    },
    {
      "cell_type": "code",
      "metadata": {
        "id": "BL0wT_cuvpbC"
      },
      "source": [
        "omit_feats = ['track_id', 'track_name', 'playlist_id', 'playlist_name_x','artist_ids', 'artist_names', 'album_id', 'album_name', 'analysis_url', 'description', 'num_followers', 'available_markets', 'num_tracks']\r\n",
        "pd_full_tests_copy = pd_full_tests_copy.drop(omit_feats, 1)"
      ],
      "execution_count": 175,
      "outputs": []
    },
    {
      "cell_type": "markdown",
      "metadata": {
        "id": "td_th43mvuda"
      },
      "source": [
        "### modeling"
      ]
    },
    {
      "cell_type": "markdown",
      "metadata": {
        "id": "o_MK1uD4UCmA"
      },
      "source": [
        "#### tìm số cụm tốt nhất ứng với data?"
      ]
    },
    {
      "cell_type": "code",
      "metadata": {
        "id": "HZO4w91ZX2oJ"
      },
      "source": [
        "# Standardizing the data\r\n",
        "scaler = MinMaxScaler()\r\n",
        "scaler.fit(pd_full_tests_copy)\r\n",
        "pd_playlists_numeric_scaled = scaler.transform(pd_full_tests_copy)"
      ],
      "execution_count": 176,
      "outputs": []
    },
    {
      "cell_type": "code",
      "metadata": {
        "colab": {
          "base_uri": "https://localhost:8080/",
          "height": 404
        },
        "id": "m6RntuOuX2vJ",
        "outputId": "46879dbb-3cb9-4a23-d73c-6d6fff84be18"
      },
      "source": [
        "distortion = []\r\n",
        "n_clusters = 40\r\n",
        "\r\n",
        "for k in range(1, n_clusters):  \r\n",
        "    kmeans = KMeans(n_clusters = k)\r\n",
        "    kmeans.fit(pd_playlists_numeric_scaled)\r\n",
        "    distortion.append(kmeans.inertia_)\r\n",
        "\r\n",
        "fig = plt.figure(figsize=(10, 6))\r\n",
        "plt.plot(range(1, n_clusters), distortion, c = 'red')\r\n",
        "plt.xlabel('Number of Clusters')\r\n",
        "plt.ylabel('Distortion')\r\n",
        "plt.title('Elbow curve')\r\n",
        "plt.show()"
      ],
      "execution_count": 177,
      "outputs": [
        {
          "output_type": "display_data",
          "data": {
            "image/png": "[encoded data removed]",
            "text/plain": [
              "<Figure size 720x432 with 1 Axes>"
            ]
          },
          "metadata": {
            "tags": [],
            "needs_background": "light"
          }
        }
      ]
    },
    {
      "cell_type": "markdown",
      "metadata": {
        "id": "TuOv-XI7Fj3Q"
      },
      "source": [
        "**Nhận xét**: theo nguyên tắc Elbow (khuỷu tay) trong phân cụm, ta thấy số cụm tốt nhất ứng với dữ liệu nằm trong khoảng 6-8. Ở đây nhóm em chọn số cụm là 7."
      ]
    },
    {
      "cell_type": "markdown",
      "metadata": {
        "id": "4qr8IlccWJoB"
      },
      "source": [
        "#### tạo k-means model với số cụm tốt nhất (k=7)"
      ]
    },
    {
      "cell_type": "code",
      "metadata": {
        "colab": {
          "base_uri": "https://localhost:8080/"
        },
        "id": "YD-aybMBfHiY",
        "outputId": "812da058-49bc-4ffa-90a9-15a990ec5613"
      },
      "source": [
        "kmeans = KMeans(n_clusters = 7)\r\n",
        "kmeans.fit(pd_playlists_numeric_scaled)"
      ],
      "execution_count": 178,
      "outputs": [
        {
          "output_type": "execute_result",
          "data": {
            "text/plain": [
              "KMeans(algorithm='auto', copy_x=True, init='k-means++', max_iter=300,\n",
              "       n_clusters=7, n_init=10, n_jobs=None, precompute_distances='auto',\n",
              "       random_state=None, tol=0.0001, verbose=0)"
            ]
          },
          "metadata": {
            "tags": []
          },
          "execution_count": 178
        }
      ]
    },
    {
      "cell_type": "code",
      "metadata": {
        "id": "dR0chwcLhULF"
      },
      "source": [
        "label = kmeans.labels_\r\n",
        "pd_full_tests_copy['cluster_label'] = label"
      ],
      "execution_count": 179,
      "outputs": []
    },
    {
      "cell_type": "code",
      "metadata": {
        "colab": {
          "base_uri": "https://localhost:8080/",
          "height": 215
        },
        "id": "spSqOU1dhUNS",
        "outputId": "fe4c82dc-aa1b-412d-8ef8-0cfe96c72452"
      },
      "source": [
        "pd_full_tests_copy.head()"
      ],
      "execution_count": 180,
      "outputs": [
        {
          "output_type": "execute_result",
          "data": {
            "text/html": [
              "<div>\n",
              "<style scoped>\n",
              "    .dataframe tbody tr th:only-of-type {\n",
              "        vertical-align: middle;\n",
              "    }\n",
              "\n",
              "    .dataframe tbody tr th {\n",
              "        vertical-align: top;\n",
              "    }\n",
              "\n",
              "    .dataframe thead th {\n",
              "        text-align: right;\n",
              "    }\n",
              "</style>\n",
              "<table border=\"1\" class=\"dataframe\">\n",
              "  <thead>\n",
              "    <tr style=\"text-align: right;\">\n",
              "      <th></th>\n",
              "      <th>track_duration_ms</th>\n",
              "      <th>danceability</th>\n",
              "      <th>energy</th>\n",
              "      <th>key</th>\n",
              "      <th>loudness</th>\n",
              "      <th>mode</th>\n",
              "      <th>speechiness</th>\n",
              "      <th>acousticness</th>\n",
              "      <th>instrumentalness</th>\n",
              "      <th>liveness</th>\n",
              "      <th>valence</th>\n",
              "      <th>tempo</th>\n",
              "      <th>time_signature</th>\n",
              "      <th>popularity</th>\n",
              "      <th>count_available_markets</th>\n",
              "      <th>cluster_label</th>\n",
              "    </tr>\n",
              "  </thead>\n",
              "  <tbody>\n",
              "    <tr>\n",
              "      <th>0</th>\n",
              "      <td>154997</td>\n",
              "      <td>0.810</td>\n",
              "      <td>0.511</td>\n",
              "      <td>5</td>\n",
              "      <td>-6.924</td>\n",
              "      <td>0</td>\n",
              "      <td>0.1640</td>\n",
              "      <td>0.120</td>\n",
              "      <td>0.000000</td>\n",
              "      <td>0.0832</td>\n",
              "      <td>0.837</td>\n",
              "      <td>151.947</td>\n",
              "      <td>4</td>\n",
              "      <td>93</td>\n",
              "      <td>92</td>\n",
              "      <td>1</td>\n",
              "    </tr>\n",
              "    <tr>\n",
              "      <th>1</th>\n",
              "      <td>174321</td>\n",
              "      <td>0.889</td>\n",
              "      <td>0.340</td>\n",
              "      <td>11</td>\n",
              "      <td>-7.773</td>\n",
              "      <td>0</td>\n",
              "      <td>0.0697</td>\n",
              "      <td>0.218</td>\n",
              "      <td>0.130000</td>\n",
              "      <td>0.0550</td>\n",
              "      <td>0.716</td>\n",
              "      <td>94.009</td>\n",
              "      <td>4</td>\n",
              "      <td>96</td>\n",
              "      <td>92</td>\n",
              "      <td>1</td>\n",
              "    </tr>\n",
              "    <tr>\n",
              "      <th>2</th>\n",
              "      <td>160000</td>\n",
              "      <td>0.709</td>\n",
              "      <td>0.548</td>\n",
              "      <td>10</td>\n",
              "      <td>-8.493</td>\n",
              "      <td>1</td>\n",
              "      <td>0.3530</td>\n",
              "      <td>0.650</td>\n",
              "      <td>0.000002</td>\n",
              "      <td>0.1330</td>\n",
              "      <td>0.543</td>\n",
              "      <td>83.995</td>\n",
              "      <td>4</td>\n",
              "      <td>95</td>\n",
              "      <td>92</td>\n",
              "      <td>0</td>\n",
              "    </tr>\n",
              "    <tr>\n",
              "      <th>3</th>\n",
              "      <td>140525</td>\n",
              "      <td>0.700</td>\n",
              "      <td>0.722</td>\n",
              "      <td>7</td>\n",
              "      <td>-3.558</td>\n",
              "      <td>0</td>\n",
              "      <td>0.0369</td>\n",
              "      <td>0.221</td>\n",
              "      <td>0.000000</td>\n",
              "      <td>0.2720</td>\n",
              "      <td>0.756</td>\n",
              "      <td>90.989</td>\n",
              "      <td>4</td>\n",
              "      <td>98</td>\n",
              "      <td>92</td>\n",
              "      <td>1</td>\n",
              "    </tr>\n",
              "    <tr>\n",
              "      <th>4</th>\n",
              "      <td>163208</td>\n",
              "      <td>0.767</td>\n",
              "      <td>0.659</td>\n",
              "      <td>1</td>\n",
              "      <td>-7.429</td>\n",
              "      <td>1</td>\n",
              "      <td>0.0444</td>\n",
              "      <td>0.325</td>\n",
              "      <td>0.000000</td>\n",
              "      <td>0.1300</td>\n",
              "      <td>0.439</td>\n",
              "      <td>124.946</td>\n",
              "      <td>4</td>\n",
              "      <td>89</td>\n",
              "      <td>91</td>\n",
              "      <td>3</td>\n",
              "    </tr>\n",
              "  </tbody>\n",
              "</table>\n",
              "</div>"
            ],
            "text/plain": [
              "   track_duration_ms  danceability  ...  count_available_markets  cluster_label\n",
              "0             154997         0.810  ...                       92              1\n",
              "1             174321         0.889  ...                       92              1\n",
              "2             160000         0.709  ...                       92              0\n",
              "3             140525         0.700  ...                       92              1\n",
              "4             163208         0.767  ...                       91              3\n",
              "\n",
              "[5 rows x 16 columns]"
            ]
          },
          "metadata": {
            "tags": []
          },
          "execution_count": 180
        }
      ]
    },
    {
      "cell_type": "code",
      "metadata": {
        "id": "eIZN8LJAPod1"
      },
      "source": [
        "def generate_songs_kmeans(playlist, df_scaled_features, info_df, n_pred, num_clusters = 7, random_state = 2711):\r\n",
        "    pid = list(info_df[info_df['track_id'].isin(playlist)]['playlist_id'].value_counts().index)\r\n",
        "    if (len(pid) == 0):\r\n",
        "      print(playlist)\r\n",
        "    else:\r\n",
        "      pid = pid[0]\r\n",
        "    df_k = pd.DataFrame(df_scaled_features.copy())\r\n",
        "\r\n",
        "    kmeans = KMeans(n_clusters = num_clusters, random_state = random_state)\r\n",
        "    kmeans.fit(df_k)\r\n",
        "    \r\n",
        "    label = kmeans.labels_\r\n",
        "    df_k['cluster_label'] = label\r\n",
        "    \r\n",
        "    mode_cluster = list(df_k[info_df['playlist_id'] == pid]['cluster_label'].value_counts().index)[0]\r\n",
        "    \r\n",
        "    our_df = info_df[~(info_df['track_id'].isin(playlist)) & (df_k['cluster_label'] == mode_cluster)]\r\n",
        "    our_df = our_df.sort_values(by = 'popularity', ascending=False)\r\n",
        "\r\n",
        "    recs_names = list(np.unique(our_df['track_name'].values))\r\n",
        "    preds = collections.Counter(recs_names).most_common(n_pred)\r\n",
        "    pred_titles = [p[0] for p in preds]\r\n",
        "    return pred_titles"
      ],
      "execution_count": 181,
      "outputs": []
    },
    {
      "cell_type": "markdown",
      "metadata": {
        "id": "hdjBvDk6YX-S"
      },
      "source": [
        "### testing"
      ]
    },
    {
      "cell_type": "markdown",
      "metadata": {
        "id": "hqK99MsLiqv6"
      },
      "source": [
        "**Bây giờ ta sẽ thử test phương pháp này trên playlist đầu tiên của tập test**"
      ]
    },
    {
      "cell_type": "code",
      "metadata": {
        "id": "HHPC46OxWyUV"
      },
      "source": [
        "playlists_to_test = all_playlistID_for_tests[0]"
      ],
      "execution_count": 182,
      "outputs": []
    },
    {
      "cell_type": "code",
      "metadata": {
        "id": "p97F56y3iyEM"
      },
      "source": [
        "all_name_songs = list(pd_full[pd_full['track_id'].isin(track_id_all[playlists_to_test])]['track_name'].values)\r\n",
        "given_songs_name = list(pd_full[pd_full['track_id'].isin(track_id_test[playlists_to_test])]['track_name'].values)"
      ],
      "execution_count": 183,
      "outputs": []
    },
    {
      "cell_type": "code",
      "metadata": {
        "id": "eWZBSPJ6iyGR"
      },
      "source": [
        "track_name_result = generate_songs_kmeans(track_id_test[playlists_to_test], pd_playlists_numeric_scaled, pd_full_tests, len(track_id_all[playlists_to_test])-len(track_id_test[playlists_to_test]))"
      ],
      "execution_count": 184,
      "outputs": []
    },
    {
      "cell_type": "code",
      "metadata": {
        "colab": {
          "base_uri": "https://localhost:8080/"
        },
        "id": "7z8ILieOiyIg",
        "outputId": "7e445ddb-6345-438a-a8d9-248618be0223"
      },
      "source": [
        "print('Songs given: ', given_songs_name, '\\n')\r\n",
        "print('Songs recommended: ', track_name_result, '\\n')"
      ],
      "execution_count": 185,
      "outputs": [
        {
          "output_type": "stream",
          "text": [
            "Songs given:  ['Georgia Drumbeat - Instrumental', 'Alpine Star', 'Here Too Far', 'La Mer Peu Profonde', 'The Beekeeper', 'Hat of Rain', 'Neglect', 'Splintered - Instrumental', 'Goodbye, Honey, You Call That Gone', 'Neglect', 'Impossible Air', 'Cloud Corner', 'Here Too Far', 'Shadrach', 'On the Atlantic Ocean', 'Alpine Star', 'Here Too Far', 'Static Orphans', 'The Cascades', 'Instrumental II', 'Exploding', 'Green Arrow', 'Leather and Lace', 'Buho', 'Static Orphans', 'The Cascades', 'Instrumental II', 'Exploding', 'Green Arrow', 'Leather and Lace', 'Buho', 'Old Friend - Instrumental', 'Hat of Rain', 'Goodbye, Honey, You Call That Gone', 'Georgia Drumbeat - Instrumental', 'Neglect', 'Alpine Star', 'Splintered - Instrumental', 'Impossible Air', 'Cloud Corner', 'Unspecified Bird Calls', 'White Horses - Instrumental', 'Twins', 'Undefined', 'Cascade', 'South Australian Border', 'Here Too Far', 'Shadrach', 'La Mer Peu Profonde', 'On the Atlantic Ocean', 'Across White Oak Mountain', 'Interlude', 'The Beekeeper', 'Cedarsmoke', \"I Can't Tell My Secret Weapon\", 'Fletcher Bay - Instrumental', 'Chime', 'Static Orphans', 'Twins', 'Here Too Far', 'Shadrach', 'Interlude', 'Static Orphans', 'The Cascades', 'Cedarsmoke', 'Twins', 'Twins'] \n",
            "\n",
            "Songs recommended:  ['(flake)', '1/1 - Remastered 2004', '2 Pieces for Piano Quartet, TrV 169: No. 2, Liebesliedchen', '2/1 - Remastered 2004', '3 Figures - Tryptych', '4 Outings: II. Blues tempo', '4 Sacred Pieces (Quattro pezzi sacri): Ave Maria', '4 Sacred Pieces (Quattro pezzi sacri): Stabat Mater', '4 Sacred Pieces (Quattro pezzi sacri): Te Deum', '5 Piano Pieces, Op. 3, TrV 105: No. 1, Andante', '8 Humoresques, Op. 101, B. 187: No. 7. Poco lento e grazioso in G-Flat Major (arr. A. Tatum)', 'A Brief Walk in the Sea', 'A Hundred Dreams from Now', 'A Letter From Prison', 'A Storm Is Coming', 'Ab major', 'Abandon Window', 'Abide With Me', 'Adagietto - Matthew Herbert Mediterranean Dub', 'Aida / Act 2: Grand March', 'Allegri', 'Alma', 'Alpine Sketch', 'Also sprach Zarathustra, Op. 30, TrV 176: 1. Einleitung (Sonnenaufgang) - Live', 'Always Returning (II)', 'An Ending (Ascent)', 'An Ending (Ascent) - Remastered 2005', 'An Wasserflüssen Babylon, BWV 653b', 'An der schönen blauen Donau, Op.314', 'Anchor', 'Andante festivo for Strings and Timpani, JS 34b', 'Angel', 'Anona', 'Another Day (revised)', 'Appalachian Spring: VII. Doppio movimento', 'Arp Of Life', 'Assets And Targets', 'Aurolac', 'Aus Italien, Op. 16, TrV 147: Am Strande von Sorrent (On the Beach at Sorrento)', 'Ave Maria, D. 839', 'Avril 14th', 'Awakening', 'Bach, J.S.: Violin Partita No. 2 in D Minor, BWV 1004: V. Chaconne', 'Bach, JS / Orch. Marriner: Was mir behagt, ist nur die muntre Jagd, BWV 208: IX. Schafe können sicher weiden', 'Bach, JS: Concerto for 4 Pianos in A Minor, BWV 1065: II. Largo', 'Bagatelle No. 25 in A Minor, \"Für Elise\", WoO 59', 'Baiulus', 'Bare', 'Battle Suite: I. Intrada', 'Becoming', \"Beethoven's Piano Sonata No. 8, Pathetique\", 'Being Her Shadow', 'Bella Marie', \"Beltà poi che t'assenti (Arr. for 2 Pianos)\", 'Berth', 'Bhajan: IV. Bhajan', 'Birth Music: II. Repeat. Slowly. Relax. Repeat', 'Birthmark', 'Blooming', 'Blue Light Mama Magic', 'Blue Monk', 'Blue Moon', 'Boléro', 'Boy With an Old Tin Drum', 'Branch', 'Brazil', 'Breaking Silence'] \n",
            "\n"
          ],
          "name": "stdout"
        }
      ]
    },
    {
      "cell_type": "markdown",
      "metadata": {
        "id": "eq4JRClukglc"
      },
      "source": [
        "**Bây giờ ta sẽ sử dụng tất cả 100 playlists trong bộ test để đánh giá**"
      ]
    },
    {
      "cell_type": "code",
      "metadata": {
        "id": "nq6x3QbOkftC"
      },
      "source": [
        "def test_multi_feats(pd_playlists, pd_full, fraction = 5, nums_playlists_test = 100):\r\n",
        "  r_score = []\r\n",
        "\r\n",
        "  track_id_all = generate_playlists(pd_full, pd_playlists, nums_playlists_to_test = nums_playlists_test)\r\n",
        "  track_id_test = generate_testcases(track_id_all, fraction = fraction)\r\n",
        "\r\n",
        "  all_playlistID_for_tests = list(track_id_test.keys())\r\n",
        "\r\n",
        "  pd_full_tests = pd_full.copy()\r\n",
        "  pd_full_tests = pd_full_tests[pd_full_tests['playlist_id'].isin(all_playlistID_for_tests)]\r\n",
        "  pd_full_tests = pd_full_tests.reset_index(drop = True)\r\n",
        "\r\n",
        "  pd_full_tests_copy = pd_full_tests.copy()\r\n",
        "  omit_feats = ['track_id', 'track_name', 'playlist_id', 'playlist_name_x','artist_ids', 'artist_names', 'album_id', 'album_name', 'analysis_url', 'description', 'num_followers', 'available_markets', 'num_tracks']\r\n",
        "  pd_full_tests_copy = pd_full_tests_copy.drop(omit_feats, 1)\r\n",
        "\r\n",
        "  # Standardizing the data\r\n",
        "  scaler = MinMaxScaler()\r\n",
        "  scaler.fit(pd_full_tests_copy)\r\n",
        "  pd_playlists_numeric_scaled = scaler.transform(pd_full_tests_copy)\r\n",
        "\r\n",
        "  for each_playlist in all_playlistID_for_tests:\r\n",
        "    if (len(track_id_test[each_playlist]) == 0):\r\n",
        "      print(each_playlist)\r\n",
        "    track_name_result = generate_songs_kmeans(track_id_test[each_playlist], pd_playlists_numeric_scaled, pd_full_tests, len(track_id_all[each_playlist])-len(track_id_test[each_playlist]))\r\n",
        "\r\n",
        "    all_name_songs = list(pd_full_tests[pd_full_tests['track_id'].isin(track_id_all[each_playlist])]['track_name'].values)\r\n",
        "    given_songs_name = list(pd_full_tests[pd_full_tests['track_id'].isin(track_id_test[each_playlist])]['track_name'].values) \r\n",
        "    test_songs_name = [x for x in all_name_songs if x not in given_songs_name]\r\n",
        "\r\n",
        "    r_score.append(r_precision(track_name_result, test_songs_name))\r\n",
        "\r\n",
        "  return r_score"
      ],
      "execution_count": 159,
      "outputs": []
    },
    {
      "cell_type": "code",
      "metadata": {
        "colab": {
          "base_uri": "https://localhost:8080/",
          "height": 387
        },
        "id": "CaEZ_CEUkfuu",
        "outputId": "80bc6406-921f-4f1e-ad7c-bebfeb5a1d2b"
      },
      "source": [
        "r_score = test_multi_feats(pd_playlists, pd_full, fraction = 5, nums_playlists_test = 100)\r\n",
        "\r\n",
        "print(\"Average R precision: \" + str(np.mean(r_score)))\r\n",
        "print(\"Max R precision: \" + str(np.max(r_score)))"
      ],
      "execution_count": 160,
      "outputs": [
        {
          "output_type": "stream",
          "text": [
            "37i9dQZF1DWYHkSks5rujC\n",
            "[]\n"
          ],
          "name": "stdout"
        },
        {
          "output_type": "error",
          "ename": "ValueError",
          "evalue": "ignored",
          "traceback": [
            "\u001b[0;31m---------------------------------------------------------------------------\u001b[0m",
            "\u001b[0;31mValueError\u001b[0m                                Traceback (most recent call last)",
            "\u001b[0;32m<ipython-input-160-22aca0b8e3aa>\u001b[0m in \u001b[0;36m<module>\u001b[0;34m()\u001b[0m\n\u001b[0;32m----> 1\u001b[0;31m \u001b[0mr_score\u001b[0m \u001b[0;34m=\u001b[0m \u001b[0mtest_multi_feats\u001b[0m\u001b[0;34m(\u001b[0m\u001b[0mpd_playlists\u001b[0m\u001b[0;34m,\u001b[0m \u001b[0mpd_full\u001b[0m\u001b[0;34m,\u001b[0m \u001b[0mfraction\u001b[0m \u001b[0;34m=\u001b[0m \u001b[0;36m5\u001b[0m\u001b[0;34m,\u001b[0m \u001b[0mnums_playlists_test\u001b[0m \u001b[0;34m=\u001b[0m \u001b[0;36m100\u001b[0m\u001b[0;34m)\u001b[0m\u001b[0;34m\u001b[0m\u001b[0;34m\u001b[0m\u001b[0m\n\u001b[0m\u001b[1;32m      2\u001b[0m \u001b[0;34m\u001b[0m\u001b[0m\n\u001b[1;32m      3\u001b[0m \u001b[0mprint\u001b[0m\u001b[0;34m(\u001b[0m\u001b[0;34m\"Average R precision: \"\u001b[0m \u001b[0;34m+\u001b[0m \u001b[0mstr\u001b[0m\u001b[0;34m(\u001b[0m\u001b[0mnp\u001b[0m\u001b[0;34m.\u001b[0m\u001b[0mmean\u001b[0m\u001b[0;34m(\u001b[0m\u001b[0mr_score\u001b[0m\u001b[0;34m)\u001b[0m\u001b[0;34m)\u001b[0m\u001b[0;34m)\u001b[0m\u001b[0;34m\u001b[0m\u001b[0;34m\u001b[0m\u001b[0m\n\u001b[1;32m      4\u001b[0m \u001b[0mprint\u001b[0m\u001b[0;34m(\u001b[0m\u001b[0;34m\"Max R precision: \"\u001b[0m \u001b[0;34m+\u001b[0m \u001b[0mstr\u001b[0m\u001b[0;34m(\u001b[0m\u001b[0mnp\u001b[0m\u001b[0;34m.\u001b[0m\u001b[0mmax\u001b[0m\u001b[0;34m(\u001b[0m\u001b[0mr_score\u001b[0m\u001b[0;34m)\u001b[0m\u001b[0;34m)\u001b[0m\u001b[0;34m)\u001b[0m\u001b[0;34m\u001b[0m\u001b[0;34m\u001b[0m\u001b[0m\n",
            "\u001b[0;32m<ipython-input-159-2cb735b938a0>\u001b[0m in \u001b[0;36mtest_multi_feats\u001b[0;34m(pd_playlists, pd_full, fraction, nums_playlists_test)\u001b[0m\n\u001b[1;32m     23\u001b[0m     \u001b[0;32mif\u001b[0m \u001b[0;34m(\u001b[0m\u001b[0mlen\u001b[0m\u001b[0;34m(\u001b[0m\u001b[0mtrack_id_test\u001b[0m\u001b[0;34m[\u001b[0m\u001b[0meach_playlist\u001b[0m\u001b[0;34m]\u001b[0m\u001b[0;34m)\u001b[0m \u001b[0;34m==\u001b[0m \u001b[0;36m0\u001b[0m\u001b[0;34m)\u001b[0m\u001b[0;34m:\u001b[0m\u001b[0;34m\u001b[0m\u001b[0;34m\u001b[0m\u001b[0m\n\u001b[1;32m     24\u001b[0m       \u001b[0mprint\u001b[0m\u001b[0;34m(\u001b[0m\u001b[0meach_playlist\u001b[0m\u001b[0;34m)\u001b[0m\u001b[0;34m\u001b[0m\u001b[0;34m\u001b[0m\u001b[0m\n\u001b[0;32m---> 25\u001b[0;31m     \u001b[0mtrack_name_result\u001b[0m \u001b[0;34m=\u001b[0m \u001b[0mgenerate_songs_kmeans\u001b[0m\u001b[0;34m(\u001b[0m\u001b[0mtrack_id_test\u001b[0m\u001b[0;34m[\u001b[0m\u001b[0meach_playlist\u001b[0m\u001b[0;34m]\u001b[0m\u001b[0;34m,\u001b[0m \u001b[0mpd_playlists_numeric_scaled\u001b[0m\u001b[0;34m,\u001b[0m \u001b[0mpd_full_tests\u001b[0m\u001b[0;34m,\u001b[0m \u001b[0mlen\u001b[0m\u001b[0;34m(\u001b[0m\u001b[0mtrack_id_all\u001b[0m\u001b[0;34m[\u001b[0m\u001b[0meach_playlist\u001b[0m\u001b[0;34m]\u001b[0m\u001b[0;34m)\u001b[0m\u001b[0;34m-\u001b[0m\u001b[0mlen\u001b[0m\u001b[0;34m(\u001b[0m\u001b[0mtrack_id_test\u001b[0m\u001b[0;34m[\u001b[0m\u001b[0meach_playlist\u001b[0m\u001b[0;34m]\u001b[0m\u001b[0;34m)\u001b[0m\u001b[0;34m)\u001b[0m\u001b[0;34m\u001b[0m\u001b[0;34m\u001b[0m\u001b[0m\n\u001b[0m\u001b[1;32m     26\u001b[0m \u001b[0;34m\u001b[0m\u001b[0m\n\u001b[1;32m     27\u001b[0m     \u001b[0mall_name_songs\u001b[0m \u001b[0;34m=\u001b[0m \u001b[0mlist\u001b[0m\u001b[0;34m(\u001b[0m\u001b[0mpd_full_tests\u001b[0m\u001b[0;34m[\u001b[0m\u001b[0mpd_full_tests\u001b[0m\u001b[0;34m[\u001b[0m\u001b[0;34m'track_id'\u001b[0m\u001b[0;34m]\u001b[0m\u001b[0;34m.\u001b[0m\u001b[0misin\u001b[0m\u001b[0;34m(\u001b[0m\u001b[0mtrack_id_all\u001b[0m\u001b[0;34m[\u001b[0m\u001b[0meach_playlist\u001b[0m\u001b[0;34m]\u001b[0m\u001b[0;34m)\u001b[0m\u001b[0;34m]\u001b[0m\u001b[0;34m[\u001b[0m\u001b[0;34m'track_name'\u001b[0m\u001b[0;34m]\u001b[0m\u001b[0;34m.\u001b[0m\u001b[0mvalues\u001b[0m\u001b[0;34m)\u001b[0m\u001b[0;34m\u001b[0m\u001b[0;34m\u001b[0m\u001b[0m\n",
            "\u001b[0;32m<ipython-input-154-6894432a467a>\u001b[0m in \u001b[0;36mgenerate_songs_kmeans\u001b[0;34m(playlist, df_scaled_features, info_df, n_pred, num_clusters, random_state)\u001b[0m\n\u001b[1;32m     13\u001b[0m     \u001b[0mdf_k\u001b[0m\u001b[0;34m[\u001b[0m\u001b[0;34m'cluster_label'\u001b[0m\u001b[0;34m]\u001b[0m \u001b[0;34m=\u001b[0m \u001b[0mlabel\u001b[0m\u001b[0;34m\u001b[0m\u001b[0;34m\u001b[0m\u001b[0m\n\u001b[1;32m     14\u001b[0m \u001b[0;34m\u001b[0m\u001b[0m\n\u001b[0;32m---> 15\u001b[0;31m     \u001b[0mmode_cluster\u001b[0m \u001b[0;34m=\u001b[0m \u001b[0mlist\u001b[0m\u001b[0;34m(\u001b[0m\u001b[0mdf_k\u001b[0m\u001b[0;34m[\u001b[0m\u001b[0minfo_df\u001b[0m\u001b[0;34m[\u001b[0m\u001b[0;34m'playlist_id'\u001b[0m\u001b[0;34m]\u001b[0m \u001b[0;34m==\u001b[0m \u001b[0mpid\u001b[0m\u001b[0;34m]\u001b[0m\u001b[0;34m[\u001b[0m\u001b[0;34m'cluster_label'\u001b[0m\u001b[0;34m]\u001b[0m\u001b[0;34m.\u001b[0m\u001b[0mvalue_counts\u001b[0m\u001b[0;34m(\u001b[0m\u001b[0;34m)\u001b[0m\u001b[0;34m.\u001b[0m\u001b[0mindex\u001b[0m\u001b[0;34m)\u001b[0m\u001b[0;34m[\u001b[0m\u001b[0;36m0\u001b[0m\u001b[0;34m]\u001b[0m\u001b[0;34m\u001b[0m\u001b[0;34m\u001b[0m\u001b[0m\n\u001b[0m\u001b[1;32m     16\u001b[0m \u001b[0;34m\u001b[0m\u001b[0m\n\u001b[1;32m     17\u001b[0m     \u001b[0mour_df\u001b[0m \u001b[0;34m=\u001b[0m \u001b[0minfo_df\u001b[0m\u001b[0;34m[\u001b[0m\u001b[0;34m~\u001b[0m\u001b[0;34m(\u001b[0m\u001b[0minfo_df\u001b[0m\u001b[0;34m[\u001b[0m\u001b[0;34m'track_id'\u001b[0m\u001b[0;34m]\u001b[0m\u001b[0;34m.\u001b[0m\u001b[0misin\u001b[0m\u001b[0;34m(\u001b[0m\u001b[0mplaylist\u001b[0m\u001b[0;34m)\u001b[0m\u001b[0;34m)\u001b[0m \u001b[0;34m&\u001b[0m \u001b[0;34m(\u001b[0m\u001b[0mdf_k\u001b[0m\u001b[0;34m[\u001b[0m\u001b[0;34m'cluster_label'\u001b[0m\u001b[0;34m]\u001b[0m \u001b[0;34m==\u001b[0m \u001b[0mmode_cluster\u001b[0m\u001b[0;34m)\u001b[0m\u001b[0;34m]\u001b[0m\u001b[0;34m\u001b[0m\u001b[0;34m\u001b[0m\u001b[0m\n",
            "\u001b[0;32m/usr/local/lib/python3.6/dist-packages/pandas/core/ops/common.py\u001b[0m in \u001b[0;36mnew_method\u001b[0;34m(self, other)\u001b[0m\n\u001b[1;32m     63\u001b[0m         \u001b[0mother\u001b[0m \u001b[0;34m=\u001b[0m \u001b[0mitem_from_zerodim\u001b[0m\u001b[0;34m(\u001b[0m\u001b[0mother\u001b[0m\u001b[0;34m)\u001b[0m\u001b[0;34m\u001b[0m\u001b[0;34m\u001b[0m\u001b[0m\n\u001b[1;32m     64\u001b[0m \u001b[0;34m\u001b[0m\u001b[0m\n\u001b[0;32m---> 65\u001b[0;31m         \u001b[0;32mreturn\u001b[0m \u001b[0mmethod\u001b[0m\u001b[0;34m(\u001b[0m\u001b[0mself\u001b[0m\u001b[0;34m,\u001b[0m \u001b[0mother\u001b[0m\u001b[0;34m)\u001b[0m\u001b[0;34m\u001b[0m\u001b[0;34m\u001b[0m\u001b[0m\n\u001b[0m\u001b[1;32m     66\u001b[0m \u001b[0;34m\u001b[0m\u001b[0m\n\u001b[1;32m     67\u001b[0m     \u001b[0;32mreturn\u001b[0m \u001b[0mnew_method\u001b[0m\u001b[0;34m\u001b[0m\u001b[0;34m\u001b[0m\u001b[0m\n",
            "\u001b[0;32m/usr/local/lib/python3.6/dist-packages/pandas/core/ops/__init__.py\u001b[0m in \u001b[0;36mwrapper\u001b[0;34m(self, other)\u001b[0m\n\u001b[1;32m    368\u001b[0m         \u001b[0mrvalues\u001b[0m \u001b[0;34m=\u001b[0m \u001b[0mextract_array\u001b[0m\u001b[0;34m(\u001b[0m\u001b[0mother\u001b[0m\u001b[0;34m,\u001b[0m \u001b[0mextract_numpy\u001b[0m\u001b[0;34m=\u001b[0m\u001b[0;32mTrue\u001b[0m\u001b[0;34m)\u001b[0m\u001b[0;34m\u001b[0m\u001b[0;34m\u001b[0m\u001b[0m\n\u001b[1;32m    369\u001b[0m \u001b[0;34m\u001b[0m\u001b[0m\n\u001b[0;32m--> 370\u001b[0;31m         \u001b[0mres_values\u001b[0m \u001b[0;34m=\u001b[0m \u001b[0mcomparison_op\u001b[0m\u001b[0;34m(\u001b[0m\u001b[0mlvalues\u001b[0m\u001b[0;34m,\u001b[0m \u001b[0mrvalues\u001b[0m\u001b[0;34m,\u001b[0m \u001b[0mop\u001b[0m\u001b[0;34m)\u001b[0m\u001b[0;34m\u001b[0m\u001b[0;34m\u001b[0m\u001b[0m\n\u001b[0m\u001b[1;32m    371\u001b[0m \u001b[0;34m\u001b[0m\u001b[0m\n\u001b[1;32m    372\u001b[0m         \u001b[0;32mreturn\u001b[0m \u001b[0mself\u001b[0m\u001b[0;34m.\u001b[0m\u001b[0m_construct_result\u001b[0m\u001b[0;34m(\u001b[0m\u001b[0mres_values\u001b[0m\u001b[0;34m,\u001b[0m \u001b[0mname\u001b[0m\u001b[0;34m=\u001b[0m\u001b[0mres_name\u001b[0m\u001b[0;34m)\u001b[0m\u001b[0;34m\u001b[0m\u001b[0;34m\u001b[0m\u001b[0m\n",
            "\u001b[0;32m/usr/local/lib/python3.6/dist-packages/pandas/core/ops/array_ops.py\u001b[0m in \u001b[0;36mcomparison_op\u001b[0;34m(left, right, op)\u001b[0m\n\u001b[1;32m    223\u001b[0m         \u001b[0;32mif\u001b[0m \u001b[0mlen\u001b[0m\u001b[0;34m(\u001b[0m\u001b[0mlvalues\u001b[0m\u001b[0;34m)\u001b[0m \u001b[0;34m!=\u001b[0m \u001b[0mlen\u001b[0m\u001b[0;34m(\u001b[0m\u001b[0mrvalues\u001b[0m\u001b[0;34m)\u001b[0m\u001b[0;34m:\u001b[0m\u001b[0;34m\u001b[0m\u001b[0;34m\u001b[0m\u001b[0m\n\u001b[1;32m    224\u001b[0m             raise ValueError(\n\u001b[0;32m--> 225\u001b[0;31m                 \u001b[0;34m\"Lengths must match to compare\"\u001b[0m\u001b[0;34m,\u001b[0m \u001b[0mlvalues\u001b[0m\u001b[0;34m.\u001b[0m\u001b[0mshape\u001b[0m\u001b[0;34m,\u001b[0m \u001b[0mrvalues\u001b[0m\u001b[0;34m.\u001b[0m\u001b[0mshape\u001b[0m\u001b[0;34m\u001b[0m\u001b[0;34m\u001b[0m\u001b[0m\n\u001b[0m\u001b[1;32m    226\u001b[0m             )\n\u001b[1;32m    227\u001b[0m \u001b[0;34m\u001b[0m\u001b[0m\n",
            "\u001b[0;31mValueError\u001b[0m: ('Lengths must match to compare', (5604,), (0,))"
          ]
        }
      ]
    },
    {
      "cell_type": "code",
      "metadata": {
        "colab": {
          "base_uri": "https://localhost:8080/",
          "height": 77
        },
        "id": "kUPntQgFkd6_",
        "outputId": "da2b0311-ce9c-4b5b-8c49-bc979eb01dc7"
      },
      "source": [
        "pd_playlists[pd_playlists['playlist_id'] == '37i9dQZF1DWYHkSks5rujC']"
      ],
      "execution_count": 161,
      "outputs": [
        {
          "output_type": "execute_result",
          "data": {
            "text/html": [
              "<div>\n",
              "<style scoped>\n",
              "    .dataframe tbody tr th:only-of-type {\n",
              "        vertical-align: middle;\n",
              "    }\n",
              "\n",
              "    .dataframe tbody tr th {\n",
              "        vertical-align: top;\n",
              "    }\n",
              "\n",
              "    .dataframe thead th {\n",
              "        text-align: right;\n",
              "    }\n",
              "</style>\n",
              "<table border=\"1\" class=\"dataframe\">\n",
              "  <thead>\n",
              "    <tr style=\"text-align: right;\">\n",
              "      <th></th>\n",
              "      <th>playlist_id</th>\n",
              "      <th>playlist_name</th>\n",
              "      <th>description</th>\n",
              "      <th>num_tracks</th>\n",
              "      <th>num_followers</th>\n",
              "    </tr>\n",
              "  </thead>\n",
              "  <tbody>\n",
              "    <tr>\n",
              "      <th>223</th>\n",
              "      <td>37i9dQZF1DWYHkSks5rujC</td>\n",
              "      <td>Perfume Genius: Pride</td>\n",
              "      <td>A journey through The Beatles' career.</td>\n",
              "      <td>50</td>\n",
              "      <td>193649</td>\n",
              "    </tr>\n",
              "  </tbody>\n",
              "</table>\n",
              "</div>"
            ],
            "text/plain": [
              "                playlist_id          playlist_name  ... num_tracks  num_followers\n",
              "223  37i9dQZF1DWYHkSks5rujC  Perfume Genius: Pride  ...         50         193649\n",
              "\n",
              "[1 rows x 5 columns]"
            ]
          },
          "metadata": {
            "tags": []
          },
          "execution_count": 161
        }
      ]
    },
    {
      "cell_type": "markdown",
      "metadata": {
        "id": "MAIanMb-YoXI"
      },
      "source": [
        "**Test model trên những fraction khác nhau**:\r\n",
        "\r\n",
        "Fraction là tỷ lệ bài hát hiện có trong mỗi playlist, ta dựa vào chúng để đề xuất các bài hát còn lại, ví dụ playlist có 100 bài hát, ta dùng 1/5 số đó (20 bài hát) để dựa vào đó đề xuất 80 bài hát còn lại.\r\n",
        "\r\n",
        "Fraction có giá trị càng bé hoặc càng lớn thì tỷ lệ đề xuất trúng càng thấp.\r\n",
        "\r\n",
        "Ở đây ta test model với các fraction lần lượt là 2 - 10, tức là trong một playlist có 100 bài hát thì ta sẽ dùng 50, 100/3, 25, ..., 10 bài hát đầu tiên để đề xuất số bài hát còn lại."
      ]
    },
    {
      "cell_type": "code",
      "metadata": {
        "id": "kwAYgDZFkfws"
      },
      "source": [
        "fraction_to_test = list(np.arange(2, 11))\r\n",
        "\r\n",
        "result_mean = {}\r\n",
        "result_max = {}\r\n",
        "\r\n",
        "for fraction in fraction_to_test:\r\n",
        "  r_score = test_multi_feats(pd_playlists, pd_full, fraction = fraction, nums_playlists_test = 100)\r\n",
        "  result_mean[fraction] = np.mean(r_score)\r\n",
        "  result_max[fraction] = np.max(r_score)\r\n",
        "  print('-'*30)\r\n",
        "  print(f'fraction {fraction}:')\r\n",
        "  print(\"Average R precision: \" + str(np.mean(r_score)))\r\n",
        "  print(\"Max R precision: \" + str(np.max(r_score))) \r\n",
        "  print('-'*30)"
      ],
      "execution_count": null,
      "outputs": []
    },
    {
      "cell_type": "code",
      "metadata": {
        "id": "b2CEGcrKkfyk"
      },
      "source": [
        "sns.barplot(x=list(result_mean.keys()), y=list(result_mean.values()))"
      ],
      "execution_count": null,
      "outputs": []
    },
    {
      "cell_type": "code",
      "metadata": {
        "id": "vxe32pXFkf0b"
      },
      "source": [
        "sns.barplot(x=list(result_max.keys()), y=list(result_max.values()))"
      ],
      "execution_count": null,
      "outputs": []
    },
    {
      "cell_type": "markdown",
      "metadata": {
        "id": "DDl43ARKYvIQ"
      },
      "source": [
        "**Nhận xét**: \r\n",
        "\r\n",
        "Kết quả **Average R precision** giảm dần khi giá trị fraction tăng từ 2 - 10, tức là số lượng bài hát input dùng để đề xuất càng nhiều thì model hoạt động càng tốt. Tuy nhiên nhìn chung **Average R precision** vẫn còn khá thấp (< 1 %), tức là tỷ lệ đề xuất trung bình \r\n",
        "\r\n",
        "Kết quả **Max R precision** biến động hơn so với giá trị **Average R precision**, có một số playlist đề xuất được đúng khá nhiều bài hát (**Max R precision** khi **fraction = 2** lên tới gần 0.06)."
      ]
    },
    {
      "cell_type": "code",
      "metadata": {
        "id": "_sdFiiFDkf2P"
      },
      "source": [
        ""
      ],
      "execution_count": null,
      "outputs": []
    }
  ]
}