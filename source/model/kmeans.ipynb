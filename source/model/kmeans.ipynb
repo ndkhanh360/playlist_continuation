{
  "nbformat": 4,
  "nbformat_minor": 0,
  "metadata": {
    "colab": {
      "name": "kmeans.ipynb",
      "provenance": [],
      "collapsed_sections": [],
      "toc_visible": true
    },
    "kernelspec": {
      "name": "python3",
      "display_name": "Python 3"
    }
  },
  "cells": [
    {
      "cell_type": "code",
      "metadata": {
        "id": "3Ox07YU_VApc"
      },
      "source": [
        "import json\r\n",
        "import pandas as pd\r\n",
        "import numpy as np  \r\n",
        "import os\r\n",
        "import random\r\n",
        "\r\n",
        "from metric import r_precision, dcg_at_k, ndcg_at_k\r\n",
        "from utils import generate_playlists, generate_testcases\r\n",
        "\r\n",
        "from numpy import linalg as LA\r\n",
        "\r\n",
        "import sklearn\r\n",
        "from sklearn.metrics.pairwise import cosine_similarity\r\n",
        "from sklearn.model_selection import train_test_split\r\n",
        "from sklearn import preprocessing\r\n",
        "from sklearn.preprocessing import MinMaxScaler\r\n",
        "from sklearn.ensemble import ExtraTreesClassifier\r\n",
        "from sklearn.model_selection import train_test_split\r\n",
        "from sklearn.cluster import KMeans\r\n",
        "\r\n",
        "import matplotlib.pyplot as plt\r\n",
        "import seaborn as sns\r\n",
        "import collections\r\n",
        "\r\n",
        "import lightgbm as lgb\r\n",
        "\r\n",
        "import warnings\r\n",
        "warnings.simplefilter(action='ignore', category=FutureWarning)"
      ],
      "execution_count": 46,
      "outputs": []
    },
    {
      "cell_type": "code",
      "metadata": {
        "id": "MYbDEUH6blG6"
      },
      "source": [
        "path_to_data = '../../data' #'/content/drive/MyDrive/DO_AN_KHDL/DATA'\r\n",
        "path_audio_feats = os.path.join(path_to_data, 'audio_features.tsv')\r\n",
        "path_playlists = os.path.join(path_to_data, 'playlists.tsv')\r\n",
        "path_tracks = os.path.join(path_to_data, 'tracks.tsv')"
      ],
      "execution_count": 47,
      "outputs": []
    },
    {
      "cell_type": "code",
      "metadata": {
        "id": "Oen2tLuOblLn"
      },
      "source": [
        "pd_audio_feats = pd.read_csv(path_audio_feats, sep = '\\t')\r\n",
        "pd_tracks = pd.read_csv(path_tracks, sep = '\\t')\r\n",
        "pd_playlists = pd.read_csv(path_playlists, sep = '\\t')\r\n",
        "pd_playlists = pd_playlists.fillna('None')"
      ],
      "execution_count": 48,
      "outputs": []
    },
    {
      "cell_type": "code",
      "metadata": {
        "id": "9AaHwCK_blN3"
      },
      "source": [
        "pd_tracks = pd.merge(pd_tracks, pd_audio_feats, left_on = 'track_id', right_on = 'id')\r\n",
        "pd_full = pd.merge(pd_tracks, pd_playlists, left_on = 'playlist_id', right_on = 'playlist_id')\r\n",
        "\r\n",
        "pd_tracks = pd_tracks.drop('id', 1)\r\n",
        "pd_full = pd_full.drop('playlist_name_y', 1)\r\n",
        "pd_full = pd_full.drop('id', 1)"
      ],
      "execution_count": 49,
      "outputs": []
    },
    {
      "cell_type": "code",
      "metadata": {
        "colab": {
          "base_uri": "https://localhost:8080/"
        },
        "id": "sq_trfrGbysH",
        "outputId": "f6d26ba5-824e-4a70-be73-7ec1867a42d2"
      },
      "source": [
        "pd_full.shape"
      ],
      "execution_count": 50,
      "outputs": [
        {
          "output_type": "execute_result",
          "data": {
            "text/plain": [
              "(86400, 27)"
            ]
          },
          "metadata": {
            "tags": []
          },
          "execution_count": 50
        }
      ]
    },
    {
      "cell_type": "code",
      "metadata": {
        "id": "x7ORw-zdbu83"
      },
      "source": [
        "#Thông tin rỗng là discription, ta có thể chỉ điền vào \"None\"\r\n",
        "pd_full = pd_full.fillna('None')"
      ],
      "execution_count": 51,
      "outputs": []
    },
    {
      "cell_type": "code",
      "metadata": {
        "id": "JXm0SU6DblPw"
      },
      "source": [
        "#Kiểm tra và bỏ giá trị trùng lặp\r\n",
        "pd_full = pd_full.drop_duplicates()"
      ],
      "execution_count": 52,
      "outputs": []
    },
    {
      "cell_type": "code",
      "metadata": {
        "colab": {
          "base_uri": "https://localhost:8080/"
        },
        "id": "UgE-13NgblRX",
        "outputId": "b51db258-2304-42b0-e41e-95bf17102c7b"
      },
      "source": [
        "pd_full.shape"
      ],
      "execution_count": 53,
      "outputs": [
        {
          "output_type": "execute_result",
          "data": {
            "text/plain": [
              "(86350, 27)"
            ]
          },
          "metadata": {
            "tags": []
          },
          "execution_count": 53
        }
      ]
    },
    {
      "cell_type": "code",
      "metadata": {
        "id": "NqbWQgPK_K4D"
      },
      "source": [
        "pd_full['available_markets'] = pd_full['available_markets'].apply(lambda x : x[1:-1].split(', '))\r\n",
        "pd_full['count_available_markets'] = pd_full['available_markets'].apply(lambda x : len(x))"
      ],
      "execution_count": 54,
      "outputs": []
    },
    {
      "cell_type": "code",
      "metadata": {
        "colab": {
          "base_uri": "https://localhost:8080/",
          "height": 484
        },
        "id": "bA_CeXRrA9_Y",
        "outputId": "ca9a4aed-e3fb-4bf0-f124-e9722a1f9c36"
      },
      "source": [
        "pd_full.head()"
      ],
      "execution_count": 55,
      "outputs": [
        {
          "output_type": "execute_result",
          "data": {
            "text/html": [
              "<div>\n",
              "<style scoped>\n",
              "    .dataframe tbody tr th:only-of-type {\n",
              "        vertical-align: middle;\n",
              "    }\n",
              "\n",
              "    .dataframe tbody tr th {\n",
              "        vertical-align: top;\n",
              "    }\n",
              "\n",
              "    .dataframe thead th {\n",
              "        text-align: right;\n",
              "    }\n",
              "</style>\n",
              "<table border=\"1\" class=\"dataframe\">\n",
              "  <thead>\n",
              "    <tr style=\"text-align: right;\">\n",
              "      <th></th>\n",
              "      <th>track_id</th>\n",
              "      <th>track_name</th>\n",
              "      <th>playlist_id</th>\n",
              "      <th>playlist_name_x</th>\n",
              "      <th>artist_ids</th>\n",
              "      <th>artist_names</th>\n",
              "      <th>album_id</th>\n",
              "      <th>album_name</th>\n",
              "      <th>track_duration_ms</th>\n",
              "      <th>danceability</th>\n",
              "      <th>energy</th>\n",
              "      <th>key</th>\n",
              "      <th>loudness</th>\n",
              "      <th>mode</th>\n",
              "      <th>speechiness</th>\n",
              "      <th>acousticness</th>\n",
              "      <th>instrumentalness</th>\n",
              "      <th>liveness</th>\n",
              "      <th>valence</th>\n",
              "      <th>tempo</th>\n",
              "      <th>analysis_url</th>\n",
              "      <th>time_signature</th>\n",
              "      <th>available_markets</th>\n",
              "      <th>popularity</th>\n",
              "      <th>description</th>\n",
              "      <th>num_tracks</th>\n",
              "      <th>num_followers</th>\n",
              "      <th>count_available_markets</th>\n",
              "    </tr>\n",
              "  </thead>\n",
              "  <tbody>\n",
              "    <tr>\n",
              "      <th>0</th>\n",
              "      <td>463CkQjx2Zk1yXoBuierM9</td>\n",
              "      <td>Levitating (feat. DaBaby)</td>\n",
              "      <td>37i9dQZF1DXcBWIGoYBM5M</td>\n",
              "      <td>Today's Top Hits</td>\n",
              "      <td>['6M2wZ9GZgrQXHCFfjv46we', '4r63FhuTkUYltbVAg5...</td>\n",
              "      <td>['Dua Lipa', 'DaBaby']</td>\n",
              "      <td>04m06KhJUuwe1Q487puIud</td>\n",
              "      <td>Levitating (feat. DaBaby)</td>\n",
              "      <td>203064</td>\n",
              "      <td>0.702</td>\n",
              "      <td>0.825</td>\n",
              "      <td>6</td>\n",
              "      <td>-3.787</td>\n",
              "      <td>0</td>\n",
              "      <td>0.0601</td>\n",
              "      <td>0.00883</td>\n",
              "      <td>0.00000</td>\n",
              "      <td>0.0674</td>\n",
              "      <td>0.915</td>\n",
              "      <td>102.977</td>\n",
              "      <td>https://api.spotify.com/v1/audio-analysis/463C...</td>\n",
              "      <td>4</td>\n",
              "      <td>['AD', 'AE', 'AL', 'AR', 'AU', 'BA', 'BE', 'BG...</td>\n",
              "      <td>90</td>\n",
              "      <td>Dua Lipa &amp; DaBaby are on top of the Hottest 50!</td>\n",
              "      <td>50</td>\n",
              "      <td>27084233</td>\n",
              "      <td>88</td>\n",
              "    </tr>\n",
              "    <tr>\n",
              "      <th>1</th>\n",
              "      <td>7igeByaBM0MgGsgXtNxDJ7</td>\n",
              "      <td>positions</td>\n",
              "      <td>37i9dQZF1DXcBWIGoYBM5M</td>\n",
              "      <td>Today's Top Hits</td>\n",
              "      <td>['66CXWjxzNUsdJxJ2JdwvnR']</td>\n",
              "      <td>['Ariana Grande']</td>\n",
              "      <td>3jqEvfiu2ENgmgzZq27zbi</td>\n",
              "      <td>positions</td>\n",
              "      <td>172324</td>\n",
              "      <td>0.736</td>\n",
              "      <td>0.802</td>\n",
              "      <td>0</td>\n",
              "      <td>-4.759</td>\n",
              "      <td>1</td>\n",
              "      <td>0.0864</td>\n",
              "      <td>0.46800</td>\n",
              "      <td>0.00000</td>\n",
              "      <td>0.0940</td>\n",
              "      <td>0.675</td>\n",
              "      <td>144.005</td>\n",
              "      <td>https://api.spotify.com/v1/audio-analysis/7ige...</td>\n",
              "      <td>4</td>\n",
              "      <td>[]</td>\n",
              "      <td>76</td>\n",
              "      <td>Dua Lipa &amp; DaBaby are on top of the Hottest 50!</td>\n",
              "      <td>50</td>\n",
              "      <td>27084233</td>\n",
              "      <td>1</td>\n",
              "    </tr>\n",
              "    <tr>\n",
              "      <th>2</th>\n",
              "      <td>0lx2cLdOt3piJbcaXIV74f</td>\n",
              "      <td>willow</td>\n",
              "      <td>37i9dQZF1DXcBWIGoYBM5M</td>\n",
              "      <td>Today's Top Hits</td>\n",
              "      <td>['06HL4z0CvFAxyc27GXpf02']</td>\n",
              "      <td>['Taylor Swift']</td>\n",
              "      <td>2Xoteh7uEpea4TohMxjtaq</td>\n",
              "      <td>evermore</td>\n",
              "      <td>214706</td>\n",
              "      <td>0.392</td>\n",
              "      <td>0.574</td>\n",
              "      <td>7</td>\n",
              "      <td>-9.195</td>\n",
              "      <td>1</td>\n",
              "      <td>0.1700</td>\n",
              "      <td>0.83300</td>\n",
              "      <td>0.00179</td>\n",
              "      <td>0.1450</td>\n",
              "      <td>0.529</td>\n",
              "      <td>81.112</td>\n",
              "      <td>https://api.spotify.com/v1/audio-analysis/0lx2...</td>\n",
              "      <td>4</td>\n",
              "      <td>['AD', 'AE', 'AL', 'AR', 'AT', 'AU', 'BA', 'BE...</td>\n",
              "      <td>91</td>\n",
              "      <td>Dua Lipa &amp; DaBaby are on top of the Hottest 50!</td>\n",
              "      <td>50</td>\n",
              "      <td>27084233</td>\n",
              "      <td>91</td>\n",
              "    </tr>\n",
              "    <tr>\n",
              "      <th>3</th>\n",
              "      <td>2Z8yfpFX0ZMavHkcIeHiO1</td>\n",
              "      <td>Monster (Shawn Mendes &amp; Justin Bieber)</td>\n",
              "      <td>37i9dQZF1DXcBWIGoYBM5M</td>\n",
              "      <td>Today's Top Hits</td>\n",
              "      <td>['7n2wHs1TKAczGzO7Dd2rGr', '1uNFoZAHBGtllmzznp...</td>\n",
              "      <td>['Shawn Mendes', 'Justin Bieber']</td>\n",
              "      <td>3yVVL2EYLp8g7gT08VvYKy</td>\n",
              "      <td>Monster</td>\n",
              "      <td>178994</td>\n",
              "      <td>0.652</td>\n",
              "      <td>0.383</td>\n",
              "      <td>2</td>\n",
              "      <td>-7.076</td>\n",
              "      <td>0</td>\n",
              "      <td>0.0516</td>\n",
              "      <td>0.06760</td>\n",
              "      <td>0.00000</td>\n",
              "      <td>0.0828</td>\n",
              "      <td>0.549</td>\n",
              "      <td>145.765</td>\n",
              "      <td>https://api.spotify.com/v1/audio-analysis/2Z8y...</td>\n",
              "      <td>4</td>\n",
              "      <td>['AD', 'AE', 'AL', 'AR', 'AT', 'AU', 'BA', 'BE...</td>\n",
              "      <td>93</td>\n",
              "      <td>Dua Lipa &amp; DaBaby are on top of the Hottest 50!</td>\n",
              "      <td>50</td>\n",
              "      <td>27084233</td>\n",
              "      <td>91</td>\n",
              "    </tr>\n",
              "    <tr>\n",
              "      <th>4</th>\n",
              "      <td>6zFMeegAMYQo0mt8rXtrli</td>\n",
              "      <td>HOLIDAY</td>\n",
              "      <td>37i9dQZF1DXcBWIGoYBM5M</td>\n",
              "      <td>Today's Top Hits</td>\n",
              "      <td>['7jVv8c5Fj3E9VhNjxT4snq']</td>\n",
              "      <td>['Lil Nas X']</td>\n",
              "      <td>4EvukZrmNBiqJbs3LwOSHu</td>\n",
              "      <td>HOLIDAY</td>\n",
              "      <td>154997</td>\n",
              "      <td>0.810</td>\n",
              "      <td>0.511</td>\n",
              "      <td>5</td>\n",
              "      <td>-6.924</td>\n",
              "      <td>0</td>\n",
              "      <td>0.1640</td>\n",
              "      <td>0.12000</td>\n",
              "      <td>0.00000</td>\n",
              "      <td>0.0832</td>\n",
              "      <td>0.837</td>\n",
              "      <td>151.947</td>\n",
              "      <td>https://api.spotify.com/v1/audio-analysis/6zFM...</td>\n",
              "      <td>4</td>\n",
              "      <td>['AD', 'AE', 'AL', 'AR', 'AT', 'AU', 'BA', 'BE...</td>\n",
              "      <td>93</td>\n",
              "      <td>Dua Lipa &amp; DaBaby are on top of the Hottest 50!</td>\n",
              "      <td>50</td>\n",
              "      <td>27084233</td>\n",
              "      <td>92</td>\n",
              "    </tr>\n",
              "  </tbody>\n",
              "</table>\n",
              "</div>"
            ],
            "text/plain": [
              "                 track_id  ... count_available_markets\n",
              "0  463CkQjx2Zk1yXoBuierM9  ...                      88\n",
              "1  7igeByaBM0MgGsgXtNxDJ7  ...                       1\n",
              "2  0lx2cLdOt3piJbcaXIV74f  ...                      91\n",
              "3  2Z8yfpFX0ZMavHkcIeHiO1  ...                      91\n",
              "4  6zFMeegAMYQo0mt8rXtrli  ...                      92\n",
              "\n",
              "[5 rows x 28 columns]"
            ]
          },
          "metadata": {
            "tags": []
          },
          "execution_count": 55
        }
      ]
    },
    {
      "cell_type": "markdown",
      "metadata": {
        "id": "SscakrgEXzlB"
      },
      "source": [
        "## k-means"
      ]
    },
    {
      "cell_type": "markdown",
      "metadata": {
        "id": "Df_9GkQiTHox"
      },
      "source": [
        "* **Thuộc tính**: lấy toàn bộ các thuộc tính số (numeric features) của các track làm đặc trưng.\r\n",
        "* **Mô tả ý tưởng**:\r\n",
        "    * Phân cụm tất cả các bài hát thành **k** cụm sử dụng thuật toán K-means clustering, chọn giá trị **k** sử dụng phương pháp khuỷu tay (*elbow method*).\r\n",
        "    * Với tập hợp các seed tracks, ta chọn 1 cluster chứa nhiều seed tracks nhất. Sau khi chọn được cluster, ta sẽ sắp xếp các tracks theo thứ tự giảm dần của thuộc tính `popularity` và chọn **K** bài hát có giá trị `popularity` cao nhất làm kết quả dự đoán. "
      ]
    },
    {
      "cell_type": "markdown",
      "metadata": {
        "id": "DT4L1IZJTJrK"
      },
      "source": [
        "### create test-cases"
      ]
    },
    {
      "cell_type": "code",
      "metadata": {
        "id": "a8XrMjH4X2gA"
      },
      "source": [
        "fraction = 3\r\n",
        "nums_playlists_test = 100\r\n",
        "\r\n",
        "track_id_all = generate_playlists(pd_full, pd_playlists, nums_playlists_to_test = nums_playlists_test)\r\n",
        "track_id_test = generate_testcases(track_id_all, fraction = fraction)"
      ],
      "execution_count": 56,
      "outputs": []
    },
    {
      "cell_type": "code",
      "metadata": {
        "id": "ciOzgrSJvm8W"
      },
      "source": [
        "all_playlistID_for_tests = list(track_id_test.keys())"
      ],
      "execution_count": 57,
      "outputs": []
    },
    {
      "cell_type": "code",
      "metadata": {
        "id": "iGdaDfpkX2lv"
      },
      "source": [
        "pd_full_tests = pd_full.copy()\r\n",
        "pd_full_tests = pd_full_tests[pd_full_tests['playlist_id'].isin(all_playlistID_for_tests)]\r\n",
        "pd_full_tests = pd_full_tests.reset_index(drop = True)\r\n",
        "pd_full_tests_copy = pd_full_tests.copy()"
      ],
      "execution_count": 58,
      "outputs": []
    },
    {
      "cell_type": "code",
      "metadata": {
        "id": "BL0wT_cuvpbC"
      },
      "source": [
        "omit_feats = ['track_id', 'track_name', 'playlist_id', 'playlist_name_x','artist_ids', 'artist_names', 'album_id', 'album_name', 'analysis_url', 'description', 'num_followers', 'available_markets', 'num_tracks']\r\n",
        "pd_full_tests_copy = pd_full_tests_copy.drop(omit_feats, 1)"
      ],
      "execution_count": 59,
      "outputs": []
    },
    {
      "cell_type": "markdown",
      "metadata": {
        "id": "td_th43mvuda"
      },
      "source": [
        "### modeling"
      ]
    },
    {
      "cell_type": "markdown",
      "metadata": {
        "id": "o_MK1uD4UCmA"
      },
      "source": [
        "#### tìm số cụm tốt nhất ứng với data?"
      ]
    },
    {
      "cell_type": "code",
      "metadata": {
        "id": "HZO4w91ZX2oJ"
      },
      "source": [
        "# Standardizing the data\r\n",
        "scaler = MinMaxScaler()\r\n",
        "scaler.fit(pd_full_tests_copy)\r\n",
        "pd_playlists_numeric_scaled = scaler.transform(pd_full_tests_copy)"
      ],
      "execution_count": 60,
      "outputs": []
    },
    {
      "cell_type": "code",
      "metadata": {
        "colab": {
          "base_uri": "https://localhost:8080/",
          "height": 404
        },
        "id": "m6RntuOuX2vJ",
        "outputId": "2925eb1a-686d-4138-d79a-162aa5b1f675"
      },
      "source": [
        "distortion = []\r\n",
        "n_clusters = 40\r\n",
        "\r\n",
        "for k in range(1, n_clusters):  \r\n",
        "    kmeans = KMeans(n_clusters = k)\r\n",
        "    kmeans.fit(pd_playlists_numeric_scaled)\r\n",
        "    distortion.append(kmeans.inertia_)\r\n",
        "\r\n",
        "fig = plt.figure(figsize=(10, 6))\r\n",
        "plt.plot(range(1, n_clusters), distortion, c = 'red')\r\n",
        "plt.xlabel('Number of Clusters')\r\n",
        "plt.ylabel('Distortion')\r\n",
        "plt.title('Elbow curve')\r\n",
        "plt.show()"
      ],
      "execution_count": 61,
      "outputs": [
        {
          "output_type": "display_data",
          "data": {
            "image/png": "[encoded data removed]",
            "text/plain": [
              "<Figure size 720x432 with 1 Axes>"
            ]
          },
          "metadata": {
            "tags": [],
            "needs_background": "light"
          }
        }
      ]
    },
    {
      "cell_type": "markdown",
      "metadata": {
        "id": "TuOv-XI7Fj3Q"
      },
      "source": [
        "**Nhận xét**: theo nguyên tắc Elbow (khuỷu tay) trong phân cụm, ta thấy số cụm tốt nhất ứng với dữ liệu nằm trong khoảng 6-8. Ở đây nhóm em chọn số cụm là 7."
      ]
    },
    {
      "cell_type": "markdown",
      "metadata": {
        "id": "4qr8IlccWJoB"
      },
      "source": [
        "#### tạo k-means model với số cụm tốt nhất (k=7)"
      ]
    },
    {
      "cell_type": "code",
      "metadata": {
        "colab": {
          "base_uri": "https://localhost:8080/"
        },
        "id": "YD-aybMBfHiY",
        "outputId": "4d9109a8-f286-46bf-e5b2-5da0462ce067"
      },
      "source": [
        "kmeans = KMeans(n_clusters = 7)\r\n",
        "kmeans.fit(pd_playlists_numeric_scaled)"
      ],
      "execution_count": 62,
      "outputs": [
        {
          "output_type": "execute_result",
          "data": {
            "text/plain": [
              "KMeans(algorithm='auto', copy_x=True, init='k-means++', max_iter=300,\n",
              "       n_clusters=7, n_init=10, n_jobs=None, precompute_distances='auto',\n",
              "       random_state=None, tol=0.0001, verbose=0)"
            ]
          },
          "metadata": {
            "tags": []
          },
          "execution_count": 62
        }
      ]
    },
    {
      "cell_type": "code",
      "metadata": {
        "id": "dR0chwcLhULF"
      },
      "source": [
        "label = kmeans.labels_\r\n",
        "pd_full_tests_copy['cluster_label'] = label"
      ],
      "execution_count": 63,
      "outputs": []
    },
    {
      "cell_type": "code",
      "metadata": {
        "colab": {
          "base_uri": "https://localhost:8080/",
          "height": 215
        },
        "id": "spSqOU1dhUNS",
        "outputId": "57bac848-aa46-490a-88ad-e4f0840e6436"
      },
      "source": [
        "pd_full_tests_copy.head()"
      ],
      "execution_count": 64,
      "outputs": [
        {
          "output_type": "execute_result",
          "data": {
            "text/html": [
              "<div>\n",
              "<style scoped>\n",
              "    .dataframe tbody tr th:only-of-type {\n",
              "        vertical-align: middle;\n",
              "    }\n",
              "\n",
              "    .dataframe tbody tr th {\n",
              "        vertical-align: top;\n",
              "    }\n",
              "\n",
              "    .dataframe thead th {\n",
              "        text-align: right;\n",
              "    }\n",
              "</style>\n",
              "<table border=\"1\" class=\"dataframe\">\n",
              "  <thead>\n",
              "    <tr style=\"text-align: right;\">\n",
              "      <th></th>\n",
              "      <th>track_duration_ms</th>\n",
              "      <th>danceability</th>\n",
              "      <th>energy</th>\n",
              "      <th>key</th>\n",
              "      <th>loudness</th>\n",
              "      <th>mode</th>\n",
              "      <th>speechiness</th>\n",
              "      <th>acousticness</th>\n",
              "      <th>instrumentalness</th>\n",
              "      <th>liveness</th>\n",
              "      <th>valence</th>\n",
              "      <th>tempo</th>\n",
              "      <th>time_signature</th>\n",
              "      <th>popularity</th>\n",
              "      <th>count_available_markets</th>\n",
              "      <th>cluster_label</th>\n",
              "    </tr>\n",
              "  </thead>\n",
              "  <tbody>\n",
              "    <tr>\n",
              "      <th>0</th>\n",
              "      <td>214706</td>\n",
              "      <td>0.392</td>\n",
              "      <td>0.574</td>\n",
              "      <td>7</td>\n",
              "      <td>-9.195</td>\n",
              "      <td>1</td>\n",
              "      <td>0.1700</td>\n",
              "      <td>0.8330</td>\n",
              "      <td>0.001790</td>\n",
              "      <td>0.1450</td>\n",
              "      <td>0.529</td>\n",
              "      <td>81.112</td>\n",
              "      <td>4</td>\n",
              "      <td>91</td>\n",
              "      <td>91</td>\n",
              "      <td>0</td>\n",
              "    </tr>\n",
              "    <tr>\n",
              "      <th>1</th>\n",
              "      <td>158032</td>\n",
              "      <td>0.613</td>\n",
              "      <td>0.631</td>\n",
              "      <td>4</td>\n",
              "      <td>-6.965</td>\n",
              "      <td>1</td>\n",
              "      <td>0.1200</td>\n",
              "      <td>0.0663</td>\n",
              "      <td>0.000000</td>\n",
              "      <td>0.1690</td>\n",
              "      <td>0.330</td>\n",
              "      <td>149.992</td>\n",
              "      <td>4</td>\n",
              "      <td>87</td>\n",
              "      <td>92</td>\n",
              "      <td>2</td>\n",
              "    </tr>\n",
              "    <tr>\n",
              "      <th>2</th>\n",
              "      <td>216560</td>\n",
              "      <td>0.390</td>\n",
              "      <td>0.724</td>\n",
              "      <td>6</td>\n",
              "      <td>-7.607</td>\n",
              "      <td>0</td>\n",
              "      <td>0.0889</td>\n",
              "      <td>0.1620</td>\n",
              "      <td>0.000000</td>\n",
              "      <td>0.3930</td>\n",
              "      <td>0.312</td>\n",
              "      <td>165.945</td>\n",
              "      <td>4</td>\n",
              "      <td>81</td>\n",
              "      <td>92</td>\n",
              "      <td>6</td>\n",
              "    </tr>\n",
              "    <tr>\n",
              "      <th>3</th>\n",
              "      <td>141123</td>\n",
              "      <td>0.607</td>\n",
              "      <td>0.606</td>\n",
              "      <td>0</td>\n",
              "      <td>-5.441</td>\n",
              "      <td>0</td>\n",
              "      <td>0.6810</td>\n",
              "      <td>0.2130</td>\n",
              "      <td>0.000000</td>\n",
              "      <td>0.0853</td>\n",
              "      <td>0.292</td>\n",
              "      <td>79.881</td>\n",
              "      <td>4</td>\n",
              "      <td>65</td>\n",
              "      <td>92</td>\n",
              "      <td>6</td>\n",
              "    </tr>\n",
              "    <tr>\n",
              "      <th>4</th>\n",
              "      <td>195586</td>\n",
              "      <td>0.646</td>\n",
              "      <td>0.598</td>\n",
              "      <td>3</td>\n",
              "      <td>-10.293</td>\n",
              "      <td>1</td>\n",
              "      <td>0.0425</td>\n",
              "      <td>0.7300</td>\n",
              "      <td>0.000006</td>\n",
              "      <td>0.1180</td>\n",
              "      <td>0.606</td>\n",
              "      <td>80.993</td>\n",
              "      <td>4</td>\n",
              "      <td>72</td>\n",
              "      <td>92</td>\n",
              "      <td>0</td>\n",
              "    </tr>\n",
              "  </tbody>\n",
              "</table>\n",
              "</div>"
            ],
            "text/plain": [
              "   track_duration_ms  danceability  ...  count_available_markets  cluster_label\n",
              "0             214706         0.392  ...                       91              0\n",
              "1             158032         0.613  ...                       92              2\n",
              "2             216560         0.390  ...                       92              6\n",
              "3             141123         0.607  ...                       92              6\n",
              "4             195586         0.646  ...                       92              0\n",
              "\n",
              "[5 rows x 16 columns]"
            ]
          },
          "metadata": {
            "tags": []
          },
          "execution_count": 64
        }
      ]
    },
    {
      "cell_type": "code",
      "metadata": {
        "id": "eIZN8LJAPod1"
      },
      "source": [
        "def generate_songs_kmeans(playlist, df_scaled_features, info_df, n_pred, num_clusters = 7, random_state = 2711):\r\n",
        "    pid = list(info_df[info_df['track_id'].isin(playlist)]['playlist_id'].value_counts().index)[0]\r\n",
        "    df_k = pd.DataFrame(df_scaled_features.copy())\r\n",
        "\r\n",
        "    kmeans = KMeans(n_clusters = num_clusters, random_state = random_state)\r\n",
        "    kmeans.fit(df_k)\r\n",
        "    \r\n",
        "    label = kmeans.labels_\r\n",
        "    df_k['cluster_label'] = label\r\n",
        "    \r\n",
        "    mode_cluster = list(df_k[info_df['playlist_id'] == pid]['cluster_label'].value_counts().index)[0]\r\n",
        "    \r\n",
        "    our_df = info_df[~(info_df['track_id'].isin(playlist)) & (df_k['cluster_label'] == mode_cluster)]\r\n",
        "    our_df = our_df.sort_values(by = 'popularity', ascending=False)\r\n",
        "\r\n",
        "    recs_names = list(np.unique(our_df['track_name'].values))\r\n",
        "    preds = collections.Counter(recs_names).most_common(n_pred)\r\n",
        "    pred_titles = [p[0] for p in preds]\r\n",
        "    return pred_titles"
      ],
      "execution_count": 65,
      "outputs": []
    },
    {
      "cell_type": "markdown",
      "metadata": {
        "id": "hdjBvDk6YX-S"
      },
      "source": [
        "### testing"
      ]
    },
    {
      "cell_type": "markdown",
      "metadata": {
        "id": "hqK99MsLiqv6"
      },
      "source": [
        "**Bây giờ ta sẽ thử test phương pháp này trên playlist đầu tiên của tập test**"
      ]
    },
    {
      "cell_type": "code",
      "metadata": {
        "id": "HHPC46OxWyUV"
      },
      "source": [
        "playlists_to_test = all_playlistID_for_tests[0]"
      ],
      "execution_count": 66,
      "outputs": []
    },
    {
      "cell_type": "code",
      "metadata": {
        "id": "p97F56y3iyEM"
      },
      "source": [
        "all_name_songs = list(pd_full[pd_full['track_id'].isin(track_id_all[playlists_to_test])]['track_name'].values)\r\n",
        "given_songs_name = list(pd_full[pd_full['track_id'].isin(track_id_test[playlists_to_test])]['track_name'].values)"
      ],
      "execution_count": 67,
      "outputs": []
    },
    {
      "cell_type": "code",
      "metadata": {
        "id": "eWZBSPJ6iyGR"
      },
      "source": [
        "track_name_result = generate_songs_kmeans(track_id_test[playlists_to_test], pd_playlists_numeric_scaled, pd_full_tests, len(track_id_all[playlists_to_test])-len(track_id_test[playlists_to_test]))"
      ],
      "execution_count": 68,
      "outputs": []
    },
    {
      "cell_type": "code",
      "metadata": {
        "colab": {
          "base_uri": "https://localhost:8080/"
        },
        "id": "7z8ILieOiyIg",
        "outputId": "8c2a5284-1ab3-4242-f4c8-59aa36554bf5"
      },
      "source": [
        "print('Songs given: ', given_songs_name, '\\n')\r\n",
        "print('Songs recommended: ', track_name_result, '\\n')"
      ],
      "execution_count": 69,
      "outputs": [
        {
          "output_type": "stream",
          "text": [
            "Songs given:  ['Greenland', 'Sunyata', 'Poa Alpina', 'Leaving the Tetons', 'Awash', 'Anything You Synthesize - Ambient', 'Hundrede Træer', 'A Spark, A Beginning', 'Blank Pages', 'Mývatna', 'A Brief Walk in the Sea', 'Natural Cause', 'Antiphon', 'Nothing It Can', 'Anything You Synthesize - Ambient', 'Greenland', 'Nevergreen', 'Small Memory', 'Small Memory', 'Anything You Synthesize - Ambient', 'Small Memory', 'Anything You Synthesize - Ambient', 'Anything You Synthesize - Ambient', 'Small Memory', 'Darashinai Beach', 'Suhpratti', 'Levitate', 'Poa Alpina', 'Leaving the Tetons', 'Awash', 'Greenland', 'Nevergreen', 'W.E.', 'Resonatic', 'Focus', 'Intermission', 'Frigate birds', 'Quietud', 'Hundrede Træer', 'A Spark, A Beginning', 'Blank Pages', 'Mývatna', 'A Brief Walk in the Sea', 'Natural Cause', 'Antiphon', 'Nothing It Can', 'The Five Times I Loved You', 'You Want Dark Tunes?', 'If You Believe', 'Sunyata', 'Father Time', 'Birthmark', 'R.E.M', 'Moving', 'Umbrian Affair', 'Darashinai Beach', 'Suhpratti', 'Levitate', 'Darashinai Beach', 'Levitate', 'Greenland', 'W.E.', 'Resonatic', 'Focus', 'Intermission', 'Frigate birds', 'Quietud', 'Suhpratti', 'Focus', 'The Five Times I Loved You', 'You Want Dark Tunes?', 'If You Believe', 'The Five Times I Loved You'] \n",
            "\n",
            "Songs recommended:  ['10 Preludes, Op. 23: No. 4 in D Major: Andante cantabile', \"12 Etudes dans les tons majeurs, Op. 35: Etude No. 7 in E-Flat Major. L'incendie au village voisin\", '12 Songs, Op. 48: No. 1. Der Engel (The Angel) (arr. J. Lloyd Webber for 2 cellos and piano)', '24 Préludes, Op.28: 17. In A Flat Major', '3 Intermezzos, Op. 117: No. 2. Intermezzo in B-Flat Minor: Andante non troppo e con molto espressione', '30 Min Silent Meditation (Bells At 5, 10, 15, 20 & 30 Mins)', '4 Letzte Lieder (4 Last Songs), TrV 296: No. 4. Im Abendrot', '4 Lieder: Waldseligkeit (Forest Bliss)', '432hz Sea of Fog', '6 Consolations, S. 172: No. 3 In D Flat Major (Lento, placido)', '6 Moments musicaux, Op.16: No. 5 in D flat, Adagio sostenuto', 'A Certain Sadness', 'A Chloris (Arr. For Cor Anglais & Orchestra)', 'A Cluster of Stars II', 'A Glimpse of Eternity', 'A Moment to Ponder', 'A New Age', 'A Tribute To Oscar Peterson', 'A Village Romeo and Juliet: The Walk to the Paradise Garden', 'Acis and Galatea, HWV 49b: Sinfonia', \"After You've Gone\", 'Afterglow', 'Agnus Dei', 'Ai No Chiara', 'Aiôn, quattro episodi di una giornata di Brahama: I', 'Alfie', 'All Fall Down', 'All Mine', 'Allegro brillante in E-Flat Major', 'Almost Like Being in Love', 'Always Watching Over You', 'Ambiance', 'Ambient Nature Sleep Sounds, Pt. 5', 'Ambient Nature Sleep Sounds, Pt. 6', 'An Ocean Of Memories', 'An Wasserflüssen Babylon, BWV 653b', 'An der schönen blauen Donau, Op.314', 'And All Is Well Now', \"And It's Still Alright\", 'Andante for Strings', 'Anna', 'Annees de pelerinage, 1st year, Switzerland, S160/R10: No. 9. Les cloches de Geneve (The Bells of Geneva)', 'Années de pèlerinage: Première année: Suisse, S.160: 1. La Chapelle de Guilaume Tell', 'Another Brick In The Wall, Pt. 1 - 2011 Remastered Version', 'Anxious Moments Part 2 - The Fairy - Music Alone', 'Arp Of Life', 'Arriving', 'As if She Were The Sun', 'Aspects of Saturn', 'Athalia, HWV 52: Part 1 - No. 1 Sinfonia: Allegro - Grave - Allegro', 'Atmos Eleven', 'Auf dem Felde', 'Aurolucent Circles: I. Floating in Dark Space', 'Austafjord', 'Ave Maria', 'Aves', 'Aves Aristophanis', 'Aware of Everything', 'Azuretta', 'Bach, J.S.: Violin Partita No. 2 in D Minor, BWV 1004: V. Chaconne', 'Bach, JS / Orch. Marriner: Was mir behagt, ist nur die muntre Jagd, BWV 208: IX. Schafe können sicher weiden', 'Bach, JS: Concerto for 4 Pianos in A Minor, BWV 1065: II. Largo', 'Baiulus', 'Ballade No. 4 in F Minor, Op. 52', 'Barceloneta', 'Becoming', 'Beethoven: Piano Sonata No. 8 in C Minor, Op. 13 \"Pathétique\": II. Adagio cantabile'] \n",
            "\n"
          ],
          "name": "stdout"
        }
      ]
    },
    {
      "cell_type": "markdown",
      "metadata": {
        "id": "eq4JRClukglc"
      },
      "source": [
        "**Bây giờ ta sẽ sử dụng tất cả 100 playlists trong bộ test để đánh giá**"
      ]
    },
    {
      "cell_type": "code",
      "metadata": {
        "id": "nq6x3QbOkftC"
      },
      "source": [
        "def test_multi_feats(pd_playlists, pd_full, fraction = 5, nums_playlists_test = 100):\r\n",
        "  r_score = []\r\n",
        "\r\n",
        "  track_id_all = generate_playlists(pd_full, pd_playlists, nums_playlists_to_test = nums_playlists_test)\r\n",
        "  track_id_test = generate_testcases(track_id_all, fraction = fraction)\r\n",
        "\r\n",
        "  all_playlistID_for_tests = list(track_id_test.keys())\r\n",
        "\r\n",
        "  pd_full_tests = pd_full.copy()\r\n",
        "  pd_full_tests = pd_full_tests[pd_full_tests['playlist_id'].isin(all_playlistID_for_tests)]\r\n",
        "  pd_full_tests = pd_full_tests.reset_index(drop = True)\r\n",
        "\r\n",
        "  pd_full_tests_copy = pd_full_tests.copy()\r\n",
        "  omit_feats = ['track_id', 'track_name', 'playlist_id', 'playlist_name_x','artist_ids', 'artist_names', 'album_id', 'album_name', 'analysis_url', 'description', 'num_followers', 'available_markets', 'num_tracks']\r\n",
        "  pd_full_tests_copy = pd_full_tests_copy.drop(omit_feats, 1)\r\n",
        "\r\n",
        "  # Standardizing the data\r\n",
        "  scaler = MinMaxScaler()\r\n",
        "  scaler.fit(pd_full_tests_copy)\r\n",
        "  pd_playlists_numeric_scaled = scaler.transform(pd_full_tests_copy)\r\n",
        "\r\n",
        "  for each_playlist in all_playlistID_for_tests:\r\n",
        "    track_name_result = generate_songs_kmeans(track_id_test[each_playlist], pd_playlists_numeric_scaled, pd_full_tests, len(track_id_all[each_playlist])-len(track_id_test[each_playlist]))\r\n",
        "\r\n",
        "    all_name_songs = list(pd_full_tests[pd_full_tests['track_id'].isin(track_id_all[each_playlist])]['track_name'].values)\r\n",
        "    given_songs_name = list(pd_full_tests[pd_full_tests['track_id'].isin(track_id_test[each_playlist])]['track_name'].values) \r\n",
        "    test_songs_name = [x for x in all_name_songs if x not in given_songs_name]\r\n",
        "\r\n",
        "    r_score.append(r_precision(track_name_result, test_songs_name))\r\n",
        "\r\n",
        "  return r_score"
      ],
      "execution_count": 70,
      "outputs": []
    },
    {
      "cell_type": "code",
      "metadata": {
        "colab": {
          "base_uri": "https://localhost:8080/"
        },
        "id": "CaEZ_CEUkfuu",
        "outputId": "24e24a5b-9655-4803-95ce-02ac3ed87bbd"
      },
      "source": [
        "r_score = test_multi_feats(pd_playlists, pd_full, fraction = 5, nums_playlists_test = 100)\r\n",
        "\r\n",
        "print(\"Average R precision: \" + str(np.mean(r_score)))\r\n",
        "print(\"Max R precision: \" + str(np.max(r_score)))"
      ],
      "execution_count": 71,
      "outputs": [
        {
          "output_type": "stream",
          "text": [
            "Average R precision: 0.041475928643490256\n",
            "Max R precision: 0.3125\n"
          ],
          "name": "stdout"
        }
      ]
    },
    {
      "cell_type": "markdown",
      "metadata": {
        "id": "MAIanMb-YoXI"
      },
      "source": [
        "**Test model trên những fraction khác nhau**:\r\n",
        "\r\n",
        "Fraction là tỷ lệ bài hát hiện có trong mỗi playlist, ta dựa vào chúng để đề xuất các bài hát còn lại, ví dụ playlist có 100 bài hát, ta dùng 1/5 số đó (20 bài hát) để dựa vào đó đề xuất 80 bài hát còn lại.\r\n",
        "\r\n",
        "Fraction có giá trị càng bé hoặc càng lớn thì tỷ lệ đề xuất trúng càng thấp.\r\n",
        "\r\n",
        "Ở đây ta test model với các fraction lần lượt là 2 - 10, tức là trong một playlist có 100 bài hát thì ta sẽ dùng 50, 100/3, 25, ..., 10 bài hát đầu tiên để đề xuất số bài hát còn lại."
      ]
    },
    {
      "cell_type": "code",
      "metadata": {
        "colab": {
          "base_uri": "https://localhost:8080/"
        },
        "id": "kwAYgDZFkfws",
        "outputId": "92872699-4366-48d4-fd05-f1175e080465"
      },
      "source": [
        "fraction_to_test = list(np.arange(2, 11))\r\n",
        "\r\n",
        "result_mean = {}\r\n",
        "result_max = {}\r\n",
        "\r\n",
        "for fraction in fraction_to_test:\r\n",
        "  r_score = test_multi_feats(pd_playlists, pd_full, fraction = fraction, nums_playlists_test = 100)\r\n",
        "  result_mean[fraction] = np.mean(r_score)\r\n",
        "  result_max[fraction] = np.max(r_score)\r\n",
        "  print('-'*30)\r\n",
        "  print(f'fraction {fraction}:')\r\n",
        "  print(\"Average R precision: \" + str(np.mean(r_score)))\r\n",
        "  print(\"Max R precision: \" + str(np.max(r_score))) \r\n",
        "  print('-'*30)"
      ],
      "execution_count": 72,
      "outputs": [
        {
          "output_type": "stream",
          "text": [
            "------------------------------\n",
            "fraction 2:\n",
            "Average R precision: 0.026909532234365076\n",
            "Max R precision: 0.36\n",
            "------------------------------\n",
            "------------------------------\n",
            "fraction 3:\n",
            "Average R precision: 0.02711926400819163\n",
            "Max R precision: 0.10606060606060606\n",
            "------------------------------\n",
            "------------------------------\n",
            "fraction 4:\n",
            "Average R precision: 0.050361695644549995\n",
            "Max R precision: 0.9594594594594594\n",
            "------------------------------\n",
            "------------------------------\n",
            "fraction 5:\n",
            "Average R precision: 0.04196350303384848\n",
            "Max R precision: 0.22916666666666666\n",
            "------------------------------\n",
            "------------------------------\n",
            "fraction 6:\n",
            "Average R precision: 0.04583968092781896\n",
            "Max R precision: 0.40963855421686746\n",
            "------------------------------\n",
            "------------------------------\n",
            "fraction 7:\n",
            "Average R precision: 0.03739413378608033\n",
            "Max R precision: 0.22093023255813954\n",
            "------------------------------\n",
            "------------------------------\n",
            "fraction 8:\n",
            "Average R precision: 0.059809294063068834\n",
            "Max R precision: 0.47126436781609193\n",
            "------------------------------\n",
            "------------------------------\n",
            "fraction 9:\n",
            "Average R precision: 0.04822344837256032\n",
            "Max R precision: 0.29213483146067415\n",
            "------------------------------\n",
            "------------------------------\n",
            "fraction 10:\n",
            "Average R precision: 0.06296555595021877\n",
            "Max R precision: 0.6666666666666666\n",
            "------------------------------\n"
          ],
          "name": "stdout"
        }
      ]
    },
    {
      "cell_type": "code",
      "metadata": {
        "colab": {
          "base_uri": "https://localhost:8080/"
        },
        "id": "JdaUOSjPCTin",
        "outputId": "a627c627-f8f1-4860-a5fc-e8c765790ee0"
      },
      "source": [
        "print(f'Mean Average R precision over all fractions: {np.mean(list(result_mean.values()))}')\r\n",
        "print(f'Mean Max R precision over all fractions: {np.mean(list(result_max.values()))}')"
      ],
      "execution_count": 73,
      "outputs": [
        {
          "output_type": "stream",
          "text": [
            "Mean Average R precision over all fractions: 0.04450956755785582\n",
            "Mean Max R precision over all fractions: 0.41281348721168576\n"
          ],
          "name": "stdout"
        }
      ]
    },
    {
      "cell_type": "code",
      "metadata": {
        "colab": {
          "base_uri": "https://localhost:8080/",
          "height": 350
        },
        "id": "b2CEGcrKkfyk",
        "outputId": "075ffe6e-3c16-4068-8036-fa5a82a3630f"
      },
      "source": [
        "plt.figure(figsize=(10, 5))\r\n",
        "\r\n",
        "ax = sns.barplot(x=list(result_mean.keys()), y=list(result_mean.values()))\r\n",
        "\r\n",
        "_ = ax.set_title('Average R precision over 10 fractions - kmeans')\r\n",
        "\r\n",
        "ax.set_ylabel('precision')\r\n",
        "ax.set_xlabel('fraction')\r\n",
        "\r\n",
        "plt.savefig('../../images/kmeans_average_R_precision.png', bbox_inches = 'tight')"
      ],
      "execution_count": 75,
      "outputs": [
        {
          "output_type": "display_data",
          "data": {
            "image/png": "[encoded data removed]",
            "text/plain": [
              "<Figure size 720x360 with 1 Axes>"
            ]
          },
          "metadata": {
            "tags": [],
            "needs_background": "light"
          }
        }
      ]
    },
    {
      "cell_type": "code",
      "metadata": {
        "colab": {
          "base_uri": "https://localhost:8080/",
          "height": 350
        },
        "id": "vxe32pXFkf0b",
        "outputId": "74714dc8-5891-491c-fc0e-bc48cfaf52c7"
      },
      "source": [
        "plt.figure(figsize=(10, 5))\r\n",
        "\r\n",
        "ax = sns.barplot(x=list(result_max.keys()), y=list(result_max.values()))\r\n",
        "\r\n",
        "_ = ax.set_title('Max R precision over 10 fractions - kmeans')\r\n",
        "\r\n",
        "ax.set_ylabel('precision')\r\n",
        "ax.set_xlabel('fraction')\r\n",
        "\r\n",
        "plt.savefig('../../images/kmeans_max_R_precision.png', bbox_inches = 'tight')"
      ],
      "execution_count": 76,
      "outputs": [
        {
          "output_type": "display_data",
          "data": {
            "image/png": "[encoded data removed]",
            "text/plain": [
              "<Figure size 720x360 with 1 Axes>"
            ]
          },
          "metadata": {
            "tags": [],
            "needs_background": "light"
          }
        }
      ]
    },
    {
      "cell_type": "code",
      "metadata": {
        "colab": {
          "base_uri": "https://localhost:8080/"
        },
        "id": "mg6ZRIlbDB1o",
        "outputId": "8c92e1a2-5f16-4445-f491-ce458e618522"
      },
      "source": [
        "result = []\r\n",
        "\r\n",
        "for keys in result_mean:\r\n",
        "  result.append({'mean' : result_mean[keys]})\r\n",
        "\r\n",
        "i = 0\r\n",
        "for keys in result_max:\r\n",
        "  result[i]['max'] = result_max[keys]\r\n",
        "  result[i]['fraction'] = i + 2\r\n",
        "  i = i + 1\r\n",
        "\r\n",
        "result"
      ],
      "execution_count": 85,
      "outputs": [
        {
          "output_type": "execute_result",
          "data": {
            "text/plain": [
              "[{'fraction': 2, 'max': 0.36, 'mean': 0.026909532234365076},\n",
              " {'fraction': 3, 'max': 0.10606060606060606, 'mean': 0.02711926400819163},\n",
              " {'fraction': 4, 'max': 0.9594594594594594, 'mean': 0.050361695644549995},\n",
              " {'fraction': 5, 'max': 0.22916666666666666, 'mean': 0.04196350303384848},\n",
              " {'fraction': 6, 'max': 0.40963855421686746, 'mean': 0.04583968092781896},\n",
              " {'fraction': 7, 'max': 0.22093023255813954, 'mean': 0.03739413378608033},\n",
              " {'fraction': 8, 'max': 0.47126436781609193, 'mean': 0.059809294063068834},\n",
              " {'fraction': 9, 'max': 0.29213483146067415, 'mean': 0.04822344837256032},\n",
              " {'fraction': 10, 'max': 0.6666666666666666, 'mean': 0.06296555595021877}]"
            ]
          },
          "metadata": {
            "tags": []
          },
          "execution_count": 85
        }
      ]
    },
    {
      "cell_type": "code",
      "metadata": {
        "id": "PlCF0MFnEEWf"
      },
      "source": [
        "df_result = pd.DataFrame(result)\r\n",
        "df_result.to_csv('kmeans_result.csv', index = False)"
      ],
      "execution_count": 86,
      "outputs": []
    },
    {
      "cell_type": "markdown",
      "metadata": {
        "id": "DDl43ARKYvIQ"
      },
      "source": [
        "**Nhận xét**: \r\n",
        "\r\n",
        "- Kết quả **Average R precision** của model K-means cũng khá tốt (tốt thứ hai trong 5 loại models mà nhóm đã thí nghiệm), điểm precision dao động từ 0.03 - 0.06 với giá trị fraction tăng từ 2 - 10. \r\n",
        "\r\n",
        "- Tuy nhiên model có phần không ổn định lắm, giá trị chính xác lớn nhất mà model đề xuất được có khi lên tới gần 1.0 (gần đúng cả playlist) có khi lại chỉ đúng 1-2 bài."
      ]
    }
  ]
}