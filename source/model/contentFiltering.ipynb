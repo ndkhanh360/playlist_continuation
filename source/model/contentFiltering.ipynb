{
  "nbformat": 4,
  "nbformat_minor": 0,
  "metadata": {
    "colab": {
      "name": "contentFiltering.ipynb",
      "provenance": [],
      "collapsed_sections": [],
      "toc_visible": true
    },
    "kernelspec": {
      "name": "python3",
      "display_name": "Python 3"
    }
  },
  "cells": [
    {
      "cell_type": "code",
      "metadata": {
        "id": "3Ox07YU_VApc"
      },
      "source": [
        "import json\r\n",
        "import pandas as pd\r\n",
        "import numpy as np  \r\n",
        "import os\r\n",
        "import random\r\n",
        "\r\n",
        "from metric import r_precision, dcg_at_k, ndcg_at_k\r\n",
        "from utils import generate_playlists, generate_testcases\r\n",
        "\r\n",
        "from numpy import linalg as LA\r\n",
        "\r\n",
        "import sklearn\r\n",
        "from sklearn.metrics.pairwise import cosine_similarity\r\n",
        "from sklearn.model_selection import train_test_split\r\n",
        "from sklearn import preprocessing\r\n",
        "from sklearn.preprocessing import MinMaxScaler\r\n",
        "from sklearn.ensemble import ExtraTreesClassifier\r\n",
        "from sklearn.model_selection import train_test_split\r\n",
        "from sklearn.cluster import KMeans\r\n",
        "\r\n",
        "import matplotlib.pyplot as plt\r\n",
        "import seaborn as sns\r\n",
        "import collections\r\n",
        "\r\n",
        "import lightgbm as lgb\r\n",
        "\r\n",
        "import warnings\r\n",
        "warnings.simplefilter(action='ignore', category=FutureWarning)"
      ],
      "execution_count": null,
      "outputs": []
    },
    {
      "cell_type": "code",
      "metadata": {
        "id": "MYbDEUH6blG6"
      },
      "source": [
        "path = '/content/drive/MyDrive/DO_AN_KHDL/DATA'\r\n",
        "path_audio_feats = os.path.join(path, 'audio_features.tsv')\r\n",
        "path_playlists = os.path.join(path, 'playlists.tsv')\r\n",
        "path_tracks = os.path.join(path, 'tracks.tsv')"
      ],
      "execution_count": null,
      "outputs": []
    },
    {
      "cell_type": "code",
      "metadata": {
        "id": "Oen2tLuOblLn"
      },
      "source": [
        "pd_audio_feats = pd.read_csv(path_audio_feats, sep = '\\t')\r\n",
        "pd_tracks = pd.read_csv(path_tracks, sep = '\\t')\r\n",
        "pd_playlists = pd.read_csv(path_playlists, sep = '\\t')\r\n",
        "pd_playlists = pd_playlists.fillna('None')"
      ],
      "execution_count": null,
      "outputs": []
    },
    {
      "cell_type": "code",
      "metadata": {
        "id": "9AaHwCK_blN3"
      },
      "source": [
        "pd_tracks = pd.merge(pd_tracks, pd_audio_feats, left_on = 'track_id', right_on = 'id')\r\n",
        "pd_full = pd.merge(pd_tracks, pd_playlists, left_on = 'playlist_id', right_on = 'playlist_id')\r\n",
        "\r\n",
        "pd_tracks = pd_tracks.drop('id', 1)\r\n",
        "pd_full = pd_full.drop('playlist_name_y', 1)\r\n",
        "pd_full = pd_full.drop('id', 1)"
      ],
      "execution_count": null,
      "outputs": []
    },
    {
      "cell_type": "code",
      "metadata": {
        "colab": {
          "base_uri": "https://localhost:8080/"
        },
        "id": "sq_trfrGbysH",
        "outputId": "c580c87f-26df-4a20-e140-1957cc0e3197"
      },
      "source": [
        "pd_full.shape"
      ],
      "execution_count": null,
      "outputs": [
        {
          "output_type": "execute_result",
          "data": {
            "text/plain": [
              "(86400, 25)"
            ]
          },
          "metadata": {
            "tags": []
          },
          "execution_count": 5
        }
      ]
    },
    {
      "cell_type": "code",
      "metadata": {
        "id": "x7ORw-zdbu83"
      },
      "source": [
        "#Thông tin rỗng là discription, ta có thể chỉ điền vào \"None\"\r\n",
        "pd_full = pd_full.fillna('None')"
      ],
      "execution_count": null,
      "outputs": []
    },
    {
      "cell_type": "code",
      "metadata": {
        "id": "JXm0SU6DblPw"
      },
      "source": [
        "#Kiểm tra và bỏ giá trị trùng lặp\r\n",
        "pd_full = pd_full.drop_duplicates()"
      ],
      "execution_count": null,
      "outputs": []
    },
    {
      "cell_type": "code",
      "metadata": {
        "colab": {
          "base_uri": "https://localhost:8080/"
        },
        "id": "UgE-13NgblRX",
        "outputId": "797a94bd-df89-4c3f-b4d6-ba944982ac8f"
      },
      "source": [
        "pd_full.shape"
      ],
      "execution_count": null,
      "outputs": [
        {
          "output_type": "execute_result",
          "data": {
            "text/plain": [
              "(86350, 25)"
            ]
          },
          "metadata": {
            "tags": []
          },
          "execution_count": 8
        }
      ]
    },
    {
      "cell_type": "markdown",
      "metadata": {
        "id": "kcgVMDgxt28n"
      },
      "source": [
        "## Content Filtering"
      ]
    },
    {
      "cell_type": "code",
      "metadata": {
        "id": "erVBplofkqjm"
      },
      "source": [
        "fraction = 3\r\n",
        "track_id_all = generate_playlists(pd_tracks, pd_playlists, nums_playlists_to_test = 120)\r\n",
        "track_id_test = generate_testcases(track_id_all, fraction = fraction)"
      ],
      "execution_count": null,
      "outputs": []
    },
    {
      "cell_type": "code",
      "metadata": {
        "id": "PRcfSak0krl8"
      },
      "source": [
        "all_playlistID_for_tests = list(track_id_test.keys())"
      ],
      "execution_count": null,
      "outputs": []
    },
    {
      "cell_type": "code",
      "metadata": {
        "id": "UrCEdlp_k7yl"
      },
      "source": [
        "pd_full_tests = pd_full.copy()\r\n",
        "pd_full_tests = pd_full_tests[pd_full_tests['playlist_id'].isin(all_playlistID_for_tests)]\r\n",
        "pd_full_tests = pd_full_tests.reset_index()\r\n",
        "pd_full_tests_copy = pd_full_tests.copy()"
      ],
      "execution_count": null,
      "outputs": []
    },
    {
      "cell_type": "code",
      "metadata": {
        "id": "DmJP76UNkODN"
      },
      "source": [
        "omit_feats = ['track_id', 'track_name', 'playlist_id', 'playlist_name_x','artist_ids', 'artist_names', 'album_id', 'album_name', 'analysis_url', 'description', 'num_followers', 'num_tracks']\r\n",
        "pd_full_tests_copy = pd_full_tests_copy.drop(omit_feats, 1)"
      ],
      "execution_count": null,
      "outputs": []
    },
    {
      "cell_type": "code",
      "metadata": {
        "colab": {
          "base_uri": "https://localhost:8080/"
        },
        "id": "TCNCBa2ZlCq2",
        "outputId": "a277a667-b9df-4385-cbd7-77efd1d5e971"
      },
      "source": [
        "pd_full_tests_copy.shape"
      ],
      "execution_count": null,
      "outputs": [
        {
          "output_type": "execute_result",
          "data": {
            "text/plain": [
              "(6943, 13)"
            ]
          },
          "metadata": {
            "tags": []
          },
          "execution_count": 95
        }
      ]
    },
    {
      "cell_type": "markdown",
      "metadata": {
        "id": "i9fGptQukoel"
      },
      "source": [
        "### Modeling"
      ]
    },
    {
      "cell_type": "code",
      "metadata": {
        "id": "0Jbdq6cYsPOo"
      },
      "source": [
        "# Standardizing the data\r\n",
        "scaler = MinMaxScaler()\r\n",
        "scaler.fit(pd_full_tests_copy)\r\n",
        "df_full_scaled = scaler.transform(pd_full_tests_copy)\r\n",
        "\r\n",
        "# We create the cosine similarity matrix of the small scaled dataframe we have \r\n",
        "df_full_cosine = pd.DataFrame(cosine_similarity(df_full_scaled))"
      ],
      "execution_count": null,
      "outputs": []
    },
    {
      "cell_type": "code",
      "metadata": {
        "colab": {
          "base_uri": "https://localhost:8080/"
        },
        "id": "bWsxJ5xiv4Iv",
        "outputId": "c010b76c-677f-4826-e1ba-b2de2745acbe"
      },
      "source": [
        "df_full_cosine.shape"
      ],
      "execution_count": null,
      "outputs": [
        {
          "output_type": "execute_result",
          "data": {
            "text/plain": [
              "(6943, 6943)"
            ]
          },
          "metadata": {
            "tags": []
          },
          "execution_count": 98
        }
      ]
    },
    {
      "cell_type": "code",
      "metadata": {
        "id": "vz8mcN5eG260"
      },
      "source": [
        "def generate_radio_content_filtering_cosineMetirc(tracks, cosine_df, info_df, n_pred = 10):\r\n",
        "    recs = []\r\n",
        "    recs_id = []\r\n",
        "    for t in tracks:\r\n",
        "      index = info_df.index[info_df['track_id'] == t][0]\r\n",
        "      similarities = cosine_df.iloc[:, index].sort_values(ascending=False)\r\n",
        "      final_indices = list(similarities[1:(n_pred + 1)].index)\r\n",
        "      rec_songs = info_df[['track_name','track_id']].iloc[final_indices]\r\n",
        "      recs.extend(rec_songs['track_name'].values)\r\n",
        "      recs_id.extend(rec_songs['track_id'].values)\r\n",
        "\r\n",
        "    preds = collections.Counter(recs).most_common(n_pred)\r\n",
        "    pred_titles = [p[0] for p in preds]\r\n",
        "\r\n",
        "    preds_id = collections.Counter(recs_id).most_common(n_pred)\r\n",
        "    pred_titles_id = [p[0] for p in preds_id]\r\n",
        "\r\n",
        "    return pred_titles, pred_titles_id"
      ],
      "execution_count": null,
      "outputs": []
    },
    {
      "cell_type": "markdown",
      "metadata": {
        "id": "Lg8Ch0kGlufh"
      },
      "source": [
        "**Bây giờ ta sẽ thử test phương pháp này trên playlist đầu tiên của tập test**"
      ]
    },
    {
      "cell_type": "code",
      "metadata": {
        "id": "Pi2aIS65lv4E"
      },
      "source": [
        "playlists_to_test = all_playlistID_for_tests[0]"
      ],
      "execution_count": null,
      "outputs": []
    },
    {
      "cell_type": "code",
      "metadata": {
        "id": "fieiR1oNlwvF"
      },
      "source": [
        "all_name_songs = list(pd_full[pd_full['track_id'].isin(track_id_all[playlists_to_test])]['track_name'].values)\r\n",
        "given_songs_name = list(pd_full[pd_full['track_id'].isin(track_id_test[playlists_to_test])]['track_name'].values)"
      ],
      "execution_count": null,
      "outputs": []
    },
    {
      "cell_type": "code",
      "metadata": {
        "id": "fWcmYZfvlypf"
      },
      "source": [
        "track_name_result, track_id_result = generate_radio(track_id_test[playlists_to_test], df_full_cosine, pd_full_tests, len(track_id_all[playlists_to_test])-len(track_id_test[playlists_to_test]))"
      ],
      "execution_count": null,
      "outputs": []
    },
    {
      "cell_type": "code",
      "metadata": {
        "colab": {
          "base_uri": "https://localhost:8080/"
        },
        "id": "P6tukujilyzz",
        "outputId": "159bc73c-275a-4054-fe4c-dc72309fb4d8"
      },
      "source": [
        "print('Songs given: ', given_songs_name, '\\n')\r\n",
        "print('Songs recommended: ', track_name_result, '\\n')"
      ],
      "execution_count": null,
      "outputs": [
        {
          "output_type": "stream",
          "text": [
            "Songs given:  ['Chicken Fried', 'Roots', 'Chicken Fried', 'Keep Me in Mind', 'All the Best', 'Knee Deep (feat. Jimmy Buffett)'] \n",
            "\n",
            "Songs recommended:  ['Runaway', 'Word on a Wing - 1999 Remaster', 'Hypnosis', 'Sandy - From \"Grease Live!\" Music From The Television Event', 'Oxy Music', 'Penny Lane - Remastered', 'Bad, Bad, Bad', 'San Francisco', 'Stoned Soul Picnic', 'The Pass', 'Tighten Up'] \n",
            "\n"
          ],
          "name": "stdout"
        }
      ]
    },
    {
      "cell_type": "code",
      "metadata": {
        "id": "1i58Kizfo8jk"
      },
      "source": [
        "track_name_result.extend(given_songs_name)"
      ],
      "execution_count": null,
      "outputs": []
    },
    {
      "cell_type": "code",
      "metadata": {
        "colab": {
          "base_uri": "https://localhost:8080/"
        },
        "id": "t-RNaW1apwl8",
        "outputId": "15233459-0e35-4c41-8486-b9a78c2da3a4"
      },
      "source": [
        "r_score = r_precision(track_name_result, all_name_songs)\r\n",
        "print(f'r_score: {r_score}')"
      ],
      "execution_count": null,
      "outputs": [
        {
          "output_type": "stream",
          "text": [
            "r_score: 0.3125\n"
          ],
          "name": "stdout"
        }
      ]
    },
    {
      "cell_type": "markdown",
      "metadata": {
        "id": "Hx2UR906qu-w"
      },
      "source": [
        "**Bây giờ ta sẽ sử dụng tất cả 100 playlists trong bộ test để đánh giá**"
      ]
    },
    {
      "cell_type": "code",
      "metadata": {
        "id": "FtCZZVDaqxr9"
      },
      "source": [
        "def test_multi_feats(df_full_cosine, pd_full, track_id_all, track_id_test, all_playlistID_for_tests, fraction = 5):\r\n",
        "  r_score = []\r\n",
        "\r\n",
        "  for each_playlist in all_playlistID_for_tests:\r\n",
        "    track_name_result, track_id_result = generate_radio_content_filtering_cosineMetirc(track_id_test[playlists_to_test], df_full_cosine, pd_full_tests, len(track_id_all[playlists_to_test])-len(track_id_test[playlists_to_test]))\r\n",
        "    \r\n",
        "    all_name_songs = list(pd_full[pd_full['track_id'].isin(track_id_all[each_playlist])]['track_name'].values)\r\n",
        "    given_songs_name = list(pd_full[pd_full['track_id'].isin(track_id_test[each_playlist])]['track_name'].values) \r\n",
        "\r\n",
        "    track_name_result.extend(given_songs_name)\r\n",
        "    r_score.append(r_precision(track_name_result, all_name_songs))\r\n",
        "\r\n",
        "  print(\"Average R precision: \" + str(np.mean(r_score)))\r\n",
        "  print(\"Max R precision: \" + str(np.max(r_score)))"
      ],
      "execution_count": null,
      "outputs": []
    },
    {
      "cell_type": "code",
      "metadata": {
        "colab": {
          "base_uri": "https://localhost:8080/"
        },
        "id": "AGgdB-cHq2gD",
        "outputId": "5d634e13-a14a-499c-cb25-eae08c1f6927"
      },
      "source": [
        "test_multi_feats(df_full_cosine, pd_full_tests, track_id_all, track_id_test, all_playlistID_for_tests, fraction)"
      ],
      "execution_count": null,
      "outputs": [
        {
          "output_type": "stream",
          "text": [
            "Average R precision: 0.32678582941194206\n",
            "Max R precision: 0.4722222222222222\n"
          ],
          "name": "stdout"
        }
      ]
    },
    {
      "cell_type": "markdown",
      "metadata": {
        "id": "O3MgudmnrqOp"
      },
      "source": [
        "**Bây giờ ta sẽ cho nhiều giá trị fraction khác nhau để vẽ biểu đồ**"
      ]
    },
    {
      "cell_type": "code",
      "metadata": {
        "colab": {
          "base_uri": "https://localhost:8080/"
        },
        "id": "lnptHpFqqxtr",
        "outputId": "497061d7-b7ec-4029-d773-b0de4124c795"
      },
      "source": [
        "fraction = list(np.arange(1, 10))\r\n",
        "fraction"
      ],
      "execution_count": null,
      "outputs": [
        {
          "output_type": "execute_result",
          "data": {
            "text/plain": [
              "[1, 2, 3, 4, 5, 6, 7, 8, 9]"
            ]
          },
          "metadata": {
            "tags": []
          },
          "execution_count": 124
        }
      ]
    },
    {
      "cell_type": "markdown",
      "metadata": {
        "id": "Kz08TBH7rr2t"
      },
      "source": [
        "**Nhận xét về mỗi model với các fraction khác nhau, so sánh 2 models với các fractions khác nhau, sử dụng nhiều features khác nhau (số lượng các features sử dụng, v.v).**"
      ]
    },
    {
      "cell_type": "code",
      "metadata": {
        "id": "Q3AVZ4pwqxvz"
      },
      "source": [
        ""
      ],
      "execution_count": null,
      "outputs": []
    }
  ]
}