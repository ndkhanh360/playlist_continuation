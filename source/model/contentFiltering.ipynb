{
  "nbformat": 4,
  "nbformat_minor": 0,
  "metadata": {
    "colab": {
      "name": "contentFiltering.ipynb",
      "provenance": [],
      "collapsed_sections": [],
      "toc_visible": true
    },
    "kernelspec": {
      "name": "python3",
      "display_name": "Python 3"
    }
  },
  "cells": [
    {
      "cell_type": "code",
      "metadata": {
        "id": "3Ox07YU_VApc"
      },
      "source": [
        "import json\r\n",
        "import pandas as pd\r\n",
        "import numpy as np  \r\n",
        "import os\r\n",
        "import random\r\n",
        "\r\n",
        "from metric import r_precision, dcg_at_k, ndcg_at_k\r\n",
        "from utils import generate_playlists, generate_testcases\r\n",
        "\r\n",
        "from numpy import linalg as LA\r\n",
        "\r\n",
        "import sklearn\r\n",
        "from sklearn.metrics.pairwise import cosine_similarity\r\n",
        "from sklearn.model_selection import train_test_split\r\n",
        "from sklearn import preprocessing\r\n",
        "from sklearn.preprocessing import MinMaxScaler\r\n",
        "from sklearn.ensemble import ExtraTreesClassifier\r\n",
        "from sklearn.model_selection import train_test_split\r\n",
        "from sklearn.cluster import KMeans\r\n",
        "\r\n",
        "import matplotlib.pyplot as plt\r\n",
        "import seaborn as sns\r\n",
        "import collections\r\n",
        "\r\n",
        "import lightgbm as lgb\r\n",
        "\r\n",
        "import warnings\r\n",
        "warnings.simplefilter(action='ignore', category=FutureWarning)"
      ],
      "execution_count": null,
      "outputs": []
    },
    {
      "cell_type": "code",
      "metadata": {
        "id": "MYbDEUH6blG6"
      },
      "source": [
        "path_to_data = '../../data' #'/content/drive/MyDrive/DO_AN_KHDL/DATA'\r\n",
        "path_audio_feats = os.path.join(path_to_data, 'audio_features.tsv')\r\n",
        "path_playlists = os.path.join(path_to_data, 'playlists.tsv')\r\n",
        "path_tracks = os.path.join(path_to_data, 'tracks.tsv')"
      ],
      "execution_count": null,
      "outputs": []
    },
    {
      "cell_type": "code",
      "metadata": {
        "id": "Oen2tLuOblLn"
      },
      "source": [
        "pd_audio_feats = pd.read_csv(path_audio_feats, sep = '\\t')\r\n",
        "pd_tracks = pd.read_csv(path_tracks, sep = '\\t')\r\n",
        "pd_playlists = pd.read_csv(path_playlists, sep = '\\t')\r\n",
        "pd_playlists = pd_playlists.fillna('None')"
      ],
      "execution_count": null,
      "outputs": []
    },
    {
      "cell_type": "code",
      "metadata": {
        "id": "9AaHwCK_blN3"
      },
      "source": [
        "pd_tracks = pd.merge(pd_tracks, pd_audio_feats, left_on = 'track_id', right_on = 'id')\r\n",
        "pd_full = pd.merge(pd_tracks, pd_playlists, left_on = 'playlist_id', right_on = 'playlist_id')\r\n",
        "\r\n",
        "pd_tracks = pd_tracks.drop('id', 1)\r\n",
        "pd_full = pd_full.drop('playlist_name_y', 1)\r\n",
        "pd_full = pd_full.drop('id', 1)"
      ],
      "execution_count": null,
      "outputs": []
    },
    {
      "cell_type": "code",
      "metadata": {
        "colab": {
          "base_uri": "https://localhost:8080/"
        },
        "id": "sq_trfrGbysH",
        "outputId": "b43f9dad-1182-4243-b73a-832481544d3a"
      },
      "source": [
        "pd_full.shape"
      ],
      "execution_count": null,
      "outputs": [
        {
          "output_type": "execute_result",
          "data": {
            "text/plain": [
              "(86400, 27)"
            ]
          },
          "metadata": {
            "tags": []
          },
          "execution_count": 119
        }
      ]
    },
    {
      "cell_type": "code",
      "metadata": {
        "id": "x7ORw-zdbu83"
      },
      "source": [
        "#Thông tin rỗng là discription, ta có thể chỉ điền vào \"None\"\r\n",
        "pd_full = pd_full.fillna('None')"
      ],
      "execution_count": null,
      "outputs": []
    },
    {
      "cell_type": "code",
      "metadata": {
        "id": "JXm0SU6DblPw"
      },
      "source": [
        "#Kiểm tra và bỏ giá trị trùng lặp\r\n",
        "pd_full = pd_full.drop_duplicates()"
      ],
      "execution_count": null,
      "outputs": []
    },
    {
      "cell_type": "code",
      "metadata": {
        "id": "svhpW-yxxOkj"
      },
      "source": [
        "pd_full['available_markets'] = pd_full['available_markets'].apply(lambda x : x[1:-1].split(', '))\r\n",
        "pd_full['count_available_markets'] = pd_full['available_markets'].apply(lambda x : len(x))"
      ],
      "execution_count": null,
      "outputs": []
    },
    {
      "cell_type": "code",
      "metadata": {
        "colab": {
          "base_uri": "https://localhost:8080/"
        },
        "id": "UgE-13NgblRX",
        "outputId": "2a953d25-291c-4bed-ba60-f2822eebc726"
      },
      "source": [
        "pd_full.shape"
      ],
      "execution_count": null,
      "outputs": [
        {
          "output_type": "execute_result",
          "data": {
            "text/plain": [
              "(86350, 28)"
            ]
          },
          "metadata": {
            "tags": []
          },
          "execution_count": 123
        }
      ]
    },
    {
      "cell_type": "markdown",
      "metadata": {
        "id": "kcgVMDgxt28n"
      },
      "source": [
        "## content filtering"
      ]
    },
    {
      "cell_type": "markdown",
      "metadata": {
        "id": "slFi6QWHxVBM"
      },
      "source": [
        "* **Thuộc tính**: lấy toàn bộ các thuộc tính số (numeric features) của các track làm đặc trưng.\r\n",
        "* **Mô tả ý tưởng**:\r\n",
        "    * Tính **K** tracks trong tập hợp tất cả các tracks (trừ những seed tracks) có khoảng cách cosine (cosine similarity) gần nhất với từng seed track, ta được tập **N x K** tracks.\r\n",
        "    * Sort các tracks vừa tìm được theo tần suất xuất hiện và chọn **K** tracks xuất hiện nhiều nhất làm kết quả dự đoán."
      ]
    },
    {
      "cell_type": "markdown",
      "metadata": {
        "id": "o8CDrHV-ximJ"
      },
      "source": [
        "### create test-cases"
      ]
    },
    {
      "cell_type": "code",
      "metadata": {
        "id": "erVBplofkqjm"
      },
      "source": [
        "fraction = 3\r\n",
        "nums_playlists_test = 100\r\n",
        "\r\n",
        "track_id_all = generate_playlists(pd_full, pd_playlists, nums_playlists_to_test = nums_playlists_test)\r\n",
        "track_id_test = generate_testcases(track_id_all, fraction = fraction)"
      ],
      "execution_count": null,
      "outputs": []
    },
    {
      "cell_type": "code",
      "metadata": {
        "id": "PRcfSak0krl8"
      },
      "source": [
        "all_playlistID_for_tests = list(track_id_test.keys())"
      ],
      "execution_count": null,
      "outputs": []
    },
    {
      "cell_type": "code",
      "metadata": {
        "id": "UrCEdlp_k7yl"
      },
      "source": [
        "pd_full_tests = pd_full.copy()\r\n",
        "pd_full_tests = pd_full_tests[pd_full_tests['playlist_id'].isin(all_playlistID_for_tests)]\r\n",
        "pd_full_tests = pd_full_tests.reset_index(drop = True)\r\n",
        "pd_full_tests_copy = pd_full_tests.copy()"
      ],
      "execution_count": null,
      "outputs": []
    },
    {
      "cell_type": "code",
      "metadata": {
        "id": "DmJP76UNkODN"
      },
      "source": [
        "omit_feats = ['track_id', 'track_name', 'playlist_id', 'playlist_name_x','artist_ids', 'artist_names', 'album_id', 'album_name', 'analysis_url', 'description', 'num_followers', 'available_markets', 'num_tracks']\r\n",
        "pd_full_tests_copy = pd_full_tests_copy.drop(omit_feats, 1)"
      ],
      "execution_count": null,
      "outputs": []
    },
    {
      "cell_type": "code",
      "metadata": {
        "colab": {
          "base_uri": "https://localhost:8080/"
        },
        "id": "iJC85Ll7zgDi",
        "outputId": "6fd868db-118d-43ff-9170-e9d1a1399d79"
      },
      "source": [
        "pd_full_tests_copy.shape"
      ],
      "execution_count": null,
      "outputs": [
        {
          "output_type": "execute_result",
          "data": {
            "text/plain": [
              "(4917, 15)"
            ]
          },
          "metadata": {
            "tags": []
          },
          "execution_count": 128
        }
      ]
    },
    {
      "cell_type": "markdown",
      "metadata": {
        "id": "i9fGptQukoel"
      },
      "source": [
        "### Modeling"
      ]
    },
    {
      "cell_type": "code",
      "metadata": {
        "id": "0Jbdq6cYsPOo"
      },
      "source": [
        "# Standardizing the data\r\n",
        "scaler = MinMaxScaler()\r\n",
        "scaler.fit(pd_full_tests_copy)\r\n",
        "df_full_scaled = scaler.transform(pd_full_tests_copy)\r\n",
        "\r\n",
        "df_full_cosine = pd.DataFrame(cosine_similarity(df_full_scaled))"
      ],
      "execution_count": null,
      "outputs": []
    },
    {
      "cell_type": "code",
      "metadata": {
        "colab": {
          "base_uri": "https://localhost:8080/"
        },
        "id": "bWsxJ5xiv4Iv",
        "outputId": "796da8a2-0b6d-4216-f6d9-e7815028daf7"
      },
      "source": [
        "df_full_cosine.shape"
      ],
      "execution_count": null,
      "outputs": [
        {
          "output_type": "execute_result",
          "data": {
            "text/plain": [
              "(4917, 4917)"
            ]
          },
          "metadata": {
            "tags": []
          },
          "execution_count": 130
        }
      ]
    },
    {
      "cell_type": "code",
      "metadata": {
        "id": "vz8mcN5eG260"
      },
      "source": [
        "def generate_radio_content_filtering_cosineMetric(tracks, cosine_df, info_df, n_pred = 10):\r\n",
        "    recs = []\r\n",
        "    recs_id = []\r\n",
        "    for t in tracks:\r\n",
        "      index = info_df.index[info_df['track_id'] == t][0]\r\n",
        "      similarities = cosine_df.iloc[:, index].sort_values(ascending=False)\r\n",
        "      final_indices = list(similarities[1:(n_pred + 1)].index)\r\n",
        "      rec_songs = info_df[['track_name','track_id']].iloc[final_indices]\r\n",
        "      recs.extend(rec_songs['track_name'].values)\r\n",
        "      recs_id.extend(rec_songs['track_id'].values)\r\n",
        "\r\n",
        "    preds = collections.Counter(recs).most_common(n_pred)\r\n",
        "    pred_titles = [p[0] for p in preds]\r\n",
        "\r\n",
        "    preds_id = collections.Counter(recs_id).most_common(n_pred)\r\n",
        "    pred_titles_id = [p[0] for p in preds_id]\r\n",
        "\r\n",
        "    return pred_titles, pred_titles_id"
      ],
      "execution_count": null,
      "outputs": []
    },
    {
      "cell_type": "markdown",
      "metadata": {
        "id": "Lg8Ch0kGlufh"
      },
      "source": [
        "**Bây giờ ta sẽ thử test phương pháp này trên playlist đầu tiên của tập test**"
      ]
    },
    {
      "cell_type": "code",
      "metadata": {
        "id": "Pi2aIS65lv4E"
      },
      "source": [
        "playlists_to_test = all_playlistID_for_tests[0]"
      ],
      "execution_count": null,
      "outputs": []
    },
    {
      "cell_type": "code",
      "metadata": {
        "id": "fieiR1oNlwvF"
      },
      "source": [
        "all_name_songs = list(pd_full[pd_full['track_id'].isin(track_id_all[playlists_to_test])]['track_name'].values)\r\n",
        "given_songs_name = list(pd_full[pd_full['track_id'].isin(track_id_test[playlists_to_test])]['track_name'].values)"
      ],
      "execution_count": null,
      "outputs": []
    },
    {
      "cell_type": "code",
      "metadata": {
        "id": "fWcmYZfvlypf"
      },
      "source": [
        "track_name_result, track_id_result = generate_radio_content_filtering_cosineMetric(track_id_test[playlists_to_test], df_full_cosine, pd_full_tests, len(track_id_all[playlists_to_test])-len(track_id_test[playlists_to_test]))"
      ],
      "execution_count": null,
      "outputs": []
    },
    {
      "cell_type": "code",
      "metadata": {
        "colab": {
          "base_uri": "https://localhost:8080/"
        },
        "id": "P6tukujilyzz",
        "outputId": "030dde18-4325-42f5-cfd2-3f34f2b80b11"
      },
      "source": [
        "print('Songs given: ', given_songs_name, '\\n')\r\n",
        "print('Songs recommended: ', track_name_result, '\\n')"
      ],
      "execution_count": null,
      "outputs": [
        {
          "output_type": "stream",
          "text": [
            "Songs given:  ['The Business', 'Head Shoulders Knees & Toes (feat. Norma Jean Martine)', 'The Business', 'Head Shoulders Knees & Toes (feat. Norma Jean Martine)', 'The Business', 'Head Shoulders Knees & Toes (feat. Norma Jean Martine)', 'The Business', 'The Business', 'The Business', 'The Business', 'The Business', 'The Business', 'The Business', 'The Business', 'The Business', 'The Business', 'The Business', 'The Business', 'Head Shoulders Knees & Toes (feat. Norma Jean Martine)', 'The Business', 'Head Shoulders Knees & Toes (feat. Norma Jean Martine)', 'Save My Life (feat. Lovespeake)', 'Paul Is Dead', 'Astronomia (Never Go Home)', 'Top Down', 'Up All Night (feat. Afrojack)', 'Like A Prayer', 'The Business', 'Head Shoulders Knees & Toes (feat. Norma Jean Martine)', 'No Therapy', \"Somebody's Watching Me\", 'The Business', 'Head Shoulders Knees & Toes (feat. Norma Jean Martine)', 'Save My Life (feat. Lovespeake)', 'Up All Night (feat. Afrojack)', 'Like A Prayer', 'The Business', 'Head Shoulders Knees & Toes (feat. Norma Jean Martine)', 'Save My Life (feat. Lovespeake)', 'Paul Is Dead', 'Astronomia (Never Go Home)', 'Top Down', 'Up All Night (feat. Afrojack)', 'Like A Prayer', 'Enough Of You', 'No Therapy', \"Somebody's Watching Me\", 'Hey Baby (feat. Gia Koka)', 'Child Of The Devil', 'Rave Love', 'Scream', 'Safe & Sound', 'Head Shoulders Knees & Toes (feat. Norma Jean Martine)', 'Hey Baby (feat. Gia Koka)', 'Head Shoulders Knees & Toes (feat. Norma Jean Martine)', 'Enough Of You', 'Save My Life (feat. Lovespeake)', 'Enough Of You', \"Somebody's Watching Me\"] \n",
            "\n",
            "Songs recommended:  ['Best Day Of My Life', 'Summer Days (feat. Macklemore & Patrick Stump of Fall Out Boy)', 'Mood', 'Ko Ko Bop', 'Lasting Lover', 'Beauty And A Beat', 'Forever', 'Love Shot', 'EAT MY BRAIN', 'Scream', 'Island In The Sun', 'Baby - Jonas Blue Remix', 'Drive', 'She Will Be Loved', 'Conversations in the Dark - John Legend vs. David Guetta', 'There for You', 'I Want It That Way', 'Been Through', 'Nobody', 'Know Your Worth', 'Yeah! (feat. Lil Jon & Ludacris)', 'Rise Up (feat. Vamero)', 'Dirt', 'Let’s Love', 'Antisocialist', 'Run Away', 'Home (feat. Bonn)', 'Nobody Else but You', 'The Eve', 'Goodbye (feat. Xillions)', 'No Diggity', 'Rock Your Body', 'Tempo', \"Didn't Make It\"] \n",
            "\n"
          ],
          "name": "stdout"
        }
      ]
    },
    {
      "cell_type": "markdown",
      "metadata": {
        "id": "Hx2UR906qu-w"
      },
      "source": [
        "**Bây giờ ta sẽ sử dụng tất cả 100 playlists trong bộ test để đánh giá**"
      ]
    },
    {
      "cell_type": "code",
      "metadata": {
        "id": "FtCZZVDaqxr9"
      },
      "source": [
        "def test_multi_feats(pd_playlists, pd_full, fraction = 5, nums_playlists_test = 100):\r\n",
        "  r_score = []\r\n",
        "\r\n",
        "  track_id_all = generate_playlists(pd_full, pd_playlists, nums_playlists_to_test = nums_playlists_test)\r\n",
        "  track_id_test = generate_testcases(track_id_all, fraction = fraction)\r\n",
        "\r\n",
        "  all_playlistID_for_tests = list(track_id_test.keys())\r\n",
        "\r\n",
        "  pd_full_tests = pd_full.copy()\r\n",
        "  pd_full_tests = pd_full_tests[pd_full_tests['playlist_id'].isin(all_playlistID_for_tests)]\r\n",
        "  pd_full_tests = pd_full_tests.reset_index(drop = True)\r\n",
        "\r\n",
        "  pd_full_tests_copy = pd_full_tests.copy()\r\n",
        "  omit_feats = ['track_id', 'track_name', 'playlist_id', 'playlist_name_x','artist_ids', 'artist_names', 'album_id', 'album_name', 'analysis_url', 'description', 'num_followers', 'available_markets', 'num_tracks']\r\n",
        "  pd_full_tests_copy = pd_full_tests_copy.drop(omit_feats, 1)\r\n",
        "\r\n",
        "  scaler = MinMaxScaler()\r\n",
        "  scaler.fit(pd_full_tests_copy)\r\n",
        "  df_full_scaled = scaler.transform(pd_full_tests_copy)\r\n",
        "\r\n",
        "  df_full_cosine = pd.DataFrame(cosine_similarity(df_full_scaled))\r\n",
        "\r\n",
        "  for each_playlist in all_playlistID_for_tests:\r\n",
        "    track_name_result, track_id_result = generate_radio_content_filtering_cosineMetric(track_id_test[each_playlist], df_full_cosine, pd_full_tests, len(track_id_all[each_playlist])-len(track_id_test[each_playlist]))\r\n",
        "\r\n",
        "    all_name_songs = list(pd_full_tests[pd_full_tests['track_id'].isin(track_id_all[each_playlist])]['track_name'].values)\r\n",
        "    given_songs_name = list(pd_full_tests[pd_full_tests['track_id'].isin(track_id_test[each_playlist])]['track_name'].values) \r\n",
        "    test_songs_name = [x for x in all_name_songs if x not in given_songs_name]\r\n",
        "\r\n",
        "    r_score.append(r_precision(track_name_result, test_songs_name))\r\n",
        "\r\n",
        "  return r_score"
      ],
      "execution_count": null,
      "outputs": []
    },
    {
      "cell_type": "code",
      "metadata": {
        "colab": {
          "base_uri": "https://localhost:8080/"
        },
        "id": "AGgdB-cHq2gD",
        "outputId": "3eeef9fd-361e-43ca-901b-24335accf337"
      },
      "source": [
        "r_score = test_multi_feats(pd_playlists, pd_full, fraction = 5, nums_playlists_test = 100)\r\n",
        "\r\n",
        "print(\"Average R precision: \" + str(np.mean(r_score)))\r\n",
        "print(\"Max R precision: \" + str(np.max(r_score)))"
      ],
      "execution_count": null,
      "outputs": [
        {
          "output_type": "stream",
          "text": [
            "Average R precision: 0.11464332845768702\n",
            "Max R precision: 0.5375\n"
          ],
          "name": "stdout"
        }
      ]
    },
    {
      "cell_type": "markdown",
      "metadata": {
        "id": "O3MgudmnrqOp"
      },
      "source": [
        "**Test model trên những fraction khác nhau**:\r\n",
        "\r\n",
        "Fraction là tỷ lệ bài hát hiện có trong mỗi playlist, ta dựa vào chúng để đề xuất các bài hát còn lại, ví dụ playlist có 100 bài hát, ta dùng 1/5 số đó (20 bài hát) để dựa vào đó đề xuất 80 bài hát còn lại.\r\n",
        "\r\n",
        "Fraction có giá trị càng bé hoặc càng lớn thì tỷ lệ đề xuất trúng càng thấp.\r\n",
        "\r\n",
        "Ở đây ta test model với các fraction lần lượt là 2 - 10, tức là trong một playlist có 100 bài hát thì ta sẽ dùng 50, 100/3, 25, ..., 10 bài hát đầu tiên để đề xuất số bài hát còn lại."
      ]
    },
    {
      "cell_type": "code",
      "metadata": {
        "colab": {
          "base_uri": "https://localhost:8080/"
        },
        "id": "lnptHpFqqxtr",
        "outputId": "031c7081-415c-4445-a84b-f72c65f6a55e"
      },
      "source": [
        "fraction_to_test = list(np.arange(2, 11))\r\n",
        "\r\n",
        "result_mean = {}\r\n",
        "result_max = {}\r\n",
        "\r\n",
        "for fraction in fraction_to_test:\r\n",
        "  r_score = test_multi_feats(pd_playlists, pd_full, fraction = fraction, nums_playlists_test = 100)\r\n",
        "  result_mean[fraction] = np.mean(r_score)\r\n",
        "  result_max[fraction] = np.max(r_score)\r\n",
        "  print('-'*30)\r\n",
        "  print(f'fraction {fraction}:')\r\n",
        "  print(\"Average R precision: \" + str(np.mean(r_score)))\r\n",
        "  print(\"Max R precision: \" + str(np.max(r_score))) \r\n",
        "  print('-'*30)"
      ],
      "execution_count": null,
      "outputs": [
        {
          "output_type": "stream",
          "text": [
            "------------------------------\n",
            "fraction 2:\n",
            "Average R precision: 0.08279613046007418\n",
            "Max R precision: 0.4\n",
            "------------------------------\n",
            "------------------------------\n",
            "fraction 3:\n",
            "Average R precision: 0.12975620148514105\n",
            "Max R precision: 0.43283582089552236\n",
            "------------------------------\n",
            "------------------------------\n",
            "fraction 4:\n",
            "Average R precision: 0.11185777447831698\n",
            "Max R precision: 0.64\n",
            "------------------------------\n",
            "------------------------------\n",
            "fraction 5:\n",
            "Average R precision: 0.1274360943015663\n",
            "Max R precision: 0.6794871794871795\n",
            "------------------------------\n",
            "------------------------------\n",
            "fraction 6:\n",
            "Average R precision: 0.11056807468389904\n",
            "Max R precision: 0.47619047619047616\n",
            "------------------------------\n",
            "------------------------------\n",
            "fraction 7:\n",
            "Average R precision: 0.1483586907604601\n",
            "Max R precision: 0.6428571428571429\n",
            "------------------------------\n",
            "------------------------------\n",
            "fraction 8:\n",
            "Average R precision: 0.13592241297777125\n",
            "Max R precision: 0.7222222222222222\n",
            "------------------------------\n",
            "------------------------------\n",
            "fraction 9:\n",
            "Average R precision: 0.11781302178353915\n",
            "Max R precision: 0.5116279069767442\n",
            "------------------------------\n",
            "------------------------------\n",
            "fraction 10:\n",
            "Average R precision: 0.10141437350220862\n",
            "Max R precision: 0.4\n",
            "------------------------------\n"
          ],
          "name": "stdout"
        }
      ]
    },
    {
      "cell_type": "code",
      "metadata": {
        "colab": {
          "base_uri": "https://localhost:8080/"
        },
        "id": "-nL2HWsF2tY5",
        "outputId": "183481f0-8c21-4b45-aebb-aabdd6266229"
      },
      "source": [
        "print(f'Mean Average R precision over all fractions: {np.mean(list(result_mean.values()))}')\r\n",
        "print(f'Mean Max R precision over all fractions: {np.mean(list(result_max.values()))}')"
      ],
      "execution_count": null,
      "outputs": [
        {
          "output_type": "stream",
          "text": [
            "Mean Average R precision over all fractions: 0.11843586382588629\n",
            "Mean Max R precision over all fractions: 0.5450245276254765\n"
          ],
          "name": "stdout"
        }
      ]
    },
    {
      "cell_type": "code",
      "metadata": {
        "id": "Q3AVZ4pwqxvz",
        "colab": {
          "base_uri": "https://localhost:8080/",
          "height": 350
        },
        "outputId": "9a193bd0-31b7-4a00-99e0-419f24d1afbc"
      },
      "source": [
        "plt.figure(figsize=(10, 5))\r\n",
        "\r\n",
        "ax = sns.barplot(x=list(result_mean.keys()), y=list(result_mean.values()))\r\n",
        "\r\n",
        "_ = ax.set_title('Average R precision over 10 fractions - contentFiltering')\r\n",
        "\r\n",
        "ax.set_ylabel('precision')\r\n",
        "ax.set_xlabel('fraction')\r\n",
        "\r\n",
        "plt.savefig('../../images/contentFiltering_average_R_precision.png', bbox_inches = 'tight')"
      ],
      "execution_count": null,
      "outputs": [
        {
          "output_type": "display_data",
          "data": {
            "image/png": "[encoded data removed]",
            "text/plain": [
              "<Figure size 720x360 with 1 Axes>"
            ]
          },
          "metadata": {
            "tags": [],
            "needs_background": "light"
          }
        }
      ]
    },
    {
      "cell_type": "code",
      "metadata": {
        "colab": {
          "base_uri": "https://localhost:8080/",
          "height": 350
        },
        "id": "rr8Ynt8S1mbi",
        "outputId": "0599d8a0-f544-4103-d84a-bc345cf401aa"
      },
      "source": [
        "plt.figure(figsize=(10, 5))\r\n",
        "\r\n",
        "ax = sns.barplot(x=list(result_max.keys()), y=list(result_max.values()))\r\n",
        "\r\n",
        "_ = ax.set_title('Max R precision over 10 fractions - contentFiltering')\r\n",
        "\r\n",
        "ax.set_ylabel('precision')\r\n",
        "ax.set_xlabel('fraction')\r\n",
        "\r\n",
        "plt.savefig('../../images/contentFiltering_max_R_precision.png', bbox_inches = 'tight')"
      ],
      "execution_count": null,
      "outputs": [
        {
          "output_type": "display_data",
          "data": {
            "image/png": "[encoded data removed]",
            "text/plain": [
              "<Figure size 720x360 with 1 Axes>"
            ]
          },
          "metadata": {
            "tags": [],
            "needs_background": "light"
          }
        }
      ]
    },
    {
      "cell_type": "code",
      "metadata": {
        "colab": {
          "base_uri": "https://localhost:8080/"
        },
        "id": "QRem52uOHCsl",
        "outputId": "d9d0c675-adbd-4737-ba91-449404c06f13"
      },
      "source": [
        "result = []\r\n",
        "\r\n",
        "for keys in result_mean:\r\n",
        "  result.append({'mean' : result_mean[keys]})\r\n",
        "\r\n",
        "i = 0\r\n",
        "for keys in result_max:\r\n",
        "  result[i]['max'] = result_max[keys]\r\n",
        "  result[i]['fraction'] = i + 2\r\n",
        "  i = i + 1\r\n",
        "\r\n",
        "result"
      ],
      "execution_count": 149,
      "outputs": [
        {
          "output_type": "execute_result",
          "data": {
            "text/plain": [
              "[{'fraction': 2, 'max': 0.4, 'mean': 0.08279613046007418},\n",
              " {'fraction': 3, 'max': 0.43283582089552236, 'mean': 0.12975620148514105},\n",
              " {'fraction': 4, 'max': 0.64, 'mean': 0.11185777447831698},\n",
              " {'fraction': 5, 'max': 0.6794871794871795, 'mean': 0.1274360943015663},\n",
              " {'fraction': 6, 'max': 0.47619047619047616, 'mean': 0.11056807468389904},\n",
              " {'fraction': 7, 'max': 0.6428571428571429, 'mean': 0.1483586907604601},\n",
              " {'fraction': 8, 'max': 0.7222222222222222, 'mean': 0.13592241297777125},\n",
              " {'fraction': 9, 'max': 0.5116279069767442, 'mean': 0.11781302178353915},\n",
              " {'fraction': 10, 'max': 0.4, 'mean': 0.10141437350220862}]"
            ]
          },
          "metadata": {
            "tags": []
          },
          "execution_count": 149
        }
      ]
    },
    {
      "cell_type": "code",
      "metadata": {
        "id": "1P04nL9NHHxV"
      },
      "source": [
        "df_result = pd.DataFrame(result)\r\n",
        "df_result.to_csv('contentFiltering_result.csv', index = False)"
      ],
      "execution_count": 150,
      "outputs": []
    },
    {
      "cell_type": "markdown",
      "metadata": {
        "id": "NvU0UBmg1osC"
      },
      "source": [
        "**Nhận xét**: \r\n",
        "\r\n",
        "- Nhìn chung, theo thống kê, **content filtering** là phương pháp cho ra kết quả tốt nhất trong 5 models mà nhóm đã chạy. Có thể thấy qua giá trị trung bình **Average R precision** trên tất cả các fraction là 0.11843586382588629 (tức là ta đề xuất được đúng 1/10 phần còn lại của playlist) - một con số khá cao, hơn nữa giá trị trung bình của **Max R precision** trên tất cả các fraction là 0.5450245276254765 (tức là tính trung bình trên các fraction tỷ lệ playlist đề xuất chính xác nhiều nhất là 0.54, hơn một nửa playlist).\r\n",
        "\r\n",
        "- Phương pháp **content filtering** cho ra kết quả khá ổn định với các fraction khác nhau (giá trị trung bình tỷ lệ đề xuất chính xác là 0.08 - 0.14)."
      ]
    }
  ]
}