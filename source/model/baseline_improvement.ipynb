{
  "nbformat": 4,
  "nbformat_minor": 0,
  "metadata": {
    "colab": {
      "name": "baseline_improvement.ipynb",
      "provenance": [],
      "collapsed_sections": [],
      "toc_visible": true
    },
    "kernelspec": {
      "name": "python3",
      "display_name": "Python 3"
    }
  },
  "cells": [
    {
      "cell_type": "code",
      "metadata": {
        "id": "3Ox07YU_VApc"
      },
      "source": [
        "import json\r\n",
        "import pandas as pd\r\n",
        "import numpy as np  \r\n",
        "import os\r\n",
        "import random\r\n",
        "\r\n",
        "from metric import r_precision, dcg_at_k, ndcg_at_k\r\n",
        "from utils import generate_playlists, generate_testcases\r\n",
        "\r\n",
        "from numpy import linalg as LA\r\n",
        "\r\n",
        "import sklearn\r\n",
        "from sklearn.metrics.pairwise import cosine_similarity\r\n",
        "from sklearn.model_selection import train_test_split\r\n",
        "from sklearn import preprocessing\r\n",
        "from sklearn.preprocessing import MinMaxScaler\r\n",
        "from sklearn.ensemble import ExtraTreesClassifier\r\n",
        "from sklearn.model_selection import train_test_split\r\n",
        "from sklearn.cluster import KMeans\r\n",
        "\r\n",
        "import matplotlib.pyplot as plt\r\n",
        "import seaborn as sns\r\n",
        "import collections\r\n",
        "\r\n",
        "import lightgbm as lgb\r\n",
        "\r\n",
        "import warnings\r\n",
        "warnings.simplefilter(action='ignore', category=FutureWarning)"
      ],
      "execution_count": 6,
      "outputs": []
    },
    {
      "cell_type": "code",
      "metadata": {
        "id": "MYbDEUH6blG6"
      },
      "source": [
        "path_to_data = '../../data' #'/content/drive/MyDrive/DO_AN_KHDL/DATA' #'../../data'\r\n",
        "path_audio_feats = os.path.join(path_to_data, 'audio_features.tsv')\r\n",
        "path_playlists = os.path.join(path_to_data, 'playlists.tsv')\r\n",
        "path_tracks = os.path.join(path_to_data, 'tracks.tsv')"
      ],
      "execution_count": 7,
      "outputs": []
    },
    {
      "cell_type": "code",
      "metadata": {
        "id": "Oen2tLuOblLn"
      },
      "source": [
        "pd_audio_feats = pd.read_csv(path_audio_feats, sep = '\\t')\r\n",
        "pd_tracks = pd.read_csv(path_tracks, sep = '\\t')\r\n",
        "pd_playlists = pd.read_csv(path_playlists, sep = '\\t')\r\n",
        "pd_playlists = pd_playlists.fillna('None')"
      ],
      "execution_count": 8,
      "outputs": []
    },
    {
      "cell_type": "code",
      "metadata": {
        "id": "9AaHwCK_blN3"
      },
      "source": [
        "pd_tracks = pd.merge(pd_tracks, pd_audio_feats, left_on = 'track_id', right_on = 'id')\r\n",
        "pd_full = pd.merge(pd_tracks, pd_playlists, left_on = 'playlist_id', right_on = 'playlist_id')\r\n",
        "\r\n",
        "pd_tracks = pd_tracks.drop('id', 1)\r\n",
        "pd_full = pd_full.drop('playlist_name_y', 1)\r\n",
        "pd_full = pd_full.drop('id', 1)"
      ],
      "execution_count": 9,
      "outputs": []
    },
    {
      "cell_type": "code",
      "metadata": {
        "colab": {
          "base_uri": "https://localhost:8080/"
        },
        "id": "sq_trfrGbysH",
        "outputId": "b569d441-3228-43aa-91e1-c87124c9a3ce"
      },
      "source": [
        "pd_full.shape"
      ],
      "execution_count": 10,
      "outputs": [
        {
          "output_type": "execute_result",
          "data": {
            "text/plain": [
              "(86400, 27)"
            ]
          },
          "metadata": {
            "tags": []
          },
          "execution_count": 10
        }
      ]
    },
    {
      "cell_type": "code",
      "metadata": {
        "id": "x7ORw-zdbu83"
      },
      "source": [
        "#Thông tin rỗng là discription, ta có thể chỉ điền vào \"None\"\r\n",
        "pd_full = pd_full.fillna('None')"
      ],
      "execution_count": 11,
      "outputs": []
    },
    {
      "cell_type": "code",
      "metadata": {
        "id": "JXm0SU6DblPw"
      },
      "source": [
        "#Kiểm tra và bỏ giá trị trùng lặp\r\n",
        "pd_full = pd_full.drop_duplicates()"
      ],
      "execution_count": 12,
      "outputs": []
    },
    {
      "cell_type": "code",
      "metadata": {
        "id": "U7a9i99mOmmz"
      },
      "source": [
        "pd_full['available_markets'] = pd_full['available_markets'].apply(lambda x : x[1:-1].split(', '))\r\n",
        "pd_full['count_available_markets'] = pd_full['available_markets'].apply(lambda x : len(x))"
      ],
      "execution_count": 13,
      "outputs": []
    },
    {
      "cell_type": "code",
      "metadata": {
        "colab": {
          "base_uri": "https://localhost:8080/"
        },
        "id": "UgE-13NgblRX",
        "outputId": "f3b3b8f6-11d4-477a-c819-52a944ac25cc"
      },
      "source": [
        "pd_full.shape"
      ],
      "execution_count": 14,
      "outputs": [
        {
          "output_type": "execute_result",
          "data": {
            "text/plain": [
              "(86350, 28)"
            ]
          },
          "metadata": {
            "tags": []
          },
          "execution_count": 14
        }
      ]
    },
    {
      "cell_type": "markdown",
      "metadata": {
        "id": "oDyYVLKiewsh"
      },
      "source": [
        "## baseline_improvement"
      ]
    },
    {
      "cell_type": "markdown",
      "metadata": {
        "id": "PMDT7jPvO4cr"
      },
      "source": [
        "* **Thuộc tính**: chọn 5 features tốt nhất lấy từ 2 mô hình `LightGBM` và `ExtraTreesClassifier`.\r\n",
        "* **Mô tả ý tưởng**:\r\n",
        "    * Để chọn các features tốt nhất, ta đưa bài toán về dạng classification: với mỗi track, ta sẽ predict xem track đó thuộc playlist nào (chọn ngẫu nhiên 1 playlist nếu 1 track thuộc nhiều playlist) và xem đó như label của track; xây dựng 2 mô hình `LightGBM` và `ExtraTreesClassifier` dự đoán label cho các tracks; tính tổng feature importance từ 2 mô hình và chọn 5 features có độ quan trọng cao nhất.\r\n",
        "    * Sau khi chọn được features, ta thực hiện hoàn toàn tương tự baseline model để đưa ra gợi ý."
      ]
    },
    {
      "cell_type": "markdown",
      "metadata": {
        "id": "RbDpK-oMMgtv"
      },
      "source": [
        "### Xác định độ quan trọng của các features dựa theo ý tưởng từ bài toán classification"
      ]
    },
    {
      "cell_type": "code",
      "metadata": {
        "colab": {
          "base_uri": "https://localhost:8080/"
        },
        "id": "viyJWOnUMkJI",
        "outputId": "9f212dfa-04de-4ebe-da75-ca0f88fe1d0c"
      },
      "source": [
        "nums_top = 80\r\n",
        "pd_playlists_top = pd_playlists.copy()\r\n",
        "pd_playlists_top = pd_playlists_top.sort_values(by = 'num_tracks', ascending=False)\r\n",
        "pd_playlists_top = pd_playlists_top[:nums_top]\r\n",
        "pd_playlists_top.shape"
      ],
      "execution_count": 35,
      "outputs": [
        {
          "output_type": "execute_result",
          "data": {
            "text/plain": [
              "(80, 5)"
            ]
          },
          "metadata": {
            "tags": []
          },
          "execution_count": 35
        }
      ]
    },
    {
      "cell_type": "code",
      "metadata": {
        "id": "6MmTlzeHNj01"
      },
      "source": [
        "pd_tracks_copy = pd.read_csv(path_tracks, sep = '\\t')\r\n",
        "pd_tracks_copy.head()\r\n",
        "\r\n",
        "pd_tracks_copy = pd.merge(pd_tracks_copy, pd_audio_feats, left_on = 'track_id', right_on = 'id')\r\n",
        "pd_tracks_copy = pd_tracks_copy.drop('id', 1)\r\n",
        "\r\n",
        "pd_full_top = pd.merge(pd_tracks_copy, pd_playlists_top, left_on = 'playlist_id', right_on = 'playlist_id')\r\n",
        "\r\n",
        "pd_full_top = pd_full_top.drop('playlist_name_y', 1)\r\n"
      ],
      "execution_count": 36,
      "outputs": []
    },
    {
      "cell_type": "code",
      "metadata": {
        "id": "6RjrNKn9N-4Q"
      },
      "source": [
        "le = preprocessing.LabelEncoder()\r\n",
        "le.fit(pd_full_top['playlist_id'])\r\n",
        "pd_full_top['playlist_id_label'] = le.transform(pd_full_top['playlist_id'])"
      ],
      "execution_count": 37,
      "outputs": []
    },
    {
      "cell_type": "code",
      "metadata": {
        "id": "Hks0sRdEOLRW"
      },
      "source": [
        "omit_feats = ['track_id', 'track_name', 'playlist_id', 'playlist_name_x','artist_ids', 'artist_names', 'album_id', 'album_name', 'analysis_url', 'description', 'num_followers', 'num_tracks', 'available_markets']\r\n",
        "pd_full_top = pd_full_top.drop(omit_feats, 1)"
      ],
      "execution_count": 39,
      "outputs": []
    },
    {
      "cell_type": "code",
      "metadata": {
        "colab": {
          "base_uri": "https://localhost:8080/",
          "height": 215
        },
        "id": "CyzJ6XDSPSzr",
        "outputId": "5c386bb6-65d4-433f-83b3-65a6e03e7f3c"
      },
      "source": [
        "pd_full_top.head()"
      ],
      "execution_count": 41,
      "outputs": [
        {
          "output_type": "execute_result",
          "data": {
            "text/html": [
              "<div>\n",
              "<style scoped>\n",
              "    .dataframe tbody tr th:only-of-type {\n",
              "        vertical-align: middle;\n",
              "    }\n",
              "\n",
              "    .dataframe tbody tr th {\n",
              "        vertical-align: top;\n",
              "    }\n",
              "\n",
              "    .dataframe thead th {\n",
              "        text-align: right;\n",
              "    }\n",
              "</style>\n",
              "<table border=\"1\" class=\"dataframe\">\n",
              "  <thead>\n",
              "    <tr style=\"text-align: right;\">\n",
              "      <th></th>\n",
              "      <th>track_duration_ms</th>\n",
              "      <th>danceability</th>\n",
              "      <th>energy</th>\n",
              "      <th>key</th>\n",
              "      <th>loudness</th>\n",
              "      <th>mode</th>\n",
              "      <th>speechiness</th>\n",
              "      <th>acousticness</th>\n",
              "      <th>instrumentalness</th>\n",
              "      <th>liveness</th>\n",
              "      <th>valence</th>\n",
              "      <th>tempo</th>\n",
              "      <th>time_signature</th>\n",
              "      <th>popularity</th>\n",
              "      <th>playlist_id_label</th>\n",
              "    </tr>\n",
              "  </thead>\n",
              "  <tbody>\n",
              "    <tr>\n",
              "      <th>0</th>\n",
              "      <td>163208</td>\n",
              "      <td>0.767</td>\n",
              "      <td>0.659</td>\n",
              "      <td>1</td>\n",
              "      <td>-7.429</td>\n",
              "      <td>1</td>\n",
              "      <td>0.0444</td>\n",
              "      <td>0.32500</td>\n",
              "      <td>0.000000</td>\n",
              "      <td>0.130</td>\n",
              "      <td>0.4390</td>\n",
              "      <td>124.946</td>\n",
              "      <td>4</td>\n",
              "      <td>89</td>\n",
              "      <td>42</td>\n",
              "    </tr>\n",
              "    <tr>\n",
              "      <th>1</th>\n",
              "      <td>164000</td>\n",
              "      <td>0.798</td>\n",
              "      <td>0.620</td>\n",
              "      <td>8</td>\n",
              "      <td>-7.079</td>\n",
              "      <td>0</td>\n",
              "      <td>0.2320</td>\n",
              "      <td>0.41400</td>\n",
              "      <td>0.019200</td>\n",
              "      <td>0.112</td>\n",
              "      <td>0.2350</td>\n",
              "      <td>120.031</td>\n",
              "      <td>4</td>\n",
              "      <td>90</td>\n",
              "      <td>42</td>\n",
              "    </tr>\n",
              "    <tr>\n",
              "      <th>2</th>\n",
              "      <td>156960</td>\n",
              "      <td>0.798</td>\n",
              "      <td>0.828</td>\n",
              "      <td>2</td>\n",
              "      <td>-5.360</td>\n",
              "      <td>1</td>\n",
              "      <td>0.1930</td>\n",
              "      <td>0.02470</td>\n",
              "      <td>0.000003</td>\n",
              "      <td>0.121</td>\n",
              "      <td>0.6000</td>\n",
              "      <td>124.962</td>\n",
              "      <td>4</td>\n",
              "      <td>81</td>\n",
              "      <td>42</td>\n",
              "    </tr>\n",
              "    <tr>\n",
              "      <th>3</th>\n",
              "      <td>183750</td>\n",
              "      <td>0.704</td>\n",
              "      <td>0.745</td>\n",
              "      <td>11</td>\n",
              "      <td>-7.664</td>\n",
              "      <td>0</td>\n",
              "      <td>0.0448</td>\n",
              "      <td>0.00135</td>\n",
              "      <td>0.741000</td>\n",
              "      <td>0.234</td>\n",
              "      <td>0.0511</td>\n",
              "      <td>128.002</td>\n",
              "      <td>4</td>\n",
              "      <td>72</td>\n",
              "      <td>42</td>\n",
              "    </tr>\n",
              "    <tr>\n",
              "      <th>4</th>\n",
              "      <td>143952</td>\n",
              "      <td>0.818</td>\n",
              "      <td>0.773</td>\n",
              "      <td>8</td>\n",
              "      <td>-5.714</td>\n",
              "      <td>0</td>\n",
              "      <td>0.0579</td>\n",
              "      <td>0.01660</td>\n",
              "      <td>0.000008</td>\n",
              "      <td>0.377</td>\n",
              "      <td>0.8780</td>\n",
              "      <td>122.016</td>\n",
              "      <td>4</td>\n",
              "      <td>70</td>\n",
              "      <td>42</td>\n",
              "    </tr>\n",
              "  </tbody>\n",
              "</table>\n",
              "</div>"
            ],
            "text/plain": [
              "   track_duration_ms  danceability  ...  popularity  playlist_id_label\n",
              "0             163208         0.767  ...          89                 42\n",
              "1             164000         0.798  ...          90                 42\n",
              "2             156960         0.798  ...          81                 42\n",
              "3             183750         0.704  ...          72                 42\n",
              "4             143952         0.818  ...          70                 42\n",
              "\n",
              "[5 rows x 15 columns]"
            ]
          },
          "metadata": {
            "tags": []
          },
          "execution_count": 41
        }
      ]
    },
    {
      "cell_type": "markdown",
      "metadata": {
        "id": "fqX36pmSRb1v"
      },
      "source": [
        "#### sử dụng lightGBM"
      ]
    },
    {
      "cell_type": "code",
      "metadata": {
        "id": "x_XO4WO9Oc2i"
      },
      "source": [
        "clf = lgb.LGBMClassifier(class_weight='balanced',drop_rate=0.9, min_data_in_leaf=100, max_bin=255,\r\n",
        "                                 n_estimators=500,min_sum_hessian_in_leaf=1,importance_type='gain',learning_rate=0.1,bagging_fraction = 0.85,\r\n",
        "                                 colsample_bytree = 1.0,feature_fraction = 0.1,lambda_l1 = 5.0,lambda_l2 = 3.0,max_depth =  9,\r\n",
        "                                 min_child_samples = 55,min_child_weight = 5.0,min_split_gain = 0.1,num_leaves = 45,subsample = 0.75)  \r\n",
        "\r\n",
        "X = pd_full_top.drop('playlist_id_label', 1)\r\n",
        "y = pd_full_top['playlist_id_label']"
      ],
      "execution_count": 42,
      "outputs": []
    },
    {
      "cell_type": "code",
      "metadata": {
        "colab": {
          "base_uri": "https://localhost:8080/"
        },
        "id": "lbj-hObdOc5o",
        "outputId": "e708a480-eae6-452c-977d-07ca1d94084c"
      },
      "source": [
        "clf.fit(X, y, verbose=True)"
      ],
      "execution_count": 43,
      "outputs": [
        {
          "output_type": "execute_result",
          "data": {
            "text/plain": [
              "LGBMClassifier(bagging_fraction=0.85, boosting_type='gbdt',\n",
              "               class_weight='balanced', colsample_bytree=1.0, drop_rate=0.9,\n",
              "               feature_fraction=0.1, importance_type='gain', lambda_l1=5.0,\n",
              "               lambda_l2=3.0, learning_rate=0.1, max_bin=255, max_depth=9,\n",
              "               min_child_samples=55, min_child_weight=5.0, min_data_in_leaf=100,\n",
              "               min_split_gain=0.1, min_sum_hessian_in_leaf=1, n_estimators=500,\n",
              "               n_jobs=-1, num_leaves=45, objective=None, random_state=None,\n",
              "               reg_alpha=0.0, reg_lambda=0.0, silent=True, subsample=0.75,\n",
              "               subsample_for_bin=200000, subsample_freq=0)"
            ]
          },
          "metadata": {
            "tags": []
          },
          "execution_count": 43
        }
      ]
    },
    {
      "cell_type": "code",
      "metadata": {
        "colab": {
          "base_uri": "https://localhost:8080/",
          "height": 570
        },
        "id": "E5kWnStFOc8Q",
        "outputId": "83b41bf9-b329-432f-afbe-f1fa4b25b8e5"
      },
      "source": [
        "# sorted(zip(clf.feature_importances_, X.columns), reverse=True)\r\n",
        "feature_imp = pd.DataFrame(sorted(zip(clf.feature_importances_,X.columns)), columns=['Value','Feature'])\r\n",
        "\r\n",
        "plt.figure(figsize=(20, 10))\r\n",
        "sns.barplot(x=\"Value\", y=\"Feature\", data=feature_imp.sort_values(by=\"Value\", ascending=False))\r\n",
        "plt.title('LightGBM Features')\r\n",
        "plt.tight_layout()\r\n",
        "plt.show()"
      ],
      "execution_count": 44,
      "outputs": [
        {
          "output_type": "display_data",
          "data": {
            "image/png": "[encoded data removed]",
            "text/plain": [
              "<Figure size 1440x720 with 1 Axes>"
            ]
          },
          "metadata": {
            "tags": [],
            "needs_background": "light"
          }
        }
      ]
    },
    {
      "cell_type": "markdown",
      "metadata": {
        "id": "vO1NZNYwXG4S"
      },
      "source": [
        "#### sử dụng ExtraTreesClassifier"
      ]
    },
    {
      "cell_type": "code",
      "metadata": {
        "colab": {
          "base_uri": "https://localhost:8080/"
        },
        "id": "kr1R8HACOc-7",
        "outputId": "1e6e29a6-7fbd-4791-aaa0-02f11069852e"
      },
      "source": [
        "model = ExtraTreesClassifier()\r\n",
        "model.fit(X,y)"
      ],
      "execution_count": 45,
      "outputs": [
        {
          "output_type": "execute_result",
          "data": {
            "text/plain": [
              "ExtraTreesClassifier(bootstrap=False, ccp_alpha=0.0, class_weight=None,\n",
              "                     criterion='gini', max_depth=None, max_features='auto',\n",
              "                     max_leaf_nodes=None, max_samples=None,\n",
              "                     min_impurity_decrease=0.0, min_impurity_split=None,\n",
              "                     min_samples_leaf=1, min_samples_split=2,\n",
              "                     min_weight_fraction_leaf=0.0, n_estimators=100,\n",
              "                     n_jobs=None, oob_score=False, random_state=None, verbose=0,\n",
              "                     warm_start=False)"
            ]
          },
          "metadata": {
            "tags": []
          },
          "execution_count": 45
        }
      ]
    },
    {
      "cell_type": "code",
      "metadata": {
        "colab": {
          "base_uri": "https://localhost:8080/",
          "height": 749
        },
        "id": "_MpRJ6U4OdBe",
        "outputId": "32bcea79-586e-43cf-bbc9-14a029807b71"
      },
      "source": [
        "# sorted(zip(clf.feature_importances_, X.columns), reverse=True)\r\n",
        "feature_imp = pd.DataFrame(sorted(zip(model.feature_importances_,X.columns)), columns=['Value','Feature'])\r\n",
        "\r\n",
        "plt.figure(figsize=(20, 10))\r\n",
        "sns.barplot(x=\"Value\", y=\"Feature\", data=feature_imp.sort_values(by=\"Value\", ascending=False))\r\n",
        "plt.title('ExtraTreesClassifier Features')\r\n",
        "plt.tight_layout()\r\n",
        "plt.show()"
      ],
      "execution_count": 46,
      "outputs": [
        {
          "output_type": "display_data",
          "data": {
            "image/png": "[encoded data removed]",
            "text/plain": [
              "<Figure size 1440x720 with 1 Axes>"
            ]
          },
          "metadata": {
            "tags": [],
            "needs_background": "light"
          }
        }
      ]
    },
    {
      "cell_type": "markdown",
      "metadata": {
        "id": "FvjDMR8Ubhj6"
      },
      "source": [
        "### Xác định các features quan trọng"
      ]
    },
    {
      "cell_type": "markdown",
      "metadata": {
        "id": "3yS3Iie3P44v"
      },
      "source": [
        "Dựa vào biểu đồ nhóm em chọn ra 5 features tốt nhất từ 2 model hình trên là: `loudness`, `danceability`, `acousticness`, `popularity`, `track_duration_ms`"
      ]
    },
    {
      "cell_type": "code",
      "metadata": {
        "id": "cE6nZTAed2v7"
      },
      "source": [
        "features = ['loudness', 'danceability', 'acousticness', 'popularity', 'track_duration_ms']"
      ],
      "execution_count": 59,
      "outputs": []
    },
    {
      "cell_type": "markdown",
      "metadata": {
        "id": "bkLb0s04Qh0r"
      },
      "source": [
        "### Tạo các test-cases"
      ]
    },
    {
      "cell_type": "code",
      "metadata": {
        "id": "9Z0Nj-AZptwO"
      },
      "source": [
        "fraction = 3\r\n",
        "track_id_all = generate_playlists(pd_tracks, pd_playlists)\r\n",
        "track_id_test = generate_testcases(track_id_all, fraction = fraction)"
      ],
      "execution_count": 60,
      "outputs": []
    },
    {
      "cell_type": "code",
      "metadata": {
        "id": "0Avpo5shDRa4"
      },
      "source": [
        "all_playlistID_for_tests = list(track_id_test.keys())"
      ],
      "execution_count": 61,
      "outputs": []
    },
    {
      "cell_type": "code",
      "metadata": {
        "id": "GcdL30gn5OJx"
      },
      "source": [
        "pd_full_tests = pd_full.copy()\r\n",
        "pd_full_tests = pd_full_tests[pd_full_tests['playlist_id'].isin(all_playlistID_for_tests)]"
      ],
      "execution_count": 62,
      "outputs": []
    },
    {
      "cell_type": "markdown",
      "metadata": {
        "id": "Em0oDF0IQmtz"
      },
      "source": [
        "### Modeling"
      ]
    },
    {
      "cell_type": "code",
      "metadata": {
        "id": "lxgeLpaKdWvq"
      },
      "source": [
        "def multi_feats_baseline(tracks, df, n_pred, feats):\r\n",
        "    recs_id = []\r\n",
        "    for t in tracks:\r\n",
        "      sum_feat_values = 0\r\n",
        "      for feat in feats:\r\n",
        "        feat_values = df[df['track_id'] == t][feat]\r\n",
        "        sum_feat_values = sum_feat_values + np.abs(df[feat] - feat_values.values[0]) ** 2\r\n",
        "      \r\n",
        "      df['rec_df_feats'] = sum_feat_values ** (1 / 2)\r\n",
        "      one_recs_id = list(df.sort_values(by=['rec_df_feats'])['track_id'][1:].values)\r\n",
        "      recs_id.extend([track for track in one_recs_id if track not in tracks][0:n_pred])\r\n",
        "\r\n",
        "    preds = collections.Counter(recs_id).most_common(n_pred)\r\n",
        "    pred_titles = [p[0] for p in preds]\r\n",
        "\r\n",
        "    tracks_name = []\r\n",
        "    for id_track in pred_titles:\r\n",
        "      tracks_name.extend(list(np.unique(df[df['track_id'] == id_track]['track_name'].values)))\r\n",
        "\r\n",
        "    return pred_titles, tracks_name"
      ],
      "execution_count": 63,
      "outputs": []
    },
    {
      "cell_type": "markdown",
      "metadata": {
        "id": "SVe2LS4YQ997"
      },
      "source": [
        "### Testing"
      ]
    },
    {
      "cell_type": "markdown",
      "metadata": {
        "id": "Y65uWTRw-5uf"
      },
      "source": [
        "**Bây giờ ta sẽ thử test phương pháp này trên playlist đầu tiên của tập test**"
      ]
    },
    {
      "cell_type": "code",
      "metadata": {
        "id": "nAwfdWhO-9RK"
      },
      "source": [
        "playlists_to_test = all_playlistID_for_tests[0]"
      ],
      "execution_count": 64,
      "outputs": []
    },
    {
      "cell_type": "code",
      "metadata": {
        "id": "mFPf_y8g-9lQ"
      },
      "source": [
        "all_name_songs = list(pd_full[pd_full['track_id'].isin(track_id_all[playlists_to_test])]['track_name'].values)\r\n",
        "given_songs_name = list(pd_full[pd_full['track_id'].isin(track_id_test[playlists_to_test])]['track_name'].values)"
      ],
      "execution_count": 65,
      "outputs": []
    },
    {
      "cell_type": "code",
      "metadata": {
        "id": "snXY4grr-9nf"
      },
      "source": [
        "track_id_result, track_name_result = multi_feats_baseline(track_id_test[playlists_to_test], pd_full_tests, len(track_id_all[playlists_to_test])-len(track_id_test[playlists_to_test]), features)"
      ],
      "execution_count": 66,
      "outputs": []
    },
    {
      "cell_type": "code",
      "metadata": {
        "colab": {
          "base_uri": "https://localhost:8080/"
        },
        "id": "ftbsdUL_-9ps",
        "outputId": "63b8dc80-c1df-4af5-82fc-a2069072f1fa"
      },
      "source": [
        "print('Songs given: ', given_songs_name, '\\n')\r\n",
        "print('Songs recommended: ', track_name_result, '\\n')"
      ],
      "execution_count": 67,
      "outputs": [
        {
          "output_type": "stream",
          "text": [
            "Songs given:  ['The First Big Peel Thing - Peel Session', 'Back to the Old House - John Peel Session 14/09/83', 'Sheela-Na-Gig - Peel 29.10.91', 'Little Rhymes - John Peel Session 15/11/2001', 'Hip Priest - Peel Session 31/3/81', 'Two Sevens Clash - John Peel Session', 'When Saturday Comes (John Peel Session 16/11/1980) - Eden Studio Sessions for John Peel 16/11/1980', 'Fade Away - John Peel 5/11/91', 'Happy Cycling', 'Bombers - In Concert - John Peel, Recorded 3.6.71, 2000 Remaster', 'The Classical (Peel session) - BBC Radio One John Peel Live Session', 'Like Rats', 'Raindrops - BBC In Session - John Peel 27/04/93', 'Popscene - Live At Peel Acres', 'Maniac - Peel Session', 'Love And Romance - John Peel BBC Radio 1 Session 1977', 'You Sexy Thing - 16/6/87 BBC Radio 1 John Peel Session', \"Everybody's Got Something To Hide (Except Me And My Monkey) - John Peel BBC Sessions\", 'Back Side Of The Moon - John Peel Session', 'Whiskey In The Jar - BBC Radio 1 John Peel Session'] \n",
            "\n",
            "Songs recommended:  ['Tongue Tied - Acoustic', 'gold rush', 'Highwomen', 'Holy (feat. Chance The Rapper)', 'Goodbye San Antonio, Hello Amsterdam', 'Cissy Strut', 'I Want You', 'Castle in the Mist', 'Dream A Little Dream Of Me - Single Version', 'X (with KAROL G)', 'Sara Smile', 'Young Once', 'Hurting', '100 Años', 'Devil Sent The Rain Blues', 'Hanami', 'Nothing To Do Town', 'Safehouse - Seycara Orchestral Remix', 'Body', 'Like He Loves Me - Oh! Please 1926', 'Think Before I Talk', 'Never Leave You (Uh Oooh, Uh Oooh)', 'Technodad', 'Chicane - Kumarion Remix', 'Bright as the Day', 'Papercut', 'Daytrip', 'let it go', 'Bring It', 'Apologize', 'Banana Split (Just Do It)', 'Snow Angels', 'Motel', 'Here Comes The Sun - Remastered 2009', 'Love Brought Weight', 'No Beginning No End', 'Welcome to Hard Times', 'Maniac', 'My Brand New Papa', 'Son of a Preacher Man'] \n",
            "\n"
          ],
          "name": "stdout"
        }
      ]
    },
    {
      "cell_type": "markdown",
      "metadata": {
        "id": "0K3a28WwINkv"
      },
      "source": [
        "**Bây giờ ta sẽ sử dụng tất cả 100 playlists trong bộ test để đánh giá**"
      ]
    },
    {
      "cell_type": "code",
      "metadata": {
        "id": "HSDUxmh--9vx"
      },
      "source": [
        "def test_multi_feats(pd_playlists, pd_full, features, fraction = 5, nums_playlists_test = 100):\r\n",
        "  r_score = []\r\n",
        "\r\n",
        "  track_id_all = generate_playlists(pd_full, pd_playlists, nums_playlists_to_test = nums_playlists_test)\r\n",
        "  track_id_test = generate_testcases(track_id_all, fraction = fraction)\r\n",
        "\r\n",
        "  all_playlistID_for_tests = list(track_id_test.keys())\r\n",
        "\r\n",
        "  pd_full_tests = pd_full.copy()\r\n",
        "  pd_full_tests = pd_full_tests[pd_full_tests['playlist_id'].isin(all_playlistID_for_tests)]\r\n",
        "  pd_full_tests = pd_full_tests.reset_index(drop = True)\r\n",
        "\r\n",
        "  for each_playlist in all_playlistID_for_tests:\r\n",
        "    track_id_result, track_name_result = multi_feats_baseline(track_id_test[each_playlist], pd_full_tests, len(track_id_all[each_playlist])-len(track_id_test[each_playlist]), features)\r\n",
        "    \r\n",
        "    all_name_songs = list(pd_full_tests[pd_full_tests['track_id'].isin(track_id_all[each_playlist])]['track_name'].values)\r\n",
        "    given_songs_name = list(pd_full_tests[pd_full_tests['track_id'].isin(track_id_test[each_playlist])]['track_name'].values) \r\n",
        "    test_songs_name = [x for x in all_name_songs if x not in given_songs_name]\r\n",
        "\r\n",
        "    r_score.append(r_precision(track_name_result, test_songs_name))\r\n",
        "\r\n",
        "  return r_score"
      ],
      "execution_count": 68,
      "outputs": []
    },
    {
      "cell_type": "code",
      "metadata": {
        "colab": {
          "base_uri": "https://localhost:8080/"
        },
        "id": "-UOqYmJc-91H",
        "outputId": "6f997b5a-eda7-49a9-8ae5-25e15530cc11"
      },
      "source": [
        "r_score = test_multi_feats(pd_playlists, pd_full, features, fraction = 5, nums_playlists_test = 100)\r\n",
        "\r\n",
        "print(\"Average R precision: \" + str(np.mean(r_score)))\r\n",
        "print(\"Max R precision: \" + str(np.max(r_score)))"
      ],
      "execution_count": 69,
      "outputs": [
        {
          "output_type": "stream",
          "text": [
            "Average R precision: 0.03910272869047924\n",
            "Max R precision: 0.3875\n"
          ],
          "name": "stdout"
        }
      ]
    },
    {
      "cell_type": "markdown",
      "metadata": {
        "id": "ZMhpjmn7JFCl"
      },
      "source": [
        "**Test model trên những fraction khác nhau**:\r\n",
        "\r\n",
        "Fraction là tỷ lệ bài hát hiện có trong mỗi playlist, ta dựa vào chúng để đề xuất các bài hát còn lại, ví dụ playlist có 100 bài hát, ta dùng 1/5 số đó (20 bài hát) để dựa vào đó đề xuất 80 bài hát còn lại.\r\n",
        "\r\n",
        "Fraction có giá trị càng bé hoặc càng lớn thì tỷ lệ đề xuất trúng càng thấp.\r\n",
        "\r\n",
        "Ở đây ta test model với các fraction lần lượt là 2 - 10, tức là trong một playlist có 100 bài hát thì ta sẽ dùng 50, 100/3, 25, ..., 10 bài hát đầu tiên để đề xuất số bài hát còn lại."
      ]
    },
    {
      "cell_type": "code",
      "metadata": {
        "colab": {
          "base_uri": "https://localhost:8080/"
        },
        "id": "nMegEO7wIbbR",
        "outputId": "909ab27a-660f-4f9f-c4bf-2d26bd36fe41"
      },
      "source": [
        "fraction_to_test = list(np.arange(2, 11))\r\n",
        "\r\n",
        "result_mean = {}\r\n",
        "result_max = {}\r\n",
        "\r\n",
        "for fraction in fraction_to_test:\r\n",
        "  r_score = test_multi_feats(pd_playlists, pd_full, features, fraction = fraction, nums_playlists_test = 100)\r\n",
        "  result_mean[fraction] = np.mean(r_score)\r\n",
        "  result_max[fraction] = np.max(r_score)\r\n",
        "  print('-'*30)\r\n",
        "  print(f'fraction {fraction}:')\r\n",
        "  print(\"Average R precision: \" + str(np.mean(r_score)))\r\n",
        "  print(\"Max R precision: \" + str(np.max(r_score))) \r\n",
        "  print('-'*30)"
      ],
      "execution_count": 70,
      "outputs": [
        {
          "output_type": "stream",
          "text": [
            "------------------------------\n",
            "fraction 2:\n",
            "Average R precision: 0.03307300845838395\n",
            "Max R precision: 0.36363636363636365\n",
            "------------------------------\n",
            "------------------------------\n",
            "fraction 3:\n",
            "Average R precision: 0.02434445388177483\n",
            "Max R precision: 0.2835820895522388\n",
            "------------------------------\n",
            "------------------------------\n",
            "fraction 4:\n",
            "Average R precision: 0.043052295120086924\n",
            "Max R precision: 0.34782608695652173\n",
            "------------------------------\n",
            "------------------------------\n",
            "fraction 5:\n",
            "Average R precision: 0.06125892743399074\n",
            "Max R precision: 0.6625\n",
            "------------------------------\n",
            "------------------------------\n",
            "fraction 6:\n",
            "Average R precision: 0.03536717583233854\n",
            "Max R precision: 0.2261904761904762\n",
            "------------------------------\n",
            "------------------------------\n",
            "fraction 7:\n",
            "Average R precision: 0.05199143118119165\n",
            "Max R precision: 0.37209302325581395\n",
            "------------------------------\n",
            "------------------------------\n",
            "fraction 8:\n",
            "Average R precision: 0.036240820686241605\n",
            "Max R precision: 0.40350877192982454\n",
            "------------------------------\n",
            "------------------------------\n",
            "fraction 9:\n",
            "Average R precision: 0.03730313905403369\n",
            "Max R precision: 0.3918918918918919\n",
            "------------------------------\n",
            "------------------------------\n",
            "fraction 10:\n",
            "Average R precision: 0.03209230111640491\n",
            "Max R precision: 0.37777777777777777\n",
            "------------------------------\n"
          ],
          "name": "stdout"
        }
      ]
    },
    {
      "cell_type": "code",
      "metadata": {
        "colab": {
          "base_uri": "https://localhost:8080/"
        },
        "id": "eFDGlUHXROPr",
        "outputId": "643a9433-fc04-47ab-f42f-9bc76fd9e828"
      },
      "source": [
        "print(f'Mean Average R precision over all fractions: {np.mean(list(result_mean.values()))}')\r\n",
        "print(f'Mean Max R precision over all fractions: {np.mean(list(result_max.values()))}')"
      ],
      "execution_count": 72,
      "outputs": [
        {
          "output_type": "stream",
          "text": [
            "Mean Average R precision over all fractions: 0.03941372808493854\n",
            "Mean Max R precision over all fractions: 0.3810007201323231\n"
          ],
          "name": "stdout"
        }
      ]
    },
    {
      "cell_type": "code",
      "metadata": {
        "colab": {
          "base_uri": "https://localhost:8080/",
          "height": 350
        },
        "id": "zIiyzVMGRORn",
        "outputId": "d88c9ff9-513c-4a12-bded-4df412b2fd2f"
      },
      "source": [
        "plt.figure(figsize=(10, 5))\r\n",
        "\r\n",
        "ax = sns.barplot(x=list(result_mean.keys()), y=list(result_mean.values()))\r\n",
        "\r\n",
        "_ = ax.set_title('Average R precision over 10 fractions - baseline_improvement')\r\n",
        "\r\n",
        "ax.set_ylabel('precision')\r\n",
        "ax.set_xlabel('fraction')\r\n",
        "\r\n",
        "plt.savefig('../../images/baseline_improvement_average_R_precision.png', bbox_inches = 'tight')"
      ],
      "execution_count": 73,
      "outputs": [
        {
          "output_type": "display_data",
          "data": {
            "image/png": "[encoded data removed]",
            "text/plain": [
              "<Figure size 720x360 with 1 Axes>"
            ]
          },
          "metadata": {
            "tags": [],
            "needs_background": "light"
          }
        }
      ]
    },
    {
      "cell_type": "code",
      "metadata": {
        "colab": {
          "base_uri": "https://localhost:8080/",
          "height": 350
        },
        "id": "Ih1YuOcaROVZ",
        "outputId": "76b74a6c-b0a5-4a93-8134-305d3b79a3e3"
      },
      "source": [
        "plt.figure(figsize=(10, 5))\r\n",
        "\r\n",
        "ax = sns.barplot(x=list(result_max.keys()), y=list(result_max.values()))\r\n",
        "\r\n",
        "_ = ax.set_title('Max R precision over 10 fractions - baseline_improvement')\r\n",
        "\r\n",
        "ax.set_ylabel('precision')\r\n",
        "ax.set_xlabel('fraction')\r\n",
        "\r\n",
        "plt.savefig('../../images/baseline_improvement_max_R_precision.png', bbox_inches = 'tight')"
      ],
      "execution_count": 74,
      "outputs": [
        {
          "output_type": "display_data",
          "data": {
            "image/png": "[encoded data removed]",
            "text/plain": [
              "<Figure size 720x360 with 1 Axes>"
            ]
          },
          "metadata": {
            "tags": [],
            "needs_background": "light"
          }
        }
      ]
    },
    {
      "cell_type": "code",
      "metadata": {
        "colab": {
          "base_uri": "https://localhost:8080/"
        },
        "id": "TFFDMO5GROXx",
        "outputId": "df97c6db-a985-46b4-9204-7c1274bca6c1"
      },
      "source": [
        "result = []\r\n",
        "\r\n",
        "for keys in result_mean:\r\n",
        "  result.append({'mean' : result_mean[keys]})\r\n",
        "\r\n",
        "i = 0\r\n",
        "for keys in result_max:\r\n",
        "  result[i]['max'] = result_max[keys]\r\n",
        "  result[i]['fraction'] = i + 2\r\n",
        "  i = i + 1\r\n",
        "\r\n",
        "result"
      ],
      "execution_count": 75,
      "outputs": [
        {
          "output_type": "execute_result",
          "data": {
            "text/plain": [
              "[{'fraction': 2, 'max': 0.36363636363636365, 'mean': 0.03307300845838395},\n",
              " {'fraction': 3, 'max': 0.2835820895522388, 'mean': 0.02434445388177483},\n",
              " {'fraction': 4, 'max': 0.34782608695652173, 'mean': 0.043052295120086924},\n",
              " {'fraction': 5, 'max': 0.6625, 'mean': 0.06125892743399074},\n",
              " {'fraction': 6, 'max': 0.2261904761904762, 'mean': 0.03536717583233854},\n",
              " {'fraction': 7, 'max': 0.37209302325581395, 'mean': 0.05199143118119165},\n",
              " {'fraction': 8, 'max': 0.40350877192982454, 'mean': 0.036240820686241605},\n",
              " {'fraction': 9, 'max': 0.3918918918918919, 'mean': 0.03730313905403369},\n",
              " {'fraction': 10, 'max': 0.37777777777777777, 'mean': 0.03209230111640491}]"
            ]
          },
          "metadata": {
            "tags": []
          },
          "execution_count": 75
        }
      ]
    },
    {
      "cell_type": "code",
      "metadata": {
        "id": "C6JsgQ_-ROZz"
      },
      "source": [
        "df_result = pd.DataFrame(result)\r\n",
        "df_result.to_csv('baseline_improvement_result.csv', index = False)"
      ],
      "execution_count": 76,
      "outputs": []
    },
    {
      "cell_type": "markdown",
      "metadata": {
        "id": "joZcfAGaRVB8"
      },
      "source": [
        "**Nhận xét**: \r\n",
        "\r\n",
        "về cơ bản model này không khác gì baseline với multi features, ở đây nhóm chỉ nghĩ ra cách chọn features dựa trên feature importance từ bài toán classification thay vì sử dụng kết quả phân bố từ EDA như baseline. Kết quả **Average R precision** đạt được cũng không cao lắm, chỉ tầm 0.03 - 0.06 (tức là đoán đúng được 3 - 6% các playlist) qua các fraction từ 2-10. "
      ]
    }
  ]
}