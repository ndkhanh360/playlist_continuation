{
  "nbformat": 4,
  "nbformat_minor": 0,
  "metadata": {
    "colab": {
      "name": "baseline.ipynb",
      "provenance": [],
      "collapsed_sections": [],
      "toc_visible": true
    },
    "kernelspec": {
      "name": "python3",
      "display_name": "Python 3"
    }
  },
  "cells": [
    {
      "cell_type": "code",
      "metadata": {
        "id": "3Ox07YU_VApc"
      },
      "source": [
        "import json\r\n",
        "import pandas as pd\r\n",
        "import numpy as np  \r\n",
        "import os\r\n",
        "import random\r\n",
        "\r\n",
        "from metric import r_precision, dcg_at_k, ndcg_at_k\r\n",
        "from utils import generate_playlists, generate_testcases\r\n",
        "\r\n",
        "from numpy import linalg as LA\r\n",
        "\r\n",
        "import sklearn\r\n",
        "from sklearn.metrics.pairwise import cosine_similarity\r\n",
        "from sklearn.model_selection import train_test_split\r\n",
        "from sklearn import preprocessing\r\n",
        "from sklearn.preprocessing import MinMaxScaler\r\n",
        "from sklearn.ensemble import ExtraTreesClassifier\r\n",
        "from sklearn.model_selection import train_test_split\r\n",
        "from sklearn.cluster import KMeans\r\n",
        "\r\n",
        "import matplotlib.pyplot as plt\r\n",
        "import seaborn as sns\r\n",
        "import collections\r\n",
        "\r\n",
        "import lightgbm as lgb\r\n",
        "\r\n",
        "import warnings\r\n",
        "warnings.simplefilter(action='ignore', category=FutureWarning)"
      ],
      "execution_count": 1,
      "outputs": []
    },
    {
      "cell_type": "code",
      "metadata": {
        "id": "MYbDEUH6blG6"
      },
      "source": [
        "path = '/content/drive/MyDrive/DO_AN_KHDL/DATA'\r\n",
        "path_audio_feats = os.path.join(path, 'audio_features.tsv')\r\n",
        "path_playlists = os.path.join(path, 'playlists.tsv')\r\n",
        "path_tracks = os.path.join(path, 'tracks.tsv')"
      ],
      "execution_count": 2,
      "outputs": []
    },
    {
      "cell_type": "code",
      "metadata": {
        "id": "Oen2tLuOblLn"
      },
      "source": [
        "pd_audio_feats = pd.read_csv(path_audio_feats, sep = '\\t')\r\n",
        "pd_tracks = pd.read_csv(path_tracks, sep = '\\t')\r\n",
        "pd_playlists = pd.read_csv(path_playlists, sep = '\\t')\r\n",
        "pd_playlists = pd_playlists.fillna('None')"
      ],
      "execution_count": 3,
      "outputs": []
    },
    {
      "cell_type": "code",
      "metadata": {
        "id": "9AaHwCK_blN3"
      },
      "source": [
        "pd_tracks = pd.merge(pd_tracks, pd_audio_feats, left_on = 'track_id', right_on = 'id')\r\n",
        "pd_full = pd.merge(pd_tracks, pd_playlists, left_on = 'playlist_id', right_on = 'playlist_id')\r\n",
        "\r\n",
        "pd_tracks = pd_tracks.drop('id', 1)\r\n",
        "pd_full = pd_full.drop('playlist_name_y', 1)\r\n",
        "pd_full = pd_full.drop('id', 1)"
      ],
      "execution_count": 4,
      "outputs": []
    },
    {
      "cell_type": "code",
      "metadata": {
        "colab": {
          "base_uri": "https://localhost:8080/"
        },
        "id": "sq_trfrGbysH",
        "outputId": "25a5c618-08b7-4c75-bfd3-0b6c387332b2"
      },
      "source": [
        "pd_full.shape"
      ],
      "execution_count": 5,
      "outputs": [
        {
          "output_type": "execute_result",
          "data": {
            "text/plain": [
              "(86400, 25)"
            ]
          },
          "metadata": {
            "tags": []
          },
          "execution_count": 5
        }
      ]
    },
    {
      "cell_type": "code",
      "metadata": {
        "id": "x7ORw-zdbu83"
      },
      "source": [
        "#Thông tin rỗng là discription, ta có thể chỉ điền vào \"None\"\r\n",
        "pd_full = pd_full.fillna('None')"
      ],
      "execution_count": 6,
      "outputs": []
    },
    {
      "cell_type": "code",
      "metadata": {
        "id": "JXm0SU6DblPw"
      },
      "source": [
        "#Kiểm tra và bỏ giá trị trùng lặp\r\n",
        "pd_full = pd_full.drop_duplicates()"
      ],
      "execution_count": 7,
      "outputs": []
    },
    {
      "cell_type": "code",
      "metadata": {
        "colab": {
          "base_uri": "https://localhost:8080/"
        },
        "id": "UgE-13NgblRX",
        "outputId": "f33f3d67-6743-4d49-aeca-989a7b25f49a"
      },
      "source": [
        "pd_full.shape"
      ],
      "execution_count": 8,
      "outputs": [
        {
          "output_type": "execute_result",
          "data": {
            "text/plain": [
              "(86350, 25)"
            ]
          },
          "metadata": {
            "tags": []
          },
          "execution_count": 8
        }
      ]
    },
    {
      "cell_type": "markdown",
      "metadata": {
        "id": "oDyYVLKiewsh"
      },
      "source": [
        "## Baseline model"
      ]
    },
    {
      "cell_type": "markdown",
      "metadata": {
        "id": "0y0zqp4V2wx4"
      },
      "source": [
        "### Sử dụng feature 'Danceability'"
      ]
    },
    {
      "cell_type": "markdown",
      "metadata": {
        "id": "F7gGnqK2o2fo"
      },
      "source": [
        "**Ý tưởng tiếp cận**: phương pháp cơ bản đầu tiên đó là ...\r\n",
        "\r\n",
        "Biến nhóm em lựa chọn ở đây là 'Danceability', vì ...\r\n"
      ]
    },
    {
      "cell_type": "code",
      "metadata": {
        "id": "gNAwqzFeblTC"
      },
      "source": [
        "def baseline(tracks, df, n_pred):\r\n",
        "    '''\r\n",
        "    Input:\r\n",
        "    1. tracks = Takes a list of track titles as input (strings)\r\n",
        "    2. df = Dataframe containing all track info\r\n",
        "    Output:\r\n",
        "    recs = Recommends (n_pred) track uri based on info of that string (List of strings)\r\n",
        "    '''\r\n",
        "    recs_id = []\r\n",
        "    for t in tracks:\r\n",
        "        danceability = df[df['track_id'] == t]['danceability']\r\n",
        "        df['rec_df_dance'] = np.abs(df['danceability'] - danceability.values[0])\r\n",
        "        one_recs_id = list(df.sort_values(by=['rec_df_dance'])['track_id'][1:].values)\r\n",
        "        recs_id.extend([track for track in one_recs_id if track not in tracks][0:n_pred])\r\n",
        "\r\n",
        "    preds = collections.Counter(recs_id).most_common(n_pred)\r\n",
        "    pred_titles = [p[0] for p in preds]\r\n",
        "\r\n",
        "    tracks_name = []\r\n",
        "    for id_track in pred_titles:\r\n",
        "      tracks_name.extend(list(np.unique(df[df['track_id'] == id_track]['track_name'].values)))\r\n",
        "\r\n",
        "    return pred_titles, tracks_name"
      ],
      "execution_count": 40,
      "outputs": []
    },
    {
      "cell_type": "code",
      "metadata": {
        "id": "9Z0Nj-AZptwO"
      },
      "source": [
        "fraction = 3\r\n",
        "track_id_all = generate_playlists(pd_tracks, pd_playlists)\r\n",
        "track_id_test = generate_testcases(track_id_all, fraction = fraction)"
      ],
      "execution_count": 41,
      "outputs": []
    },
    {
      "cell_type": "code",
      "metadata": {
        "id": "0Avpo5shDRa4"
      },
      "source": [
        "all_playlistID_for_tests = list(track_id_test.keys())"
      ],
      "execution_count": 42,
      "outputs": []
    },
    {
      "cell_type": "code",
      "metadata": {
        "id": "GcdL30gn5OJx"
      },
      "source": [
        "pd_full_tests = pd_full.copy()\r\n",
        "pd_full_tests = pd_full_tests[pd_full_tests['playlist_id'].isin(all_playlistID_for_tests)]"
      ],
      "execution_count": 43,
      "outputs": []
    },
    {
      "cell_type": "markdown",
      "metadata": {
        "id": "Ny4A59AuD9Ak"
      },
      "source": [
        "**Bây giờ ta sẽ thử test phương pháp này trên playlist đầu tiên của tập test**"
      ]
    },
    {
      "cell_type": "code",
      "metadata": {
        "id": "U8lpAcyOqSxc"
      },
      "source": [
        "playlists_to_test = all_playlistID_for_tests[0]"
      ],
      "execution_count": 44,
      "outputs": []
    },
    {
      "cell_type": "code",
      "metadata": {
        "id": "zgnLNssGyijg"
      },
      "source": [
        "all_name_songs = list(pd_full[pd_full['track_id'].isin(track_id_all[playlists_to_test])]['track_name'].values)\r\n",
        "given_songs_name = list(pd_full[pd_full['track_id'].isin(track_id_test[playlists_to_test])]['track_name'].values)"
      ],
      "execution_count": 46,
      "outputs": []
    },
    {
      "cell_type": "code",
      "metadata": {
        "id": "00mQib2dDhdB"
      },
      "source": [
        "track_id_result, track_name_result = baseline(track_id_test[playlists_to_test], pd_full_tests, len(track_id_all[playlists_to_test])-len(track_id_test[playlists_to_test]))"
      ],
      "execution_count": 47,
      "outputs": []
    },
    {
      "cell_type": "code",
      "metadata": {
        "colab": {
          "base_uri": "https://localhost:8080/"
        },
        "id": "gHUEj5R1DxzN",
        "outputId": "d5f2f3ad-eb31-4bda-c3fd-e7754563f932"
      },
      "source": [
        "print('Songs given: ', given_songs_name, '\\n')\r\n",
        "print('Songs recommended: ', track_name_result, '\\n')"
      ],
      "execution_count": 48,
      "outputs": [
        {
          "output_type": "stream",
          "text": [
            "Songs given:  ['Raggarbil', 'Save My Life (feat. Lovespeake)', 'Spa', 'Save My Life (feat. Lovespeake)', 'Spa', 'The Chase', 'Tomorrow (feat. 433)', 'Save My Life (feat. Lovespeake)', 'Kraken', 'Tomorrow (feat. 433)', 'Bolt', 'Save My Life (feat. Lovespeake)', 'Spa', 'Bolt', 'Seven Nation Army', 'The Chase', 'Tomorrow (feat. 433)', 'Work That Body', 'Raggarbil', 'Kraken', 'Violin', 'Untz - Zookeepers Remix', 'Who', 'Dum', 'Time', 'What Was in That Glass - Horror Edit', 'Rave i mitt garage', 'Sun on the Ocean', 'Genom eld & vatten', 'Seven Nation Army', 'Seven Nation Army', 'Work That Body'] \n",
            "\n",
            "Songs recommended:  ['Adore You', 'No Sleep', 'Finesse - Remix; feat. Cardi B', 'Cool Jerk', 'Highroad', 'Pressure', 'everything i wanted', \"Don't Play Fair\", \"Stayin' Alive - 2007 Remastered Version Saturday Night Fever\", 'The Facts In The Case Of M Valdemar', 'Problems', 'Mind Frame Feat. Freddie Foxxx - Instrumental', 'Heureux qui comme Ulysse', \"It's Raining Men\", 'Kiss Kiss', \"Howlin' for You\", 'War & Peace - Part 2: Chapter 2, Dangerous Liasion', \"Livin' On Love\", 'Bent', \"Can't Feel My Face\", 'Expectations', 'The Best Things', 'Reminds Me', 'soolane värska', 'Sa Vist Tajud', 'Take Me Home', 'Bring It On Over', 'That Beatnik Jive', 'The Public Baths - Michael Michaelovich Zoschenko', 'The Diary Of Captain Robert Falcon Scott - Part 2', 'Dirty Little Mynx', 'Mi Gente (feat. Beyoncé)', 'The Picture Of Dorian Gray: Chapter 2, Young Love', 'Saint-John Perse - Étroits Sont Les Vaisseaux (Narrow Are the Vessels)', 'A Tip For The Fellas (The Tongue)', 'The Outcasts of Poker Flat'] \n",
            "\n"
          ],
          "name": "stdout"
        }
      ]
    },
    {
      "cell_type": "markdown",
      "metadata": {
        "id": "zyk9H3EIENwY"
      },
      "source": [
        "**Kiểm tra độ chính xác trên testcase đầu tiên**"
      ]
    },
    {
      "cell_type": "code",
      "metadata": {
        "id": "P8FHsRb-yHUF"
      },
      "source": [
        "track_name_result.extend(given_songs_name)"
      ],
      "execution_count": 49,
      "outputs": []
    },
    {
      "cell_type": "code",
      "metadata": {
        "colab": {
          "base_uri": "https://localhost:8080/"
        },
        "id": "qHjS8eVyEKno",
        "outputId": "d01a1f4b-b453-4139-ac24-b16a464287f1"
      },
      "source": [
        "r_score = r_precision(track_name_result, all_name_songs)\r\n",
        "print(f'r_score: {r_score}')"
      ],
      "execution_count": 50,
      "outputs": [
        {
          "output_type": "stream",
          "text": [
            "r_score: 0.35185185185185186\n"
          ],
          "name": "stdout"
        }
      ]
    },
    {
      "cell_type": "markdown",
      "metadata": {
        "id": "XKw47gK1pt9y"
      },
      "source": [
        "**Bây giờ ta sẽ sử dụng tất cả 100 playlists trong bộ test để đánh giá**"
      ]
    },
    {
      "cell_type": "code",
      "metadata": {
        "id": "Fa3CI0k6blUm"
      },
      "source": [
        "def test(pd_full, track_id_all, track_id_test, all_playlistID_for_tests, fraction = 5):\r\n",
        "  r_score = []\r\n",
        "\r\n",
        "  for each_playlist in all_playlistID_for_tests:\r\n",
        "    track_id_result, track_name_result = baseline(track_id_test[each_playlist], pd_full, len(track_id_all[each_playlist])-len(track_id_test[each_playlist]))\r\n",
        "    \r\n",
        "    all_name_songs = list(pd_full[pd_full['track_id'].isin(track_id_all[each_playlist])]['track_name'].values)\r\n",
        "    given_songs_name = list(pd_full[pd_full['track_id'].isin(track_id_test[each_playlist])]['track_name'].values) \r\n",
        "\r\n",
        "    track_name_result.extend(given_songs_name)\r\n",
        "    r_score.append(r_precision(track_name_result, all_name_songs))\r\n",
        "\r\n",
        "  print(\"Average R precision: \" + str(np.mean(r_score)))\r\n",
        "  print(\"Max R precision: \" + str(np.max(r_score)))"
      ],
      "execution_count": 54,
      "outputs": []
    },
    {
      "cell_type": "code",
      "metadata": {
        "colab": {
          "base_uri": "https://localhost:8080/"
        },
        "id": "uP7U5AMYblWF",
        "outputId": "dcd3fb74-2ef9-4bca-9c62-352c6e4266aa"
      },
      "source": [
        "test(pd_full_tests, track_id_all, track_id_test, all_playlistID_for_tests, fraction)"
      ],
      "execution_count": 55,
      "outputs": [
        {
          "output_type": "stream",
          "text": [
            "Average R precision: 0.3383784575359145\n",
            "Max R precision: 0.4482758620689655\n"
          ],
          "name": "stdout"
        }
      ]
    },
    {
      "cell_type": "markdown",
      "metadata": {
        "id": "T63pxRlVnty3"
      },
      "source": [
        "### Sử dụng multi features thay vì một feature."
      ]
    },
    {
      "cell_type": "markdown",
      "metadata": {
        "id": "pmXlSO1edrRr"
      },
      "source": [
        "Ở đây nhóm em quyết định sử dụng các features sau:, vẽ hình phân bố, giải thích domain knowledge."
      ]
    },
    {
      "cell_type": "code",
      "metadata": {
        "id": "cE6nZTAed2v7"
      },
      "source": [
        "features = ['loudness', 'acousticness', 'speechiness', 'energy', 'danceability']"
      ],
      "execution_count": 62,
      "outputs": []
    },
    {
      "cell_type": "code",
      "metadata": {
        "id": "lxgeLpaKdWvq"
      },
      "source": [
        "def multi_feats_baseline(tracks, df, n_pred, feats):\r\n",
        "    recs_id = []\r\n",
        "    for t in tracks:\r\n",
        "      sum_feat_values = 0\r\n",
        "      for feat in feats:\r\n",
        "        feat_values = df[df['track_id'] == t][feat]\r\n",
        "        sum_feat_values = sum_feat_values + np.abs(df[feat] - feat_values.values[0]) ** len(feats)\r\n",
        "      \r\n",
        "      df['rec_df_feats'] = sum_feat_values ** (1 / len(feats))\r\n",
        "      one_recs_id = list(df.sort_values(by=['rec_df_feats'])['track_id'][1:].values)\r\n",
        "      recs_id.extend([track for track in one_recs_id if track not in tracks][0:n_pred])\r\n",
        "\r\n",
        "    preds = collections.Counter(recs_id).most_common(n_pred)\r\n",
        "    pred_titles = [p[0] for p in preds]\r\n",
        "\r\n",
        "    tracks_name = []\r\n",
        "    for id_track in pred_titles:\r\n",
        "      tracks_name.extend(list(np.unique(df[df['track_id'] == id_track]['track_name'].values)))\r\n",
        "\r\n",
        "    return pred_titles, tracks_name"
      ],
      "execution_count": 63,
      "outputs": []
    },
    {
      "cell_type": "markdown",
      "metadata": {
        "id": "Y65uWTRw-5uf"
      },
      "source": [
        "**Bây giờ ta sẽ thử test phương pháp này trên playlist đầu tiên của tập test**"
      ]
    },
    {
      "cell_type": "code",
      "metadata": {
        "id": "nAwfdWhO-9RK"
      },
      "source": [
        "playlists_to_test = all_playlistID_for_tests[0]"
      ],
      "execution_count": 64,
      "outputs": []
    },
    {
      "cell_type": "code",
      "metadata": {
        "id": "mFPf_y8g-9lQ"
      },
      "source": [
        "all_name_songs = list(pd_full[pd_full['track_id'].isin(track_id_all[playlists_to_test])]['track_name'].values)\r\n",
        "given_songs_name = list(pd_full[pd_full['track_id'].isin(track_id_test[playlists_to_test])]['track_name'].values)"
      ],
      "execution_count": 65,
      "outputs": []
    },
    {
      "cell_type": "code",
      "metadata": {
        "id": "snXY4grr-9nf"
      },
      "source": [
        "track_id_result, track_name_result = multi_feats_baseline(track_id_test[playlists_to_test], pd_full_tests, len(track_id_all[playlists_to_test])-len(track_id_test[playlists_to_test]), features)"
      ],
      "execution_count": 66,
      "outputs": []
    },
    {
      "cell_type": "code",
      "metadata": {
        "colab": {
          "base_uri": "https://localhost:8080/"
        },
        "id": "ftbsdUL_-9ps",
        "outputId": "7bb3ea4e-9f7b-4471-cf4b-af8d4deda629"
      },
      "source": [
        "print('Songs given: ', given_songs_name, '\\n')\r\n",
        "print('Songs recommended: ', track_name_result, '\\n')"
      ],
      "execution_count": 67,
      "outputs": [
        {
          "output_type": "stream",
          "text": [
            "Songs given:  ['Raggarbil', 'Save My Life (feat. Lovespeake)', 'Spa', 'Save My Life (feat. Lovespeake)', 'Spa', 'The Chase', 'Tomorrow (feat. 433)', 'Save My Life (feat. Lovespeake)', 'Kraken', 'Tomorrow (feat. 433)', 'Bolt', 'Save My Life (feat. Lovespeake)', 'Spa', 'Bolt', 'Seven Nation Army', 'The Chase', 'Tomorrow (feat. 433)', 'Work That Body', 'Raggarbil', 'Kraken', 'Violin', 'Untz - Zookeepers Remix', 'Who', 'Dum', 'Time', 'What Was in That Glass - Horror Edit', 'Rave i mitt garage', 'Sun on the Ocean', 'Genom eld & vatten', 'Seven Nation Army', 'Seven Nation Army', 'Work That Body'] \n",
            "\n",
            "Songs recommended:  ['The Monster', 'Pour All Night', 'Insomnia - King Arthur Remix', \"Hips Don't Lie (feat. Wyclef Jean)\", 'Lowkey (feat. Lil Traffic)', \"I Don't Care (with Justin Bieber) - Jonas Blue Remix\", 'Higher Love', 'Way to the Future', 'Thriller', 'Check On It (feat. Slim Thug)', 'Feel This Moment (feat. Christina Aguilera)', 'Sova när vi dör', \"You Can't Hurry Love\", 'Lights - Single Version', 'Bridges', 'Windows 10 - Trap Mix', 'niiea', 'Midnight Sun', 'Dead Ringer', 'Boxcutter Jiu Jitsu', 'ROCKETMAN', 'A Sky Full of Stars', 'Post Malone (feat. RANI)', 'Get Lucky (feat. Pharrell Williams & Nile Rodgers) - Radio Edit', \"Don't Start Now - Pink Panda Remix\", 'Sugar', 'RITMO (Bad Boys For Life)', 'Sugar', 'I Follow Rivers', 'Ocean Bed', 'Kyoto', 'Message In A Bottle - Remastered 2003', 'Soul Cake', 'El Poder', 'Calcium - TR 505 Version', \"Stayin' Alive - 2007 Remastered Version Saturday Night Fever\"] \n",
            "\n"
          ],
          "name": "stdout"
        }
      ]
    },
    {
      "cell_type": "markdown",
      "metadata": {
        "id": "sbvSjf7xA-A_"
      },
      "source": [
        "**Kiểm tra độ chính xác trên testcase đầu tiên**"
      ]
    },
    {
      "cell_type": "code",
      "metadata": {
        "id": "9QekUXNL-9rv"
      },
      "source": [
        "track_name_result.extend(given_songs_name)"
      ],
      "execution_count": 68,
      "outputs": []
    },
    {
      "cell_type": "code",
      "metadata": {
        "colab": {
          "base_uri": "https://localhost:8080/"
        },
        "id": "GZP2UyDX-9t_",
        "outputId": "5145cb0f-e592-4ba8-a5e1-25b844d79f14"
      },
      "source": [
        "r_score = r_precision(track_name_result, all_name_songs)\r\n",
        "print(f'r_score: {r_score}')"
      ],
      "execution_count": 69,
      "outputs": [
        {
          "output_type": "stream",
          "text": [
            "r_score: 0.35185185185185186\n"
          ],
          "name": "stdout"
        }
      ]
    },
    {
      "cell_type": "markdown",
      "metadata": {
        "id": "0K3a28WwINkv"
      },
      "source": [
        "**Bây giờ ta sẽ sử dụng tất cả 100 playlists trong bộ test để đánh giá**"
      ]
    },
    {
      "cell_type": "code",
      "metadata": {
        "id": "HSDUxmh--9vx"
      },
      "source": [
        "def test_multi_feats(pd_full, track_id_all, track_id_test, all_playlistID_for_tests, features, fraction = 5):\r\n",
        "  r_score = []\r\n",
        "\r\n",
        "  for each_playlist in all_playlistID_for_tests:\r\n",
        "    track_id_result, track_name_result = multi_feats_baseline(track_id_test[each_playlist], pd_full, len(track_id_all[each_playlist])-len(track_id_test[each_playlist]),features)\r\n",
        "    \r\n",
        "    all_name_songs = list(pd_full[pd_full['track_id'].isin(track_id_all[each_playlist])]['track_name'].values)\r\n",
        "    given_songs_name = list(pd_full[pd_full['track_id'].isin(track_id_test[each_playlist])]['track_name'].values) \r\n",
        "\r\n",
        "    track_name_result.extend(given_songs_name)\r\n",
        "    r_score.append(r_precision(track_name_result, all_name_songs))\r\n",
        "\r\n",
        "  print(\"Average R precision: \" + str(np.mean(r_score)))\r\n",
        "  print(\"Max R precision: \" + str(np.max(r_score)))"
      ],
      "execution_count": 75,
      "outputs": []
    },
    {
      "cell_type": "code",
      "metadata": {
        "colab": {
          "base_uri": "https://localhost:8080/"
        },
        "id": "-UOqYmJc-91H",
        "outputId": "3d59ab25-4532-4cf6-8d61-452bd2b6f48d"
      },
      "source": [
        "test_multi_feats(pd_full_tests, track_id_all, track_id_test, all_playlistID_for_tests, features, fraction)"
      ],
      "execution_count": 76,
      "outputs": [
        {
          "output_type": "stream",
          "text": [
            "Average R precision: 0.35430653668386763\n",
            "Max R precision: 0.49230769230769234\n"
          ],
          "name": "stdout"
        }
      ]
    },
    {
      "cell_type": "markdown",
      "metadata": {
        "id": "ZMhpjmn7JFCl"
      },
      "source": [
        "**Bây giờ ta sẽ cho nhiều giá trị fraction khác nhau để vẽ biểu đồ**"
      ]
    },
    {
      "cell_type": "code",
      "metadata": {
        "colab": {
          "base_uri": "https://localhost:8080/"
        },
        "id": "nMegEO7wIbbR",
        "outputId": "c4f9a8a8-1338-41cd-d2e8-dffe9e78f454"
      },
      "source": [
        "fraction = list(np.arange(1, 10))\r\n",
        "fraction"
      ],
      "execution_count": 79,
      "outputs": [
        {
          "output_type": "execute_result",
          "data": {
            "text/plain": [
              "[1, 2, 3, 4, 5, 6, 7, 8, 9]"
            ]
          },
          "metadata": {
            "tags": []
          },
          "execution_count": 79
        }
      ]
    },
    {
      "cell_type": "code",
      "metadata": {
        "id": "sa6NhtcmJlay"
      },
      "source": [
        "for frac in fraction:\r\n",
        "  "
      ],
      "execution_count": null,
      "outputs": []
    },
    {
      "cell_type": "markdown",
      "metadata": {
        "id": "Xk4S_9nWKhDW"
      },
      "source": [
        "**Nhận xét về mỗi model với các fraction khác nhau, so sánh 2 models với các fractions khác nhau**"
      ]
    }
  ]
}